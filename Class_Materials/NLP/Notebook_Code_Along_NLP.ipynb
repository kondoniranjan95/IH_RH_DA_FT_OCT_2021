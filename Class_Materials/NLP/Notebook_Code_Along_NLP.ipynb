{
 "cells": [
  {
   "cell_type": "markdown",
   "metadata": {
    "id": "DaZkPXAWLI8W"
   },
   "source": [
    "# Sentiment analysis on amazon reviews"
   ]
  },
  {
   "cell_type": "markdown",
   "metadata": {
    "id": "ugdG0BvqLR1R"
   },
   "source": [
    "In this code along we're going to try to predict the rating of a product review based on the text content.\n",
    "\n",
    "To this end, we will use the most simple approach ( bag of words ) with one tiny set of amazon reviews just for ilustrative purposes."
   ]
  },
  {
   "cell_type": "markdown",
   "metadata": {
    "id": "KNXYqkudLhrZ"
   },
   "source": [
    "# Bag of words"
   ]
  },
  {
   "cell_type": "markdown",
   "metadata": {
    "id": "klWSmSFqLjY5"
   },
   "source": [
    "The main problem is that sentences are not numbers and the ML models only uses numbers. Therefore we need to cast them into datasets in which every sentence will have several columns filled of values.\n",
    "\n",
    "But wait..., how many columns? What they represent? ( in other words, what are going to mean the values in each column for each sentence )?"
   ]
  },
  {
   "cell_type": "markdown",
   "metadata": {
    "id": "AiLeSGcyMJRZ"
   },
   "source": [
    "A first approach will be to assing a binnary value to every possible word in the sentence. However, as the vocabulary in every language is huge, the amount of columns will be also huge. We need to decrease the amount of columns. Then we need to find a way to determine which words we will keep and which don't."
   ]
  },
  {
   "cell_type": "markdown",
   "metadata": {
    "id": "rmRT49a5Mt0J"
   },
   "source": [
    "### Reading reviews"
   ]
  },
  {
   "cell_type": "code",
   "execution_count": 26,
   "metadata": {
    "executionInfo": {
     "elapsed": 354,
     "status": "ok",
     "timestamp": 1627027657524,
     "user": {
      "displayName": "Ignacio Soteras",
      "photoUrl": "",
      "userId": "02050793736257155229"
     },
     "user_tz": -120
    },
    "id": "32a3EZ2BLD_j"
   },
   "outputs": [],
   "source": [
    "import numpy as np\n",
    "import pandas as pd\n",
    "from bs4 import BeautifulSoup\n",
    "import matplotlib.pyplot as plt\n",
    "import seaborn as sns\n",
    "import re\n",
    "%matplotlib inline"
   ]
  },
  {
   "cell_type": "code",
   "execution_count": 3,
   "metadata": {
    "colab": {
     "base_uri": "https://localhost:8080/"
    },
    "executionInfo": {
     "elapsed": 3058,
     "status": "ok",
     "timestamp": 1627027749240,
     "user": {
      "displayName": "Ignacio Soteras",
      "photoUrl": "",
      "userId": "02050793736257155229"
     },
     "user_tz": -120
    },
    "id": "QD0zMbwfQAi_",
    "outputId": "1b28e1e3-ea07-45e9-da6f-1b8b078dfcdf"
   },
   "outputs": [
    {
     "name": "stderr",
     "output_type": "stream",
     "text": [
      "[nltk_data] Downloading package punkt to\n",
      "[nltk_data]     /Users/raafat.hantoush/nltk_data...\n",
      "[nltk_data]   Unzipping tokenizers/punkt.zip.\n",
      "[nltk_data] Downloading package stopwords to\n",
      "[nltk_data]     /Users/raafat.hantoush/nltk_data...\n",
      "[nltk_data]   Unzipping corpora/stopwords.zip.\n",
      "[nltk_data] Downloading package wordnet to\n",
      "[nltk_data]     /Users/raafat.hantoush/nltk_data...\n",
      "[nltk_data]   Unzipping corpora/wordnet.zip.\n",
      "[nltk_data] Downloading package tagsets to\n",
      "[nltk_data]     /Users/raafat.hantoush/nltk_data...\n",
      "[nltk_data]   Unzipping help/tagsets.zip.\n"
     ]
    },
    {
     "data": {
      "text/plain": [
       "True"
      ]
     },
     "execution_count": 3,
     "metadata": {},
     "output_type": "execute_result"
    }
   ],
   "source": [
    "import nltk\n",
    "nltk.download('punkt')\n",
    "nltk.download('stopwords')\n",
    "nltk.download('wordnet')\n",
    "nltk.download('tagsets')"
   ]
  },
  {
   "cell_type": "code",
   "execution_count": 5,
   "metadata": {
    "executionInfo": {
     "elapsed": 348,
     "status": "ok",
     "timestamp": 1627027762282,
     "user": {
      "displayName": "Ignacio Soteras",
      "photoUrl": "",
      "userId": "02050793736257155229"
     },
     "user_tz": -120
    },
    "id": "_eOFhwc1jdSf"
   },
   "outputs": [],
   "source": [
    "from sklearn.model_selection import train_test_split"
   ]
  },
  {
   "cell_type": "code",
   "execution_count": 7,
   "metadata": {
    "colab": {
     "base_uri": "https://localhost:8080/",
     "height": 847
    },
    "executionInfo": {
     "elapsed": 30142,
     "status": "ok",
     "timestamp": 1627027871658,
     "user": {
      "displayName": "Ignacio Soteras",
      "photoUrl": "",
      "userId": "02050793736257155229"
     },
     "user_tz": -120
    },
    "id": "u6_ycXTiNgg5",
    "outputId": "83074db8-8597-483c-ea87-7a02850702fc"
   },
   "outputs": [
    {
     "name": "stderr",
     "output_type": "stream",
     "text": [
      "b'Skipping line 3121: expected 15 fields, saw 22\\nSkipping line 23098: expected 15 fields, saw 22\\nSkipping line 44261: expected 15 fields, saw 22\\nSkipping line 46415: expected 15 fields, saw 22\\nSkipping line 49691: expected 15 fields, saw 22\\nSkipping line 53219: expected 15 fields, saw 22\\n'\n",
      "b'Skipping line 76042: expected 15 fields, saw 22\\nSkipping line 94032: expected 15 fields, saw 22\\nSkipping line 114699: expected 15 fields, saw 22\\nSkipping line 125796: expected 15 fields, saw 22\\n'\n",
      "b'Skipping line 157739: expected 15 fields, saw 22\\nSkipping line 175898: expected 15 fields, saw 22\\nSkipping line 177167: expected 15 fields, saw 22\\nSkipping line 192248: expected 15 fields, saw 22\\n'\n",
      "b'Skipping line 198940: expected 15 fields, saw 22\\nSkipping line 216336: expected 15 fields, saw 22\\nSkipping line 222360: expected 15 fields, saw 22\\nSkipping line 230919: expected 15 fields, saw 22\\nSkipping line 234929: expected 15 fields, saw 22\\nSkipping line 254683: expected 15 fields, saw 22\\n'\n",
      "b'Skipping line 263578: expected 15 fields, saw 22\\nSkipping line 267119: expected 15 fields, saw 22\\nSkipping line 311722: expected 15 fields, saw 22\\n'\n",
      "b'Skipping line 362749: expected 15 fields, saw 22\\nSkipping line 369620: expected 15 fields, saw 22\\nSkipping line 392304: expected 15 fields, saw 22\\n'\n",
      "b'Skipping line 439448: expected 15 fields, saw 22\\nSkipping line 440901: expected 15 fields, saw 22\\n'\n",
      "b'Skipping line 473157: expected 15 fields, saw 22\\nSkipping line 503084: expected 15 fields, saw 22\\nSkipping line 516256: expected 15 fields, saw 22\\nSkipping line 520357: expected 15 fields, saw 22\\nSkipping line 523072: expected 15 fields, saw 22\\n'\n",
      "b'Skipping line 532187: expected 15 fields, saw 22\\nSkipping line 548938: expected 15 fields, saw 22\\nSkipping line 562869: expected 15 fields, saw 22\\nSkipping line 565355: expected 15 fields, saw 22\\nSkipping line 571208: expected 15 fields, saw 22\\nSkipping line 572020: expected 15 fields, saw 22\\nSkipping line 582328: expected 15 fields, saw 22\\nSkipping line 582409: expected 15 fields, saw 22\\n'\n",
      "b'Skipping line 608840: expected 15 fields, saw 22\\nSkipping line 617217: expected 15 fields, saw 22\\nSkipping line 644474: expected 15 fields, saw 22\\nSkipping line 647670: expected 15 fields, saw 22\\n'\n",
      "b'Skipping line 693707: expected 15 fields, saw 22\\nSkipping line 694669: expected 15 fields, saw 22\\n'\n",
      "b'Skipping line 739795: expected 15 fields, saw 22\\nSkipping line 756512: expected 15 fields, saw 22\\nSkipping line 781710: expected 15 fields, saw 22\\nSkipping line 783500: expected 15 fields, saw 22\\n'\n",
      "b'Skipping line 789559: expected 15 fields, saw 22\\nSkipping line 796377: expected 15 fields, saw 22\\nSkipping line 799327: expected 15 fields, saw 22\\nSkipping line 814884: expected 15 fields, saw 22\\n'\n",
      "b'Skipping line 861696: expected 15 fields, saw 22\\nSkipping line 868867: expected 15 fields, saw 22\\nSkipping line 887883: expected 15 fields, saw 22\\nSkipping line 912033: expected 15 fields, saw 22\\nSkipping line 916219: expected 15 fields, saw 22\\n'\n",
      "b'Skipping line 975366: expected 15 fields, saw 22\\n'\n",
      "b'Skipping line 994276: expected 15 fields, saw 22\\nSkipping line 1008891: expected 15 fields, saw 22\\nSkipping line 1016443: expected 15 fields, saw 22\\nSkipping line 1018090: expected 15 fields, saw 22\\nSkipping line 1020599: expected 15 fields, saw 22\\nSkipping line 1022068: expected 15 fields, saw 22\\nSkipping line 1034648: expected 15 fields, saw 22\\n'\n",
      "b'Skipping line 1492008: expected 15 fields, saw 22\\n'\n",
      "b'Skipping line 1765224: expected 15 fields, saw 22\\n'\n",
      "b'Skipping line 2025246: expected 15 fields, saw 22\\n'\n",
      "/opt/anaconda3/envs/DA_Env/lib/python3.9/site-packages/IPython/core/interactiveshell.py:3441: DtypeWarning: Columns (7) have mixed types.Specify dtype option on import or set low_memory=False.\n",
      "  exec(code_obj, self.user_global_ns, self.user_ns)\n"
     ]
    },
    {
     "data": {
      "text/html": [
       "<div>\n",
       "<style scoped>\n",
       "    .dataframe tbody tr th:only-of-type {\n",
       "        vertical-align: middle;\n",
       "    }\n",
       "\n",
       "    .dataframe tbody tr th {\n",
       "        vertical-align: top;\n",
       "    }\n",
       "\n",
       "    .dataframe thead th {\n",
       "        text-align: right;\n",
       "    }\n",
       "</style>\n",
       "<table border=\"1\" class=\"dataframe\">\n",
       "  <thead>\n",
       "    <tr style=\"text-align: right;\">\n",
       "      <th></th>\n",
       "      <th>marketplace</th>\n",
       "      <th>customer_id</th>\n",
       "      <th>review_id</th>\n",
       "      <th>product_id</th>\n",
       "      <th>product_parent</th>\n",
       "      <th>product_title</th>\n",
       "      <th>product_category</th>\n",
       "      <th>star_rating</th>\n",
       "      <th>helpful_votes</th>\n",
       "      <th>total_votes</th>\n",
       "      <th>vine</th>\n",
       "      <th>verified_purchase</th>\n",
       "      <th>review_headline</th>\n",
       "      <th>review_body</th>\n",
       "      <th>review_date</th>\n",
       "    </tr>\n",
       "  </thead>\n",
       "  <tbody>\n",
       "    <tr>\n",
       "      <th>0</th>\n",
       "      <td>US</td>\n",
       "      <td>18446823</td>\n",
       "      <td>R35T75OLUGHL5C</td>\n",
       "      <td>B000NV6H94</td>\n",
       "      <td>110804376</td>\n",
       "      <td>Stearns Youth Boating Vest (50-90 lbs.)</td>\n",
       "      <td>Outdoors</td>\n",
       "      <td>4</td>\n",
       "      <td>0.0</td>\n",
       "      <td>0.0</td>\n",
       "      <td>N</td>\n",
       "      <td>Y</td>\n",
       "      <td>Four Stars</td>\n",
       "      <td>GOOD VALUE</td>\n",
       "      <td>2015-08-31</td>\n",
       "    </tr>\n",
       "    <tr>\n",
       "      <th>1</th>\n",
       "      <td>US</td>\n",
       "      <td>13724367</td>\n",
       "      <td>R2BV735O46BN33</td>\n",
       "      <td>B000IN0W3Y</td>\n",
       "      <td>624096774</td>\n",
       "      <td>Primal Wear Men's Pink Floyd Dark Side of The ...</td>\n",
       "      <td>Outdoors</td>\n",
       "      <td>5</td>\n",
       "      <td>0.0</td>\n",
       "      <td>0.0</td>\n",
       "      <td>N</td>\n",
       "      <td>Y</td>\n",
       "      <td>Five Stars</td>\n",
       "      <td>Excellent quality.</td>\n",
       "      <td>2015-08-31</td>\n",
       "    </tr>\n",
       "    <tr>\n",
       "      <th>2</th>\n",
       "      <td>US</td>\n",
       "      <td>51001958</td>\n",
       "      <td>R2NBEUGPQQGXP1</td>\n",
       "      <td>B008RBJXFM</td>\n",
       "      <td>278970944</td>\n",
       "      <td>Osprey Hydraulics Reservoir</td>\n",
       "      <td>Outdoors</td>\n",
       "      <td>4</td>\n",
       "      <td>0.0</td>\n",
       "      <td>0.0</td>\n",
       "      <td>N</td>\n",
       "      <td>Y</td>\n",
       "      <td>Only Flaw Is The Cap</td>\n",
       "      <td>3rd season using it. I only fill with water an...</td>\n",
       "      <td>2015-08-31</td>\n",
       "    </tr>\n",
       "    <tr>\n",
       "      <th>3</th>\n",
       "      <td>US</td>\n",
       "      <td>32866903</td>\n",
       "      <td>R17LLAOJ8ITK0S</td>\n",
       "      <td>B00FK8WUQY</td>\n",
       "      <td>312877650</td>\n",
       "      <td>CamelBak eddy .75L Water Bottle</td>\n",
       "      <td>Outdoors</td>\n",
       "      <td>3</td>\n",
       "      <td>1.0</td>\n",
       "      <td>1.0</td>\n",
       "      <td>N</td>\n",
       "      <td>Y</td>\n",
       "      <td>Poor design leads to frequent mildew.</td>\n",
       "      <td>poor construction as mildew keeps forming in t...</td>\n",
       "      <td>2015-08-31</td>\n",
       "    </tr>\n",
       "    <tr>\n",
       "      <th>4</th>\n",
       "      <td>US</td>\n",
       "      <td>30907790</td>\n",
       "      <td>R39PEQBT5ISEF4</td>\n",
       "      <td>B00EZA3VW0</td>\n",
       "      <td>305567912</td>\n",
       "      <td>Children Black Red Striped Plastic Housing Ska...</td>\n",
       "      <td>Outdoors</td>\n",
       "      <td>1</td>\n",
       "      <td>0.0</td>\n",
       "      <td>0.0</td>\n",
       "      <td>N</td>\n",
       "      <td>Y</td>\n",
       "      <td>Very bad quality, clips was broken when it arr...</td>\n",
       "      <td>Very bad quality, clips was broken when it arr...</td>\n",
       "      <td>2015-08-31</td>\n",
       "    </tr>\n",
       "  </tbody>\n",
       "</table>\n",
       "</div>"
      ],
      "text/plain": [
       "  marketplace  customer_id       review_id  product_id  product_parent  \\\n",
       "0          US     18446823  R35T75OLUGHL5C  B000NV6H94       110804376   \n",
       "1          US     13724367  R2BV735O46BN33  B000IN0W3Y       624096774   \n",
       "2          US     51001958  R2NBEUGPQQGXP1  B008RBJXFM       278970944   \n",
       "3          US     32866903  R17LLAOJ8ITK0S  B00FK8WUQY       312877650   \n",
       "4          US     30907790  R39PEQBT5ISEF4  B00EZA3VW0       305567912   \n",
       "\n",
       "                                       product_title product_category  \\\n",
       "0            Stearns Youth Boating Vest (50-90 lbs.)         Outdoors   \n",
       "1  Primal Wear Men's Pink Floyd Dark Side of The ...         Outdoors   \n",
       "2                        Osprey Hydraulics Reservoir         Outdoors   \n",
       "3                    CamelBak eddy .75L Water Bottle         Outdoors   \n",
       "4  Children Black Red Striped Plastic Housing Ska...         Outdoors   \n",
       "\n",
       "  star_rating  helpful_votes  total_votes vine verified_purchase  \\\n",
       "0           4            0.0          0.0    N                 Y   \n",
       "1           5            0.0          0.0    N                 Y   \n",
       "2           4            0.0          0.0    N                 Y   \n",
       "3           3            1.0          1.0    N                 Y   \n",
       "4           1            0.0          0.0    N                 Y   \n",
       "\n",
       "                                     review_headline  \\\n",
       "0                                         Four Stars   \n",
       "1                                         Five Stars   \n",
       "2                               Only Flaw Is The Cap   \n",
       "3              Poor design leads to frequent mildew.   \n",
       "4  Very bad quality, clips was broken when it arr...   \n",
       "\n",
       "                                         review_body review_date  \n",
       "0                                         GOOD VALUE  2015-08-31  \n",
       "1                                 Excellent quality.  2015-08-31  \n",
       "2  3rd season using it. I only fill with water an...  2015-08-31  \n",
       "3  poor construction as mildew keeps forming in t...  2015-08-31  \n",
       "4  Very bad quality, clips was broken when it arr...  2015-08-31  "
      ]
     },
     "execution_count": 7,
     "metadata": {},
     "output_type": "execute_result"
    }
   ],
   "source": [
    "data = pd.read_csv(\"Data/amazon_reviews_us_Outdoors_v1_00.tsv.gz\", \n",
    "                   compression = \"gzip\", error_bad_lines = False, sep = \"\\t\")\n",
    "data.head()"
   ]
  },
  {
   "cell_type": "code",
   "execution_count": 94,
   "metadata": {
    "colab": {
     "base_uri": "https://localhost:8080/"
    },
    "executionInfo": {
     "elapsed": 365,
     "status": "ok",
     "timestamp": 1627027946847,
     "user": {
      "displayName": "Ignacio Soteras",
      "photoUrl": "",
      "userId": "02050793736257155229"
     },
     "user_tz": -120
    },
    "id": "r_1MKc0DN901",
    "outputId": "d6f8c0dc-90c2-4665-cadf-a0ad2885983c"
   },
   "outputs": [
    {
     "data": {
      "text/plain": [
       "(257453, 8)"
      ]
     },
     "execution_count": 94,
     "metadata": {},
     "output_type": "execute_result"
    }
   ],
   "source": [
    "data.shape"
   ]
  },
  {
   "cell_type": "code",
   "execution_count": 10,
   "metadata": {
    "colab": {
     "base_uri": "https://localhost:8080/",
     "height": 205
    },
    "executionInfo": {
     "elapsed": 392,
     "status": "ok",
     "timestamp": 1627028004330,
     "user": {
      "displayName": "Ignacio Soteras",
      "photoUrl": "",
      "userId": "02050793736257155229"
     },
     "user_tz": -120
    },
    "id": "ikEnJH1ZODF3",
    "outputId": "c5253d6c-b783-40e6-8380-c9048ff3fa77"
   },
   "outputs": [
    {
     "data": {
      "text/html": [
       "<div>\n",
       "<style scoped>\n",
       "    .dataframe tbody tr th:only-of-type {\n",
       "        vertical-align: middle;\n",
       "    }\n",
       "\n",
       "    .dataframe tbody tr th {\n",
       "        vertical-align: top;\n",
       "    }\n",
       "\n",
       "    .dataframe thead th {\n",
       "        text-align: right;\n",
       "    }\n",
       "</style>\n",
       "<table border=\"1\" class=\"dataframe\">\n",
       "  <thead>\n",
       "    <tr style=\"text-align: right;\">\n",
       "      <th></th>\n",
       "      <th>review_id</th>\n",
       "      <th>review_body</th>\n",
       "      <th>helpful_votes</th>\n",
       "      <th>total_votes</th>\n",
       "      <th>verified_purchase</th>\n",
       "      <th>star_rating</th>\n",
       "    </tr>\n",
       "  </thead>\n",
       "  <tbody>\n",
       "    <tr>\n",
       "      <th>0</th>\n",
       "      <td>R35T75OLUGHL5C</td>\n",
       "      <td>GOOD VALUE</td>\n",
       "      <td>0.0</td>\n",
       "      <td>0.0</td>\n",
       "      <td>Y</td>\n",
       "      <td>4</td>\n",
       "    </tr>\n",
       "    <tr>\n",
       "      <th>1</th>\n",
       "      <td>R2BV735O46BN33</td>\n",
       "      <td>Excellent quality.</td>\n",
       "      <td>0.0</td>\n",
       "      <td>0.0</td>\n",
       "      <td>Y</td>\n",
       "      <td>5</td>\n",
       "    </tr>\n",
       "    <tr>\n",
       "      <th>2</th>\n",
       "      <td>R2NBEUGPQQGXP1</td>\n",
       "      <td>3rd season using it. I only fill with water an...</td>\n",
       "      <td>0.0</td>\n",
       "      <td>0.0</td>\n",
       "      <td>Y</td>\n",
       "      <td>4</td>\n",
       "    </tr>\n",
       "    <tr>\n",
       "      <th>3</th>\n",
       "      <td>R17LLAOJ8ITK0S</td>\n",
       "      <td>poor construction as mildew keeps forming in t...</td>\n",
       "      <td>1.0</td>\n",
       "      <td>1.0</td>\n",
       "      <td>Y</td>\n",
       "      <td>3</td>\n",
       "    </tr>\n",
       "    <tr>\n",
       "      <th>4</th>\n",
       "      <td>R39PEQBT5ISEF4</td>\n",
       "      <td>Very bad quality, clips was broken when it arr...</td>\n",
       "      <td>0.0</td>\n",
       "      <td>0.0</td>\n",
       "      <td>Y</td>\n",
       "      <td>1</td>\n",
       "    </tr>\n",
       "  </tbody>\n",
       "</table>\n",
       "</div>"
      ],
      "text/plain": [
       "        review_id                                        review_body  \\\n",
       "0  R35T75OLUGHL5C                                         GOOD VALUE   \n",
       "1  R2BV735O46BN33                                 Excellent quality.   \n",
       "2  R2NBEUGPQQGXP1  3rd season using it. I only fill with water an...   \n",
       "3  R17LLAOJ8ITK0S  poor construction as mildew keeps forming in t...   \n",
       "4  R39PEQBT5ISEF4  Very bad quality, clips was broken when it arr...   \n",
       "\n",
       "   helpful_votes  total_votes verified_purchase star_rating  \n",
       "0            0.0          0.0                 Y           4  \n",
       "1            0.0          0.0                 Y           5  \n",
       "2            0.0          0.0                 Y           4  \n",
       "3            1.0          1.0                 Y           3  \n",
       "4            0.0          0.0                 Y           1  "
      ]
     },
     "execution_count": 10,
     "metadata": {},
     "output_type": "execute_result"
    }
   ],
   "source": [
    "data = data[['review_id','review_body','helpful_votes','total_votes','verified_purchase','star_rating']]\n",
    "data.head()"
   ]
  },
  {
   "cell_type": "code",
   "execution_count": 11,
   "metadata": {
    "colab": {
     "base_uri": "https://localhost:8080/"
    },
    "executionInfo": {
     "elapsed": 357,
     "status": "ok",
     "timestamp": 1627028058410,
     "user": {
      "displayName": "Ignacio Soteras",
      "photoUrl": "",
      "userId": "02050793736257155229"
     },
     "user_tz": -120
    },
    "id": "PP0GNmhkDPdH",
    "outputId": "b4ccad4b-6605-40ed-80e5-5df41550c8a0"
   },
   "outputs": [
    {
     "name": "stdout",
     "output_type": "stream",
     "text": [
      "<class 'pandas.core.frame.DataFrame'>\n",
      "RangeIndex: 2299811 entries, 0 to 2299810\n",
      "Data columns (total 6 columns):\n",
      " #   Column             Dtype  \n",
      "---  ------             -----  \n",
      " 0   review_id          object \n",
      " 1   review_body        object \n",
      " 2   helpful_votes      float64\n",
      " 3   total_votes        float64\n",
      " 4   verified_purchase  object \n",
      " 5   star_rating        object \n",
      "dtypes: float64(2), object(4)\n",
      "memory usage: 105.3+ MB\n"
     ]
    }
   ],
   "source": [
    "data.info()"
   ]
  },
  {
   "cell_type": "markdown",
   "metadata": {
    "id": "QG-gJpoAC4Vb"
   },
   "source": [
    "## Filtering reviews"
   ]
  },
  {
   "cell_type": "markdown",
   "metadata": {
    "id": "AaagpqoVC7sW"
   },
   "source": [
    "We have around 2.3M of reviews but according to the data not all of them are \"helpful\". Let's do some filtering."
   ]
  },
  {
   "cell_type": "code",
   "execution_count": 12,
   "metadata": {
    "colab": {
     "base_uri": "https://localhost:8080/"
    },
    "executionInfo": {
     "elapsed": 341,
     "status": "ok",
     "timestamp": 1627028090693,
     "user": {
      "displayName": "Ignacio Soteras",
      "photoUrl": "",
      "userId": "02050793736257155229"
     },
     "user_tz": -120
    },
    "id": "_8T4hmuSDH0R",
    "outputId": "ca008c46-1ee1-435c-aa45-0b849fbf0cc5"
   },
   "outputs": [
    {
     "data": {
      "text/plain": [
       "array(['Y', 'N', nan], dtype=object)"
      ]
     },
     "execution_count": 12,
     "metadata": {},
     "output_type": "execute_result"
    }
   ],
   "source": [
    "data['verified_purchase'].unique()"
   ]
  },
  {
   "cell_type": "code",
   "execution_count": 13,
   "metadata": {
    "executionInfo": {
     "elapsed": 355,
     "status": "ok",
     "timestamp": 1627028133327,
     "user": {
      "displayName": "Ignacio Soteras",
      "photoUrl": "",
      "userId": "02050793736257155229"
     },
     "user_tz": -120
    },
    "id": "FmcYdTVtDiV7"
   },
   "outputs": [],
   "source": [
    "data = data[data['verified_purchase'] == 'Y']"
   ]
  },
  {
   "cell_type": "code",
   "execution_count": 14,
   "metadata": {
    "colab": {
     "base_uri": "https://localhost:8080/"
    },
    "executionInfo": {
     "elapsed": 373,
     "status": "ok",
     "timestamp": 1627028136701,
     "user": {
      "displayName": "Ignacio Soteras",
      "photoUrl": "",
      "userId": "02050793736257155229"
     },
     "user_tz": -120
    },
    "id": "c-IuldtVDrzl",
    "outputId": "f765063f-4e65-4c1d-89c3-60113f38d7e9"
   },
   "outputs": [
    {
     "data": {
      "text/plain": [
       "(2023594, 6)"
      ]
     },
     "execution_count": 14,
     "metadata": {},
     "output_type": "execute_result"
    }
   ],
   "source": [
    "data.shape"
   ]
  },
  {
   "cell_type": "markdown",
   "metadata": {
    "id": "cCctSxWmDwu8"
   },
   "source": [
    "200K unverified reviews droped.\n"
   ]
  },
  {
   "cell_type": "code",
   "execution_count": 15,
   "metadata": {
    "executionInfo": {
     "elapsed": 354,
     "status": "ok",
     "timestamp": 1627028174117,
     "user": {
      "displayName": "Ignacio Soteras",
      "photoUrl": "",
      "userId": "02050793736257155229"
     },
     "user_tz": -120
    },
    "id": "2XgqgjArGEx5"
   },
   "outputs": [],
   "source": [
    "data = data[data['helpful_votes'] > 0]"
   ]
  },
  {
   "cell_type": "code",
   "execution_count": 16,
   "metadata": {
    "colab": {
     "base_uri": "https://localhost:8080/"
    },
    "executionInfo": {
     "elapsed": 363,
     "status": "ok",
     "timestamp": 1627028177260,
     "user": {
      "displayName": "Ignacio Soteras",
      "photoUrl": "",
      "userId": "02050793736257155229"
     },
     "user_tz": -120
    },
    "id": "2JAjlZX6GMMX",
    "outputId": "6475005f-83f1-4685-c750-f911a3d25af1"
   },
   "outputs": [
    {
     "data": {
      "text/plain": [
       "(664625, 6)"
      ]
     },
     "execution_count": 16,
     "metadata": {},
     "output_type": "execute_result"
    }
   ],
   "source": [
    "data.shape"
   ]
  },
  {
   "cell_type": "markdown",
   "metadata": {
    "id": "31Rx8asEGO01"
   },
   "source": [
    "Much better!"
   ]
  },
  {
   "cell_type": "code",
   "execution_count": 17,
   "metadata": {
    "colab": {
     "base_uri": "https://localhost:8080/",
     "height": 205
    },
    "executionInfo": {
     "elapsed": 366,
     "status": "ok",
     "timestamp": 1627028188898,
     "user": {
      "displayName": "Ignacio Soteras",
      "photoUrl": "",
      "userId": "02050793736257155229"
     },
     "user_tz": -120
    },
    "id": "Xz3VPGSWGVmF",
    "outputId": "b635a315-8f6b-4492-c295-5cefcf18a61d"
   },
   "outputs": [
    {
     "data": {
      "text/html": [
       "<div>\n",
       "<style scoped>\n",
       "    .dataframe tbody tr th:only-of-type {\n",
       "        vertical-align: middle;\n",
       "    }\n",
       "\n",
       "    .dataframe tbody tr th {\n",
       "        vertical-align: top;\n",
       "    }\n",
       "\n",
       "    .dataframe thead th {\n",
       "        text-align: right;\n",
       "    }\n",
       "</style>\n",
       "<table border=\"1\" class=\"dataframe\">\n",
       "  <thead>\n",
       "    <tr style=\"text-align: right;\">\n",
       "      <th></th>\n",
       "      <th>review_id</th>\n",
       "      <th>review_body</th>\n",
       "      <th>helpful_votes</th>\n",
       "      <th>total_votes</th>\n",
       "      <th>verified_purchase</th>\n",
       "      <th>star_rating</th>\n",
       "    </tr>\n",
       "  </thead>\n",
       "  <tbody>\n",
       "    <tr>\n",
       "      <th>3</th>\n",
       "      <td>R17LLAOJ8ITK0S</td>\n",
       "      <td>poor construction as mildew keeps forming in t...</td>\n",
       "      <td>1.0</td>\n",
       "      <td>1.0</td>\n",
       "      <td>Y</td>\n",
       "      <td>3</td>\n",
       "    </tr>\n",
       "    <tr>\n",
       "      <th>5</th>\n",
       "      <td>R3GNM3SU9VHJFT</td>\n",
       "      <td>Nice bag. Should have another strap on bottom ...</td>\n",
       "      <td>1.0</td>\n",
       "      <td>1.0</td>\n",
       "      <td>Y</td>\n",
       "      <td>4</td>\n",
       "    </tr>\n",
       "    <tr>\n",
       "      <th>7</th>\n",
       "      <td>R2LFGSI6HAYH5F</td>\n",
       "      <td>Went on vacation in Lyme Disease country, kids...</td>\n",
       "      <td>1.0</td>\n",
       "      <td>1.0</td>\n",
       "      <td>Y</td>\n",
       "      <td>5</td>\n",
       "    </tr>\n",
       "    <tr>\n",
       "      <th>8</th>\n",
       "      <td>R297G6ED1IQO7W</td>\n",
       "      <td>Great item. Gets better after burn in. Used th...</td>\n",
       "      <td>1.0</td>\n",
       "      <td>1.0</td>\n",
       "      <td>Y</td>\n",
       "      <td>5</td>\n",
       "    </tr>\n",
       "    <tr>\n",
       "      <th>21</th>\n",
       "      <td>R2XYF9PCISPHE8</td>\n",
       "      <td>If 1/2&amp;#34; is self inflating this is you're p...</td>\n",
       "      <td>1.0</td>\n",
       "      <td>1.0</td>\n",
       "      <td>Y</td>\n",
       "      <td>1</td>\n",
       "    </tr>\n",
       "  </tbody>\n",
       "</table>\n",
       "</div>"
      ],
      "text/plain": [
       "         review_id                                        review_body  \\\n",
       "3   R17LLAOJ8ITK0S  poor construction as mildew keeps forming in t...   \n",
       "5   R3GNM3SU9VHJFT  Nice bag. Should have another strap on bottom ...   \n",
       "7   R2LFGSI6HAYH5F  Went on vacation in Lyme Disease country, kids...   \n",
       "8   R297G6ED1IQO7W  Great item. Gets better after burn in. Used th...   \n",
       "21  R2XYF9PCISPHE8  If 1/2&#34; is self inflating this is you're p...   \n",
       "\n",
       "    helpful_votes  total_votes verified_purchase star_rating  \n",
       "3             1.0          1.0                 Y           3  \n",
       "5             1.0          1.0                 Y           4  \n",
       "7             1.0          1.0                 Y           5  \n",
       "8             1.0          1.0                 Y           5  \n",
       "21            1.0          1.0                 Y           1  "
      ]
     },
     "execution_count": 17,
     "metadata": {},
     "output_type": "execute_result"
    }
   ],
   "source": [
    "data.head()"
   ]
  },
  {
   "cell_type": "code",
   "execution_count": 18,
   "metadata": {
    "colab": {
     "base_uri": "https://localhost:8080/"
    },
    "executionInfo": {
     "elapsed": 380,
     "status": "ok",
     "timestamp": 1627028260417,
     "user": {
      "displayName": "Ignacio Soteras",
      "photoUrl": "",
      "userId": "02050793736257155229"
     },
     "user_tz": -120
    },
    "id": "Hbx3csH3FQdo",
    "outputId": "7268e91d-c3da-49bb-e102-7ddf0b43dd33"
   },
   "outputs": [
    {
     "data": {
      "text/plain": [
       "26"
      ]
     },
     "execution_count": 18,
     "metadata": {},
     "output_type": "execute_result"
    }
   ],
   "source": [
    "len(data.iloc[0,1].split())"
   ]
  },
  {
   "cell_type": "markdown",
   "metadata": {
    "id": "Sk4tSafxT9HL"
   },
   "source": [
    "Let's get what is the percentage of usefull votes in each review"
   ]
  },
  {
   "cell_type": "code",
   "execution_count": 20,
   "metadata": {
    "executionInfo": {
     "elapsed": 859,
     "status": "ok",
     "timestamp": 1627028348792,
     "user": {
      "displayName": "Ignacio Soteras",
      "photoUrl": "",
      "userId": "02050793736257155229"
     },
     "user_tz": -120
    },
    "id": "cGmM1cygEFfp"
   },
   "outputs": [],
   "source": [
    "data['perc'] = list( map( lambda x, y: x/y, data['helpful_votes'], data['total_votes'] ) )"
   ]
  },
  {
   "cell_type": "code",
   "execution_count": 21,
   "metadata": {
    "colab": {
     "base_uri": "https://localhost:8080/",
     "height": 205
    },
    "executionInfo": {
     "elapsed": 355,
     "status": "ok",
     "timestamp": 1627028352277,
     "user": {
      "displayName": "Ignacio Soteras",
      "photoUrl": "",
      "userId": "02050793736257155229"
     },
     "user_tz": -120
    },
    "id": "oJsZNDOaG-41",
    "outputId": "5b73ff44-1f24-4e86-9d5e-b0fd7a3f164c"
   },
   "outputs": [
    {
     "data": {
      "text/html": [
       "<div>\n",
       "<style scoped>\n",
       "    .dataframe tbody tr th:only-of-type {\n",
       "        vertical-align: middle;\n",
       "    }\n",
       "\n",
       "    .dataframe tbody tr th {\n",
       "        vertical-align: top;\n",
       "    }\n",
       "\n",
       "    .dataframe thead th {\n",
       "        text-align: right;\n",
       "    }\n",
       "</style>\n",
       "<table border=\"1\" class=\"dataframe\">\n",
       "  <thead>\n",
       "    <tr style=\"text-align: right;\">\n",
       "      <th></th>\n",
       "      <th>review_id</th>\n",
       "      <th>review_body</th>\n",
       "      <th>helpful_votes</th>\n",
       "      <th>total_votes</th>\n",
       "      <th>verified_purchase</th>\n",
       "      <th>star_rating</th>\n",
       "      <th>perc</th>\n",
       "    </tr>\n",
       "  </thead>\n",
       "  <tbody>\n",
       "    <tr>\n",
       "      <th>3</th>\n",
       "      <td>R17LLAOJ8ITK0S</td>\n",
       "      <td>poor construction as mildew keeps forming in t...</td>\n",
       "      <td>1.0</td>\n",
       "      <td>1.0</td>\n",
       "      <td>Y</td>\n",
       "      <td>3</td>\n",
       "      <td>1.0</td>\n",
       "    </tr>\n",
       "    <tr>\n",
       "      <th>5</th>\n",
       "      <td>R3GNM3SU9VHJFT</td>\n",
       "      <td>Nice bag. Should have another strap on bottom ...</td>\n",
       "      <td>1.0</td>\n",
       "      <td>1.0</td>\n",
       "      <td>Y</td>\n",
       "      <td>4</td>\n",
       "      <td>1.0</td>\n",
       "    </tr>\n",
       "    <tr>\n",
       "      <th>7</th>\n",
       "      <td>R2LFGSI6HAYH5F</td>\n",
       "      <td>Went on vacation in Lyme Disease country, kids...</td>\n",
       "      <td>1.0</td>\n",
       "      <td>1.0</td>\n",
       "      <td>Y</td>\n",
       "      <td>5</td>\n",
       "      <td>1.0</td>\n",
       "    </tr>\n",
       "    <tr>\n",
       "      <th>8</th>\n",
       "      <td>R297G6ED1IQO7W</td>\n",
       "      <td>Great item. Gets better after burn in. Used th...</td>\n",
       "      <td>1.0</td>\n",
       "      <td>1.0</td>\n",
       "      <td>Y</td>\n",
       "      <td>5</td>\n",
       "      <td>1.0</td>\n",
       "    </tr>\n",
       "    <tr>\n",
       "      <th>21</th>\n",
       "      <td>R2XYF9PCISPHE8</td>\n",
       "      <td>If 1/2&amp;#34; is self inflating this is you're p...</td>\n",
       "      <td>1.0</td>\n",
       "      <td>1.0</td>\n",
       "      <td>Y</td>\n",
       "      <td>1</td>\n",
       "      <td>1.0</td>\n",
       "    </tr>\n",
       "  </tbody>\n",
       "</table>\n",
       "</div>"
      ],
      "text/plain": [
       "         review_id                                        review_body  \\\n",
       "3   R17LLAOJ8ITK0S  poor construction as mildew keeps forming in t...   \n",
       "5   R3GNM3SU9VHJFT  Nice bag. Should have another strap on bottom ...   \n",
       "7   R2LFGSI6HAYH5F  Went on vacation in Lyme Disease country, kids...   \n",
       "8   R297G6ED1IQO7W  Great item. Gets better after burn in. Used th...   \n",
       "21  R2XYF9PCISPHE8  If 1/2&#34; is self inflating this is you're p...   \n",
       "\n",
       "    helpful_votes  total_votes verified_purchase star_rating  perc  \n",
       "3             1.0          1.0                 Y           3   1.0  \n",
       "5             1.0          1.0                 Y           4   1.0  \n",
       "7             1.0          1.0                 Y           5   1.0  \n",
       "8             1.0          1.0                 Y           5   1.0  \n",
       "21            1.0          1.0                 Y           1   1.0  "
      ]
     },
     "execution_count": 21,
     "metadata": {},
     "output_type": "execute_result"
    }
   ],
   "source": [
    "data.head()"
   ]
  },
  {
   "cell_type": "code",
   "execution_count": 22,
   "metadata": {
    "colab": {
     "base_uri": "https://localhost:8080/"
    },
    "executionInfo": {
     "elapsed": 334,
     "status": "ok",
     "timestamp": 1627028369969,
     "user": {
      "displayName": "Ignacio Soteras",
      "photoUrl": "",
      "userId": "02050793736257155229"
     },
     "user_tz": -120
    },
    "id": "mAdJKUEaJSBw",
    "outputId": "cf9d286e-84b0-497c-fc81-db8130d08c3e"
   },
   "outputs": [
    {
     "data": {
      "text/plain": [
       "count    664625.000000\n",
       "mean          4.753988\n",
       "std          18.846953\n",
       "min           1.000000\n",
       "25%           1.000000\n",
       "50%           2.000000\n",
       "75%           4.000000\n",
       "max        2478.000000\n",
       "Name: helpful_votes, dtype: float64"
      ]
     },
     "execution_count": 22,
     "metadata": {},
     "output_type": "execute_result"
    }
   ],
   "source": [
    "data['helpful_votes'].describe()"
   ]
  },
  {
   "cell_type": "code",
   "execution_count": 27,
   "metadata": {
    "colab": {
     "base_uri": "https://localhost:8080/",
     "height": 352
    },
    "executionInfo": {
     "elapsed": 871,
     "status": "ok",
     "timestamp": 1627028384130,
     "user": {
      "displayName": "Ignacio Soteras",
      "photoUrl": "",
      "userId": "02050793736257155229"
     },
     "user_tz": -120
    },
    "id": "zH_ooe60Ltf9",
    "outputId": "270101fa-f9ec-4673-b6db-95cc0928fcf5"
   },
   "outputs": [
    {
     "name": "stderr",
     "output_type": "stream",
     "text": [
      "/opt/anaconda3/envs/DA_Env/lib/python3.9/site-packages/seaborn/_decorators.py:36: FutureWarning: Pass the following variable as a keyword arg: x. From version 0.12, the only valid positional argument will be `data`, and passing other arguments without an explicit keyword will result in an error or misinterpretation.\n",
      "  warnings.warn(\n"
     ]
    },
    {
     "data": {
      "text/plain": [
       "<AxesSubplot:xlabel='helpful_votes'>"
      ]
     },
     "execution_count": 27,
     "metadata": {},
     "output_type": "execute_result"
    },
    {
     "data": {
      "image/png": "[encoded data removed]",
      "text/plain": [
       "<Figure size 432x288 with 1 Axes>"
      ]
     },
     "metadata": {
      "needs_background": "light"
     },
     "output_type": "display_data"
    }
   ],
   "source": [
    "sns.boxplot(data['helpful_votes'])"
   ]
  },
  {
   "cell_type": "code",
   "execution_count": 28,
   "metadata": {
    "colab": {
     "base_uri": "https://localhost:8080/",
     "height": 351
    },
    "executionInfo": {
     "elapsed": 381,
     "status": "ok",
     "timestamp": 1627028403338,
     "user": {
      "displayName": "Ignacio Soteras",
      "photoUrl": "",
      "userId": "02050793736257155229"
     },
     "user_tz": -120
    },
    "id": "w72Hkqx2StJC",
    "outputId": "8bd460b0-e314-4d15-854d-d947a4e80733"
   },
   "outputs": [
    {
     "name": "stderr",
     "output_type": "stream",
     "text": [
      "/opt/anaconda3/envs/DA_Env/lib/python3.9/site-packages/seaborn/_decorators.py:36: FutureWarning: Pass the following variable as a keyword arg: x. From version 0.12, the only valid positional argument will be `data`, and passing other arguments without an explicit keyword will result in an error or misinterpretation.\n",
      "  warnings.warn(\n"
     ]
    },
    {
     "data": {
      "text/plain": [
       "<AxesSubplot:xlabel='perc'>"
      ]
     },
     "execution_count": 28,
     "metadata": {},
     "output_type": "execute_result"
    },
    {
     "data": {
      "image/png": "[encoded data removed]",
      "text/plain": [
       "<Figure size 432x288 with 1 Axes>"
      ]
     },
     "metadata": {
      "needs_background": "light"
     },
     "output_type": "display_data"
    }
   ],
   "source": [
    "sns.boxplot(data['perc'])"
   ]
  },
  {
   "cell_type": "code",
   "execution_count": 29,
   "metadata": {
    "colab": {
     "base_uri": "https://localhost:8080/"
    },
    "executionInfo": {
     "elapsed": 351,
     "status": "ok",
     "timestamp": 1627028422396,
     "user": {
      "displayName": "Ignacio Soteras",
      "photoUrl": "",
      "userId": "02050793736257155229"
     },
     "user_tz": -120
    },
    "id": "1-rTaRsjS5Q3",
    "outputId": "bb3928c0-5b83-47b1-a9cb-e6e60602a189"
   },
   "outputs": [
    {
     "data": {
      "text/plain": [
       "count    664625.000000\n",
       "mean          0.868096\n",
       "std           0.212916\n",
       "min           0.009302\n",
       "25%           0.750000\n",
       "50%           1.000000\n",
       "75%           1.000000\n",
       "max           1.000000\n",
       "Name: perc, dtype: float64"
      ]
     },
     "execution_count": 29,
     "metadata": {},
     "output_type": "execute_result"
    }
   ],
   "source": [
    "data['perc'].describe()"
   ]
  },
  {
   "cell_type": "markdown",
   "metadata": {
    "id": "s6NlHD2QUMeQ"
   },
   "source": [
    "Let's add afilter baser on the percentage of useful votes."
   ]
  },
  {
   "cell_type": "code",
   "execution_count": 30,
   "metadata": {
    "colab": {
     "base_uri": "https://localhost:8080/"
    },
    "executionInfo": {
     "elapsed": 342,
     "status": "ok",
     "timestamp": 1627028456033,
     "user": {
      "displayName": "Ignacio Soteras",
      "photoUrl": "",
      "userId": "02050793736257155229"
     },
     "user_tz": -120
    },
    "id": "Xta0iHlaTHVa",
    "outputId": "7278c6c9-58e5-4692-f155-bdf8e392fab3"
   },
   "outputs": [
    {
     "data": {
      "text/plain": [
       "515835"
      ]
     },
     "execution_count": 30,
     "metadata": {},
     "output_type": "execute_result"
    }
   ],
   "source": [
    "len(data[data['perc'] >= 0.75])"
   ]
  },
  {
   "cell_type": "code",
   "execution_count": 31,
   "metadata": {
    "executionInfo": {
     "elapsed": 356,
     "status": "ok",
     "timestamp": 1627028466771,
     "user": {
      "displayName": "Ignacio Soteras",
      "photoUrl": "",
      "userId": "02050793736257155229"
     },
     "user_tz": -120
    },
    "id": "hWmwds24TOkW"
   },
   "outputs": [],
   "source": [
    "data = data[data['perc'] >= 0.75]"
   ]
  },
  {
   "cell_type": "code",
   "execution_count": 32,
   "metadata": {
    "colab": {
     "base_uri": "https://localhost:8080/"
    },
    "executionInfo": {
     "elapsed": 350,
     "status": "ok",
     "timestamp": 1627028470531,
     "user": {
      "displayName": "Ignacio Soteras",
      "photoUrl": "",
      "userId": "02050793736257155229"
     },
     "user_tz": -120
    },
    "id": "SidNA7NNTb0Z",
    "outputId": "b760d8f1-f406-4fb9-bb10-b5090b882834"
   },
   "outputs": [
    {
     "data": {
      "text/plain": [
       "1.0      237536\n",
       "2.0       77217\n",
       "3.0       53540\n",
       "4.0       30487\n",
       "5.0       19649\n",
       "          ...  \n",
       "526.0         1\n",
       "698.0         1\n",
       "813.0         1\n",
       "913.0         1\n",
       "802.0         1\n",
       "Name: helpful_votes, Length: 555, dtype: int64"
      ]
     },
     "execution_count": 32,
     "metadata": {},
     "output_type": "execute_result"
    }
   ],
   "source": [
    "data['helpful_votes'].value_counts()"
   ]
  },
  {
   "cell_type": "code",
   "execution_count": 33,
   "metadata": {
    "colab": {
     "base_uri": "https://localhost:8080/"
    },
    "executionInfo": {
     "elapsed": 361,
     "status": "ok",
     "timestamp": 1627028499449,
     "user": {
      "displayName": "Ignacio Soteras",
      "photoUrl": "",
      "userId": "02050793736257155229"
     },
     "user_tz": -120
    },
    "id": "dyFrj3PVUQ8Y",
    "outputId": "386feae0-e88d-488a-d1a4-a839df5734b0"
   },
   "outputs": [
    {
     "data": {
      "text/plain": [
       "3          poor construction as mildew keeps forming in t...\n",
       "5          Nice bag. Should have another strap on bottom ...\n",
       "7          Went on vacation in Lyme Disease country, kids...\n",
       "8          Great item. Gets better after burn in. Used th...\n",
       "21         If 1/2&#34; is self inflating this is you're p...\n",
       "                                 ...                        \n",
       "2299749    After searching for something decent in local ...\n",
       "2299758    I purchased a [price] electric bagel cutter fo...\n",
       "2299767    We bought the Pogo Stick as birthday gift for ...\n",
       "2299779    When I first thought of getting the Firefly la...\n",
       "2299798    This knife is awesome. It Swing out blade stor...\n",
       "Name: review_body, Length: 515835, dtype: object"
      ]
     },
     "execution_count": 33,
     "metadata": {},
     "output_type": "execute_result"
    }
   ],
   "source": [
    "data['review_body']"
   ]
  },
  {
   "cell_type": "markdown",
   "metadata": {
    "id": "nTJcR1LHUcEK"
   },
   "source": [
    "Now let's get the length of each review"
   ]
  },
  {
   "cell_type": "code",
   "execution_count": 34,
   "metadata": {
    "executionInfo": {
     "elapsed": 3211,
     "status": "ok",
     "timestamp": 1627028542308,
     "user": {
      "displayName": "Ignacio Soteras",
      "photoUrl": "",
      "userId": "02050793736257155229"
     },
     "user_tz": -120
    },
    "id": "D8yTxbY-T0no"
   },
   "outputs": [
    {
     "name": "stderr",
     "output_type": "stream",
     "text": [
      "<ipython-input-34-bb594c8a8c24>:1: SettingWithCopyWarning: \n",
      "A value is trying to be set on a copy of a slice from a DataFrame.\n",
      "Try using .loc[row_indexer,col_indexer] = value instead\n",
      "\n",
      "See the caveats in the documentation: https://pandas.pydata.org/pandas-docs/stable/user_guide/indexing.html#returning-a-view-versus-a-copy\n",
      "  data['length'] = list(map(lambda x: len(str(x).split()), data['review_body']))\n"
     ]
    }
   ],
   "source": [
    "data['length'] = list(map(lambda x: len(str(x).split()), data['review_body']))"
   ]
  },
  {
   "cell_type": "code",
   "execution_count": 35,
   "metadata": {
    "colab": {
     "base_uri": "https://localhost:8080/",
     "height": 205
    },
    "executionInfo": {
     "elapsed": 404,
     "status": "ok",
     "timestamp": 1627028547361,
     "user": {
      "displayName": "Ignacio Soteras",
      "photoUrl": "",
      "userId": "02050793736257155229"
     },
     "user_tz": -120
    },
    "id": "FnJvDmyZauyW",
    "outputId": "e6ee1060-bad8-4269-9aa6-6e34c70f783f"
   },
   "outputs": [
    {
     "data": {
      "text/html": [
       "<div>\n",
       "<style scoped>\n",
       "    .dataframe tbody tr th:only-of-type {\n",
       "        vertical-align: middle;\n",
       "    }\n",
       "\n",
       "    .dataframe tbody tr th {\n",
       "        vertical-align: top;\n",
       "    }\n",
       "\n",
       "    .dataframe thead th {\n",
       "        text-align: right;\n",
       "    }\n",
       "</style>\n",
       "<table border=\"1\" class=\"dataframe\">\n",
       "  <thead>\n",
       "    <tr style=\"text-align: right;\">\n",
       "      <th></th>\n",
       "      <th>review_id</th>\n",
       "      <th>review_body</th>\n",
       "      <th>helpful_votes</th>\n",
       "      <th>total_votes</th>\n",
       "      <th>verified_purchase</th>\n",
       "      <th>star_rating</th>\n",
       "      <th>perc</th>\n",
       "      <th>length</th>\n",
       "    </tr>\n",
       "  </thead>\n",
       "  <tbody>\n",
       "    <tr>\n",
       "      <th>3</th>\n",
       "      <td>R17LLAOJ8ITK0S</td>\n",
       "      <td>poor construction as mildew keeps forming in t...</td>\n",
       "      <td>1.0</td>\n",
       "      <td>1.0</td>\n",
       "      <td>Y</td>\n",
       "      <td>3</td>\n",
       "      <td>1.0</td>\n",
       "      <td>26</td>\n",
       "    </tr>\n",
       "    <tr>\n",
       "      <th>5</th>\n",
       "      <td>R3GNM3SU9VHJFT</td>\n",
       "      <td>Nice bag. Should have another strap on bottom ...</td>\n",
       "      <td>1.0</td>\n",
       "      <td>1.0</td>\n",
       "      <td>Y</td>\n",
       "      <td>4</td>\n",
       "      <td>1.0</td>\n",
       "      <td>60</td>\n",
       "    </tr>\n",
       "    <tr>\n",
       "      <th>7</th>\n",
       "      <td>R2LFGSI6HAYH5F</td>\n",
       "      <td>Went on vacation in Lyme Disease country, kids...</td>\n",
       "      <td>1.0</td>\n",
       "      <td>1.0</td>\n",
       "      <td>Y</td>\n",
       "      <td>5</td>\n",
       "      <td>1.0</td>\n",
       "      <td>24</td>\n",
       "    </tr>\n",
       "    <tr>\n",
       "      <th>8</th>\n",
       "      <td>R297G6ED1IQO7W</td>\n",
       "      <td>Great item. Gets better after burn in. Used th...</td>\n",
       "      <td>1.0</td>\n",
       "      <td>1.0</td>\n",
       "      <td>Y</td>\n",
       "      <td>5</td>\n",
       "      <td>1.0</td>\n",
       "      <td>47</td>\n",
       "    </tr>\n",
       "    <tr>\n",
       "      <th>21</th>\n",
       "      <td>R2XYF9PCISPHE8</td>\n",
       "      <td>If 1/2&amp;#34; is self inflating this is you're p...</td>\n",
       "      <td>1.0</td>\n",
       "      <td>1.0</td>\n",
       "      <td>Y</td>\n",
       "      <td>1</td>\n",
       "      <td>1.0</td>\n",
       "      <td>18</td>\n",
       "    </tr>\n",
       "  </tbody>\n",
       "</table>\n",
       "</div>"
      ],
      "text/plain": [
       "         review_id                                        review_body  \\\n",
       "3   R17LLAOJ8ITK0S  poor construction as mildew keeps forming in t...   \n",
       "5   R3GNM3SU9VHJFT  Nice bag. Should have another strap on bottom ...   \n",
       "7   R2LFGSI6HAYH5F  Went on vacation in Lyme Disease country, kids...   \n",
       "8   R297G6ED1IQO7W  Great item. Gets better after burn in. Used th...   \n",
       "21  R2XYF9PCISPHE8  If 1/2&#34; is self inflating this is you're p...   \n",
       "\n",
       "    helpful_votes  total_votes verified_purchase star_rating  perc  length  \n",
       "3             1.0          1.0                 Y           3   1.0      26  \n",
       "5             1.0          1.0                 Y           4   1.0      60  \n",
       "7             1.0          1.0                 Y           5   1.0      24  \n",
       "8             1.0          1.0                 Y           5   1.0      47  \n",
       "21            1.0          1.0                 Y           1   1.0      18  "
      ]
     },
     "execution_count": 35,
     "metadata": {},
     "output_type": "execute_result"
    }
   ],
   "source": [
    "data.head()"
   ]
  },
  {
   "cell_type": "code",
   "execution_count": 36,
   "metadata": {
    "colab": {
     "base_uri": "https://localhost:8080/",
     "height": 386
    },
    "executionInfo": {
     "elapsed": 9863,
     "status": "ok",
     "timestamp": 1627028578546,
     "user": {
      "displayName": "Ignacio Soteras",
      "photoUrl": "",
      "userId": "02050793736257155229"
     },
     "user_tz": -120
    },
    "id": "5n_93Fg9a0hL",
    "outputId": "6ba568d8-c510-4881-ba23-bcaceff92335"
   },
   "outputs": [
    {
     "data": {
      "text/plain": [
       "<seaborn.axisgrid.FacetGrid at 0x7fa047905c10>"
      ]
     },
     "execution_count": 36,
     "metadata": {},
     "output_type": "execute_result"
    },
    {
     "data": {
      "image/png": "[encoded data removed]",
      "text/plain": [
       "<Figure size 360x360 with 1 Axes>"
      ]
     },
     "metadata": {
      "needs_background": "light"
     },
     "output_type": "display_data"
    }
   ],
   "source": [
    "sns.displot(data['length'])"
   ]
  },
  {
   "cell_type": "code",
   "execution_count": 37,
   "metadata": {
    "colab": {
     "base_uri": "https://localhost:8080/"
    },
    "executionInfo": {
     "elapsed": 362,
     "status": "ok",
     "timestamp": 1627028587551,
     "user": {
      "displayName": "Ignacio Soteras",
      "photoUrl": "",
      "userId": "02050793736257155229"
     },
     "user_tz": -120
    },
    "id": "RU7kOGcwbAJR",
    "outputId": "cbba1773-0130-437d-98ad-48dd4125dbc9"
   },
   "outputs": [
    {
     "data": {
      "text/plain": [
       "count    515835.000000\n",
       "mean         82.684686\n",
       "std         108.880173\n",
       "min           1.000000\n",
       "25%          27.000000\n",
       "50%          51.000000\n",
       "75%          98.000000\n",
       "max        6823.000000\n",
       "Name: length, dtype: float64"
      ]
     },
     "execution_count": 37,
     "metadata": {},
     "output_type": "execute_result"
    }
   ],
   "source": [
    "data['length'].describe()"
   ]
  },
  {
   "cell_type": "code",
   "execution_count": 38,
   "metadata": {
    "colab": {
     "base_uri": "https://localhost:8080/"
    },
    "executionInfo": {
     "elapsed": 376,
     "status": "ok",
     "timestamp": 1627028632871,
     "user": {
      "displayName": "Ignacio Soteras",
      "photoUrl": "",
      "userId": "02050793736257155229"
     },
     "user_tz": -120
    },
    "id": "9W6Fntkjbk12",
    "outputId": "cbb570fb-24ad-4dac-938c-87b56e1ca929"
   },
   "outputs": [
    {
     "data": {
      "text/plain": [
       "51.0"
      ]
     },
     "execution_count": 38,
     "metadata": {},
     "output_type": "execute_result"
    }
   ],
   "source": [
    "m = data['length'].median()\n",
    "m"
   ]
  },
  {
   "cell_type": "markdown",
   "metadata": {
    "id": "eO6slCoCbRx2"
   },
   "source": [
    "Intuitivelly, we can consider short reviews as totally useless because they are not properly justified and they can misslead the model.\n",
    "\n",
    "According to the median length, a reasonable guess will be to filter out reviews for which the length is smaller than the median."
   ]
  },
  {
   "cell_type": "code",
   "execution_count": 39,
   "metadata": {
    "colab": {
     "base_uri": "https://localhost:8080/"
    },
    "executionInfo": {
     "elapsed": 358,
     "status": "ok",
     "timestamp": 1627028651635,
     "user": {
      "displayName": "Ignacio Soteras",
      "photoUrl": "",
      "userId": "02050793736257155229"
     },
     "user_tz": -120
    },
    "id": "hsM6X086b-Bh",
    "outputId": "5003f951-08ce-4890-d495-f4ef8867c48e"
   },
   "outputs": [
    {
     "data": {
      "text/plain": [
       "(257453, 8)"
      ]
     },
     "execution_count": 39,
     "metadata": {},
     "output_type": "execute_result"
    }
   ],
   "source": [
    "data = data[data['length'] > m]\n",
    "data.shape"
   ]
  },
  {
   "cell_type": "code",
   "execution_count": 40,
   "metadata": {
    "colab": {
     "base_uri": "https://localhost:8080/",
     "height": 205
    },
    "executionInfo": {
     "elapsed": 401,
     "status": "ok",
     "timestamp": 1627028664108,
     "user": {
      "displayName": "Ignacio Soteras",
      "photoUrl": "",
      "userId": "02050793736257155229"
     },
     "user_tz": -120
    },
    "id": "o0k2xC5gcHIP",
    "outputId": "2bffb673-6eda-4a99-bcf5-a79fe107d727"
   },
   "outputs": [
    {
     "data": {
      "text/html": [
       "<div>\n",
       "<style scoped>\n",
       "    .dataframe tbody tr th:only-of-type {\n",
       "        vertical-align: middle;\n",
       "    }\n",
       "\n",
       "    .dataframe tbody tr th {\n",
       "        vertical-align: top;\n",
       "    }\n",
       "\n",
       "    .dataframe thead th {\n",
       "        text-align: right;\n",
       "    }\n",
       "</style>\n",
       "<table border=\"1\" class=\"dataframe\">\n",
       "  <thead>\n",
       "    <tr style=\"text-align: right;\">\n",
       "      <th></th>\n",
       "      <th>review_id</th>\n",
       "      <th>review_body</th>\n",
       "      <th>helpful_votes</th>\n",
       "      <th>total_votes</th>\n",
       "      <th>verified_purchase</th>\n",
       "      <th>star_rating</th>\n",
       "      <th>perc</th>\n",
       "      <th>length</th>\n",
       "    </tr>\n",
       "  </thead>\n",
       "  <tbody>\n",
       "    <tr>\n",
       "      <th>5</th>\n",
       "      <td>R3GNM3SU9VHJFT</td>\n",
       "      <td>Nice bag. Should have another strap on bottom ...</td>\n",
       "      <td>1.0</td>\n",
       "      <td>1.0</td>\n",
       "      <td>Y</td>\n",
       "      <td>4</td>\n",
       "      <td>1.000000</td>\n",
       "      <td>60</td>\n",
       "    </tr>\n",
       "    <tr>\n",
       "      <th>22</th>\n",
       "      <td>RD10YF7LLTGCQ</td>\n",
       "      <td>This is my second time buying this system from...</td>\n",
       "      <td>1.0</td>\n",
       "      <td>1.0</td>\n",
       "      <td>Y</td>\n",
       "      <td>5</td>\n",
       "      <td>1.000000</td>\n",
       "      <td>79</td>\n",
       "    </tr>\n",
       "    <tr>\n",
       "      <th>27</th>\n",
       "      <td>R2FM18IYOYV53R</td>\n",
       "      <td>When I first bought these I was worried about ...</td>\n",
       "      <td>1.0</td>\n",
       "      <td>1.0</td>\n",
       "      <td>Y</td>\n",
       "      <td>4</td>\n",
       "      <td>1.000000</td>\n",
       "      <td>100</td>\n",
       "    </tr>\n",
       "    <tr>\n",
       "      <th>29</th>\n",
       "      <td>REU5E8A34P3R</td>\n",
       "      <td>I returned a pair of Roller Derby skates a bou...</td>\n",
       "      <td>5.0</td>\n",
       "      <td>5.0</td>\n",
       "      <td>Y</td>\n",
       "      <td>5</td>\n",
       "      <td>1.000000</td>\n",
       "      <td>301</td>\n",
       "    </tr>\n",
       "    <tr>\n",
       "      <th>65</th>\n",
       "      <td>R2FP3U4NHNFNL2</td>\n",
       "      <td>This item is awesome. It holds temp very well ...</td>\n",
       "      <td>25.0</td>\n",
       "      <td>29.0</td>\n",
       "      <td>Y</td>\n",
       "      <td>5</td>\n",
       "      <td>0.862069</td>\n",
       "      <td>284</td>\n",
       "    </tr>\n",
       "  </tbody>\n",
       "</table>\n",
       "</div>"
      ],
      "text/plain": [
       "         review_id                                        review_body  \\\n",
       "5   R3GNM3SU9VHJFT  Nice bag. Should have another strap on bottom ...   \n",
       "22   RD10YF7LLTGCQ  This is my second time buying this system from...   \n",
       "27  R2FM18IYOYV53R  When I first bought these I was worried about ...   \n",
       "29    REU5E8A34P3R  I returned a pair of Roller Derby skates a bou...   \n",
       "65  R2FP3U4NHNFNL2  This item is awesome. It holds temp very well ...   \n",
       "\n",
       "    helpful_votes  total_votes verified_purchase star_rating      perc  length  \n",
       "5             1.0          1.0                 Y           4  1.000000      60  \n",
       "22            1.0          1.0                 Y           5  1.000000      79  \n",
       "27            1.0          1.0                 Y           4  1.000000     100  \n",
       "29            5.0          5.0                 Y           5  1.000000     301  \n",
       "65           25.0         29.0                 Y           5  0.862069     284  "
      ]
     },
     "execution_count": 40,
     "metadata": {},
     "output_type": "execute_result"
    }
   ],
   "source": [
    "data.head()"
   ]
  },
  {
   "cell_type": "markdown",
   "metadata": {
    "id": "-AXRu_BiOceO"
   },
   "source": [
    "### Merging reviews"
   ]
  },
  {
   "cell_type": "markdown",
   "metadata": {
    "id": "KniBM6V6Okkk"
   },
   "source": [
    "Let's create first our \"corpus\" or database of \"possible words\" in the reviews. This is an specific set of common words in the reviews of this type of products."
   ]
  },
  {
   "cell_type": "code",
   "execution_count": 41,
   "metadata": {
    "executionInfo": {
     "elapsed": 77066,
     "status": "ok",
     "timestamp": 1627028801103,
     "user": {
      "displayName": "Ignacio Soteras",
      "photoUrl": "",
      "userId": "02050793736257155229"
     },
     "user_tz": -120
    },
    "id": "OUPnEnfZOfuG"
   },
   "outputs": [],
   "source": [
    "reviews = ''\n",
    "\n",
    "for review in data['review_body']:\n",
    "    reviews += review\n",
    "\n",
    "corpus = nltk.sent_tokenize(reviews)"
   ]
  },
  {
   "cell_type": "code",
   "execution_count": 34,
   "metadata": {
    "colab": {
     "base_uri": "https://localhost:8080/"
    },
    "executionInfo": {
     "elapsed": 688,
     "status": "ok",
     "timestamp": 1627028809924,
     "user": {
      "displayName": "Ignacio Soteras",
      "photoUrl": "",
      "userId": "02050793736257155229"
     },
     "user_tz": -120
    },
    "id": "po7_7R40zPmm",
    "outputId": "e0dbbce5-a552-4b79-b231-4764bc3218b6"
   },
   "outputs": [
    {
     "data": {
      "text/plain": [
       "['Nice bag.',\n",
       " 'Should have another strap on bottom or something to hold it securely.',\n",
       " \"Also, it doesn't say that is is waterproof, but I would like to verify for anyone who is wondering, it is NOT waterproof.\",\n",
       " 'it rained for about 10 minutes on a ride I was on, and the entire bag was saturated and everything in it soaked.This is my second time buying this system from RAD Cycle.',\n",
       " 'It works very well, the price is reasonable, and opens up my garage floor.',\n",
       " \"The only thing to be aware of is that the installation is not very hard, but will most likely require attaching it to a board, before it's attached to the ceiling.\",\n",
       " \"There is another option out there that comes with it's own board integrated in, which would make the installation just a little faster.When I first bought these I was worried about the 1 star rating a saying that the pedals started creaking when relatively new.\",\n",
       " 'I bought them anyway and am glad that I did.',\n",
       " 'After about 100 of road use one of the pedals did start to creak.',\n",
       " 'All I had to do to fix it we take the axles out and make sure that the bearings were adjusted properly and repacked them with grease.',\n",
       " 'I love these pedals.',\n",
       " \"The only reason I didn't give them 5 stars was that I had to fiddle with them when they were basically new.I returned a pair of Roller Derby skates a bought a couple weeks ago and replaced them with these.\",\n",
       " 'I reviewed those also.',\n",
       " 'Save yourself money and hassle and buy these instead.<br /><br />These are amazingly great blades!',\n",
       " \"I feel like I should have paid more for them since they are so comfortable, smooth on the ground, and they don't have the crappy BOA lacing system that plagues many other K2 skates.\",\n",
       " 'I guess time will tell how long these laces will hold up, but they are great so far.',\n",
       " 'The laces simply draw tight by pulling them up through the tongue.',\n",
       " 'They stay tight while skating.<br /><br />I was wanting to get a skate with 90+mm wheels (like my old K2s with the cruddy BOA lacing system) because the terrain I skate on is rocky and sandy.',\n",
       " 'I was pleasantly surprised and how when these glide over imperfect surfaces and resist rocks and debris.',\n",
       " 'I think that great shape of the skate and how well they fit your feet deserves the credit for the smooth operation.<br /><br />Ergonomically, these are far superior to the Roller Derby skates I returned and I think they are even better than my last 2 pairs of K2 skates simply because once the laces are tight, they are completely out of the way.',\n",
       " 'The toe box is well padded and a great shape for my average width feet.',\n",
       " 'The foot strap is effective and comfortable.',\n",
       " 'The ankle strap is also effective and comfortable.',\n",
       " \"When these are on your feet and laced up, you don't feel like you have a clunky contraction on your feet.\",\n",
       " 'These feel like an extension of your foot.',\n",
       " 'You feel like a superhero with speed skate ability.<br /><br />I probably have 50-60 miles on them.<br /><br />Cheap at twice the price!This item is awesome.',\n",
       " 'It holds temp very well if you plan on traveling with it for a long period of time.<br /><br />Overall;<br />Design is awesome.<br />Handle is tight around the body (if you have big hands/knuckles touch/rub body while holding) Not a problem though.<br />Keeps temperature very very good.<br />Quick rinse and easy to put a sink brush to do minor scrubbing.<br />Wide spout for easy fill/pour<br />Able to unlock lid and pour with one hand.',\n",
       " '(May takes a couple attempts to get this technique down)<br />Lid locks very good/tight<br />Durable build<br />Government label is on the bottom.',\n",
       " '(See local growler fill rules/state laws)<br />NO COMPLAINTS ABOUT THIS GROWLER!!',\n",
       " '!<br /><br />Quick test Note: May not be 100% accurate but just to give anyone reading an idea.<br />I poured (5) 12oz beers and left growler out for a few hours at room temp not exposed to direct sunlight while I drank from it.',\n",
       " 'Drink stayed as cold as when I first poured.',\n",
       " 'I did leave some of the left over beer overnight to see how it held up in the growler and the only downside was that next morning I noticed the beer did start to go flat.',\n",
       " 'I understand this would happen and I just wanted to see how it would hold up.',\n",
       " 'Noting surprising but I personally would recommend no longer then 24 hours in a pinch but most probably drink five beers in that time anyways.',\n",
       " 'After that beer starts to go flat.',\n",
       " 'Recommended average time for a growler is max 36 hours.<br />This growler is highly recommend as it is easy to hold when filled, easy to pour, not designed to drink directly from the spout but you can.Purchased this bike for my two year old son, who at the time of receiving the bike was approximately 32 inches tall.',\n",
       " 'The bike fit him perfectly with the seat post most of the way down, giving lots of room for growth.',\n",
       " 'We gave him this bike in March and I am not writing this review in August, so this review is with 5-6 months of experience with using the bike.<br /><br />The bike arrived in a relatively small box and assembly was done in 5-10 minutes.',\n",
       " 'Attached the handlebars and seat post, tighten with a provided allen wrench and done.',\n",
       " 'The bike is made of solid metal (steel maybe?',\n",
       " '), is very sturdy but not too heavy for even my toddler.',\n",
       " 'He is able to pick it up and maneuver it himself.',\n",
       " 'We have left the bike outside accidentally and the paint and bike is still like new.',\n",
       " 'A very sturdy bike, a great design and the concept of a balance bike was perfect for my son.',\n",
       " 'Once he warmed up to the idea of being on the bike, he walked while standing for the first month or so, has since learned to sit and walk and now if quickly catching onto the idea that he can control how fast he goes!!',\n",
       " 'Last month I raised the seat for the first time and he still has plenty of room to grow with this bike.',\n",
       " 'We will use this bike until he is ready to transition into a bike with pedals and no training wheels.',\n",
       " \"He'll be ready thanks to Strider!Troubleshooting tips below:  So I've been using the MetroFlash all summer, and I think a 3-star rating is totally appropriate.\",\n",
       " \"As a stand alone light, the MF is very bright, and it's different lighting modes are great, especially in terms of saving the battery.\",\n",
       " \"My biggest complaint with the light, though, is that the battery compartment isn't very tight.\",\n",
       " \"When I'm riding over bumpy terrain, the light flickers and dims and almost always turns off.\",\n",
       " 'This, as you can imagine, is really troublesome for a bike light.',\n",
       " 'Last week I was riding over some bumpy terrain, the light went out and I could no longer see the road in front of me and hit a giant pothole that gave me an instant pinch flat and blew out the sidewall of my tire.',\n",
       " \"I've had much cheaper lights that, while not as bright, manage to stay on 100% of the time.\",\n",
       " \"Beyond that, when I'm riding over said bumpy terrain, I can hear the battery rattling around inside the battery compartment which is incredibly annoying.\",\n",
       " \"Anyway, I'm not entirely sure I'd recommend this light for bicycling because it doesn't stay on consistently when you need it most.\",\n",
       " 'Troubleshooting:  People have complained about the light turning off during their rides.',\n",
       " 'I had this problem too.',\n",
       " 'As far as I can tell it has something to do with the battery getting compressed over timing and literally, physically shrinking.',\n",
       " 'I stuck a folded up piece of aluminum foil in between the battery and the spring and it worked well.',\n",
       " 'The other complaint is that it automatically starts going into a &#34;pulse&#34; mode.',\n",
       " 'This is because the battery is low and needs to be charged.',\n",
       " \"The charged doesn't last terribly long so I'd recommend charging it every day or other day.worked great, love not having to carry fuel canisters.\",\n",
       " 'Tested it at home, boiled a cup of water in under 4min.',\n",
       " \"It did take considerably longer to boil water while backpacking (5500'+ elevation) mostly the problem was the breeze though since in the morning (no breeze)it heated up water quite quickly.\",\n",
       " \"My 24oz stanley cup barely fit with the pot holder flipped in so I've made a small bracket to hold it.\",\n",
       " \"I've also made a windshield from a lightweight aluminum baking sheet so we'll see if that helps.\",\n",
       " 'Overall though very happy with this.This case is perfect for camping.',\n",
       " 'It easily holds my Note 3 and my girlfriends iPhone 5s (both with slim cases on).',\n",
       " \"The light function awesome and even on low I was able to see easily at our campsite.<br />I was able to test the water tight seal and it held up perfectly well.<br />The only things that I wish were different is the material it is made from (it is durable hard plastic, but I prefer the rubbery soft plastic like some of their other cases) and that the case doesn't float the best when loaded.<br /><br />Highly recommend this case to anyone, very versatile!This is by far one of the best products I have ever had.\",\n",
       " 'I would say that I use this beach tent in our yard on a daily basis for afternoon fun in the sun.',\n",
       " 'Yesterday we had some serious winds and it did bend a bit, but that is because I forgot to tie the cords at the top.',\n",
       " 'It was a tad difficult to get open in the wind, but with patience and some sly maneuvers I had it up and locked in in just a few more minutes than usual.',\n",
       " 'It is important to always use the stakes or sandbags to keep the tent from blowing over.',\n",
       " 'All in all I really like this product, and I love their customer service people just as much.',\n",
       " 'Great product!This wound up working fairly well for us.',\n",
       " 'It really does require someone to get inside to assemble it, but we got it put together in about 90 minutes.',\n",
       " 'At 11 cubic feet, it really provides a lot of extra storage space.',\n",
       " \"We we not able to get it to line up 100%, so it did not seal 100%, and we wrapped straps around it to ensure it didn't pop open.\",\n",
       " 'But, it was a life saver on our 2500 mile trip this summer.',\n",
       " 'I would recommend it to others.After reading hundred of reviews, we decided this was the tent for our young family.',\n",
       " 'We live in the western Washington and needed a tent that would keep us dry, and specifically chose this one because of the &#34;guarantee&#34; that we would remain dry.',\n",
       " 'We went camping at family friendly campsite at Mt.',\n",
       " 'Rainier.',\n",
       " \"The temp was in the upper 50's, and it didn't rain the first night, but the tent walls were soaking wet on the inside the next morning because of the dew and general moisture in the air.\",\n",
       " 'Everything in the tent was damp, our sleeping bags, our back-backs, our shoes... everything.',\n",
       " 'My kids (4 and 7yo) were troopers.',\n",
       " 'Then the rain came.',\n",
       " 'We are from the northwest and camping in the rain is just part of the game.',\n",
       " 'Our tent was worthless.',\n",
       " 'It was raining inside the tent, the walls were saturated, and there was a puddle.',\n",
       " \"I don't think a rainfly would have prevented the situation.\",\n",
       " \"It's not worthy of a 3-season rating.\",\n",
       " \"I will be returning this tomorrow, and buying another tent.I've ridden (short-distances) in normal shoes on my clipless pedals.\",\n",
       " \"It's not hard, but it's also not the most convenient.\",\n",
       " 'This is a convenient solution and easy to use.<br /><br />I switched out my cleats on my shoes, so I had a spare pair to use with these pedals.',\n",
       " 'Then I hopped on the bike and rode to get a beer.',\n",
       " \"It can't get  much easier than that.<br /><br />To answer the concern about the platforms being heavy and hanging upside down, I don't think it's worse than toe-cages on platform pedals.\",\n",
       " 'With practice, you can easily put your toe on the backside of the platform and flip it up underneath your foot.',\n",
       " 'Then once you put your foot on top, the teeth grip your shoe well and holds steady.',\n",
       " 'After a few stops, flipping the platform quickly came back to me like it was before I switched to clipless.We ordered two of these kayaks, but in addition to these I also have 2 other different models of Intex kayaks.',\n",
       " 'This particular model has two issues.',\n",
       " 'The rudder is removable which is nice for storing it, but the draw back is it comes off easily in the water regardless of how well it is put on.',\n",
       " 'When I contacted the company I was told this was not a common problem, but when I tried to order the replacement part I was told they were sold out and waiting on an additional shipment.',\n",
       " 'This tells me the problem is probably a pretty common problem.',\n",
       " 'The second issue is the seam around the opening of the kayak where the operator sits.',\n",
       " 'It is not tacked down so it is constantly rubbing against you and cutting into any area of your body that comes in contact with it.',\n",
       " 'It can be corrected with a strong glue before inflation, but considering their other models do not have this problem I think it is something that the company could easily correct.',\n",
       " \"Not impressed with the company's customer service at all.\",\n",
       " 'Would rate it a 1.These are some tiny glasses.',\n",
       " \"I mean, I literally couldn't get them on the bridge of my nose, they just floated above it.\",\n",
       " 'I had to get another friend to try them on just in case my face had grown distorted unbeknownst to me.',\n",
       " \"Admittedly, I am a 6'6' guy so this may not be everyone's experience but I don't usually have issues with generic glasses.\",\n",
       " 'All the years I worked landscaping and construction I never had any issues picking up whatever was in the bin.',\n",
       " 'These were just rubbish.',\n",
       " \"Sent them back and looked elsewhereI haven't used the lantern yet, so can't comment on it's quality but mine was delivered without a bail (handle).\",\n",
       " \"So it's pretty much useless for the car camping trip I planned to use it on.\",\n",
       " \"I'm going to rig something up with a coat hangar and spend the $12 to order a new bail (inc. delivery) from Coleman for the next trip.3 stars because it meets expectations.\",\n",
       " 'A couple frustrating discoveries.',\n",
       " 'The second time I installed it, when I went to uninstall it by unscrewing the large red knob, the knob kept turning and turning without loosening the hitch connection until eventually the rod that was attached to the knob unscrewed from the far end connection inside the hitch.',\n",
       " 'I had to rescrew, pray, try again, and it finally came off.',\n",
       " 'Maybe I screwed it in too tightly in the first place.',\n",
       " 'I was also frustrated that the arms are too wide for even a kids 20&#34; bike, and forget the 16&#34;.',\n",
       " 'But otherwise pleased as it seems to work as expected.The Ozzy chain cleaning tool seems to clean the chain pretty well.',\n",
       " 'I used Morgan blue degreaser cut with 20% windex as suggested online.',\n",
       " 'There are no included instructions for the Ozzy tool so you have to rely on the you tube videos to see how to set up and use the tool.',\n",
       " \"It wasn't clear to me from the video how to get the handle snapped in, but got a helpful reply to my email query right away.<br /><br />A few safety tips to avoid making a mess though.\",\n",
       " '(which I did).<br /><br />1.',\n",
       " \"don't use very much degreaser in the tool.\",\n",
       " \"Also best if you fill the tool right next to where you're working otherwise tipping the tool even slightly can leak degreaser all over.\",\n",
       " \"The tool doesn't have a fill line or a suggested amount of degreaser to put in... (suggestion for Ozzy, pls indicate how much degreaser to put in- either in measurement, e.g in Tbs, or add/tape-on a fill line) I poured in enough to cover the bottom horizontal brush and that is too much.<br /><br />2.\",\n",
       " \"when you insert the chain into the tool, make sure the chain and the device stay horizontal otherwise you'll have more degreaser leaking out the front or back opening of the tool.<br /><br />3.\",\n",
       " \"the video did not have the bike mounted on a stand, so I didn't either (this is a mistake if you have a counter or stand, suggest you use it)<br />otherwise, while turning the chain backwards, the chain can pop off the sprocket and upset the tool, and *again* spill degreaser everywhere while you hold up the bike, the tool and try and pop the chain back on the sprocket.<br /><br />4.\",\n",
       " \"note, if you have the bike upside down the spillage (as mentioned as a possibility in a previous review) will spill degreaser and gunk on<br />your seat.<br /><br />I haven't used another tool so I can't say whether it's more effective than other brands, or than with degreaser only.\",\n",
       " 'Besides the mess (hopefully you (and I) can avoid this) The ozzy tool plus Morgan Blue seems to do a good job cleaning the chain.',\n",
       " 'the free brushes are nice as well toclean sprockets, etc.I had my tube man running for about two weeks and then noticed him deflated.',\n",
       " 'When I checked what was the problem I found the fan blade in a dozen pieces.',\n",
       " 'The  fan blade is protected by a cage so why it would explode during normal operation is beyond me.',\n",
       " 'I am giving 3 stars because it was awesome while it worked and Amazon is sending a replacement right away.',\n",
       " \"I'll update this review when I try out the replacement for a while.This tent is fantastic!\",\n",
       " 'It goes up quick and easy and does its job well!',\n",
       " 'We have recommended it to several people and would buy it again in the event we needed another tent.',\n",
       " 'Something to keep in mind when purchasing is that this tent is NOT water proof and will leak through the seams if out in the rain (we do plan on spraying with a sealer/waterproofer to hopefully fix this problem)This is such a great product to use when transferring gas from your cans to your vehicles.',\n",
       " 'It empties my 5 gallon jerry can in about 2 minutes.',\n",
       " 'Just set the Jerry can higher than your tank(bed of the truck or a step ladder will do), give the hose a few shakes, and watch it flow.',\n",
       " 'I tilted my can ever so slightly to get the gas to pool near the hose.',\n",
       " 'It only left a few ounces in the can when I did this.',\n",
       " 'You really have to be a simpleton to mess this up.',\n",
       " \"I'll be ordering another pack just to have a few backups.I use this mainly for running and occasional hiking.\",\n",
       " 'Long bill on the hat is great.',\n",
       " 'No button to keep the side flaps together in front.',\n",
       " 'I bought this to replace another sun hat I bought a year ago and lost with upf 50+ and permethrin.',\n",
       " \"I can't find that hat anymore.\",\n",
       " \"This doesn't have permethrin.\",\n",
       " 'Also wish it had a drawstring sinch at the back of the head to adjust tightness, instead of the typical belt-loop flap.',\n",
       " \"It's light on the head, great for running.This bike rack was a snap to set up.\",\n",
       " 'I own a 2015 Kia Soul and attached it to the trunk.',\n",
       " \"I'll add on here that I decided to install this at night in the dark, and even then it was simple to install and adjust.\",\n",
       " \"The only thing I lacked was the strength to pull the straps completely taut - I enlisted the help of a friend for that.<br /><br />I was concerned that the bike would not stay in place since the straps didn't seem entirely secure, even tight.\",\n",
       " \"However, that wasn't an issue at all.\",\n",
       " \"On one subsequent trip, I forgot to tie the bike down, and remembered right after I hit a pothole - the bike didn't even wiggle.\",\n",
       " \"I've taken my bike on the carrier up to 400 miles in one trip without any issue.<br /><br />A word to those with a ladies' bike, in case you were not aware - it mounts better upside down.\",\n",
       " \"When I can't get to the bike right away, I use my bike lock to secure it to the carrier.\",\n",
       " \"My bike will not fit on the mount in the garage, so a word of warning before you drive in mindlessly.<br /><br />I highly recommend the carrier for the price (I did get it in a deal but it's a good price in any case), ease of installation, and mounting security.This board is beautiful and quality in make.\",\n",
       " 'The wheels could eventually use an upgrade, but it handled great right out of the box.',\n",
       " 'It is smooth, has nice flew, and again, it looks fantastic.',\n",
       " \"For the price, you are getting an amazing deal, considering it rides like a $300 board (the original price on Globe's website is $280).\",\n",
       " \"It's been my first board and I have been able to do so much with it already.\",\n",
       " 'I would recommend this board to most people looking for a first quality board or someone who is trying to upgrade from a mediocre board to an above average board.I bought this product because I live on a rather large hill (approximately 600 ft of climbing in less than a mile) and I thought it would allow me to run errands into town without breaking a sweat on the way home, back up the hill.<br />When the box came I unpacked it and was surprised to find no documentation at all.',\n",
       " 'No packing list.',\n",
       " 'No installation manual.',\n",
       " 'The battery had obviously been wrapped someplace other than the factory and the keys to the battery were hidden under the battery latch.<br />I was able to find the installation manual online, and I found installation to go smoothly.<br />The kit works well and does indeed solve the problem of getting back up the hill.',\n",
       " 'The drive is easy to use, quiet and efficient.These tires are GREAT!',\n",
       " 'The ride is ultra smooth, nice and quiet, and absorb bumps well.',\n",
       " \"Though, the rubber is soft (And because of such, the traction is good on dry pavement [I've yet to try them on wet pavement]} , and therefore wears pretty quickly.<br /><br />The tired mounted with great ease, and have had no flats whatsoever.\",\n",
       " 'Though, I only have about 50-75 miles on them.',\n",
       " 'GET THESE TIRES!',\n",
       " \"They're great!I tried several saddles from $50-$200 and didn't like any.\",\n",
       " 'I saw this ad for I think $20 and thought what the heck, I will try it.',\n",
       " 'I cannot believe this $20 satisfied me!',\n",
       " 'I have already ridden 1,500 miles on it in the past 6 weeks and love it!',\n",
       " 'I even set it side by side with my stock high end saddle and it appeared to be nearly identical in quality without the big $ name brand.This thing is great.',\n",
       " \"I'm 5'10&#34;, so it's hard for me to judge how taller people would fit, but I have plenty of leg room left.\",\n",
       " \"I have a pretty big sleeping bag, it's actually an extra long at 6'6&#34;, and that is a perfect fit in the tent.\",\n",
       " \"Naturally, I am not able to stretch my arms sideways, but that's a given with a one person tent.<br />The tent is lightweight, and small when packed.\",\n",
       " \"The poles are not as long as the ones for my Kelty two person tent, so that's a benefit as well.<br />As of yet, I have nothing bad to say about this tent.\",\n",
       " \"I have a feeling I'll be using it for some time to come.Awesome purchase.\",\n",
       " \"I'm not a big beach person mostly because I hate the sun beating down on me.\",\n",
       " 'My wife on the other hand loves sitting out on the beach for hours.',\n",
       " 'This beach tent has made all of the difference!',\n",
       " 'First it is very light and easy to carry.',\n",
       " 'Placing the strap across my chest when carrying the tent allowed me to free up both hands to carry other items.<br /><br />Once at the beach we were happy to find it was very easy to set up (less than 5 minutes).',\n",
       " \"Note: we did a practice run at home and I would recommend it; while it is very simple to put up and take down, its probably better to not try to read instructions and manipulate the tent at the same time while on the beach.<br /><br />Though we didn't have very windy conditions the combination of the sand spikes and sand bags attached to the tent kept it firmly attached to the beach.\",\n",
       " 'I did not have any worries that a gust of wind would send it airborne.<br /><br />The tent provides great cover while not overly obstructing your view.',\n",
       " 'It gave me enough shade to be comfortable and enough exposure for my wife to enjoy being at the beach.<br /><br />The tent was more than spacious enough for us (2 adults).',\n",
       " 'We have two lounge type chairs which fit comfortably next to each other with the head and torso portions under cover of the tent with the leg portions laying out in the sun.',\n",
       " 'We had plenty of room in the back of the tent to hold other items (flip flops, beach bag, water bottles small cooler etc.)',\n",
       " 'Upright beach chairs will fit but maybe not as comfortably especially for those who are exceedingly tall as you may need to sit further out or closer to the center of the tent to be comfortable.',\n",
       " 'For our needs however this was perfect.<br /><br />Take down is very easy as well (less than 5 minutes).',\n",
       " \"A couple suggestions that worked for me (may or may not work for you)<br /><br />1) instead of pushing down on the designated &#34;push down&#34; bars at the top of the tent, I found pushing down on the lower ring of the locking mechanism to be more efficient to disengage the pieces<br /><br />2) I'm short (5'6&#34;) when disengaging the locking mechanism it &#34;pops&#34; quickly.\",\n",
       " \"So for me standing at the front (open part) of the tent while collapsing it helps to lessen the chance of being stuck by the top part of the locking mechanism when it disengages.<br /><br />3) To fold the tent: hold the largest center piece of the tent upright while it rests on the ground (or blanket or chair to keep it out of the sand if you'd like); one at a time lift the two longest legs off of the ground to meet the center portion you are holding; while keeping all three pieces together lie down the tent then roll them over the rest of the tent to gather the remaining sections and tie it together to hold.<br /><br />Altogether one of the best purchases I have made on amazon.\",\n",
       " 'This tent helped to make our vacation a memorable one!',\n",
       " \"I couldn't be happier with it!I've used half a dozen or so tents in the last year, trying to pick the right one for me.\",\n",
       " 'This is easily the best tent I have ever used.',\n",
       " \"It's lightweight, compact, and easy to setup.\",\n",
       " 'It packs up and fits into the stuff sack without any challenge, which is no easy trick.',\n",
       " 'I usually leave behind the rainfly for summer camping, but I appreciate knowing that I always have the option.',\n",
       " \"While it isn't a downside, as it is clearly a ONE PERSON TENT, it might be helpful to know that as a 5'11' adult male, I can guarantee there's no way to fit two people in here without some serious spooning.I really want to give this tent 5 stars, as all around I think it's a great tent.\",\n",
       " \"I'm sure what happened was a fluke, but the first and only time I set up the tent, I put one stake in the ground, and when I pulled the tent (lightly) to put the next one in, the piece of fabric holding the piece to put the stake in ripped right off the tent!\",\n",
       " 'We were camping so we had to figure out a way to make it work, and we did, but I am very disappointed.',\n",
       " 'I have purchased Coleman tents before and never had problems, and like I said I love this tent otherwise- it has great features and kept us warm.',\n",
       " 'Big enough for a queen size mattress with room to spare.',\n",
       " \"I'm just very surprised at the poor quality of the stitching.Even tho this is for a man I am using because I don't like carrying a purse.\",\n",
       " 'I like the size just right for a billfold, phone, and any other items I might need.',\n",
       " 'I like hiw the strap is long enough not only using as a shoulder strap but cross body as well.',\n",
       " 'The quality seems good so far it works for me.Nothing but positives to say about this helmet.',\n",
       " 'Great quality and feels really good on my head.',\n",
       " 'I have ridden with it twice on some pretty serious trails and the fit of the helmet stayed true and the straps were flawless.',\n",
       " 'The helmet size was also right on with the size guide.',\n",
       " 'Buy the helmet you will not regret it.I love the look of these shorts and they are very durable and very well made.',\n",
       " \"I'm a little big around the middle so my only complaint is they don't fit in the waist as well as I would like for them to.\",\n",
       " 'Despite that, they are still my favorite shorts to ride in.I just got this air shock for my Gravity Fsx 29one few days ago.',\n",
       " 'I set main one to 170 psi Friday night Sat morning is at 140.',\n",
       " 'So i didnt pay attention to it.',\n",
       " 'That morning I loaded it again to 170psi and I took it for a ride, same result.',\n",
       " 'Guys at the trail says &#34; you might have a leak and its not supposed to do that it supposed to hold air.',\n",
       " 'One of them says dip it in water and see.',\n",
       " 'So I did and found the problem.',\n",
       " 'I posted &#34;DNM rear suspension leak&#34; on Youtube for you guys to see.',\n",
       " 'I hope I get an exchange for this Item.<br /><br />9/8/2015 Update: I got the second item for replacement, the guys at the Cycling deal usa have been very patient with me.',\n",
       " 'Thanks for the quick response and replacement.',\n",
       " 'So far no leaks, will find out this weekend how it preforms, im sure itll be great.',\n",
       " 'Will update soonPOS.',\n",
       " \"Spend a little more money on something that you'd depend on in an emergency.\",\n",
       " \"Luckily I was a few walkable miles from home when I got a pinch flat, swapped out the tube and didn't even get to any sort of pressure that would support even the bike, and the bottom popped out.\",\n",
       " 'Based on poking my tire, my best guess is that it got to 40psi ±12.',\n",
       " 'Save yourselves 4 days of waiting (if on prime) for this POS to arrive, finding it defective (hopefuly not leaving you stranded) and ordering a usable one.<br />I know it is supposed to screw on/off but I repeatedly tried that and the plastic/aluminium just gave up.The lights work well and are a great price to boot.',\n",
       " 'The front light seems to illuminate a fairly broad area in front of me, but more importantly, should allow oncoming cars to see me.',\n",
       " 'The rear light shows up well too.',\n",
       " 'On the rear light, make certain not to discard the little white plastic piece which is used to secure the rubber holder.Decent hoisting system, straps would not work with out ten footers they kept sliding off the kayaks.',\n",
       " 'Ended up using the carry handles to hook them to.',\n",
       " 'Instructions would be easier to understand if written in Japaneese.',\n",
       " 'But figured out the rope rigging fairly easy.',\n",
       " 'Took about an hour to install both hoists.I never hit the woods without 2 firesteels; 1 on my person and 1 in my kit.',\n",
       " \"These looked like a nice option for my person - small and unobtrusive, with a compass to boot - but it turns out they're very poorly implemented.\",\n",
       " 'I bought 3 of them and they took 3 weeks to arrive.',\n",
       " \"As I found out, they're shipped directly from China using what must be the slowest possible method.\",\n",
       " 'The first one I opened had a disintegrated ferro rod; pieces of it jutted out like the tines of a fork, and just touching it with your fingers left a pile of dust-like material on the counter.',\n",
       " \"I'm not even certain what would cause a defect like this because I've had ferro rods get soaked before by rain storms and they were no worse for wear after being dried.\",\n",
       " \"The compass hadn't been glued in either, and fell right out, so my first impressions were very bad.\",\n",
       " 'The other two were fine though so I tried to strike some sparks from one of them.',\n",
       " \"&#34;tried&#34; being the operative word because there's barely any to be had.\",\n",
       " 'I could get a few but they were mostly out by the time they hit the tinder bundle, which is essentially useless.',\n",
       " \"Sparks should 'dance' on the ground for a second or two before being extinguished, otherwise there's little chance they will ignite your starter.\",\n",
       " \"The compass is way too small as well; if you don't have perfect vision you probably won't be able to read the dial.\",\n",
       " 'One cool feature is that the ferro rod screws into the body.',\n",
       " 'Far too many other cheap ferro rods use a plastic handle that is glued to the rod itself, and anyone with some woods experience knows that is a common failure point.',\n",
       " \"These aren't going to separate from the body unless you do something really foolish.\",\n",
       " 'That also means you can probably get replacements when you wear out the original.',\n",
       " \"I don't know if the manufacturer would have exchanged the defective unit - or given me a refund for all three - because I never reached out to them.\",\n",
       " \"Cost to ship these back to China would have probably been at least half what I paid for them, so it simply wasn't worth it to me.\",\n",
       " 'I just tossed them in the trash.',\n",
       " \"There is no way I'm staking my ability to get a fire on something this poorly designed.The only reason I did not give this five stars is the fact that it does not weigh the stated 70g.\",\n",
       " 'I weighed it on my own scale that I know to be accurate, and it is 128g.',\n",
       " 'This was a selling point for me, and although the tool has the features I want, I may have made a different decision had I known the actual weight.',\n",
       " \"Other than that, it seems to be a quality tool.For me, the fit of the bibs was good (6'0&#34; 220 lbs xl) but the chamois was too narrow.\",\n",
       " 'I have wide sit bones, so this may not be a problem for others.',\n",
       " 'The &#34;business&#34; part of the chamois missed my sit bones to the inside by about.',\n",
       " '1/2 inch on either side.',\n",
       " '(I need about 6.5 inches in width, this was about 5.5).<br /><br />All that being said, I can see how this would be incredibly comfy (5 star) for someone with the right sit bone width and would totally reccomend it.',\n",
       " \"It just didn't fit me.JanSport backpacks are my favorite brand.\",\n",
       " 'I had a purple JanSport before I got this one that lasted me five years.',\n",
       " 'I got the flourescent pink color option and it was a lot more neon than I anticipated.',\n",
       " \"However, I love bright backpacks so this didn't bother me.<br /><br />It's a fairly sturdy backpack that can hold all my books and laptop without worry of breakage.\",\n",
       " '5/5 recommend!This bell sometimes sticks, so I have to try ringing it a couple of times, usually.',\n",
       " 'Not a big deal, I have just learned to anticipate passing people on the bike path earlier than normal.',\n",
       " \"And for the price, it's just fine.\",\n",
       " \"If it really becomes a bother, I'll just shoot some WD40 inside and see if that helps.\",\n",
       " 'If not, might upgrade to a bike gong.',\n",
       " ':PThis inexpensive heart rate monitor has a lot to offer.',\n",
       " 'I really like the huge digits, which makes it easy to check my heart rate with a glance during a run.',\n",
       " 'The calorie-counting function seems to work pretty well -- gives comparable results to those of my treadmill, at least.',\n",
       " \"The chest strap has flat electrode patches instead of the ribbed design of the other monitor chest straps I've used, which makes it more economical to use an electrode cream/gel (no crevices to swallow the product).\",\n",
       " \"The watch band has an innovative feature -- the keeper has a little rib that grabs hold of one of the slots in the free end of the strap, so unlike my previous monitor watch, there's much less chance that the free end of the strap will come loose and stick out while I'm running.\",\n",
       " \"I'm very happy with my purchase.I went one day last week without wearing the stays, and that really highlighted how much I've come to rely on them.\",\n",
       " \"There's a bit of extra admin, but it certainly beats having to keep shoving your shirt in to your trousers every time you get up from your desk.\",\n",
       " \"It's a great product.\",\n",
       " 'The clips do create a touch of discomfort, so you have to be careful about keeping them quite near the front of the shirt so as not to constantly sit on them.Stove was very easy to start a fire in the first time.',\n",
       " 'I am not as familiar with these types of stoves as some of the reviewers.',\n",
       " 'I was amazed how high the fire goes around the pot.',\n",
       " 'My only problem was you have to continuously feed the fire or it can die very quickly.',\n",
       " \"I'm sure I will need to experiment more to get this just right.\",\n",
       " 'I look forward to using this stove on our next trip.',\n",
       " 'I like that the stove fits inside the pot, easy to carry both.',\n",
       " 'I also fit inside a few fire starters and lighter.',\n",
       " 'Plenty of room for both.Easy to set up and take down although the zipper on the storage bag could definitely be improved.',\n",
       " \"It 's very nice to give everybody their own sleeping quarters on a cot as opposed to sleeping side by side in a tent on the ground.\",\n",
       " \"You can be nice and toasty in these (we camped in low to mid-fifties degrees), but you'll want to leave a window open, otherwise you can build up some moisture overnight.\",\n",
       " 'Appreciated that they collapsed down: They fit easily into my hatchback car.I used to use iodine tabs when I was in &#34;ultralight&#34; mode.',\n",
       " 'I switched to this on a one week backpack this year.',\n",
       " 'Frankly the mix and wait five minutes can be a pain.',\n",
       " 'Especially if you have classic Nalgene water bottles, which are difficult to hold the mix of A & B without spilling.',\n",
       " 'After I use up the product I will go back to iodine.',\n",
       " 'Also, why are the two containers opaque?',\n",
       " 'I have no idea as to how much remains, and cannot plan future use as to how long it will last.OK, I could tell by looking at the picture that the tire lever would ruin any decent rim and the 6mm allen wrench lacked any leverage.',\n",
       " \"What I didn't realize until I received this trinket was that the 5mm and 6mm allen wrenches lack the traditional six equal sides--they are soft 4mm thick slices of their respective selves and completely useless for turning bolts.<br /><br />The tool is awful, but the Amazon Seller provided great service.My daughter loves it because it's stylish and fits lots of fruit.\",\n",
       " \"And mom loves it because it's easy to clean, being it's dishwasher safe.\",\n",
       " \"Although I'm not a fan of drinking out of plastic, but when I saw this bottle is BPA free, it was a no-brainer.\",\n",
       " 'Very happy with the purchase.I bought two of these boxes to put valuables in while snorkeling on a cruise.',\n",
       " 'I figured that being rated for scuba, snorkeling should be great.',\n",
       " 'One of these worked great.',\n",
       " 'The other failed due to a manufacturer defect.',\n",
       " 'There is a flaw in the seal.',\n",
       " \"Now, I should have tested these before I left on my trip, but they weren't delivered until the day before we left (were several days late - Amazon was great to overnight a replacement to me to make sure I had it before I left).\",\n",
       " 'While snorkeling, one performed great, while the other failed, soaking passports, money, and my iphone 6.',\n",
       " 'I ended up having to have the phone replaced &#34;outside warranty&#34; with Apple (water damage not covered in warranty, of course) for $300.',\n",
       " 'I contacted &#34;Scuba Choice&#34;, and they tried to give me a run around, saying that I would have to go through Amazon instead of them.',\n",
       " \"But Amazon can't be held liable for a manufacturer's defect.\",\n",
       " 'Contacted again, and was told that there is no warranty at all for the box.',\n",
       " 'So if you buy this box, let me reiterate that you need to test the box for an extensive amount of time before using with your valuables inside.',\n",
       " \"Amazon gave me a return label for refund or replacement, but that didn't help with my phone replacement.\",\n",
       " 'The money and passports that were soaked dried out fine.',\n",
       " 'My only recourse (that I know of) would be to take the company to small claims court, but that would probably cost more in time and money than I would receive.',\n",
       " \"I will try to upload a picture later of the defect in the seal.For the price it's a great tent.\",\n",
       " \"Just make sure you realize you have to have it staked to have it set up, but if you're actually camping then that's not an issue.\",\n",
       " 'I went backpacking for multiple nights with it and even in a heavy rain storm, it did decently well for being a 3 season tent.',\n",
       " 'I like it and I always keep my pack in my tent with me so its a decent size for one person.I bought two of these (one orange and one green) for a 4 day backpacking / mt climbing trip based on the reviews and the light weight.',\n",
       " 'The orange one exceeded my expectations.',\n",
       " 'The green one would fall off the band but the orange one had a thicker band and was really solid.',\n",
       " 'I was contacted by the company and mentioned this, they are sending a thick green band at no charge.<br /><br />About the light: It is certainly bright enough to hike at night, it is very light, the batteries last a long time.',\n",
       " 'Low setting is good for around the camp or reading, and the red is very good for using in the tent.',\n",
       " 'It was dropped a few times with no problems, I wore it in driving rain and still no problems.',\n",
       " \"I've used military streamlights and this light is preferred as it is more of a flood.\",\n",
       " 'The red flashing is not needed for camping but I can see it would be useful for walking at night around traffic.',\n",
       " \"Durability seems really good also, with thick plastic that doesn't feel cheap at all.<br /><br />About the customer service: I received a follow up mail checking that I received them, I responded with the band issue and immediately was offered a replacement.\",\n",
       " \"I don't think these guys realize that they have great brand value because the customer service is so exceptional in today's throw away economy.\",\n",
       " 'I would buy from them again, they are standing behind their product.High quality basket.',\n",
       " 'Looks nice.',\n",
       " 'Mounts easy.',\n",
       " 'Would give it 5 stars, but there are a couple of things.',\n",
       " \"First,  I think it's a bit wide.\",\n",
       " \"Without being more narrow so it doesn't stick out the sides so much, it's a bit like an expensive milk crate.\",\n",
       " \"But I suppose that's more handy for folks using it for groceries, etc.\",\n",
       " \"So that's a personal preference.\",\n",
       " 'The other thing is that the bottom (inside) the basket is just unfinished, slippery plastic.',\n",
       " 'It should have a weatherproof coating to keep things from shifting around as much.',\n",
       " 'Rubberized?',\n",
       " 'Texturized somehow?',\n",
       " \"For the price and otherwise quality of this basket, it's an obvious omission.\",\n",
       " \"TIP: At Lowe's (or similar stores) you can buy a roll of rubber mesh that's made for the bottom of tool drawers.\",\n",
       " \"It's the perfect width for the inside of this basket.\",\n",
       " 'Just cut to fit.',\n",
       " \"It's grippy rubber with holes, so it won't hold rainwater.\",\n",
       " 'It was the perfect solution.',\n",
       " 'A whole roll of that costs $5-10$ retail.',\n",
       " \"It would've cost Thule 2 cents to include a square of that material for the bottom and would've made it much better right out of the box.It is almost impossible to find an inexpensive collapsible trekking pole for shorter people, so I decided to give this one a try.\",\n",
       " 'I have been using wood walking sticks for tours around the neighborhood and shopping, but wanted something collapsible that I could stick in my purse and out of the way when I didn’t need to use it.',\n",
       " '(I’ve lost several wood walking sticks because I put them down to free my hands while shopping or eating, then forgot to retrieve them.',\n",
       " ')<br /><br />The EarthTrekGear Collapsible Adjustable pole is sturdy, easy to open and fold, and comes with a nice ripstop drawstring bag and a clear vinyl snap-top bag, either of which can be used for pole protection when carried or stored.',\n",
       " 'Although the description says the pole folds to 12”, the user instructions tell you how to reduce the length another inch, so it can really be folded to 11”.<br /><br />See additional pictures not included for this listing with the description of the longer pole listing.',\n",
       " 'The pole length is easily adjusted with a pushbutton.',\n",
       " 'However, I’ve found on other devices with this type of length adjustment that the button breaks easily and can be accidentally pushed so the length adjusts unintentionally and is not reliable for holding a lot of weight.',\n",
       " 'I wish I had noticed the pictures on the other listing before buying.<br /><br />The grip is rubber so gets sweaty.',\n",
       " 'The grip is also smaller, shorter, and less comfortable to hold than my other trekking poles.',\n",
       " 'I don’t know if the small grip size is standard for this brand pole or if they assumed that shorter people have smaller hands.',\n",
       " 'I don’t.',\n",
       " 'The wrist strap is too short to use – an extremely silly and unsatisfactory design/cost-cutting decision.',\n",
       " 'Also, this pole is heavy at 12 oz., almost 50 percent heavier than other aluminum poles – a significant weight if you intend to use or carry it for long periods of time.<br /><br />In summary, I love the short collapsed size and ease of use.',\n",
       " 'I will keep it in the car for short excursions, but continue looking for a lighter pole with a better fit for my longer treks and travel.<br /><br />Update – 10/31/2016<br />I ordered another one of these as a gift for a friend who liked my pole.',\n",
       " 'They have changed the style slightly.',\n",
       " 'The older pole I originally reviewed has an interesting rippled texture which I like (and you may still be able to see in the graphic of the folded pole); the newer version of the pole is smooth, as pictured in the graphic of the assembled pole.',\n",
       " 'Although not as aesthetically interesting as the older pole, the newer version weighs only 10.5 oz.',\n",
       " '– a much more acceptable weight to carry.',\n",
       " 'They have also increased the wrist strap to a useable length – yea!',\n",
       " 'The grip is still sweaty, heavy rubber and too short for comfort on long walks, but add 1/2  star to my original review – someone is actually listening!ontinue looking for a lighter pole with a better fit for my longer treks and travel.<br /><br />Update – 10/31/2016<br />I ordered another one of these as a gift for a friend who liked my pole.',\n",
       " 'They have changed the style slightly.',\n",
       " 'The older pole I originally reviewed has an interesting rippled texture which I like (and you may still be able to see in the graphic of the folded pole); the newer version of the pole is smooth, as pictured in the graphic of the assembled pole.',\n",
       " 'Although not as aesthetically interesting as the older pole, the newer version weighs only 10.5 oz.',\n",
       " '– a much more acceptable weight to carry.',\n",
       " 'They have also increased the wrist strap to a useable length – yea!',\n",
       " 'The grip is still sweaty, heavy rubber and too short for comfort on long walks, but add 1/2  star to my original review – someone is actually listening!Nice air mattress.',\n",
       " 'This is the first large house type air mattress i have purchased, although I have used camping type air mattresses over the years.',\n",
       " 'I use it almost daily over the last month due to an injury that prevents me from sleeping in my regular bed.',\n",
       " 'So far it has been very comfortable, and functions as described.',\n",
       " 'The never flat pump works at least as well as expected.',\n",
       " 'I do not hear it at night in a quiet house while sleeping on it.',\n",
       " 'You can hear it self inflating if standing on that side of the bed, but it is much quieter than both the hum of our refrigerator and the air whistle coming out of the central air vents.',\n",
       " 'While sleeping on the bed, i have never heard the pump start but it always stays inflated.',\n",
       " 'if you have any experience with having to inflate your other air mattress every morning after use, you will truly appreciate this self-inflating feature.<br /><br />I purchased the headboard mattress, and although initially skeptical, i have to say it was worth it.',\n",
       " 'it is a nice cushion to keep your pillows from falling off the bed, and not to mention it is a buffer against the wall if you flail your arms in that direction.',\n",
       " 'the headboard is covered in the softer material like the rest of the top, so is comfortable to the touch.',\n",
       " 'It fits queen size sheets exactly, but if you have a deep fitted sheet, it will not reach the bottom of the air mattress where the headboard is attached.',\n",
       " \"This hasn't caused and issue, since the sheet seems to stay in place regardless.<br /><br />The innards seem rigid and there is not much movement overall, even when sharing the bed with another person.\",\n",
       " 'Caution, the warning instructions say not to pound or bounce on the bed.',\n",
       " \"I've no idea what would happen if you pound or bounce the bed, but it may sounds dangerous.<br /><br />Overall this bed has been fantastic so far, and is the best one I have purchased to date.\",\n",
       " 'It seems very sturdy, and i hope it lasts awhile.',\n",
       " 'I would purchase again if the need arises.This is a nice little pot for boiling water.',\n",
       " 'It holds almost a quart which surprised me since it looks smaller.',\n",
       " 'I have yet to take it on a hike but I expect it will work well as it is light and strong.<br /><br />The major flaw in the design is that it wont hold the little fuel canister because the hole for the lid is too small.',\n",
       " 'My hope had  been that I could put the little etekcity stove and a fuel canister in there.',\n",
       " 'If OuterEQ had opened up the lid just an 1/4&#34; more it would have taken the fuel canister and probably the stove.',\n",
       " 'Oh well.',\n",
       " \"I'm otherwise happy with it and I'll stuff something else in there.This bike is a great buy.\",\n",
       " 'The seat is super comfortable the handlebars are comfortable.',\n",
       " 'The fenders and the bike rack that come with it are a big plus.',\n",
       " 'However just so you serious riders know the bike is very heavy.',\n",
       " 'However that does not bother me I use it to go on 15 to 20 mile bike rides and its not a problem.',\n",
       " 'I also use it as a commuter bike throughout the city and it is perfect.',\n",
       " 'I am 5 ft 6 inches and the height is perfect for me.',\n",
       " 'It comes mostly put together and took less than an hour to complete.Just got this one in.......I wanted to see what all the hype was about the Rough Rider brand of knives.....plus I really like slip joint knives.',\n",
       " 'I must say that the knife is really well build considering the price that was paid for it......the blades were sharp.....walk and talk was silent and firm....there were no cracks in scales...brass pins were flush with scales......personally I think if another brand label was placed on this knife....it could definitely sell for more.',\n",
       " 'The reason for the 3 star rating is because of the nail nick placement on the main blade.',\n",
       " 'The location of the nail nick makes difficult to open the knife, while there is no problem opening the pin blade.',\n",
       " 'I think the ability to open all blades without difficulty is important to all knives.',\n",
       " 'Aesthetically, I have no complaints about the knife.',\n",
       " \"For those that don't want to spend a lot of money for a knife for whatever reason, Rough Rider knives seem to be the best option.\",\n",
       " 'I will keep this knife and add it to my EDC rotation.',\n",
       " 'This knife is made in China and I have no problems with that.We bought this rack for a camping trip.',\n",
       " 'We tried  the rack with with 4 bikes and it kept on sliding off and banging on our car until it dented it.',\n",
       " 'We returned to our home and removed one bike and tried it again.',\n",
       " 'Same problem except this time the straps snapped when drove over some train tracks.',\n",
       " 'Our bikes got dragged behind our car until we could safely clear the train tracks.',\n",
       " 'We ended up having to ride our bikes home and leave them behind.',\n",
       " 'Terrible product.',\n",
       " 'Amazon was wonderful and we got a full refund.I really like these bags and have used them to haul a whole bunch of stuff short distances (less than 3 miles).',\n",
       " \"They seem sturdy enough, though I haven't tested out their water resistance.\",\n",
       " 'I doubt they would protect against a downpour, but a light sprinkle, probably.',\n",
       " \"The reason I'm giving them 3 stars is that my set was badly sewn and one of the sides' blue edging is coming off.\",\n",
       " \"This isn't a structural issue, but it's unraveling and unsightly and gets caught on things.\",\n",
       " 'On the other hand, the pockets inside have held up against all sorts of abuse.',\n",
       " \"It's really just the outside part that is coming apart and giving me a hard time.<br />I have upgraded to the Thule pack and pedal large panniers, which are fold-overs,  completely waterproof, and pretty (in blue, at least).\",\n",
       " \"They are WAY more expensive, but it's worth it for the quality if you're serious about keeping your stuff safe on longer rides or on your commute.\",\n",
       " \"I still like these bags, which are nearly the only cute, affordable bags I could find on Amazon, but they're only for very casual, short trips when I don't want to unload my school things from out of my Thules or for using on our tandem so I don't have to worry about transferring over the Thule mounting hardware.<br />My only other comments that I hope will help someone who is in the market for a more affordable set of panniers like this one: 1) the two bags don't separate.\",\n",
       " \"You can kind of use the velcro loops that are meant to secure the bags to your rack to hold the sides together, but it's not a tight fit, so the bags bump a lot when you wear them like a messenger.\",\n",
       " \"Besides which, the bags' strap is very uncomfortable if you have any weight in the bags, I would get a strap pad if I were going to use this more seriously.\",\n",
       " \"And 2)  the bags are a very light off white and only moderately water resistant, which means that even if they do manage to keep things dry (which I think they would, if they weren't too full and it wasn't a torrential downpour), the bag is *definitely* going to show dirt and road grit.\",\n",
       " \"I have a feeling they wouldn't do too well in the wash, either.First, this is a water bottle and NOT a thermos.\",\n",
       " 'It is for carrying water and you can also use it to boil water for freeze dried meals when camping but you must remove the plastic part first.',\n",
       " 'It is single wall construction and is not made to keep water cold.',\n",
       " \"It is perfect for what it is, enjoy.I received a defective bottle where it wasn't keeping my water cold for longer than a few hours, I'd say no more than 3-4 hours.\",\n",
       " 'I talked to them about this and they quickly issued me a replacement bottle which has been working perfectly.',\n",
       " \"Now I can keep my drinks colder, at least for 12-16 hours.Nicely compliments [[ASIN:B00M450BBW Osprey Men's Stratos 50 Backpacks, Anthracite Black, Medium/Large]]!\",\n",
       " 'I usually want to keep my camera and battery packs handy when backpacking but it can be a bit difficult digging through the lid or main compartment.',\n",
       " 'The Ribz made everything easily accessible.',\n",
       " \"It didn't intrude with my Stratos 50's fit and was easy to adjust around the torso.<br /><br />To be honest, I was a little skeptical of how useful this thing really was but once I used it as substitute for a light backpack I'm a true believer in this pack!\",\n",
       " 'When I setup camp, I left my Stratos 50 in my tent and only brought the Ribz and camera gear.',\n",
       " 'I was even able to lug a Manfrotto tripod by hanging it across the Ribz.',\n",
       " 'I managed to load the following in the Ribz:<br />- Sony a6000 w/ Rokinon 12mm lens<br />- Sony 18-200mm lens<br />- Sony camera battery (spare)<br />- Anker 12000mAh battery<br />- earphones<br />- 2 pairs micro USB cables<br />- lightning cable<br />- iPhone 6+<br />- small snacks<br />- car keys<br />- walletThe tea kettle lid fell apart after 2 weeks of use while camping.',\n",
       " 'Also, the sauce pan was difficult to clean.',\n",
       " 'I wanted to like it though due to its convenient storage of nesting within itself.',\n",
       " 'We had to return it due to my need for higher quality and dependability on my expeditions.These gloves are perfect for 40-60 F, basically just a lined softshell material with no extra insulation.',\n",
       " 'They are perfectly curved for holding on the handlebars.',\n",
       " 'My only complaint, which is not with the gloves, is that I followed the advice of other reviewers and went up one size from what my measurements say I should wear.',\n",
       " 'If you measure exactly as instructed on the manufacturer website, I see no reason to size up.',\n",
       " 'These, like other stretchy softshell clothing articles, are supposed to be &#34;fitted.&#34;<br /><br />To measure, find the widest part of your palm above the thumb and use a soft (but not stretchy) tape measure to get the circumference.',\n",
       " 'It is important to measure this way and not simply measure one side of your palm and then double the measurement, since that method does not take into account the thickness of your hand.',\n",
       " \"These are not unisex, so make sure you are looking at the women's measurement chart on the Pearl Izumi website.\",\n",
       " 'Also, I feel it is important to mention that your height and weight do not necessarily have anything to do with glove size.I bought this item for my trip on the Appalachian Trail in June/July.',\n",
       " 'The tent is very lightweight and easy to carry.',\n",
       " \"It's super simple to set up and take down.\",\n",
       " \"I'm 5'0 tall and was 130lbs.\",\n",
       " 'I could fully sit up with room above my head and plenty of room at my feet if I chose to put my pack at my feet inside.<br /><br />The ONLY complaint I have on it was the stakes.',\n",
       " \"They're SUPER lightweight but shaped like an X on the top.\",\n",
       " 'When I had one on the rain flap Infront of the tent, I managed to kick it with my big toe.',\n",
       " 'My toe still does not have feeling in the tip due to this.',\n",
       " 'I immidiately ditched the stakes and replaced them with ones that were rounded on top which worked just as well.',\n",
       " 'In their defense though, they were taken out of the hiker box within 5 minutes of being placed in there by another hiker looking to lessen their weight.<br /><br />I also wish it came with a compression bag.',\n",
       " 'I tried shoving the tent in the stake bag only to tear a tiny hole at the seam.',\n",
       " \"That's not the products fault though.\",\n",
       " 'Totally an impatient hikers fault.<br /><br />Worth buying.',\n",
       " \"My 6 and 4 year old fit snugly but comfortably in here with me as well.<br /><br />Also, I made it 300 miles if you're wondering how long it will hold up.<br /><br />On a side note, I accidentally ordered two of these by mistake.\",\n",
       " \"I didn't return the &#34;extra&#34; until almost<br /> 1 1/2 months after purchase.\",\n",
       " \"It was out of the return time frame but since it wasn't opened or used, the company was very kind and allowed me to return it with only covering the $6 cost of shipping.So far so good!\",\n",
       " \"I've put 10 miles total on them during two skating sessions on rough asphalt and there is little wear.\",\n",
       " \"The ride is smoother than expected for what I've read about such durable wheels.\",\n",
       " 'I am very happy with them and will buy another set of the same when needed!Great Bag.',\n",
       " 'This is my second one.',\n",
       " 'I was really tough on the first one.',\n",
       " 'A packed it full of 24 packs of bottled water 16 oz each.<br />Books, canned groceries and camping supplies.',\n",
       " 'I ride my bike with something everyday.',\n",
       " 'It attaches easily to the Topeak rack and slides right off on the rare occasion that I am traveling light.',\n",
       " 'I briefly looked at other systems before I bought this second bag but nothing looked any better.',\n",
       " \"There may be a system as good but I don't think any could get better.\",\n",
       " 'It has reflective strips on it.',\n",
       " 'You can even clip other bags to it cause there are straps on it.',\n",
       " 'The old one started sliding off sometimes while I was riding but it was super easy to clip it to the seat with one of those key chains.',\n",
       " 'I wish it came in more colors but I aint in the bike parade so functionality is more important.These are decent microfiber towels.',\n",
       " 'Good size and color.',\n",
       " 'Very thin though.',\n",
       " 'Using them feels like just using a t-shirt to dry off with.',\n",
       " \"I wasn't expecting them to feel like a regular towel but still it is a little weird and not as effective.\",\n",
       " 'They are great for back packing as they are very light weight and compact easily.',\n",
       " 'I would give them 4 stars except that after a couple of washes they start to take on a mildew type odor and no matter what I do the odor comes back.',\n",
       " 'I hope to find a better microfiber towel for my back packing trips.update:<br />I need a new one.',\n",
       " 'Another coach had the quickgoal brand, and not much better quality, but at twice the price.....so, I guess given it is half the cost, and I see no other reliable option, I am going to purchase again.',\n",
       " 'Uhgggg.<br />____________________<br />I am so displeased with the quality of this, within a few games (with 9 year olds), it started showing wear.<br />After the season ended, I did an entire operation, gluing new caps on the back rest posted, sewing each one back, and replaced screws on the back posts.',\n",
       " 'After the first game this season, every one of my sew jobs punctured again (a result of my sew job, but also the extreme stress on the canvas seem there.',\n",
       " 'Also a corner of the seat popped off, so I glued the screw back into the insert that holds it.<br />Also the bag that holds it completely ripped down the side....which I sewed back together, and seems to be holding now.<br /><br />Very disappointing that it lasted less than one season with 60-70 lb girls.After resolving a simple reason for the dim light output, I will not be returning this item as I planned to.',\n",
       " 'The Energizer Hard Case Professional LED Hand Held works as expected.',\n",
       " 'The case is well constructed and durable.',\n",
       " 'The hard rubber like bumpers provide ample protection if the light is accidentally dropped or hit against a hard surface.',\n",
       " 'The light beam is bright, clean and travels over a long distance.',\n",
       " 'I am very pleased with the item and would recommend it to anyone looking for a well built hand held LED spot light.The unit I received from Amazon did not have the lock mechanism.',\n",
       " 'I contacted Kuat and was informed they are doing a &#34;running change&#34; to remove the lock mechanism for all new units going forward.',\n",
       " 'The ability to use an internal lock was one of the primary reasons that I was willing to pay the upcharge for the Vagabond X over various other racks on the market.',\n",
       " 'The finish on the Vagabond X is outstanding, but the thumbscrews and the flimsy locking cover leave much to be desired.',\n",
       " \"I ended up returning the rack because I wasn't willing to pay the premium price for a sub-premium rack.Would probably be a 4-5 star review, but for the rack failing with about a 30 lbs load.\",\n",
       " 'The circled components apparently fell off at some point early in a recent ride, and the whole rack just fell backwards onto rear tire.',\n",
       " 'On return ride, I affixed same load onto rack, with only one side of the horizontal poles secured, rode more slowly and surprisingly the rack held up.',\n",
       " 'In short, this thing failed me when fully constructed, yet somehow carried out its duty missing a pretty important load bearing component.<br /><br />Would be happy to revisit this review if Ibera or Amazon sent me a replacement components (circled in red on attachment).It works as to the horizontal trueness with reasonable precision and the wheel can be mounted on either side.',\n",
       " 'I had a problem with removal of the 2 screws of the cap head on my PCS-10 bike stand.',\n",
       " 'You need to remove the cap head to mount the lower arm of the tool which measures the trueness of the wheel.',\n",
       " 'Note the tool only works with certain Park Tool bike stands.<br /><br />The screws were tightly screwed into the nuts recessed in the plastic cap head and the nuts turned in the recess when unscrewing them making it a chore to remove them.',\n",
       " 'I had to hold a screw driver on one side of the nut while I unscrewed the screw on the other side.',\n",
       " \"It sounds simple but it wasn't.\",\n",
       " 'Be very careful removing the screws, stopping immediately if the nut starts to turn.<br /><br />You also need an additional Park tool to check the vertical trueness of the wheel.This poncho is FANTASTIC.',\n",
       " 'Works exceedingly well, and is quiet and completely waterproof.',\n",
       " 'I have used it a lot, with and without a pack, and it fits great, has handy thumb loops, sheds water like a ducks...uh...back, and looks pretty good in the process.',\n",
       " \"It packs down small, so it's easy to tote along, and is a great alternative to bulkier rain gear.Great light.\",\n",
       " 'I had the 800 before losing it on a ride.',\n",
       " 'The 850 has a much nicer broad spread light pattern.',\n",
       " 'Would recommend this light to everyone.',\n",
       " 'So bright and lasts a long time as well, only having to charge it about once a week.',\n",
       " 'Using it almost everyday on my commute.Really great kayak seat - very comfortable and perfect for long days paddling.',\n",
       " 'High, supportive back, great adjust-ability, and a terrific price.',\n",
       " \"If you are considering the GTS or Seattle sports versions of these seats for MUCH more money, don't bother - they are exactly the same thing.\",\n",
       " 'This is an excellent seat for the price.',\n",
       " 'Well made, very comfortable and supportive - highly recommended.Theres simply no reason to buy expensive wrist guards when these work SO WELL.<br /><br />I recently replaced mine after 6 months because I lost one of mine, but the other held up splendidly, especially compared to some of the other brands on the market.',\n",
       " \"I've seen wrist guards with ripped fabric and exposed plastic, but my Triple 8's have always remained in tact.<br /><br />On top of that, they wash very well.\",\n",
       " 'I would say I am a loyalist to these wrist guards and feel they are a great value for both new and senior skaters.I was not really sure about this but living in So Florida and trying to keep in shape with walking, and having to work outside sometimes I had to give it a try.',\n",
       " 'I am VERY impressed!',\n",
       " 'I used today when the heat index was 103 and it seriously kept me cooler than normal.',\n",
       " \"I still sweat, don't get me wrong, hot is hot, but this was awesome.\",\n",
       " 'Along the way on my walk I refreshed with cold water and it was fantastic.',\n",
       " \"I don't think the normal person would have to refresh but my body runs super hot.\",\n",
       " \"I don't know if this is what Forever Cool expected but I am going to keep mine in a ziplock baggie in the ref, and wet it before I use it, snap it and go.\",\n",
       " \"Well worth the price, and if you are a lady of a certain age (ah hem) you will certainly appreciate this while outdoors!I wanted to love this product but I can't.\",\n",
       " 'As background information, prior to purchasing this product I had been doing my far-off-the-ground pruning with a 12 foot telescopic pruning stick often perched atop a 10 foot step-ladder.',\n",
       " \"My bottom line is: if you can't prune with the stick, you are unlikely to pull it off with the hand chain saw.<br /><br />Some of the downsides I've experienced:<br />- The saw teeth are very aggressive as you'd expect from a high powered chain saw.\",\n",
       " 'The problems is that the saw binds quite easily.<br />- For even modest heights, you can only cut top-down.',\n",
       " 'Without an undercut, branches tend to peel back as they break.',\n",
       " 'And if the branch is long enough to touch the ground, you are left with wood fibers at an odd angle that is then difficult to tackle with the saw.<br />- If you get the saw out of the groove, it can be difficult to put it back due to the knots linking saw and rope.<br />- If the branch you are cutting has even very small shoots and is thus not very smooth it is difficult to navigate the saw left-right to the ideal spot.',\n",
       " 'So your toss will determine your cut location within a few inches.<br />- The bag meant to hold the toss weight offers too manny opportunities for the rope to get twisted around and snagged.',\n",
       " \"The ideal setup would be a length of weighted rope of the same diameter<br />- 25 feet of length for the ropes only gave me an additional few feet of reach compared to my step-ladder/pruner setup, but with far less control<br /><br />On the plus side:<br />- It's very compact<br />- It appears high quality<br />- Once in place the cuts happen with relatively little energy due to the aggressive teeth<br /><br />I would love to see a similar product with many more, but much smaller teeth.\",\n",
       " \"I'd be happy to trade speed of cut for a smoother glide.I returned this shirt because it ran ridiculously large.\",\n",
       " 'The small fit like a large or even XL.',\n",
       " 'It would have fit my husband!',\n",
       " \"I didn't bother exchanging for a XS as it too would have been too big.\",\n",
       " 'It seemed like a good quality shirt, too.',\n",
       " 'Ended up with the &#34;Columbia&#34; which ran truer to size and more fitted.I bought the 7 speed City bike thru Amazon.',\n",
       " 'Very disappointed with assembly instructions.',\n",
       " 'They are not very clear.',\n",
       " 'I tried to tighten the bar stem with the allen wrench but it jusst spins.',\n",
       " \"There are some nuts, bolts, that I don't know which one goes where.\",\n",
       " 'I tried to attach the front fender and when I did, I realized I had the front fork was backwards.',\n",
       " 'When I turned the bike over to fix it, the rear fender got scratched.',\n",
       " 'And there is a long bolt that I assumed is used to attach this, but no nut that fits.',\n",
       " \"I attempted to call for help, but their mailbox is full so I can't even leave a message.\",\n",
       " 'I was going to do the basic assembly myself and then take the bike to my local bike store for all of the adjustments.',\n",
       " 'But now I am stuck.',\n",
       " 'This is very disappointingLove this product - went to Mexico for memorial day weekend and let me tell you, when you spend a long weekend in a swim suit, by the end you can tell who has a &#34;thigh gap&#34; and who has chub rub.',\n",
       " 'Chub rub is real.',\n",
       " 'I was so sore it was ridiculous.',\n",
       " \"Not fun at all but I wasn't really aware of anything to prevent this in future.\",\n",
       " 'Then I read this on Buzzfeed:  http://www.buzzfeed.com/meganreynolds1/i-tried-these-products-to-prevent-chub-rub-and-heres-what-ac#.sgANj7mZJ and thought it would be good to have for my next weekend in Mexico.',\n",
       " \"Foolishly I didn't order it then.\",\n",
       " \"Well the week of my next trip came and I realized it needed to be ordered but it wouldn't arrive on time (leaving Thursday night) unless I did one day shipping.\",\n",
       " 'So like a chump I paid for it but it was so worth it!',\n",
       " 'Apply it generously to any area you think would rub and marvel as your legs really do glide past each other!',\n",
       " \"It lives up to it's name and people were borrowing it  (how much do you like your friends?)\",\n",
       " 'because who likes chub rub?',\n",
       " 'It has now become a staple in my swim/beach bag and basically anywhere I go in a swim suit, it goes.',\n",
       " 'If I was actually in the water a lot I maybe reapplied once a day.',\n",
       " \"But if you're just doing a little swimming or jet skiing it seemed to stay on just fine.\",\n",
       " 'Though it made it slightly harder to stay on jet skis... (first world problems anyone?)',\n",
       " \"Order it and thank me later.Lot's of people ask &#34;what is the best knife?&#34; and my answer forever will be, &#34;the knife that you have on you!&#34;<br /><br />I bought this knife for my girlfriend and it holds true to that statement.\",\n",
       " 'It is extremely small and 100% practical to attach to your keychain.',\n",
       " 'Meaning- you will ALWAYS be with the essentials- a knife, light, and pen PLUS more!',\n",
       " 'The cap lifter/magnetic phillips is one of the best combo tools out there.',\n",
       " 'I have the Midnite Minichamp and this is hands down more practical with more useful tools and none of the useless ones!',\n",
       " 'GET IT!We own four of these chairs,  Two, we bought (probably) four years ago and they are still going and two more that I bought last year.',\n",
       " \"I bought the last two because we were moving into an apartment in NYC and our sofas weren't coming for a month after I was in the city for the move in.\",\n",
       " 'I bought another two chairs because they would be comfortable substitute seating and I could use them later in the parks.',\n",
       " 'Our first two chairs stay in Kentucky and have been used on several beach trips.',\n",
       " 'We fill up a beach house with family and friends, and the Kelty chairs are the favorite.',\n",
       " 'They even come with a beer bottle opener!<br /><br />These are like a &#34;soccer mom&#34; chair and fold to fit in a bag.',\n",
       " 'That means they are are easy to transport in the car and to and from the beach.',\n",
       " \"I have had several other companies' models of the this style chair and something goes wrong with the pressure points on the back bars.\",\n",
       " 'They break on other models (and on several different brands) , but the Kelty chairs have held up well.',\n",
       " \"We've even used them indoors for game days.Sweet little knife.\",\n",
       " 'The bone scales are attractive and the metal work is typical for Rough Rider.',\n",
       " 'That is to say nicely done, but appropriate for the price.<br />This is a SMALL knife.',\n",
       " 'This is a pocket knife for a child or for someone who really wants a very small knife with classic features.very well designed.',\n",
       " 'I prefer this material (to metal), since it is not only cheaper and lighter, it will not rust or scratch non-stick coatings.',\n",
       " 'The neoprene case fits them snuggly, but the zipper seems a little low in quality.',\n",
       " 'overall they are nice and large, so they fit in the hand well, but not so large that they take up a lot of space.',\n",
       " 'I recommend this product for campers, picnic lunches, and dorm-living college students.Great little mount.',\n",
       " \"Can't really expect too much from this mount but it's cheap, it's easy to install, and it works.<br /><br />Will fit a device up to 8.5 inches.\",\n",
       " \"I'm using it on my bike (hooked up to an indoor trainer) to play games/entertain myself while exercising.<br /><br />Only 4 stars because I probably wouldn't trust this mount with an expensive tablet/phone while riding on the open road, but for my purpose it's perfect.I got this helmet right after I purchased my new Schwinn hybrid bicycle (which I love).\",\n",
       " \"I've used this helmet for a couple of weeks and worked well.<br /><br />But then I went on vacation for 2.5 weeks.<br /><br />When I came back, I found that the band inside of the foam had completely detached from the rest of the helmet.\",\n",
       " 'Let me be clear, the part that actually fits around the head of the user DETACHED from the helmet WHILE IT WAS NOT BEING WORN.<br /><br />There were not any heat waves.',\n",
       " 'My house did not get hotter than 78 degrees while I was gone.',\n",
       " 'There was no reason for this to occur.',\n",
       " \"Apparently that band was only held on by a few bits of sticky stuff (maybe glue) here and there around the helmet.<br /><br />I'm very glad that this happened while I wasn't using the helmet, but I'm even more concerned about what could have happened had I fallen and actually used the helmet for its intended purpose.\",\n",
       " 'Would the helmet have protected my head?',\n",
       " 'Would the thing have fallen apart on impact?',\n",
       " 'Would I have lived through the accident?',\n",
       " 'I will never know.',\n",
       " 'What I do know is that I will never use this helmet again.',\n",
       " 'And I hope that anyone who does  will read these words of caution:<br /><br />BUYER BEWARE - MAY NOT BE SAFEI have tons of LOLE clothing and love them all.',\n",
       " 'This was very comfortable - does not have a shelf bra which I did not realize so that means you need to find a bra that looks cute underneath the dress.',\n",
       " 'The material is quite lite, I tend to sweat a bit when hot and this is not advantageous with the heather gray color.',\n",
       " 'Otherwise - darling!',\n",
       " \"!I have been trying to make a good thin homemade pizzeria style pizza for quite some time but since my oven only gets up to 550 it was difficult to end up with a result that had the nice texture that a pizza can have when baked quickly at a high temperature.<br /><br /> We purchased the Camp Chef Italia Artisian Pizza Oven and used it on our gas grill;<br /> After some experimentation we found that if we removed the grates from the gas grill and set the pizza oven directly on top of the heat baffles we were able to reach much higher temperatures with both the surface temperature of the stone and the air temperature.<br /> We made several pizzas using the Roberta's &#34;Brooklyn style&#34; pizza dough recipe (Google it and you should find it quite easily if you wish) and got amazing results.<br /><br /> With a surface temperature of around 650 degrees and an air temperature of around 725 our pizzas were finished in about 5-8 minutes; The end result was about as close to a pizzeria style pizza as I can imagine I could ever expect to get at home.<br /><br /> For the low price of around $125 I am very happy with the Camp Chef Italia Artisian Pizza Oven and have no doubt that we will be getting a lot of use out of it.We bought 4 to use for a week long trip to Disney World and Orlando Studios.\",\n",
       " 'The only thing positive I can say about the backpacks is they are lightweight, compact and they did serve their purpose.',\n",
       " 'With that said, only 2 survived the trip, the other 2 had 2 defects each.',\n",
       " 'The zipper came off track one of the backpack and it was impossible to close.',\n",
       " 'Furthermore the inside &#34;coating&#34; (for lack of a better way to describe it) began to flake off.',\n",
       " 'The other had the same problem with the coating coming off.',\n",
       " 'It also had a problem where the straps started to separate from the backpack.',\n",
       " 'Both were used to store 16 oz water bottles, cameras and some light snacks.',\n",
       " \"So I wouldn't say they were abused or used to carry heavy items.<br /><br />If you don't mind spending $20 for a throw away and need something that fits in a suitcase very compactly, then this might be a good buy.\",\n",
       " \"Otherwise I wouldn't bother.It is painted with a black paint [I don't know what kind] that turns white , flakes , and then eventually burns off.\",\n",
       " 'My friends and family did not want to eat food that touched that surface so I spent alot of time burning off the paint and still using another grate on top of the grill once it was burned.',\n",
       " \"It should include a warning  &#34;No direct contact with food until paint burns off&#34;  or better yet, DON'T PAINT A GRILL SURFACE!!!\",\n",
       " 'Duh.I only gave this pfd two stars because the pockets are lined with a black material and the first time the vest got wet the black color bled through the orange on and around the pocket area.',\n",
       " \"The vest seemed comfortable to wear and it fit well but I didn't want it to look all dingy when it is brand new.\",\n",
       " \"I would have kept the pdf if the black color hadn't bled through the orange.The best jeans that I own...actually four of them now!!\",\n",
       " 'Two bought last year and two more recently on a sale.',\n",
       " 'Needs no ironing (my criteria to buy a jean...it has to be truly wrinkle free not just marketing gimmick)...',\n",
       " 'Feels soft i.e.',\n",
       " 'perfect cocktail of cotton, nylon and elastic!',\n",
       " '... dries relatively quickly.',\n",
       " \"I am 5'10&#34; (155 lbs) and wear 32x30.\",\n",
       " 'The fit is perfect!!',\n",
       " \"It's not low rise...\",\n",
       " \"I don't like them!\",\n",
       " 'It is expensive but I also have Mountain HW (stretchstone), Marmot (pipeline) and prAna... this one is simply the best!!',\n",
       " 'Love it... Few special features if you travel a lot... really deep front pockets so if you are in a plane with folded legs.. phone is still fine there... red accentuation really makes it cool and stylish... My favorite ones to wear during outdoors adventures... Once you buy this... you will forget Levi, C&K, DKNY etc.probably my favorite knife for butchery, whether you are halving small chickens, or trying to trim up some rib eye.',\n",
       " '[obviously not without washing it first!]',\n",
       " 'this knife sharpened well, kept its edge on average for about 2 days of heavy cutting.',\n",
       " 'I loved it.',\n",
       " \"Aside from non-so-obvious ergonomics [hard to gauge a handle through photos] this baby was everything i needed and more.I like it, it's really heavy for what it is but it functions well.\",\n",
       " \"Great for places where you are not allowed to have an open fire, and it's really discreet and easy to put out if anyone decides to complain about you having a fire in places you aren't technically allowed to.\",\n",
       " \"The fire discs are nice too, you can cook your weenies and s'mores and they taste the same as a real campfire.Fit well.\",\n",
       " \"I am 5'4'' and 120ish pounds and the small is just right for me.\",\n",
       " \"They are comfortable for shorter rides and have the right amount of padding so that they don't get bogged when you swim in them.\",\n",
       " 'I think they are a great buy and serve my purposes perfectly.I like this bike so far, it looks pretty sweet and rides smoothly plus it was really cheap for any bike so it seems like a good value.',\n",
       " \"The only issue I had was that it wasn't easy for me to put together myself.\",\n",
       " \"I assembled it as well as I could but didn't feel comfortable about hoping on the bike and riding around so I brought it to a bike shop to get a checkup.\",\n",
       " 'Turns out I had some parts mixed up plus the front wheel popped while putting it together.',\n",
       " 'The bike shop was great and fixed everything plus greased it up for me and gave me new tire linings.',\n",
       " 'One other thing is that the bike was shipped to me as a fixed bike, not a single speed bike.',\n",
       " 'Not a huge deal all you have to do is flip the back tire around and adjust the chain a little, but it was actually a lot harder than that with trying to align the bike tire accurately.',\n",
       " \"It all worked out in the end but just sharing my experience so people don't think it's just as easy as buying a completely assembled bike in a store, but when you're on a budget like myself you have to go with the flow!HOLDS NALGENES!<br />Looked a long time for a solid pack that would be durable enough to use outdoors and efficient enough to use for school (hold my laptop, papers etc.\",\n",
       " '), and this is it.',\n",
       " \"It is almost fully waterproof--I would feel comfortable taking my laptop in a light/medium rain for a short distance, although I probably would douse the pack because it's not completely waterproof, but nothing really is.<br />I ride my mountain bike a lot and always feel comfortable with this pack on my back.\",\n",
       " \"It fits tight thanks to the chest and waist straps along with the very quality shoulder straps--I've had the pack for over 2 years and no signs of un-stitching.<br />Also, very high quality zippers which have never snagged and show no sign of losing responsiveness anytime soon.<br />Best part...the side pockets are large enough to hold Nalgenes!\",\n",
       " \"I have had several other packs with subpar water bottle pockets, but am very pleased with the quality and ability of these pockets to hold Nalgenes.<br />All in all, this is by far the best pack I've owned including packs from Kelty, Mountainsmith, and Ogio.This thing was amazing on our beach trip.\",\n",
       " 'We had a 2.5 mile ride from the camp site to the ocean front and we loaded this thing up with a cooler, beach bag, 4 chairs, umbrella, 2 boogie boards, and 2 metal detectors and I barely noticed this thing behind my bike.',\n",
       " 'Assembled easily and hooks up easily.',\n",
       " 'I just locked it to my bike while we were on the sand.',\n",
       " \"Couldn't be happier with it.We recently returned from a 10 day hiking trip to Colorado, New Mexico, Utah and Arizona visiting the major national parks in those states.\",\n",
       " 'We took with us the VOROSY walking/hiking sticks and they came in very handy in many of our hiking locations.',\n",
       " 'They are easy to use, fold easily for packing and are light and strong.',\n",
       " 'However, there is one consideration to keep in mind.',\n",
       " 'Since we were flying to those states hiking sticks are not permitted by the TSA in carry-on luggage, they have to be checked.',\n",
       " 'As we were not planning to check any baggage, this was a consideration.',\n",
       " \"As I was not aware of this restriction, a friend suggested to check with the TSA site for luggage restrictions and that's where I discovered hiking sticks are a restricted item in carry on luggage.The fan works great if you use it standing up like in the picture.\",\n",
       " 'If you hang it from the side or top it is aweful.',\n",
       " 'The connection space in magnet side uses a very narrow over lap (1-2mm) and glue.',\n",
       " \"Well the 2 we bought both had glue that wasn't holding it on so you can guess what happened, the magent would not stay in the brace.\",\n",
       " '(There are holes on the main fan portion to screw the bracket in but none on the metal brace.',\n",
       " 'Dumb!',\n",
       " 'Plus who is going to screw their fan through their tent?)',\n",
       " 'We discovered this when the 1st one fell on my daughters head!!',\n",
       " 'We now have 2 fans that we can not use unless you stand them up or hold them like a personal fan.',\n",
       " \"I see no reason why they could not make the bracket wider and then you wouldn't need glue.I got this for when I go to BWCA - it worked well (except when the burners get wet)<br />It is a little on the heavy side for packing but Its worth it having a 3 burner stove is nice<br />I will keep using it and would recommend it<br />One thing would be nice for all stove makers to do is better protect the burner valvesThe &#34;Guy Line&#34; that is advertised, claims in the instructions to be included in the package, and is necessary for set up did not come with the tent.\",\n",
       " \"I'm a bit disappointed by this.\",\n",
       " 'Thankfully, I had some 550 cord in the house I substituted, but the tent should come as advertised.',\n",
       " 'Thus the reason for three stars.<br />The set up was easy, tent seems well designed, the rain fly went on easily.',\n",
       " 'There seemed to be enough room once I got inside.',\n",
       " 'It came down and packed back into original packaging easily.',\n",
       " 'The small nature and weight makes this attractive.',\n",
       " 'I plan to use it in the field after airborne ops.',\n",
       " \"I've been looking for something compact, lightweight, sturdy, and military in order to be allowed on field problems.\",\n",
       " 'This Raider seems to fit the bill.',\n",
       " \"I'll be jumping this in two days and setting it up in the field.<br />Another reason for the three star review: the MMI sales rep kept bragging about this tent being &#34;under two pounds&#34; on my home scale it was 2.5 pounds.\",\n",
       " 'I know this may seem petty.',\n",
       " 'Ounces are pounds as the saying goes.',\n",
       " 'Just be truthful and advertise as under three pounds.',\n",
       " 'Plus send what should come with it.I had reservations because other reviewers said they saw stickers claiming the water bottle had cancer causing ingredients.',\n",
       " \"I called the company and they told me they have to put the sticker on there because they don't test for everything that some states require, therefore since they don't test for those specific 800+ ingredients, they are obligated to put the sticker on their product.\",\n",
       " \"Other than that, it's a stainless steel bottle with no coating.I took their word for it.and I love these bottles, and my kids love these bottles.\",\n",
       " \"I'll buy more in the future.\",\n",
       " 'Company has great customer service too.These fit great, but the quality of the product has gone down considerably since the last time I ordered.',\n",
       " \"I've had Ex Officio boxers for years now and not a single pair shows any signs of use.\",\n",
       " 'However, the latest pairs I received (including this one) started pilling the very first time I wore them.',\n",
       " \"Whatever quality change they've made to the fabric is very noticeable.Good truck but I was thinking it was two of them?\",\n",
       " \"Amazon did give me credit to buy the other one because it didn't say it was just one.\",\n",
       " 'I was like who sells one truck, it is like selling one shoe, or buying a bike with one tire?',\n",
       " \"It don't make sense.\",\n",
       " \"They should of made it more apparent that it was for one that's all.\",\n",
       " \"But Amazon fixed it so I'm happy, and they are nice trucks.\",\n",
       " 'A step up from no name trucks but not by much.This backpack is great for going to university.',\n",
       " \"I'm taking 16 upper level courses and I never have to unpack it to fit other textbooks in.\",\n",
       " 'The padding on the back along with the chest and hip straps are great for long days of walking from class to class.',\n",
       " \"I mostly use the straps to ride my bicycle so that the backpack does not sway from side to side as I'm riding.\",\n",
       " 'The straps are not only there for safety, but they actually look pretty awesome.',\n",
       " 'They are thick enough that the weight is distributed evenly across the hips to avoid any uncomfortable/damaging pressure.',\n",
       " 'I also strap my skateboard or longboard to the back.',\n",
       " 'The grip tape will rub on the cloth, but that happens with every skating pack.',\n",
       " 'I actually flip my board around when I need to and it stays in the straps just fine.',\n",
       " 'The fleece lines pockets are my favorite things as I can trust all of my sensitive electronics/glasses in them.',\n",
       " 'The goggle pouch on the back is almost undetectable so you can keep secret items in there without anyone noticing that there is actually a sizable pocket there!This headwear from this seller is not a Decky brand, it is by &#34;Kee & Ed&#34;.<br /><br />From comparison with Kee & Ed (beige) product to the Decky (white), the Kee & ED is more stiff and rough around the edges.',\n",
       " 'It has 3 stitchings, 2 are a bit loose and 1 that is good.',\n",
       " 'Unlike the Decky brand, it only has single pass stitching all over but they are really tight.',\n",
       " \"Attached pictures shows the stitches, the white and dirty one is by Decky, which we always have, the beige is by Kee and Ed.<br /><br />The Decky's are always soft and smooth right out of the package.\",\n",
       " 'The Kee & Ed will probably be soft someday, I hope.',\n",
       " 'But my daughter up to date keeps complaining that something is poking her head around those edges so it just sitting most of the time in our hall tree.<br /><br />If brand is not a concern, then purchase it from this seller.',\n",
       " 'But if you like Decky, stay away.',\n",
       " \"It's your choice.\",\n",
       " \"I guess you get what you pay for.I've been camping for 30 years.\",\n",
       " 'My solution for trash was a grocery bag tied to a tree.',\n",
       " 'I never realized what convenience having a full sized trash can that holds a full size liner would bring.',\n",
       " 'I tied it to a tree to keep it from blowing away.',\n",
       " 'I used clothes pins to hold the liner in place.',\n",
       " '4 or 5 will work just fine.One lens is perfect, the other that had the label was scratched.',\n",
       " 'First time I went to clean the lens (with a soft, lint free cloth and no chemicals), the finish on the one lens all came off.',\n",
       " 'Now the one side looks perfect and the other looks like I dragged them down a gravel driveway.',\n",
       " 'Not the fault of Amazon or the seller, just a faulty product.',\n",
       " 'Trying to contact the manufacturer to repair/replace.Used it about 10 times so far, but I have not actually submerged it under water.',\n",
       " \"It sits on the back of my kayak and gets splashed plenty.I bought the 5L bag and it's a lot bigger than I actually needed to keep my keys, phone, wallet dry.\",\n",
       " 'The bag is also air tight so you have to make sure to express all of the air before rolling and securing the bag.',\n",
       " \"Would definitely recommend.I've used this tent on 3 trips since getting it a couple of months ago.\",\n",
       " \"It's very light and packs very small, and is quite quick to set up.\",\n",
       " \"I don't know that I'd say it's quicker than a pole system (I'd gotten very used to my Tarn 3 from MEC), but it's still quick and simple.\",\n",
       " \"You can blow it up from the inside, which I played with, but haven't needed to do because I haven't camped in the rain yet.<br /><br />I bought the footprint, and double that up with another tarp and the bottom has stayed perfectly dry even with some ground moisture.Really didn't know what to expect with this product and would have not purchased this set if I had realized the size was much smaller than the standard issue GI canteen and cup.\",\n",
       " 'The canteen is nice thickness and the cap does not leak.',\n",
       " \"As for the cup it's smaller and made if a much thinner SS when compared to the standard issue cup.\",\n",
       " 'The Handel is pathetically thin.',\n",
       " 'This set is serviceable but I recommend doing a Google search and buying the much better set from Dave Canterbury ...',\n",
       " 'I ordered one of his sets like I should have done in the first place.Took this along on a long multi-day bicycle and camping trip.',\n",
       " 'It was never filled completely on the trip, but about 1/2 way as backup water to the water bottles I carry on the bike.',\n",
       " 'It was held to the top of my bicycle trailer with a bungee net and bounced around for 4 days.',\n",
       " 'No issues whatsoever under pretty rugged conditions.',\n",
       " 'Now it sits in a closet fully filled in case of emergency needs.',\n",
       " 'This thing was much more solid than I expected, and I am happy to be surprised by the solid construction.Amazing backpack!',\n",
       " \"I've taken it on several hikes this past summer, the longest being a 50 mile, 6 day hike in the Eagle Cap Wilderness of Northeastern Oregon.\",\n",
       " 'I had the 70 liter and I traded up for the 80 liter just to make sure I had enough room.',\n",
       " 'My pack weighed roughly 48lbs when I began the 50 miler and it handled it well.',\n",
       " 'I especially liked all of the compression straps that made the pack feel like it was a part of my back.',\n",
       " 'It was very comfortable.',\n",
       " 'The large zipper on the front of the main compartment made packing and unpacking much easier.',\n",
       " 'The top pouch disconnects and becomes a fanny-pack which worked great for day hikes.',\n",
       " 'My only improvement suggestion would be to make the hip pockets larger and to have more pockets on the sides of the pack.',\n",
       " 'Other than that it worked great.',\n",
       " 'It kept my gear dry in a surprise thunderstorm.',\n",
       " \"I highly recommend this pack.Bought this from INTOP and waited about 3 weeks to arrive for my son's birthday.\",\n",
       " \"When it did it wouldn't charge and so it would start beeping after about 2 minutes of use.\",\n",
       " 'Also the enclosed bumpers did not come with any double-sided adhesive.',\n",
       " 'I do not recommend buying this product from this seller.I loved the features of this computer for the price.',\n",
       " 'I was a little concerned when I read some of the reviews about the unit working great until it gets wet but I purchased it anyway.',\n",
       " 'It worked good for a couple of weeks until I took it to the beach.',\n",
       " 'The unit just stopped working.',\n",
       " 'DEAD.',\n",
       " 'No display.',\n",
       " 'Must have been the humidity at the beach because I did not expose it to any rain or water directly.',\n",
       " \"Shame it didn't work for long because when it did work it was great.\",\n",
       " 'I have no faith in this product.My 19month old is a fish now because of this life jacket.',\n",
       " 'In just two pool sessions she went from never being in the pool in her life, to swimming on her own between my husband and me.',\n",
       " 'This life jacket is a must have for all kids.',\n",
       " 'Only negative is that the shipped a different character than I purchased but it didnt matter enough to send it back.At this point I have three of those bottles in my household and another three were purchased by family members, after they saw ours.',\n",
       " 'Great bottle, really - does everything as advertised.',\n",
       " \"Yes, it's made out of stainless steel and it's powder-coated.\",\n",
       " 'It will chip when hit hard enough and will chip and dent when hit even harder.',\n",
       " \"All other bottles I've seen are made the same way, and until someone creates rubberized coating that might withstand chipping and protect against dents, you will have to be careful if you want yours to look well longer.\",\n",
       " \"Maybe the outer shell shouldn't be made of steel but something entirely different?!\",\n",
       " 'Make me one with stainless interior layer and titanium exterior!',\n",
       " 'Regardless of the looks, I think the bottle is unlikely to loose its great insulation qualities.<br /><br />The one and only complaint I have is about the second top - Easy Flip Straw Lid.',\n",
       " 'It is worth to note that (almost?)',\n",
       " 'none of the other brands offer that option and as far as I can tell other brand  bottles cost more.',\n",
       " 'I hate to complain about something that essentially is a free bonus, but here it is.',\n",
       " 'It worked great for the first several days, a week maybe.',\n",
       " 'Virtually silent.',\n",
       " 'Very good flow.',\n",
       " 'Easy top operate.',\n",
       " 'No leaks!<br /><br />But then the trouble started.',\n",
       " 'There must be a soft seal between the mouth piece and the screw top which had started to break apart.',\n",
       " 'Initially it started to suck in air when drinking, making the operation louder and allowing for the air to mix with the water you drank.',\n",
       " 'Huge disappointment as I thought this lid really made the bottle worth much more.',\n",
       " \"Thinking about this I shouldn't have been surprised.\",\n",
       " 'Unlike the bottle itself, that lid was manufactured without the same quality standards.',\n",
       " 'One of the first thing I did on my lid was sanding down the very sharp edge around its loop piece.',\n",
       " \"I'd use that loop to hold the bottle often with a couple of fingers when walking, but initially this wasn't possible as the edge seemed as sharp as a blade.\",\n",
       " \"Other adjustment I made initially was notching the end of the straw, as I ran into a problem of not being able to drink at all with the flat end getting stuck flush against the bottle's bottom cutting off the flow.<br /><br />So yes, the bottle is awesome and deserves 5 stars.\",\n",
       " 'That straw lid is also very good, but it brings disappointment much too soon.',\n",
       " 'At this point mine leaks completely, it is no longer able to close tight and cut off the vent hole.',\n",
       " 'The two other in my home are doing just the same.',\n",
       " 'I wish I could give this product full 5 stars with a BUT about the lid.',\n",
       " \"After barely 5 weeks, it's time to toss these lids and look for alternatives.\",\n",
       " 'Use the other one, the simple cork in the mean time...<br /><br />----------<br />Update 9/6: My family and I had spent a weekend at a soccer tournament, where these bottles performed great.',\n",
       " 'On a few occasions they were left in the scorching sun light and were literally hot when I picked them up.',\n",
       " 'The water inside remained icy cold.',\n",
       " 'It just felt unnatural, to hold this hot container in your hand and drink cold water out of it.',\n",
       " 'Almost surreal.',\n",
       " \"Now I understand the name - Desert Ice.as notching the end of the straw, as I ran into a problem of not being able to drink at all with the flat end getting stuck flush against the bottle's bottom cutting off the flow.\",\n",
       " 'So yes, the bottle is awesome and deserves 5 stars.',\n",
       " 'That straw lid is also very good, but it brings disappointment much too soon.',\n",
       " 'At this point mine leaks completely, it is no longer able to close tight and cut off the vent hole.',\n",
       " 'The two other in my home are doing just the same.',\n",
       " 'I wish I could give this product full 5 stars with a BUT about the lid.',\n",
       " \"After barely 5 weeks, it's time to toss these lids and look for alternatives.\",\n",
       " 'Use the other one, the simple cork in the mean time...  ---------- Update 9/6: My family and I had spent a weekend at a soccer tournament, where these bottles performed great.',\n",
       " 'On a few occasions they were left in the scorching sun light and were literally hot when I picked them up.',\n",
       " 'The water inside remained icy cold.',\n",
       " 'It just felt unnatural, to hold this hot container in your hand and drink cold water out of it.',\n",
       " 'Almost surreal.',\n",
       " 'Now I understand the name - Desert Ice.Disappointing.',\n",
       " \"I love to tent camp and usually go by myself (my toy poodle is useless at putting up tents), so I'm always looking for the perfect combination of easy to put up and comfortable to use.\",\n",
       " 'I was hoping that this would be super easy.',\n",
       " 'But the gimmick that is supposed to make this tent &#34;fast&#34; to pitch actually slows things down and makes it annoying.',\n",
       " \"The top central hub has all four poles pre-attached and I guess they're supposed to stay that way, so you have to deal with 4 long strings of poles flopping all around while you try to line up the red stripe on the hub and the pole with the correct foot.\",\n",
       " 'And someone will have to explain to me why there is a red stripe on any of this, because all the poles and all the feet are exactly the same.',\n",
       " 'So I wasted time fighting this thing to get it lined up for no reason that I can figure out.',\n",
       " 'Was a royal pain.',\n",
       " 'I bought a similar Alps Mountaineering tent and put it up at the same time -- just basic dome tent with 2 shock-corded poles and clip-on system.',\n",
       " 'The AM went up quick and easy and gave me a few more inches of head room than this tent.',\n",
       " 'This tent also has lots of mesh, but no windows other than the front door when you add the rain fly.',\n",
       " 'All the mesh will make for a chilly night in cold weather and the view is limited unless you take off the fly.',\n",
       " 'Maybe okay for summer, but overall, the AM tent is much much easier to pitch, a better size and shape, and will be more comfortable.',\n",
       " 'So this one is going back.',\n",
       " '(And I even got a better deal on the Alps M tent!)',\n",
       " \"They were headed in the right direction, but I think they just overdid it with the hub thing -- way more trouble than it's worth.Great helmet, obviously I can't test this without risk of breaking it or causing myself potential injury, but I'm going to trust the company's tests and reviews about this helmet.\",\n",
       " 'Great venting and the sunglass &#34;garage&#34; is a nice touch in keeping your shades/specs in place.',\n",
       " \"The fit is comfy and I don't see or feel any unwanted pressure points that would cause discomfort.This 33L backpack is amazing.\",\n",
       " 'I am able to fold it up pretty small and it is really light.',\n",
       " 'My osprey 65L backpack cannot weigh more than 33lbs here in Europe so I like to take this lil guy with me as a carry on to store the excess weight.',\n",
       " 'Then I just toss everything back in my Osprey and fold this bag back into its case.',\n",
       " 'It is not waterproof but is definitely water resistant.',\n",
       " 'And it is very convenient to have for little day hikes when traveling.',\n",
       " \"I am amazed at how great it was given it wasn't expensive at all.\",\n",
       " 'I highly recommend it to everyone.',\n",
       " 'Get this if you need a great inexpensive daypack!',\n",
       " \"It is durable and you won't regret it.As this was reviewed well and seemed a great buy for the money, it was never even tried at my house.\",\n",
       " 'We opened the box, pumped up the seatpost, compressed it once and it would not release/expand again.',\n",
       " 'We ended up returning for refund and buying a different (US made one for a similar price, KS e10).I bought this board for my 6 year old daughter as a starter surf board.',\n",
       " \"The construction quality isn't great, the board showed up with some bubbling under the bottom skin and some of the color on the deck top is already wearing off but for the price its good and she's tumbled through the white water several times without getting hurt and she loves playing in the pool with it, so its worth it from an entertainment standpoint.I sent it back because it is to much to disassemble when want to fold it and to use one must attach several accessories each and every time one uses this item.\",\n",
       " 'I have a set of twins and I need convenience not difficulties.',\n",
       " \"I need simplicity and this product is far from convenient.It's our favorite 'toy' for going to the beach.\",\n",
       " 'It hold many bag, chairs and towels, plus toys and mats.',\n",
       " 'We absolutely love it, it makes going to the beach so organized and easy.',\n",
       " 'The large wheels make it super easy to navigate even in deep sand, it never feels heavy.',\n",
       " 'You can pull it behind you or push it tipped off the smaller wheels.',\n",
       " 'Where have you been all my beach life?This cooler is amazing.',\n",
       " 'I bought it to make a live well for my boat.',\n",
       " 'It works great, plenty of room even after installing my homemade aerator.',\n",
       " 'Went to the Ohio River a few weeks ago and put 3 of the Big bags of polar ice in it.',\n",
       " 'Was down on the Ohio for 3 days and there was very little indication that the ice had melted.',\n",
       " 'I got back home and there was still ice in it a full week later.',\n",
       " 'Did I mention that I had drilled a few holes here and there to install my aerator?',\n",
       " 'Even with a few holes for screws, it still outlasted the length of time they advertised.Great blanket.',\n",
       " 'I use this for hammock camping in warmer weather, and carry it with me on long day hikes.',\n",
       " 'It comes in handy as both a blanket to keep me warm and something to sit on.',\n",
       " \"I also bring it along on family outings as it works well for something for my friend's children to lay and sit on, as well as for diaper changes.<br /><br />Very light, very packable, high quality in both the blanket and stuff sack.Get universal unless you are actually obese.\",\n",
       " 'Not to make anyone feel bad.. We ordered these for 3 adults and 1 teen.',\n",
       " 'All can wear comfortably.',\n",
       " 'You need to undo the straps on the sides ( they are looped into the vest) to adjust properly.',\n",
       " \"Adult 1: 220lbs, 5'9.\",\n",
       " 'Adult: 170lbs.',\n",
       " \"5'4.\",\n",
       " \"Adult 3: 160lbs 5'2.\",\n",
       " 'Teen 130lbs.',\n",
       " \"5'6.<br /><br />The vest sits well ( make sure you actually read how to fit it, and how it should sit for it to actually be effective)This saddle works great for city riding, I would definitely recommend it as a replacement if your current saddle is showing any signs of tearing.<br /><br />Another huge plus of this saddle is that it doesn't absorb water, so if it gets wet in the rain.\",\n",
       " 'It will be fine to sit on afterwards..I thought this was going to be a great buy after reading all the other reviews.',\n",
       " 'The first time we took it out we hit a small branch sticking out of the water and it ripped a small hole between the bottom and side of the kayak.',\n",
       " 'We took on some water so we had to go to shore and repair it.',\n",
       " 'The repair kit worked great and we were able to finish out trip.',\n",
       " 'Just very unhappy that a small branch could rip the hard rubber so easily.',\n",
       " \"I'm very afraid to use this again.\",\n",
       " \"Second issue: Both my husband and I are smaller people I'm 5'2 and he's 5'6.\",\n",
       " 'This boat was way to small for two people, we both were very cramped.',\n",
       " 'We took a small fold up cooler that holds a six pack and there was no room for it besides behind the rear passenger seat.',\n",
       " 'Which if you wanted to get to it you have to sit all the way forward cramping the other person even more so you can pull it out.<br />Now to be fair this kayak was very easy to inflate and deflate and did handle great on the river.',\n",
       " 'Next time we will try to use it, it will be a one man kayak not a two.',\n",
       " 'Wish me luck.I bought these because I read a review from someone in Seattle.',\n",
       " \"I'm in Oregon commuting to work 26 miles a day.\",\n",
       " 'These are great to squash down really small to pack as a just in case sort of thing but to depend on these for regular use is not practical.',\n",
       " \"It feels like I'm wearing paper and I'm constantly aware of them fearing I'll tear them with every move.\",\n",
       " 'They have their uses but not for me.',\n",
       " \"I've got about a 150 miles use out of them so far and they did keep most of the rain out.I've been searching for a good front and back light for my bike since I do alot of night riding.<br />So, this light itself had worked great and was exactly what I needed and wanted.<br />It's a 5 star!\",\n",
       " 'This thing was VERY easy to install, VERY easy to use, and BRIGHT!!',\n",
       " '!<br /><br />The package came very quickly!',\n",
       " '!<br />Great service!',\n",
       " 'Very satisifed with my purchase.The setup is just as quick and simple as the square type.',\n",
       " 'This has survived two windy rain storms and the water did not collect on top like my old square QuickShade.',\n",
       " 'The screen room is quick to attach and connects at both the top and bottom of the legs with bungee clips.',\n",
       " \"The dual zipper doors are convenient.Positives:<br />- Sets up quickly (just seconds)<br />- Folding it up is pretty quick once you get the hang of it<br />- waterproof floor<br /><br />Negatives:<br />- Can't fold it down any smaller than 20&#34;<br />-- I'd like the option to breakdown the fiberglass poles so I could pack this into a backpack or carryon<br />- Very few straps and pockets inside to keep stuff in<br />- An integrated and attached raincover for outdoors use would be very nice<br />- the floor is flat, it doesn't extend up a couple of inches to protect from backsplash from a heavy downpour or groundwaterVery light weight.\",\n",
       " 'Can fit a 4oz fuel tank in.',\n",
       " 'Handles get hot if you forget to fold them out.',\n",
       " 'Steam will burn you if the water is boiling and you try to use your fingers to take it off.',\n",
       " 'Solution is to use the little orange bag it comes with as a pot holder :)I have owned several of these fine umbrellas over the past 15 years so I new exactly what to expect.',\n",
       " 'I have 2 alike; one at each end of my pool deck and they add a colorful, festive, resort-like appearance to my back yard.',\n",
       " 'I hope Rio Brands always offers this product as I have never found a good 2nd choice for replacements.Etch is a great company but these are terrible holds.',\n",
       " 'Erosion is a great name for the holds because the texture is almost slippery not a good gritty feel.',\n",
       " 'The picture shows how big the hold is but what you get is actually 5 holds shown in the picture they should have put up.',\n",
       " 'All around misrepresentation and just poor quality holds.Fast shipping, and good price.',\n",
       " 'Good wheels, definitely for a skateboard or a penny board, maybe a cruiser.',\n",
       " \"They are a little small for a longboard, I'm sure people could get them to work but I think they are to small.\",\n",
       " 'ABEC 7 work they spin good but the drag from the motor in the wheels are noticeable.',\n",
       " \"I bought a pair with ABEC 9 and it wasn't much better.\",\n",
       " \"However after you break them in they are fine.first off let me say that I've done extensive research and have done a lot of reading about where to purchase from.\",\n",
       " \"I've read about many people getting ripped off by paying too much, by the unit being defective in some way or taking entirely to long to arrive...\",\n",
       " 'I decided to order from Wallygadgets through Amazon and was not disappointed in anyway..',\n",
       " 'I ordered 2 and they both came with the bag, the chargers and a remote for locking the unit.',\n",
       " 'They also came fully charged and ready to ride.',\n",
       " \"It took only 9 days to arrive and that's even including a 2 day hold from customs.\",\n",
       " 'ALL these devices come from China and are relatively reasonably priced.',\n",
       " \"In my opinion if you pay anything over 300.00 you're paying to much.\",\n",
       " 'As soon as they arrived we opened and started riding and riding and riding.',\n",
       " \"It's been a few days and have had no battery issues.\",\n",
       " \"I even decided to give mine a charge just cause I didn't want it to be dead when I got ready to ride again although it didn't need it.\",\n",
       " 'I would suggest getting some sort of protection from scratches and scuffs because until you learn to master it, you will beat it up.',\n",
       " \"We've banged it up pretty good and it hasn't skipped a beat.\",\n",
       " 'I plan on ordering a few more for my other adult kids and my wife cause it seems as though now she wants to ride.',\n",
       " 'Big fun.',\n",
       " 'Also get ready for a lot of people asking you about it.',\n",
       " 'Highly recommend this retailer.Used this on family vacation to keep the my daughter out of the sun.',\n",
       " 'It works great and was so easy to set up and fold back.<br /><br />I saw other people struggling on he beach while setting up their tents.',\n",
       " 'Ours was up and down in less then 2 minutes.',\n",
       " \"The pockets that hold sand keep the tent in place all day and are easy to empty at the end of the day.<br /><br />Great product, looking forward to seeing what else this company has to offer.This thing is sweet!<br />I'm in the military so there is alot of walking around or going to ranges where our only seat in the hard ground.\",\n",
       " 'Decided to buy this sweet little chair and boy was it worth it!',\n",
       " \"Everyone steals it away from me when I'm not looking have recommended to many people already.\",\n",
       " 'Can also hold a decent amount of weight to.',\n",
       " 'Definitely worth every penny and the few extra pounds of lugging it around.Not as bright as I had hoped, reading the reviews.',\n",
       " \"I first bought 3 and then bought 2 more.<br /><br />I mainly use them for car camping on weekends but they won't last for 2 night that is just used for cooking and dinner ( about 3 hours each night).\",\n",
       " 'I have to pack a spare set of batteries for each lantern.<br /><br />The battery compartment caps are not air tight.',\n",
       " 'I brought them to the beach for crabbing at nights and the battery terminals are rusted 3 days later.these work really well.',\n",
       " \"Have dropped the paddle a few time out fishing in rougher water when I get a fish on, and I'm sure that darn paddle would have been well out of reach by the time I landed the leviathan I was battling ( 4 lb rock fish, maybe) which makes it awkward getting back to shore.\",\n",
       " 'This has saved my bacon more than once.',\n",
       " ':-)This is a very compact bike rack design that is very easy to setup and use (on my 1998 Buick Century).',\n",
       " 'I got this so I could bring my bike to college and ended up bringing my friends bike as well.',\n",
       " 'The bike rack and bikes survived a 380 mile road trip without any of the straps coming loose or anything else going wrong.',\n",
       " \"This was a very affordable bike rack and I would definitely recommend it you're looking for something that's rather compact and at a really great price point.\",\n",
       " \"The picture is of the fit list that's on the back of the box this product came in.\",\n",
       " 'Hopefully this helps people out trying to see if it will fit their vehicle.',\n",
       " '(PS - I hope the photo loads as its full resolution so you can actually zoom in and read the list).Such a cute and comfortable dress.',\n",
       " 'The pattern and color is an easy match for anything and the straps come together in a sporty yet feminine v-shape in the back.',\n",
       " 'The dress is sturdy and made of high-quality material that is stretchy and breathable.',\n",
       " \"It's worth noting that the dress has a built-in bra that I really like.\",\n",
       " 'The built in bra fits like a sports bra and is more supportive than the type of built in bra that is just an extra layer of fabric with elastic at the bottom.',\n",
       " \"I'm 5'5&#34;, 125 lbs, small chest and athletic build, and the XS fit me perfectly.\",\n",
       " 'I also tried the size S and found it to be little bit too big for my taste, but it could work if I liked looser fitting clothing.These socks are very comfortable on my sensitive feet.',\n",
       " \"I am not wearing them for the warming effect, but I don't mind that either.\",\n",
       " 'I do wear the gloves in the winter to help keep my hands warm, and they are also very comfortable.',\n",
       " 'I wear them underneath another normal pair of gloves and those two together definitely keep my hands warmer.',\n",
       " 'This is my second pair, and I plan to keep on wearing both the socks and the gloves.Pros: Keeps things cold very well.',\n",
       " 'The top securely clasps and keeps water in.',\n",
       " 'Conversation starter (lots of people ask what it is, where I got it).',\n",
       " '750ml volume.',\n",
       " 'The inner container is durable.',\n",
       " 'You can print out your own picture or quote to place in the lid to personalize it.<br /><br />Cons: Does not fit in a standard car cup holder.',\n",
       " 'Difficult (but not impossible) to clean, even with a bottle brush.',\n",
       " \"Don't get the &#34;chrome&#34; version, it scratches and the &#34;chrome&#34; covering comes off, revealing plastic under it.\",\n",
       " \"The outer container cracked the first time I dropped it, from about 2 feet off the ground (inner container has not leaked though).<br /><br />Overall: Mine is pretty beat up from daily use over the last 6 months, but it's still a great bottle.\",\n",
       " 'Ice water is cold hours after filling it.',\n",
       " 'The top opens easily for drinking and stay shut to avoid spills.',\n",
       " 'The only things that could have made this better would have been an actual metal protective covering and the ability to use it in a standard car cup holder.',\n",
       " \"I'll definitely get another of Kor's water bottles in the future.My sister purchased some Tower paddle boards last year and we really liked them.\",\n",
       " 'This year we decided to purchase two of our own.',\n",
       " 'Tower has made some improvements on the new ones!',\n",
       " 'They are lighter, the fin attaches easier to the bottom, and the paddles are lighter and better.',\n",
       " 'We usually take our kids out with us, they sit on the front or back of the board and we all have a great time.',\n",
       " 'This is a great way to get into the sport.',\n",
       " 'Tower boards are extremely rigid and durable.',\n",
       " 'Neither us nor my sister have had any problems with the boards.',\n",
       " 'They also have great customer service, we got a nice thank you not in the mail after we ordered.After I opened the package I tried to open the umbrella.',\n",
       " 'Somehow it was broken and no matter what I tried it would not open.',\n",
       " \"I could see the mechanism to opener was busted and I couldn't fix it at all.\",\n",
       " 'The inside was really cheap how the spokes were kept together.',\n",
       " 'Not a good buy.Everthing as promised.',\n",
       " 'It helps to keep 32 oz hydro flask colder for a longer period of time<br />The sleeve with the strap makes it very convenient to carry the hydro flask while walking<br />The strap as is cuts into my shoulder.',\n",
       " \"It would be perfect if the strap was at least 2 inches wide with a shoulder pad<br />But it is still a great accessory to the bottleit wasn't even water resistant.\",\n",
       " 'its def not waterproof.',\n",
       " \"and the mesh straps couldn't hold much weight and started ripping immediately even though i didn't have much weight in the backpack.\",\n",
       " 'i would not suggest buying this.<br /><br />the only pro about it is the size is perfect and it can be easily stuffed into itself and turned into a fanny pack and is easily storable.This is exactly what I wanted.',\n",
       " 'A sturdy bag that goes over one shoulder -- and I wear it cross body.<br />Just a perfect bag for me: the right amount of zipped secure pockets, soft but hearty fabric, and quality zippers.',\n",
       " 'Well sewn seams.',\n",
       " \"I use this as my purse everyday (I'm female) even though I believe it is marketed as a man's bag.\",\n",
       " \"It's functional, comfortable, and suits me to a tee.I am just getting back into riding after letting myself &#34;outgrow&#34; all my nice cycling clothes.\",\n",
       " \"I bought these shorts so that I'd have something cheap to hold me over while I lose weight.\",\n",
       " 'These fit the bill.',\n",
       " 'They are pretty crappy cycling shorts but they are very inexpensive.',\n",
       " \"I can already tell they are wearing fairly quickly, especially keeping in mind that I own plenty of premium brand $100 shorts that I've had for a decade and are still holding up fine.<br /><br />Bottom line is that these are good if you are still reeling from paying for a new bike and want to put off buying expensive shorts for a while, OR if you are like me and need something that fits until you can squeeze back into the quality shorts.\",\n",
       " \"If you plan on being about the same size for a while I would STRONGLY suggest paying $80+ dollars for quality shorts that are both more comfortable and much more durable.I'm 5'6&#34; and 125 lbs with broad shoulders and I bought a medium.\",\n",
       " 'The neck is a little bulky but that is my only complaint.',\n",
       " \"It does fold down so you don't have to have it jutting into your chin unless you want to.\",\n",
       " 'Chest pocket is useful for ipod or phone.',\n",
       " \"Not much of a bargain, but it's Marmot, so I wasn''t expecting much of a bargain.We purchased four of these in December.\",\n",
       " 'One has had a strange noise in the engine since we opened the box and a  second scooter failed totally in June.',\n",
       " ...]"
      ]
     },
     "execution_count": 34,
     "metadata": {
      "tags": []
     },
     "output_type": "execute_result"
    }
   ],
   "source": [
    "corpus"
   ]
  },
  {
   "cell_type": "markdown",
   "metadata": {
    "id": "NWmY1UM2QOQa"
   },
   "source": [
    "### Text cleaning"
   ]
  },
  {
   "cell_type": "markdown",
   "metadata": {
    "id": "5scATmLXQRbu"
   },
   "source": [
    "We would like to clean the text by means of:\n",
    "\n",
    "* use lowercase\n",
    "* drop punctuation marks"
   ]
  },
  {
   "cell_type": "code",
   "execution_count": 42,
   "metadata": {
    "executionInfo": {
     "elapsed": 400259,
     "status": "ok",
     "timestamp": 1627029334439,
     "user": {
      "displayName": "Ignacio Soteras",
      "photoUrl": "",
      "userId": "02050793736257155229"
     },
     "user_tz": -120
    },
    "id": "gojOfRrWQbxr"
   },
   "outputs": [],
   "source": [
    "for i in range(len(corpus)):\n",
    "    corpus[i] = corpus[i].lower()\n",
    "    corpus[i] = re.sub(r'\\W+',' ',corpus[i]) # Replace everything non-alpahnumeric by ' '\n",
    "    corpus[i] = re.sub(r'\\s+',' ',corpus[i]) # Replace one or more whitespaces by  ' '\n",
    "    corpus[i] = re.sub(r'\\d+',' ',corpus[i]) # Replace one or more digits by  ' '\n",
    "    corpus[i] = re.sub(r'([a-z0-9+._-]+@[a-z0-9+._-]+\\.[a-z0-9+_-]+)',\" \", corpus[i]) # Replace e-mails by ''\n",
    "    # Replace urls by ''\n",
    "    corpus[i] = re.sub(r'(http|https|ftp|ssh)://([\\w_-]+(?:(?:\\.[\\w_-]+)+))([\\w.,@?^=%&:/~+#-]*[\\w@?^=%&/~+#-])?', ' ' , corpus[i]) \n",
    "    # Replace html tags by ''\n",
    "    corpus[i] = BeautifulSoup(corpus[i], 'lxml').get_text().strip()"
   ]
  },
  {
   "cell_type": "markdown",
   "metadata": {
    "id": "V1tD_NeLQ0Zw"
   },
   "source": [
    "Let's see how big is our corpus."
   ]
  },
  {
   "cell_type": "code",
   "execution_count": 43,
   "metadata": {
    "colab": {
     "base_uri": "https://localhost:8080/"
    },
    "executionInfo": {
     "elapsed": 517,
     "status": "ok",
     "timestamp": 1627029342740,
     "user": {
      "displayName": "Ignacio Soteras",
      "photoUrl": "",
      "userId": "02050793736257155229"
     },
     "user_tz": -120
    },
    "id": "0ssAaTQeQyUs",
    "outputId": "0e06c7b0-59d9-4321-cfaf-a00563739f66"
   },
   "outputs": [
    {
     "name": "stdout",
     "output_type": "stream",
     "text": [
      "1711402\n"
     ]
    }
   ],
   "source": [
    "print(len(corpus))"
   ]
  },
  {
   "cell_type": "markdown",
   "metadata": {
    "id": "dEVpiTpgQ97j"
   },
   "source": [
    "Let's take a sample review."
   ]
  },
  {
   "cell_type": "code",
   "execution_count": 44,
   "metadata": {
    "colab": {
     "base_uri": "https://localhost:8080/"
    },
    "executionInfo": {
     "elapsed": 350,
     "status": "ok",
     "timestamp": 1627029351554,
     "user": {
      "displayName": "Ignacio Soteras",
      "photoUrl": "",
      "userId": "02050793736257155229"
     },
     "user_tz": -120
    },
    "id": "A28BPj_BQ6-C",
    "outputId": "033e3096-2ca9-44a4-ded2-c27ef796bcec"
   },
   "outputs": [
    {
     "name": "stdout",
     "output_type": "stream",
     "text": [
      "drink stayed as cold as when i first poured\n"
     ]
    }
   ],
   "source": [
    "print(corpus[30])"
   ]
  },
  {
   "cell_type": "markdown",
   "metadata": {
    "id": "pI3qF_yQRESk"
   },
   "source": [
    "### Tokenizing the corpus"
   ]
  },
  {
   "cell_type": "markdown",
   "metadata": {
    "id": "xX2R2EDaRG8F"
   },
   "source": [
    "Now, what we want is to get how many times a word appears in the reviews: we want to count words. For that, we are going to use a dictionary in which the keys will be the words, and the values the corresponding frequencies of them"
   ]
  },
  {
   "cell_type": "code",
   "execution_count": 45,
   "metadata": {
    "executionInfo": {
     "elapsed": 17227,
     "status": "ok",
     "timestamp": 1627029476844,
     "user": {
      "displayName": "Ignacio Soteras",
      "photoUrl": "",
      "userId": "02050793736257155229"
     },
     "user_tz": -120
    },
    "id": "_vXZ0ltcRage"
   },
   "outputs": [],
   "source": [
    "wordfreq = {}\n",
    "for sentence in corpus:\n",
    "    words = sentence.split()\n",
    "    #tokens = nltk.word_tokenize(sentence) # To get the words, it can be also done with sentence.split()\n",
    "    for word in words:\n",
    "        if ( word not in wordfreq.keys() ): ## first time appearnce in the sentence\n",
    "            wordfreq[word] = 1 # We initialize the corresponding counter\n",
    "        else: ## if the world is already existed in the dictionalry \n",
    "            wordfreq[word] += 1 # We increase the corresponding counter\n",
    "    "
   ]
  },
  {
   "cell_type": "markdown",
   "metadata": {
    "id": "jFn76vfyR2Bk"
   },
   "source": [
    "Let's get how many words we have in our corpus."
   ]
  },
  {
   "cell_type": "code",
   "execution_count": 46,
   "metadata": {
    "colab": {
     "base_uri": "https://localhost:8080/"
    },
    "executionInfo": {
     "elapsed": 352,
     "status": "ok",
     "timestamp": 1627029499138,
     "user": {
      "displayName": "Ignacio Soteras",
      "photoUrl": "",
      "userId": "02050793736257155229"
     },
     "user_tz": -120
    },
    "id": "lw0JjokTRr53",
    "outputId": "65d26a5a-d033-4a93-e751-a69f25dd92eb"
   },
   "outputs": [
    {
     "data": {
      "text/plain": [
       "112176"
      ]
     },
     "execution_count": 46,
     "metadata": {},
     "output_type": "execute_result"
    }
   ],
   "source": [
    "len(list(wordfreq.keys()))"
   ]
  },
  {
   "cell_type": "markdown",
   "metadata": {
    "id": "WKorDpIRR8qI"
   },
   "source": [
    "This amount is insanely big to create a dataframe. Clearly, we need to reduce this. Let's pick only the most frequent words"
   ]
  },
  {
   "cell_type": "markdown",
   "metadata": {
    "id": "QXKzmT09SPnN"
   },
   "source": [
    "### Reducing the corpus"
   ]
  },
  {
   "cell_type": "markdown",
   "metadata": {
    "id": "YNNrQP5wiILV"
   },
   "source": [
    "There are two approaches for this:\n",
    "\n",
    "* drop \"stopwords\" (articles, prepositions,...etc)\n",
    "* use TF-IDF\n",
    "\n",
    "In this notebook we are going to use first the \"stopwords\" approach"
   ]
  },
  {
   "cell_type": "markdown",
   "metadata": {
    "id": "-jvu3m26yPoL"
   },
   "source": [
    "All the languages have some words which doesn't carry meaning, they are just to concatenate words. Those are typically articles, prepositions,...etc and therefore are useless for our pourposses. Then we would like to drop them. Fortunatelly the nltk library comes with a set of **stop words** for several languages although it's not perfect and you may want to tweek it a bit."
   ]
  },
  {
   "cell_type": "code",
   "execution_count": 47,
   "metadata": {
    "colab": {
     "base_uri": "https://localhost:8080/"
    },
    "executionInfo": {
     "elapsed": 435,
     "status": "ok",
     "timestamp": 1627029617071,
     "user": {
      "displayName": "Ignacio Soteras",
      "photoUrl": "",
      "userId": "02050793736257155229"
     },
     "user_tz": -120
    },
    "id": "wCjFdhJDS1I_",
    "outputId": "ded6a624-1b4b-4674-eecd-2b5517b16090"
   },
   "outputs": [
    {
     "data": {
      "text/plain": [
       "['i',\n",
       " 'me',\n",
       " 'my',\n",
       " 'myself',\n",
       " 'we',\n",
       " 'our',\n",
       " 'ours',\n",
       " 'ourselves',\n",
       " 'you',\n",
       " \"you're\",\n",
       " \"you've\",\n",
       " \"you'll\",\n",
       " \"you'd\",\n",
       " 'your',\n",
       " 'yours',\n",
       " 'yourself',\n",
       " 'yourselves',\n",
       " 'he',\n",
       " 'him',\n",
       " 'his',\n",
       " 'himself',\n",
       " 'she',\n",
       " \"she's\",\n",
       " 'her',\n",
       " 'hers',\n",
       " 'herself',\n",
       " 'it',\n",
       " \"it's\",\n",
       " 'its',\n",
       " 'itself',\n",
       " 'they',\n",
       " 'them',\n",
       " 'their',\n",
       " 'theirs',\n",
       " 'themselves',\n",
       " 'what',\n",
       " 'which',\n",
       " 'who',\n",
       " 'whom',\n",
       " 'this',\n",
       " 'that',\n",
       " \"that'll\",\n",
       " 'these',\n",
       " 'those',\n",
       " 'am',\n",
       " 'is',\n",
       " 'are',\n",
       " 'was',\n",
       " 'were',\n",
       " 'be',\n",
       " 'been',\n",
       " 'being',\n",
       " 'have',\n",
       " 'has',\n",
       " 'had',\n",
       " 'having',\n",
       " 'do',\n",
       " 'does',\n",
       " 'did',\n",
       " 'doing',\n",
       " 'a',\n",
       " 'an',\n",
       " 'the',\n",
       " 'and',\n",
       " 'but',\n",
       " 'if',\n",
       " 'or',\n",
       " 'because',\n",
       " 'as',\n",
       " 'until',\n",
       " 'while',\n",
       " 'of',\n",
       " 'at',\n",
       " 'by',\n",
       " 'for',\n",
       " 'with',\n",
       " 'about',\n",
       " 'against',\n",
       " 'between',\n",
       " 'into',\n",
       " 'through',\n",
       " 'during',\n",
       " 'before',\n",
       " 'after',\n",
       " 'above',\n",
       " 'below',\n",
       " 'to',\n",
       " 'from',\n",
       " 'up',\n",
       " 'down',\n",
       " 'in',\n",
       " 'out',\n",
       " 'on',\n",
       " 'off',\n",
       " 'over',\n",
       " 'under',\n",
       " 'again',\n",
       " 'further',\n",
       " 'then',\n",
       " 'once',\n",
       " 'here',\n",
       " 'there',\n",
       " 'when',\n",
       " 'where',\n",
       " 'why',\n",
       " 'how',\n",
       " 'all',\n",
       " 'any',\n",
       " 'both',\n",
       " 'each',\n",
       " 'few',\n",
       " 'more',\n",
       " 'most',\n",
       " 'other',\n",
       " 'some',\n",
       " 'such',\n",
       " 'no',\n",
       " 'nor',\n",
       " 'not',\n",
       " 'only',\n",
       " 'own',\n",
       " 'same',\n",
       " 'so',\n",
       " 'than',\n",
       " 'too',\n",
       " 'very',\n",
       " 's',\n",
       " 't',\n",
       " 'can',\n",
       " 'will',\n",
       " 'just',\n",
       " 'don',\n",
       " \"don't\",\n",
       " 'should',\n",
       " \"should've\",\n",
       " 'now',\n",
       " 'd',\n",
       " 'll',\n",
       " 'm',\n",
       " 'o',\n",
       " 're',\n",
       " 've',\n",
       " 'y',\n",
       " 'ain',\n",
       " 'aren',\n",
       " \"aren't\",\n",
       " 'couldn',\n",
       " \"couldn't\",\n",
       " 'didn',\n",
       " \"didn't\",\n",
       " 'doesn',\n",
       " \"doesn't\",\n",
       " 'hadn',\n",
       " \"hadn't\",\n",
       " 'hasn',\n",
       " \"hasn't\",\n",
       " 'haven',\n",
       " \"haven't\",\n",
       " 'isn',\n",
       " \"isn't\",\n",
       " 'ma',\n",
       " 'mightn',\n",
       " \"mightn't\",\n",
       " 'mustn',\n",
       " \"mustn't\",\n",
       " 'needn',\n",
       " \"needn't\",\n",
       " 'shan',\n",
       " \"shan't\",\n",
       " 'shouldn',\n",
       " \"shouldn't\",\n",
       " 'wasn',\n",
       " \"wasn't\",\n",
       " 'weren',\n",
       " \"weren't\",\n",
       " 'won',\n",
       " \"won't\",\n",
       " 'wouldn',\n",
       " \"wouldn't\"]"
      ]
     },
     "execution_count": 47,
     "metadata": {},
     "output_type": "execute_result"
    }
   ],
   "source": [
    "from nltk.corpus import stopwords\n",
    "\n",
    "stop_words = list(stopwords.words('english')) \n",
    "stop_words"
   ]
  },
  {
   "cell_type": "markdown",
   "metadata": {
    "id": "O16pr2sDV6BX"
   },
   "source": [
    "Cleaning the stopwords"
   ]
  },
  {
   "cell_type": "code",
   "execution_count": 49,
   "metadata": {
    "colab": {
     "base_uri": "https://localhost:8080/"
    },
    "executionInfo": {
     "elapsed": 383,
     "status": "ok",
     "timestamp": 1627029668427,
     "user": {
      "displayName": "Ignacio Soteras",
      "photoUrl": "",
      "userId": "02050793736257155229"
     },
     "user_tz": -120
    },
    "id": "4KFS4EGdV9D1",
    "outputId": "f0260a09-6bb8-4ebd-9c2c-7047a325cb37"
   },
   "outputs": [
    {
     "data": {
      "text/plain": [
       "['i',\n",
       " 'me',\n",
       " 'my',\n",
       " 'myself',\n",
       " 'we',\n",
       " 'our',\n",
       " 'ours',\n",
       " 'ourselves',\n",
       " 'you',\n",
       " 'you',\n",
       " 'you',\n",
       " 'you',\n",
       " 'you',\n",
       " 'your',\n",
       " 'yours',\n",
       " 'yourself',\n",
       " 'yourselves',\n",
       " 'he',\n",
       " 'him',\n",
       " 'his',\n",
       " 'himself',\n",
       " 'she',\n",
       " 'she',\n",
       " 'her',\n",
       " 'hers',\n",
       " 'herself',\n",
       " 'it',\n",
       " 'it',\n",
       " 'its',\n",
       " 'itself',\n",
       " 'they',\n",
       " 'them',\n",
       " 'their',\n",
       " 'theirs',\n",
       " 'themselves',\n",
       " 'what',\n",
       " 'which',\n",
       " 'who',\n",
       " 'whom',\n",
       " 'this',\n",
       " 'that',\n",
       " 'that',\n",
       " 'these',\n",
       " 'those',\n",
       " 'am',\n",
       " 'is',\n",
       " 'are',\n",
       " 'was',\n",
       " 'were',\n",
       " 'be',\n",
       " 'been',\n",
       " 'being',\n",
       " 'have',\n",
       " 'has',\n",
       " 'had',\n",
       " 'having',\n",
       " 'do',\n",
       " 'does',\n",
       " 'did',\n",
       " 'doing',\n",
       " 'a',\n",
       " 'an',\n",
       " 'the',\n",
       " 'and',\n",
       " 'but',\n",
       " 'if',\n",
       " 'or',\n",
       " 'because',\n",
       " 'as',\n",
       " 'until',\n",
       " 'while',\n",
       " 'of',\n",
       " 'at',\n",
       " 'by',\n",
       " 'for',\n",
       " 'with',\n",
       " 'about',\n",
       " 'against',\n",
       " 'between',\n",
       " 'into',\n",
       " 'through',\n",
       " 'during',\n",
       " 'before',\n",
       " 'after',\n",
       " 'above',\n",
       " 'below',\n",
       " 'to',\n",
       " 'from',\n",
       " 'up',\n",
       " 'down',\n",
       " 'in',\n",
       " 'out',\n",
       " 'on',\n",
       " 'off',\n",
       " 'over',\n",
       " 'under',\n",
       " 'again',\n",
       " 'further',\n",
       " 'then',\n",
       " 'once',\n",
       " 'here',\n",
       " 'there',\n",
       " 'when',\n",
       " 'where',\n",
       " 'why',\n",
       " 'how',\n",
       " 'all',\n",
       " 'any',\n",
       " 'both',\n",
       " 'each',\n",
       " 'few',\n",
       " 'more',\n",
       " 'most',\n",
       " 'other',\n",
       " 'some',\n",
       " 'such',\n",
       " 'no',\n",
       " 'nor',\n",
       " 'not',\n",
       " 'only',\n",
       " 'own',\n",
       " 'same',\n",
       " 'so',\n",
       " 'than',\n",
       " 'too',\n",
       " 'very',\n",
       " 's',\n",
       " 't',\n",
       " 'can',\n",
       " 'will',\n",
       " 'just',\n",
       " 'don',\n",
       " 'don',\n",
       " 'should',\n",
       " 'should',\n",
       " 'now',\n",
       " 'd',\n",
       " 'll',\n",
       " 'm',\n",
       " 'o',\n",
       " 're',\n",
       " 've',\n",
       " 'y',\n",
       " 'ain',\n",
       " 'aren',\n",
       " 'aren',\n",
       " 'couldn',\n",
       " 'couldn',\n",
       " 'didn',\n",
       " 'didn',\n",
       " 'doesn',\n",
       " 'doesn',\n",
       " 'hadn',\n",
       " 'hadn',\n",
       " 'hasn',\n",
       " 'hasn',\n",
       " 'haven',\n",
       " 'haven',\n",
       " 'isn',\n",
       " 'isn',\n",
       " 'ma',\n",
       " 'mightn',\n",
       " 'mightn',\n",
       " 'mustn',\n",
       " 'mustn',\n",
       " 'needn',\n",
       " 'needn',\n",
       " 'shan',\n",
       " 'shan',\n",
       " 'shouldn',\n",
       " 'shouldn',\n",
       " 'wasn',\n",
       " 'wasn',\n",
       " 'weren',\n",
       " 'weren',\n",
       " 'won',\n",
       " 'won',\n",
       " 'wouldn',\n",
       " 'wouldn']"
      ]
     },
     "execution_count": 49,
     "metadata": {},
     "output_type": "execute_result"
    }
   ],
   "source": [
    "for i in range(len(stop_words)):\n",
    "    stop_words[i] = re.sub(r\"\\s*'\\s*\\w*\",\"\",stop_words[i])\n",
    "\n",
    "#stop_words = [word for word in list(np.unique(stop_words)) if len(word) > 1]\n",
    "stop_words"
   ]
  },
  {
   "cell_type": "markdown",
   "metadata": {
    "id": "3BS2EDuDtP-z"
   },
   "source": [
    "Now let's drop the stop words and get how many times appear every non stopword in the whole dataset."
   ]
  },
  {
   "cell_type": "code",
   "execution_count": 50,
   "metadata": {
    "executionInfo": {
     "elapsed": 812,
     "status": "ok",
     "timestamp": 1627029770152,
     "user": {
      "displayName": "Ignacio Soteras",
      "photoUrl": "",
      "userId": "02050793736257155229"
     },
     "user_tz": -120
    },
    "id": "xBmkCDjftPq6"
   },
   "outputs": [],
   "source": [
    "corpus = [(wordfreq[key],key) for key in list(wordfreq.keys()) if key not in stop_words]"
   ]
  },
  {
   "cell_type": "code",
   "execution_count": 51,
   "metadata": {
    "colab": {
     "base_uri": "https://localhost:8080/"
    },
    "executionInfo": {
     "elapsed": 400,
     "status": "ok",
     "timestamp": 1627029773198,
     "user": {
      "displayName": "Ignacio Soteras",
      "photoUrl": "",
      "userId": "02050793736257155229"
     },
     "user_tz": -120
    },
    "id": "I_Qf3rHh1X1t",
    "outputId": "14a4ba28-6b0e-4ea4-abb1-d8d613f84f04"
   },
   "outputs": [
    {
     "data": {
      "text/plain": [
       "[(42837, 'nice'),\n",
       " (84575, 'bag'),\n",
       " (27373, 'another'),\n",
       " (18830, 'strap'),\n",
       " (20489, 'bottom'),\n",
       " (24983, 'something'),\n",
       " (23491, 'hold'),\n",
       " (3159, 'securely'),\n",
       " (72462, 'also'),\n",
       " (22086, 'say'),\n",
       " (5759, 'waterproof'),\n",
       " (120555, 'would'),\n",
       " (114153, 'like'),\n",
       " (224, 'verify'),\n",
       " (10388, 'anyone'),\n",
       " (878, 'wondering'),\n",
       " (1364, 'rained'),\n",
       " (15462, 'minutes'),\n",
       " (30567, 'ride'),\n",
       " (5079, 'entire'),\n",
       " (166, 'saturated'),\n",
       " (16280, 'everything'),\n",
       " (1230, 'soaked'),\n",
       " (14328, 'second'),\n",
       " (64295, 'time'),\n",
       " (11524, 'buying'),\n",
       " (7982, 'system'),\n",
       " (135, 'rad'),\n",
       " (2093, 'cycle'),\n",
       " (29546, 'works'),\n",
       " (100412, 'well'),\n",
       " (42510, 'price'),\n",
       " (2661, 'reasonable'),\n",
       " (1082, 'opens'),\n",
       " (2587, 'garage'),\n",
       " (6494, 'floor'),\n",
       " (32511, 'thing'),\n",
       " (2479, 'aware'),\n",
       " (3541, 'installation'),\n",
       " (21948, 'hard'),\n",
       " (4183, 'likely'),\n",
       " (2469, 'require'),\n",
       " (1543, 'attaching'),\n",
       " (12060, 'board'),\n",
       " (7698, 'attached'),\n",
       " (1179, 'ceiling'),\n",
       " (4877, 'option'),\n",
       " (16577, 'comes'),\n",
       " (707, 'integrated'),\n",
       " (37216, 'make'),\n",
       " (66667, 'little'),\n",
       " (3144, 'faster'),\n",
       " (51060, 'first'),\n",
       " (58149, 'bought'),\n",
       " (3693, 'worried'),\n",
       " (8212, 'star'),\n",
       " (4286, 'rating'),\n",
       " (2542, 'saying'),\n",
       " (6624, 'pedals'),\n",
       " (8571, 'started'),\n",
       " (118, 'creaking'),\n",
       " (3291, 'relatively'),\n",
       " (29145, 'new'),\n",
       " (5433, 'anyway'),\n",
       " (6707, 'glad'),\n",
       " (16851, 'road'),\n",
       " (102353, 'use'),\n",
       " (154856, 'one'),\n",
       " (7049, 'start'),\n",
       " (71, 'creak'),\n",
       " (4503, 'fix'),\n",
       " (32280, 'take'),\n",
       " (233, 'axles'),\n",
       " (28081, 'sure'),\n",
       " (3642, 'bearings'),\n",
       " (3250, 'adjusted'),\n",
       " (5517, 'properly'),\n",
       " (57, 'repacked'),\n",
       " (1508, 'grease'),\n",
       " (37228, 'love'),\n",
       " (9006, 'reason'),\n",
       " (17771, 'give'),\n",
       " (15890, 'stars'),\n",
       " (225, 'fiddle'),\n",
       " (3415, 'basically'),\n",
       " (4527, 'returned'),\n",
       " (15851, 'pair'),\n",
       " (1397, 'roller'),\n",
       " (300, 'derby'),\n",
       " (3664, 'skates'),\n",
       " (17431, 'couple'),\n",
       " (9583, 'weeks'),\n",
       " (8171, 'ago'),\n",
       " (5397, 'replaced'),\n",
       " (642, 'reviewed'),\n",
       " (4241, 'save'),\n",
       " (16362, 'money'),\n",
       " (2016, 'hassle'),\n",
       " (36245, 'buy'),\n",
       " (11075, 'instead'),\n",
       " (441173, 'br'),\n",
       " (1008, 'amazingly'),\n",
       " (106325, 'great'),\n",
       " (1688, 'blades'),\n",
       " (22802, 'feel'),\n",
       " (4865, 'paid'),\n",
       " (29138, 'since'),\n",
       " (34275, 'comfortable'),\n",
       " (6771, 'smooth'),\n",
       " (8970, 'ground'),\n",
       " (669, 'crappy'),\n",
       " (123, 'boa'),\n",
       " (138, 'lacing'),\n",
       " (5, 'plagues'),\n",
       " (21536, 'many'),\n",
       " (2138, 'k'),\n",
       " (6300, 'guess'),\n",
       " (7342, 'tell'),\n",
       " (41718, 'long'),\n",
       " (922, 'laces'),\n",
       " (26164, 'far'),\n",
       " (6279, 'simply'),\n",
       " (1371, 'draw'),\n",
       " (16378, 'tight'),\n",
       " (2311, 'pulling'),\n",
       " (291, 'tongue'),\n",
       " (10196, 'stay'),\n",
       " (1360, 'skating'),\n",
       " (1398, 'wanting'),\n",
       " (93291, 'get'),\n",
       " (2249, 'skate'),\n",
       " (7433, 'mm'),\n",
       " (14184, 'wheels'),\n",
       " (29505, 'old'),\n",
       " (18, 'cruddy'),\n",
       " (1669, 'terrain'),\n",
       " (848, 'rocky'),\n",
       " (445, 'sandy'),\n",
       " (1218, 'pleasantly'),\n",
       " (4872, 'surprised'),\n",
       " (596, 'glide'),\n",
       " (39, 'imperfect'),\n",
       " (1395, 'surfaces'),\n",
       " (313, 'resist'),\n",
       " (2269, 'rocks'),\n",
       " (717, 'debris'),\n",
       " (30859, 'think'),\n",
       " (6767, 'shape'),\n",
       " (64684, 'fit'),\n",
       " (12360, 'feet'),\n",
       " (383, 'deserves'),\n",
       " (1266, 'credit'),\n",
       " (950, 'operation'),\n",
       " (122, 'ergonomically'),\n",
       " (1415, 'superior'),\n",
       " (55789, 'even'),\n",
       " (39170, 'better'),\n",
       " (24986, 'last'),\n",
       " (2907, 'pairs'),\n",
       " (9540, 'completely'),\n",
       " (39973, 'way'),\n",
       " (1712, 'toe'),\n",
       " (17131, 'box'),\n",
       " (3562, 'padded'),\n",
       " (4176, 'average'),\n",
       " (2693, 'width'),\n",
       " (7758, 'foot'),\n",
       " (2588, 'effective'),\n",
       " (1268, 'ankle'),\n",
       " (114, 'laced'),\n",
       " (280, 'clunky'),\n",
       " (14, 'contraction'),\n",
       " (1188, 'extension'),\n",
       " (22, 'superhero'),\n",
       " (8711, 'speed'),\n",
       " (3021, 'ability'),\n",
       " (18965, 'probably'),\n",
       " (12870, 'miles'),\n",
       " (14626, 'cheap'),\n",
       " (4935, 'twice'),\n",
       " (14310, 'item'),\n",
       " (9917, 'awesome'),\n",
       " (10511, 'holds'),\n",
       " (1642, 'temp'),\n",
       " (5972, 'plan'),\n",
       " (2665, 'traveling'),\n",
       " (1793, 'period'),\n",
       " (17939, 'overall'),\n",
       " (17541, 'design'),\n",
       " (17802, 'handle'),\n",
       " (44691, 'around'),\n",
       " (8010, 'body'),\n",
       " (32125, 'big'),\n",
       " (11169, 'hands'),\n",
       " (218, 'knuckles'),\n",
       " (4122, 'touch'),\n",
       " (1486, 'rub'),\n",
       " (6088, 'holding'),\n",
       " (25828, 'problem'),\n",
       " (25265, 'though'),\n",
       " (8211, 'keeps'),\n",
       " (3680, 'temperature'),\n",
       " (85785, 'good'),\n",
       " (10845, 'quick'),\n",
       " (852, 'rinse'),\n",
       " (55436, 'easy'),\n",
       " (47694, 'put'),\n",
       " (1474, 'sink'),\n",
       " (1283, 'brush'),\n",
       " (4259, 'minor'),\n",
       " (145, 'scrubbing'),\n",
       " (9467, 'wide'),\n",
       " (1203, 'spout'),\n",
       " (5373, 'fill'),\n",
       " (983, 'pour'),\n",
       " (22643, 'able'),\n",
       " (489, 'unlock'),\n",
       " (6969, 'lid'),\n",
       " (14986, 'hand'),\n",
       " (20116, 'may'),\n",
       " (9144, 'takes'),\n",
       " (442, 'attempts'),\n",
       " (413, 'technique'),\n",
       " (2979, 'locks'),\n",
       " (11181, 'durable'),\n",
       " (4902, 'build'),\n",
       " (123, 'government'),\n",
       " (1272, 'label'),\n",
       " (29933, 'see'),\n",
       " (5516, 'local'),\n",
       " (86, 'growler'),\n",
       " (158, 'rules'),\n",
       " (1805, 'state'),\n",
       " (219, 'laws'),\n",
       " (3409, 'complaints'),\n",
       " (6385, 'test'),\n",
       " (7030, 'note'),\n",
       " (2730, 'accurate'),\n",
       " (5893, 'reading'),\n",
       " (6172, 'idea'),\n",
       " (437, 'poured'),\n",
       " (5437, 'oz'),\n",
       " (87, 'beers'),\n",
       " (11499, 'left'),\n",
       " (13556, 'hours'),\n",
       " (21021, 'room'),\n",
       " (1583, 'exposed'),\n",
       " (1233, 'direct'),\n",
       " (795, 'sunlight'),\n",
       " (252, 'drank'),\n",
       " (5163, 'drink'),\n",
       " (3846, 'stayed'),\n",
       " (19368, 'cold'),\n",
       " (6675, 'leave'),\n",
       " (793, 'beer'),\n",
       " (2488, 'overnight'),\n",
       " (8941, 'held'),\n",
       " (2214, 'downside'),\n",
       " (12731, 'next'),\n",
       " (5122, 'morning'),\n",
       " (6253, 'noticed'),\n",
       " (37665, 'go'),\n",
       " (10053, 'flat'),\n",
       " (2653, 'understand'),\n",
       " (2486, 'happen'),\n",
       " (18324, 'wanted'),\n",
       " (262, 'noting'),\n",
       " (521, 'surprising'),\n",
       " (1973, 'personally'),\n",
       " (34495, 'recommend'),\n",
       " (13929, 'longer'),\n",
       " (1342, 'pinch'),\n",
       " (5642, 'five'),\n",
       " (1011, 'anyways'),\n",
       " (1705, 'starts'),\n",
       " (5948, 'recommended'),\n",
       " (1826, 'max'),\n",
       " (14021, 'highly'),\n",
       " (3539, 'filled'),\n",
       " (8311, 'designed'),\n",
       " (2926, 'directly'),\n",
       " (26284, 'purchased'),\n",
       " (114204, 'bike'),\n",
       " (56368, 'two'),\n",
       " (24325, 'year'),\n",
       " (11832, 'son'),\n",
       " (1146, 'receiving'),\n",
       " (933, 'approximately'),\n",
       " (7063, 'inches'),\n",
       " (6290, 'tall'),\n",
       " (14817, 'perfectly'),\n",
       " (26035, 'seat'),\n",
       " (6091, 'post'),\n",
       " (3528, 'giving'),\n",
       " (6404, 'lots'),\n",
       " (168, 'growth'),\n",
       " (7500, 'gave'),\n",
       " (586, 'march'),\n",
       " (1116, 'writing'),\n",
       " (14456, 'review'),\n",
       " (651, 'august'),\n",
       " (13684, 'months'),\n",
       " (6907, 'experience'),\n",
       " (33189, 'using'),\n",
       " (10252, 'arrived'),\n",
       " (54211, 'small'),\n",
       " (5434, 'assembly'),\n",
       " (8733, 'done'),\n",
       " (4410, 'handlebars'),\n",
       " (4959, 'tighten'),\n",
       " (3736, 'provided'),\n",
       " (2010, 'allen'),\n",
       " (3450, 'wrench'),\n",
       " (44751, 'made'),\n",
       " (11429, 'solid'),\n",
       " (11011, 'metal'),\n",
       " (7866, 'steel'),\n",
       " (11962, 'maybe'),\n",
       " (15695, 'sturdy'),\n",
       " (20332, 'heavy'),\n",
       " (1033, 'toddler'),\n",
       " (3108, 'pick'),\n",
       " (591, 'maneuver'),\n",
       " (12084, 'outside'),\n",
       " (1435, 'accidentally'),\n",
       " (3539, 'paint'),\n",
       " (45551, 'still'),\n",
       " (1079, 'concept'),\n",
       " (3093, 'balance'),\n",
       " (31020, 'perfect'),\n",
       " (282, 'warmed'),\n",
       " (747, 'walked'),\n",
       " (2150, 'standing'),\n",
       " (7596, 'month'),\n",
       " (1916, 'learned'),\n",
       " (6564, 'sit'),\n",
       " (4785, 'walk'),\n",
       " (12162, 'quickly'),\n",
       " (469, 'catching'),\n",
       " (6211, 'onto'),\n",
       " (3805, 'control'),\n",
       " (10601, 'fast'),\n",
       " (8050, 'goes'),\n",
       " (1059, 'raised'),\n",
       " (10230, 'plenty'),\n",
       " (1080, 'grow'),\n",
       " (4376, 'ready'),\n",
       " (414, 'transition'),\n",
       " (2843, 'training'),\n",
       " (3474, 'thanks'),\n",
       " (197, 'strider'),\n",
       " (91, 'troubleshooting'),\n",
       " (2052, 'tips'),\n",
       " (43, 'metroflash'),\n",
       " (7769, 'summer'),\n",
       " (3948, 'totally'),\n",
       " (1041, 'appropriate'),\n",
       " (9969, 'stand'),\n",
       " (2935, 'alone'),\n",
       " (78455, 'light'),\n",
       " (48, 'mf'),\n",
       " (15443, 'bright'),\n",
       " (17643, 'different'),\n",
       " (2243, 'lighting'),\n",
       " (2038, 'modes'),\n",
       " (10871, 'especially'),\n",
       " (1444, 'terms'),\n",
       " (881, 'saving'),\n",
       " (18363, 'battery'),\n",
       " (2144, 'biggest'),\n",
       " (5539, 'complaint'),\n",
       " (7694, 'compartment'),\n",
       " (20085, 'riding'),\n",
       " (794, 'bumpy'),\n",
       " (45, 'flickers'),\n",
       " (94, 'dims'),\n",
       " (15030, 'almost'),\n",
       " (15181, 'always'),\n",
       " (3748, 'turns'),\n",
       " (3208, 'imagine'),\n",
       " (65026, 'really'),\n",
       " (95, 'troublesome'),\n",
       " (12896, 'week'),\n",
       " (15453, 'went'),\n",
       " (45595, 'could'),\n",
       " (27411, 'front'),\n",
       " (5424, 'hit'),\n",
       " (1216, 'giant'),\n",
       " (153, 'pothole'),\n",
       " (1064, 'instant'),\n",
       " (969, 'blew'),\n",
       " (472, 'sidewall'),\n",
       " (16732, 'tire'),\n",
       " (59453, 'much'),\n",
       " (5139, 'cheaper'),\n",
       " (11353, 'lights'),\n",
       " (839, 'manage'),\n",
       " (1774, 'beyond'),\n",
       " (15288, 'said'),\n",
       " (1912, 'hear'),\n",
       " (364, 'rattling'),\n",
       " (26341, 'inside'),\n",
       " (2244, 'incredibly'),\n",
       " (3004, 'annoying'),\n",
       " (1052, 'entirely'),\n",
       " (380, 'bicycling'),\n",
       " (509, 'consistently'),\n",
       " (44421, 'need'),\n",
       " (19081, 'people'),\n",
       " (1152, 'complained'),\n",
       " (2458, 'turning'),\n",
       " (9514, 'rides'),\n",
       " (21433, 'getting'),\n",
       " (585, 'compressed'),\n",
       " (106, 'timing'),\n",
       " (2547, 'literally'),\n",
       " (277, 'physically'),\n",
       " (90, 'shrinking'),\n",
       " (3294, 'stuck'),\n",
       " (3072, 'folded'),\n",
       " (10816, 'piece'),\n",
       " (5116, 'aluminum'),\n",
       " (554, 'foil'),\n",
       " (4944, 'spring'),\n",
       " (16014, 'worked'),\n",
       " (506, 'automatically'),\n",
       " (27934, 'going'),\n",
       " (178, 'pulse'),\n",
       " (4941, 'mode'),\n",
       " (13907, 'low'),\n",
       " (9921, 'needs'),\n",
       " (2091, 'charged'),\n",
       " (581, 'terribly'),\n",
       " (2255, 'charging'),\n",
       " (20561, 'every'),\n",
       " (34581, 'day'),\n",
       " (23130, 'carry'),\n",
       " (5236, 'fuel'),\n",
       " (507, 'canisters'),\n",
       " (3547, 'tested'),\n",
       " (11700, 'home'),\n",
       " (441, 'boiled'),\n",
       " (5890, 'cup'),\n",
       " (63099, 'water'),\n",
       " (1549, 'min'),\n",
       " (585, 'considerably'),\n",
       " (1686, 'boil'),\n",
       " (6574, 'backpacking'),\n",
       " (365, 'elevation'),\n",
       " (4147, 'mostly'),\n",
       " (2680, 'breeze'),\n",
       " (602, 'heated'),\n",
       " (18754, 'quite'),\n",
       " (441, 'stanley'),\n",
       " (4085, 'barely'),\n",
       " (4962, 'pot'),\n",
       " (4577, 'holder'),\n",
       " (437, 'flipped'),\n",
       " (4340, 'bracket'),\n",
       " (229, 'windshield'),\n",
       " (9534, 'lightweight'),\n",
       " (291, 'baking'),\n",
       " (1870, 'sheet'),\n",
       " (5288, 'helps'),\n",
       " (18928, 'happy'),\n",
       " (17655, 'case'),\n",
       " (22822, 'camping'),\n",
       " (28124, 'easily'),\n",
       " (82, 'girlfriends'),\n",
       " (1981, 'iphone'),\n",
       " (1630, 'slim'),\n",
       " (1020, 'cases'),\n",
       " (3493, 'function'),\n",
       " (886, 'campsite'),\n",
       " (3903, 'seal'),\n",
       " (18705, 'things'),\n",
       " (10738, 'wish'),\n",
       " (16863, 'material'),\n",
       " (24646, 'plastic'),\n",
       " (4701, 'prefer'),\n",
       " (356, 'rubbery'),\n",
       " (8591, 'soft'),\n",
       " (1172, 'float'),\n",
       " (23191, 'best'),\n",
       " (2486, 'loaded'),\n",
       " (1776, 'versatile'),\n",
       " (8052, 'products'),\n",
       " (14264, 'ever'),\n",
       " (7940, 'beach'),\n",
       " (48525, 'tent'),\n",
       " (1717, 'yard'),\n",
       " (4747, 'daily'),\n",
       " (937, 'basis'),\n",
       " (826, 'afternoon'),\n",
       " (6340, 'fun'),\n",
       " (7858, 'sun'),\n",
       " (1463, 'yesterday'),\n",
       " (3121, 'serious'),\n",
       " (2239, 'winds'),\n",
       " (2704, 'bend'),\n",
       " (38187, 'bit'),\n",
       " (1030, 'forgot'),\n",
       " (3812, 'tie'),\n",
       " (1476, 'cords'),\n",
       " (34094, 'top'),\n",
       " (1438, 'tad'),\n",
       " (9391, 'difficult'),\n",
       " (14344, 'open'),\n",
       " (11255, 'wind'),\n",
       " (458, 'patience'),\n",
       " (7, 'sly'),\n",
       " (70, 'maneuvers'),\n",
       " (1593, 'locked'),\n",
       " (1712, 'usual'),\n",
       " (4628, 'important'),\n",
       " (3760, 'stakes'),\n",
       " (67, 'sandbags'),\n",
       " (36796, 'keep'),\n",
       " (1181, 'blowing'),\n",
       " (51660, 'product'),\n",
       " (7335, 'customer'),\n",
       " (7780, 'service'),\n",
       " (359, 'wound'),\n",
       " (7416, 'working'),\n",
       " (7738, 'fairly'),\n",
       " (11878, 'us'),\n",
       " (7823, 'someone'),\n",
       " (3686, 'assemble'),\n",
       " (44827, 'got'),\n",
       " (13856, 'together'),\n",
       " (230, 'cubic'),\n",
       " (3413, 'provides'),\n",
       " (28365, 'lot'),\n",
       " (19793, 'extra'),\n",
       " (7793, 'storage'),\n",
       " (11650, 'space'),\n",
       " (8869, 'line'),\n",
       " (1587, 'wrapped'),\n",
       " (19874, 'straps'),\n",
       " (1176, 'ensure'),\n",
       " (3262, 'pop'),\n",
       " (8992, 'life'),\n",
       " (816, 'saver'),\n",
       " (4789, 'mile'),\n",
       " (21339, 'trip'),\n",
       " (10355, 'others'),\n",
       " (1125, 'hundred'),\n",
       " (19302, 'reviews'),\n",
       " (10623, 'decided'),\n",
       " (1281, 'young'),\n",
       " (6428, 'family'),\n",
       " (6873, 'live'),\n",
       " (224, 'western'),\n",
       " (287, 'washington'),\n",
       " (20080, 'needed'),\n",
       " (15970, 'dry'),\n",
       " (1539, 'specifically'),\n",
       " (2805, 'chose'),\n",
       " (789, 'guarantee'),\n",
       " (768, 'remain'),\n",
       " (1471, 'friendly'),\n",
       " (616, 'mt'),\n",
       " (64, 'rainier'),\n",
       " (2539, 'upper'),\n",
       " (18610, 'rain'),\n",
       " (19305, 'night'),\n",
       " (1487, 'walls'),\n",
       " (508, 'soaking'),\n",
       " (8274, 'wet'),\n",
       " (266, 'dew'),\n",
       " (2392, 'general'),\n",
       " (2001, 'moisture'),\n",
       " (22887, 'air'),\n",
       " (1030, 'damp'),\n",
       " (13065, 'sleeping'),\n",
       " (13131, 'bags'),\n",
       " (63150, 'back'),\n",
       " (478, 'backs'),\n",
       " (6883, 'shoes'),\n",
       " (11616, 'kids'),\n",
       " (517, 'yo'),\n",
       " (5, 'troopers'),\n",
       " (21196, 'came'),\n",
       " (270, 'northwest'),\n",
       " (14985, 'part'),\n",
       " (983, 'game'),\n",
       " (719, 'worthless'),\n",
       " (827, 'raining'),\n",
       " (362, 'puddle'),\n",
       " (1537, 'rainfly'),\n",
       " (341, 'prevented'),\n",
       " (2133, 'situation'),\n",
       " (318, 'worthy'),\n",
       " (3722, 'season'),\n",
       " (2861, 'returning'),\n",
       " (355, 'tomorrow'),\n",
       " (2067, 'ridden'),\n",
       " (13920, 'short'),\n",
       " (851, 'distances'),\n",
       " (6349, 'normal'),\n",
       " (475, 'clipless'),\n",
       " (3670, 'convenient'),\n",
       " (3391, 'solution'),\n",
       " (1023, 'switched'),\n",
       " (1310, 'cleats'),\n",
       " (4977, 'spare'),\n",
       " (111, 'hopped'),\n",
       " (2647, 'rode'),\n",
       " (9969, 'easier'),\n",
       " (1050, 'answer'),\n",
       " (2244, 'concern'),\n",
       " (123, 'platforms'),\n",
       " (2670, 'hanging'),\n",
       " (1424, 'upside'),\n",
       " (1992, 'worse'),\n",
       " (641, 'cages'),\n",
       " (1068, 'platform'),\n",
       " (2024, 'practice'),\n",
       " (427, 'backside'),\n",
       " (2419, 'flip'),\n",
       " (3860, 'underneath'),\n",
       " (1147, 'teeth'),\n",
       " (7021, 'grip'),\n",
       " (3599, 'shoe'),\n",
       " (1479, 'steady'),\n",
       " (1218, 'stops'),\n",
       " (312, 'flipping'),\n",
       " (21786, 'ordered'),\n",
       " (1632, 'kayaks'),\n",
       " (3835, 'addition'),\n",
       " (2679, 'models'),\n",
       " (832, 'intex'),\n",
       " (2520, 'particular'),\n",
       " (8858, 'model'),\n",
       " (9542, 'issues'),\n",
       " (142, 'rudder'),\n",
       " (1953, 'removable'),\n",
       " (1074, 'storing'),\n",
       " (1103, 'regardless'),\n",
       " (2581, 'contacted'),\n",
       " (8442, 'company'),\n",
       " (3480, 'told'),\n",
       " (1866, 'common'),\n",
       " (17092, 'tried'),\n",
       " (12891, 'order'),\n",
       " (9587, 'replacement'),\n",
       " (3130, 'sold'),\n",
       " (1695, 'waiting'),\n",
       " (4305, 'additional'),\n",
       " (605, 'shipment'),\n",
       " (546, 'tells'),\n",
       " (29227, 'pretty'),\n",
       " (13788, 'issue'),\n",
       " (2907, 'seam'),\n",
       " (5277, 'opening'),\n",
       " (7712, 'kayak'),\n",
       " (141, 'operator'),\n",
       " (2197, 'sits'),\n",
       " (23, 'tacked'),\n",
       " (2454, 'constantly'),\n",
       " (1258, 'rubbing'),\n",
       " (2499, 'cutting'),\n",
       " (10743, 'area'),\n",
       " (3263, 'contact'),\n",
       " (287, 'corrected'),\n",
       " (10094, 'strong'),\n",
       " (1732, 'glue'),\n",
       " (1016, 'inflation'),\n",
       " (4043, 'considering'),\n",
       " (3137, 'correct'),\n",
       " (5473, 'impressed'),\n",
       " (2914, 'rate'),\n",
       " (4369, 'tiny'),\n",
       " (5763, 'glasses'),\n",
       " (2894, 'mean'),\n",
       " (462, 'bridge'),\n",
       " (2729, 'nose'),\n",
       " (101, 'floated'),\n",
       " (4928, 'friend'),\n",
       " (15906, 'try'),\n",
       " (7180, 'face'),\n",
       " (551, 'grown'),\n",
       " (99, 'distorted'),\n",
       " (15, 'unbeknownst'),\n",
       " (322, 'admittedly'),\n",
       " (4785, 'guy'),\n",
       " (4626, 'everyone'),\n",
       " (8122, 'usually'),\n",
       " (734, 'generic'),\n",
       " (25211, 'years'),\n",
       " (29, 'landscaping'),\n",
       " (6202, 'construction'),\n",
       " (22865, 'never'),\n",
       " (689, 'picking'),\n",
       " (3547, 'whatever'),\n",
       " (386, 'bin'),\n",
       " (65, 'rubbish'),\n",
       " (5533, 'sent'),\n",
       " (8231, 'looked'),\n",
       " (3, 'elsewherei'),\n",
       " (60246, 'used'),\n",
       " (4844, 'lantern'),\n",
       " (15030, 'yet'),\n",
       " (2165, 'comment'),\n",
       " (41607, 'quality'),\n",
       " (10642, 'mine'),\n",
       " (2004, 'delivered'),\n",
       " (32421, 'without'),\n",
       " (162, 'bail'),\n",
       " (3365, 'useless'),\n",
       " (15760, 'car'),\n",
       " (756, 'planned'),\n",
       " (673, 'rig'),\n",
       " (4529, 'coat'),\n",
       " (52, 'hangar'),\n",
       " (5884, 'spend'),\n",
       " (135, 'inc'),\n",
       " (2552, 'delivery'),\n",
       " (6832, 'coleman'),\n",
       " (866, 'meets'),\n",
       " (2448, 'expectations'),\n",
       " (1029, 'frustrating'),\n",
       " (9, 'discoveries'),\n",
       " (5905, 'installed'),\n",
       " (59, 'uninstall'),\n",
       " (233, 'unscrewing'),\n",
       " (30022, 'large'),\n",
       " (7656, 'red'),\n",
       " (1269, 'knob'),\n",
       " (8965, 'kept'),\n",
       " (465, 'loosening'),\n",
       " (3611, 'hitch'),\n",
       " (1482, 'connection'),\n",
       " (2985, 'eventually'),\n",
       " (1651, 'rod'),\n",
       " (226, 'unscrewed'),\n",
       " (18952, 'end'),\n",
       " (9, 'rescrew'),\n",
       " (66, 'pray'),\n",
       " (7194, 'finally'),\n",
       " (949, 'screwed'),\n",
       " (1929, 'tightly'),\n",
       " (17523, 'place'),\n",
       " (555, 'frustrated'),\n",
       " (5152, 'arms'),\n",
       " (2352, 'forget'),\n",
       " (6337, 'otherwise'),\n",
       " (7871, 'pleased'),\n",
       " (22253, 'seems'),\n",
       " (43661, 'work'),\n",
       " (10201, 'expected'),\n",
       " (7, 'ozzy'),\n",
       " (10236, 'chain'),\n",
       " (2883, 'cleaning'),\n",
       " (10623, 'tool'),\n",
       " (9054, 'clean'),\n",
       " (13, 'morgan'),\n",
       " (6301, 'blue'),\n",
       " (168, 'degreaser'),\n",
       " (9904, 'cut'),\n",
       " (21, 'windex'),\n",
       " (1232, 'suggested'),\n",
       " (4077, 'online'),\n",
       " (8132, 'included'),\n",
       " (10439, 'instructions'),\n",
       " (707, 'rely'),\n",
       " (12041, 'tube'),\n",
       " (1336, 'videos'),\n",
       " (31405, 'set'),\n",
       " (5971, 'clear'),\n",
       " (3005, 'video'),\n",
       " (1505, 'snapped'),\n",
       " (3254, 'helpful'),\n",
       " (409, 'reply'),\n",
       " (1694, 'email'),\n",
       " (16, 'query'),\n",
       " (30908, 'right'),\n",
       " (15037, 'away'),\n",
       " (3923, 'safety'),\n",
       " (2943, 'avoid'),\n",
       " (8310, 'making'),\n",
       " (1823, 'mess'),\n",
       " (356, 'tipping'),\n",
       " (9177, 'slightly'),\n",
       " (5630, 'leak'),\n",
       " (7925, 'amount'),\n",
       " (828, 'suggestion'),\n",
       " (16, 'pls'),\n",
       " (486, 'indicate'),\n",
       " (11708, 'either'),\n",
       " (579, 'measurement'),\n",
       " (5235, 'e'),\n",
       " (2651, 'g'),\n",
       " (2, 'tbs'),\n",
       " (8380, 'add'),\n",
       " (6452, 'tape'),\n",
       " (46164, 'enough'),\n",
       " (12363, 'cover'),\n",
       " (920, 'horizontal'),\n",
       " (2384, 'insert'),\n",
       " (3829, 'device'),\n",
       " (2171, 'leaking'),\n",
       " (5058, 'mounted'),\n",
       " (1694, 'mistake'),\n",
       " (750, 'counter'),\n",
       " (3619, 'suggest'),\n",
       " (907, 'backwards'),\n",
       " (477, 'sprocket'),\n",
       " (558, 'upset'),\n",
       " (1057, 'spill'),\n",
       " (2391, 'everywhere'),\n",
       " (124, 'spillage'),\n",
       " (3945, 'mentioned'),\n",
       " (340, 'possibility'),\n",
       " (4342, 'previous'),\n",
       " (168, 'gunk'),\n",
       " (2651, 'whether'),\n",
       " (3372, 'brands'),\n",
       " (1459, 'besides'),\n",
       " (2360, 'hopefully'),\n",
       " (10567, 'plus'),\n",
       " (10826, 'job'),\n",
       " (8291, 'free'),\n",
       " (224, 'brushes'),\n",
       " (2, 'toclean'),\n",
       " (202, 'sprockets'),\n",
       " (12434, 'etc'),\n",
       " (3601, 'man'),\n",
       " (7353, 'running'),\n",
       " (1017, 'deflated'),\n",
       " (2213, 'checked'),\n",
       " (22464, 'found'),\n",
       " (3064, 'fan'),\n",
       " (6832, 'blade'),\n",
       " (1243, 'dozen'),\n",
       " (4382, 'pieces'),\n",
       " (1726, 'protected'),\n",
       " (1961, 'cage'),\n",
       " (66, 'explode'),\n",
       " (25575, 'amazon'),\n",
       " (1448, 'sending'),\n",
       " (12122, 'update'),\n",
       " (4468, 'fantastic'),\n",
       " (16549, 'several'),\n",
       " (1105, 'event'),\n",
       " (6248, 'mind'),\n",
       " (4270, 'purchasing'),\n",
       " (3109, 'proof'),\n",
       " (3718, 'seams'),\n",
       " (291, 'spraying'),\n",
       " (452, 'sealer'),\n",
       " (53, 'waterproofer'),\n",
       " (73, 'transferring'),\n",
       " (3231, 'gas'),\n",
       " (1131, 'cans'),\n",
       " (601, 'vehicles'),\n",
       " (49, 'empties'),\n",
       " (1458, 'gallon'),\n",
       " (91, 'jerry'),\n",
       " (5459, 'higher'),\n",
       " (2532, 'tank'),\n",
       " (11727, 'bed'),\n",
       " (2661, 'truck'),\n",
       " (2550, 'step'),\n",
       " (270, 'ladder'),\n",
       " (3803, 'hose'),\n",
       " (122, 'shakes'),\n",
       " (4714, 'watch'),\n",
       " (2236, 'flow'),\n",
       " (290, 'tilted'),\n",
       " (2430, 'pool'),\n",
       " (5011, 'near'),\n",
       " (1032, 'ounces'),\n",
       " (2, 'simpleton'),\n",
       " (3729, 'ordering'),\n",
       " (33842, 'pack'),\n",
       " (83, 'backups'),\n",
       " (1675, 'mainly'),\n",
       " (1214, 'occasional'),\n",
       " (9041, 'hiking'),\n",
       " (2146, 'bill'),\n",
       " (7588, 'hat'),\n",
       " (6614, 'button'),\n",
       " (32425, 'side'),\n",
       " (1068, 'flaps'),\n",
       " (9903, 'replace'),\n",
       " (5370, 'lost'),\n",
       " (129, 'upf'),\n",
       " (183, 'permethrin'),\n",
       " (26239, 'find'),\n",
       " (2142, 'anymore'),\n",
       " (936, 'drawstring'),\n",
       " (43, 'sinch'),\n",
       " (17407, 'head'),\n",
       " (7925, 'adjust'),\n",
       " (389, 'tightness'),\n",
       " (2323, 'typical'),\n",
       " (6183, 'belt'),\n",
       " (3747, 'loop'),\n",
       " (3254, 'flap'),\n",
       " (23892, 'rack'),\n",
       " (3723, 'snap'),\n",
       " (58, 'kia'),\n",
       " (95, 'soul'),\n",
       " (3286, 'trunk'),\n",
       " (7859, 'install'),\n",
       " (6237, 'dark'),\n",
       " (9091, 'simple'),\n",
       " (116, 'lacked'),\n",
       " (1865, 'strength'),\n",
       " (8546, 'pull'),\n",
       " (225, 'taut'),\n",
       " (12, 'enlisted'),\n",
       " (10747, 'help'),\n",
       " (3299, 'concerned'),\n",
       " (11997, 'seem'),\n",
       " (9228, 'secure'),\n",
       " (24966, 'however'),\n",
       " (157, 'subsequent'),\n",
       " (237, 'remembered'),\n",
       " (656, 'wiggle'),\n",
       " (3948, 'taken'),\n",
       " (3384, 'carrier'),\n",
       " (1361, 'word'),\n",
       " (653, 'ladies'),\n",
       " (1903, 'mounts'),\n",
       " (16215, 'lock'),\n",
       " (11407, 'mount'),\n",
       " (1454, 'warning'),\n",
       " (2989, 'drive'),\n",
       " (5, 'mindlessly'),\n",
       " (10711, 'deal'),\n",
       " (3467, 'ease'),\n",
       " (5832, 'mounting'),\n",
       " (2150, 'security'),\n",
       " (2553, 'beautiful'),\n",
       " (2385, 'upgrade'),\n",
       " (913, 'handled'),\n",
       " (297, 'flew'),\n",
       " (19982, 'looks'),\n",
       " (6401, 'amazing'),\n",
       " (6609, 'original'),\n",
       " (292, 'globe'),\n",
       " (3351, 'website'),\n",
       " (10132, 'already'),\n",
       " (27665, 'looking'),\n",
       " (9127, 'trying'),\n",
       " (210, 'mediocre'),\n",
       " (8551, 'rather'),\n",
       " (1879, 'hill'),\n",
       " (2403, 'ft'),\n",
       " (2183, 'climbing'),\n",
       " (19130, 'less'),\n",
       " (16377, 'thought'),\n",
       " (5485, 'allow'),\n",
       " (11867, 'run'),\n",
       " (406, 'errands'),\n",
       " (2252, 'town'),\n",
       " (2320, 'breaking'),\n",
       " (3981, 'sweat'),\n",
       " (272, 'unpacked'),\n",
       " (249, 'documentation'),\n",
       " (3008, 'packing'),\n",
       " (1466, 'list'),\n",
       " (2632, 'manual'),\n",
       " (2728, 'obviously'),\n",
       " (119, 'someplace'),\n",
       " (2310, 'factory'),\n",
       " (4537, 'keys'),\n",
       " (867, 'hidden'),\n",
       " (1155, 'latch'),\n",
       " (1651, 'smoothly'),\n",
       " (9427, 'kit'),\n",
       " (1170, 'indeed'),\n",
       " (717, 'solve'),\n",
       " (1770, 'quiet'),\n",
       " (1180, 'efficient'),\n",
       " (14896, 'tires'),\n",
       " (1343, 'ultra'),\n",
       " (554, 'absorb'),\n",
       " (1817, 'bumps'),\n",
       " (9617, 'rubber'),\n",
       " (1276, 'traction'),\n",
       " (1601, 'pavement'),\n",
       " (1629, 'therefore'),\n",
       " (2008, 'wears'),\n",
       " (1759, 'tired'),\n",
       " (1772, 'flats'),\n",
       " (991, 'whatsoever'),\n",
       " (911, 'saddles'),\n",
       " (6662, 'saw'),\n",
       " (574, 'ad'),\n",
       " (933, 'heck'),\n",
       " (5950, 'cannot'),\n",
       " (6270, 'believe'),\n",
       " (3847, 'satisfied'),\n",
       " (6429, 'past'),\n",
       " (3490, 'stock'),\n",
       " (22725, 'high'),\n",
       " (6887, 'saddle'),\n",
       " ...]"
      ]
     },
     "execution_count": 51,
     "metadata": {},
     "output_type": "execute_result"
    }
   ],
   "source": [
    "corpus"
   ]
  },
  {
   "cell_type": "markdown",
   "metadata": {
    "id": "r7RzPNqxi6GY"
   },
   "source": [
    "Let's sort the words by frequency and get the 20 most frequent words. We will use these \"most frequent\" words as the columns of our dataframe.\n",
    "This value of 20 has to be chosen looking for a compromise between having a good accuracy and not too many columns in the dataset. Probably you would like to increase this value. However, for ilustrative purposes we're going to use this value."
   ]
  },
  {
   "cell_type": "markdown",
   "metadata": {
    "id": "ILAe45_fA3eX"
   },
   "source": [
    "Clearly the first word of the corpus doesn't make sense; we need to drop it."
   ]
  },
  {
   "cell_type": "code",
   "execution_count": 52,
   "metadata": {
    "colab": {
     "base_uri": "https://localhost:8080/"
    },
    "executionInfo": {
     "elapsed": 415,
     "status": "ok",
     "timestamp": 1627029849531,
     "user": {
      "displayName": "Ignacio Soteras",
      "photoUrl": "",
      "userId": "02050793736257155229"
     },
     "user_tz": -120
    },
    "id": "XD-iLVsxSOkd",
    "outputId": "ad4d39e2-2534-4b1a-fb25-32ec504c69ef"
   },
   "outputs": [
    {
     "data": {
      "text/plain": [
       "[('one', 154856),\n",
       " ('would', 120555),\n",
       " ('bike', 114204),\n",
       " ('like', 114153),\n",
       " ('great', 106325),\n",
       " ('use', 102353),\n",
       " ('well', 100412),\n",
       " ('get', 93291),\n",
       " ('good', 85785),\n",
       " ('bag', 84575),\n",
       " ('light', 78455),\n",
       " ('also', 72462),\n",
       " ('little', 66667),\n",
       " ('really', 65026),\n",
       " ('fit', 64684),\n",
       " ('time', 64295),\n",
       " ('back', 63150),\n",
       " ('water', 63099),\n",
       " ('used', 60246),\n",
       " ('much', 59453)]"
      ]
     },
     "execution_count": 52,
     "metadata": {},
     "output_type": "execute_result"
    }
   ],
   "source": [
    "corpus.sort(reverse = True)\n",
    "\n",
    "# Here we keep only the 20 most frequent words but it can be changed to another bigger value\n",
    "corpus_freq = [(word[1],word[0]) for word in corpus[:21]] \n",
    "corpus_freq = corpus_freq[1:]\n",
    "corpus_freq"
   ]
  },
  {
   "cell_type": "markdown",
   "metadata": {
    "id": "GZy-FJB8xgBQ"
   },
   "source": [
    "### Stemming"
   ]
  },
  {
   "cell_type": "markdown",
   "metadata": {
    "id": "7aqEkp9xxmPX"
   },
   "source": [
    "Let's use only the root of every word\n",
    "\n",
    "> loved, love and lovers have the same root: love\n",
    "\n",
    "we only want the \"root\" of each word.\n",
    "\n",
    "Let's construct a list of tuples in which each tuple will contain the word and how many times appears the \"root\" of the word.\n",
    "\n"
   ]
  },
  {
   "cell_type": "code",
   "execution_count": 53,
   "metadata": {
    "colab": {
     "base_uri": "https://localhost:8080/"
    },
    "executionInfo": {
     "elapsed": 2771,
     "status": "ok",
     "timestamp": 1627029951013,
     "user": {
      "displayName": "Ignacio Soteras",
      "photoUrl": "",
      "userId": "02050793736257155229"
     },
     "user_tz": -120
    },
    "id": "hziPojr3x6eK",
    "outputId": "0f06d41e-1b4c-4314-af60-5d49cdc39219"
   },
   "outputs": [
    {
     "data": {
      "text/plain": [
       "[('one', 154856),\n",
       " ('would', 120555),\n",
       " ('bike', 114204),\n",
       " ('like', 114153),\n",
       " ('great', 106325),\n",
       " ('use', 102353),\n",
       " ('well', 100412),\n",
       " ('get', 93291),\n",
       " ('good', 85785),\n",
       " ('bag', 84575),\n",
       " ('light', 78455),\n",
       " ('also', 72462),\n",
       " ('little', 66667),\n",
       " ('really', 65026),\n",
       " ('fit', 64684),\n",
       " ('time', 64295),\n",
       " ('back', 63150),\n",
       " ('water', 63099),\n",
       " ('used', 60246),\n",
       " ('much', 59453)]"
      ]
     },
     "execution_count": 53,
     "metadata": {},
     "output_type": "execute_result"
    }
   ],
   "source": [
    "from nltk.stem import WordNetLemmatizer\n",
    "\n",
    "lem = WordNetLemmatizer()\n",
    "\n",
    "corpus_freq = [(lem.lemmatize(word[0]),word[1]) for word in corpus_freq]\n",
    "corpus_freq"
   ]
  },
  {
   "cell_type": "code",
   "execution_count": 54,
   "metadata": {
    "colab": {
     "base_uri": "https://localhost:8080/"
    },
    "executionInfo": {
     "elapsed": 350,
     "status": "ok",
     "timestamp": 1627030003740,
     "user": {
      "displayName": "Ignacio Soteras",
      "photoUrl": "",
      "userId": "02050793736257155229"
     },
     "user_tz": -120
    },
    "id": "_EkJwKaoC419",
    "outputId": "214fdf0e-57fb-4f72-88be-861cc1b47445"
   },
   "outputs": [
    {
     "data": {
      "text/plain": [
       "[('one', 154856),\n",
       " ('would', 120555),\n",
       " ('bike', 114204),\n",
       " ('like', 114153),\n",
       " ('great', 106325),\n",
       " ('use', 102353),\n",
       " ('well', 100412),\n",
       " ('get', 93291),\n",
       " ('good', 85785),\n",
       " ('bag', 84575),\n",
       " ('light', 78455),\n",
       " ('also', 72462),\n",
       " ('little', 66667),\n",
       " ('really', 65026),\n",
       " ('fit', 64684),\n",
       " ('time', 64295),\n",
       " ('back', 63150),\n",
       " ('water', 63099),\n",
       " ('used', 60246),\n",
       " ('much', 59453)]"
      ]
     },
     "execution_count": 54,
     "metadata": {},
     "output_type": "execute_result"
    }
   ],
   "source": [
    "corpus_freq"
   ]
  },
  {
   "cell_type": "markdown",
   "metadata": {
    "id": "3kDk9DKx0pmu"
   },
   "source": [
    "## Creating a dataframe "
   ]
  },
  {
   "cell_type": "markdown",
   "metadata": {
    "id": "LjCKQ7RW0t9e"
   },
   "source": [
    "Now we want to have a dataframe in which each column will correspond to each of the twenty most frequent words in the dataset while each record will contain how many times appears the corresponding word in the dataset. We can expand the number of columns considering more words, but in this case we will restrict ourselfs to this amount for instructive purposes."
   ]
  },
  {
   "cell_type": "code",
   "execution_count": 55,
   "metadata": {
    "colab": {
     "base_uri": "https://localhost:8080/",
     "height": 49
    },
    "executionInfo": {
     "elapsed": 387,
     "status": "ok",
     "timestamp": 1627030115709,
     "user": {
      "displayName": "Ignacio Soteras",
      "photoUrl": "",
      "userId": "02050793736257155229"
     },
     "user_tz": -120
    },
    "id": "f8ek1fpz0srI",
    "outputId": "33298a9f-a9eb-48ec-c0f4-c0479e7bbde3"
   },
   "outputs": [
    {
     "data": {
      "text/html": [
       "<div>\n",
       "<style scoped>\n",
       "    .dataframe tbody tr th:only-of-type {\n",
       "        vertical-align: middle;\n",
       "    }\n",
       "\n",
       "    .dataframe tbody tr th {\n",
       "        vertical-align: top;\n",
       "    }\n",
       "\n",
       "    .dataframe thead th {\n",
       "        text-align: right;\n",
       "    }\n",
       "</style>\n",
       "<table border=\"1\" class=\"dataframe\">\n",
       "  <thead>\n",
       "    <tr style=\"text-align: right;\">\n",
       "      <th></th>\n",
       "      <th>one</th>\n",
       "      <th>would</th>\n",
       "      <th>bike</th>\n",
       "      <th>like</th>\n",
       "      <th>great</th>\n",
       "      <th>use</th>\n",
       "      <th>well</th>\n",
       "      <th>get</th>\n",
       "      <th>good</th>\n",
       "      <th>bag</th>\n",
       "      <th>light</th>\n",
       "      <th>also</th>\n",
       "      <th>little</th>\n",
       "      <th>really</th>\n",
       "      <th>fit</th>\n",
       "      <th>time</th>\n",
       "      <th>back</th>\n",
       "      <th>water</th>\n",
       "      <th>used</th>\n",
       "      <th>much</th>\n",
       "    </tr>\n",
       "  </thead>\n",
       "  <tbody>\n",
       "  </tbody>\n",
       "</table>\n",
       "</div>"
      ],
      "text/plain": [
       "Empty DataFrame\n",
       "Columns: [one, would, bike, like, great, use, well, get, good, bag, light, also, little, really, fit, time, back, water, used, much]\n",
       "Index: []"
      ]
     },
     "execution_count": 55,
     "metadata": {},
     "output_type": "execute_result"
    }
   ],
   "source": [
    "cols = {word[0]: [] for word in corpus_freq}\n",
    "reviews = pd.DataFrame(cols)\n",
    "\n",
    "reviews"
   ]
  },
  {
   "cell_type": "code",
   "execution_count": 56,
   "metadata": {
    "colab": {
     "base_uri": "https://localhost:8080/"
    },
    "executionInfo": {
     "elapsed": 370,
     "status": "ok",
     "timestamp": 1627030145325,
     "user": {
      "displayName": "Ignacio Soteras",
      "photoUrl": "",
      "userId": "02050793736257155229"
     },
     "user_tz": -120
    },
    "id": "5fBDT7oUMxEB",
    "outputId": "bdb466fc-c363-48ea-87b6-ee55a1dc1092"
   },
   "outputs": [
    {
     "data": {
      "text/plain": [
       "['one',\n",
       " 'would',\n",
       " 'bike',\n",
       " 'like',\n",
       " 'great',\n",
       " 'use',\n",
       " 'well',\n",
       " 'get',\n",
       " 'good',\n",
       " 'bag',\n",
       " 'light',\n",
       " 'also',\n",
       " 'little',\n",
       " 'really',\n",
       " 'fit',\n",
       " 'time',\n",
       " 'back',\n",
       " 'water',\n",
       " 'used',\n",
       " 'much']"
      ]
     },
     "execution_count": 56,
     "metadata": {},
     "output_type": "execute_result"
    }
   ],
   "source": [
    "list(cols.keys())"
   ]
  },
  {
   "cell_type": "markdown",
   "metadata": {
    "id": "Ust8emyw1ljk"
   },
   "source": [
    "Time to fill out the dataframe"
   ]
  },
  {
   "cell_type": "code",
   "execution_count": 57,
   "metadata": {
    "colab": {
     "base_uri": "https://localhost:8080/"
    },
    "executionInfo": {
     "elapsed": 752080,
     "status": "ok",
     "timestamp": 1627031279957,
     "user": {
      "displayName": "Ignacio Soteras",
      "photoUrl": "",
      "userId": "02050793736257155229"
     },
     "user_tz": -120
    },
    "id": "wvNng6-b1OKW",
    "outputId": "30dff37c-144d-4328-957d-f70aea86a563"
   },
   "outputs": [
    {
     "data": {
      "text/plain": [
       "[{'one': 0,\n",
       "  'would': 1,\n",
       "  'bike': 0,\n",
       "  'like': 1,\n",
       "  'great': 0,\n",
       "  'use': 0,\n",
       "  'well': 0,\n",
       "  'get': 0,\n",
       "  'good': 0,\n",
       "  'bag': 2,\n",
       "  'light': 0,\n",
       "  'also': 1,\n",
       "  'little': 0,\n",
       "  'really': 0,\n",
       "  'fit': 0,\n",
       "  'time': 0,\n",
       "  'back': 0,\n",
       "  'water': 0,\n",
       "  'used': 0,\n",
       "  'much': 0},\n",
       " {'one': 0,\n",
       "  'would': 1,\n",
       "  'bike': 0,\n",
       "  'like': 0,\n",
       "  'great': 0,\n",
       "  'use': 0,\n",
       "  'well': 1,\n",
       "  'get': 0,\n",
       "  'good': 0,\n",
       "  'bag': 0,\n",
       "  'light': 0,\n",
       "  'also': 0,\n",
       "  'little': 1,\n",
       "  'really': 0,\n",
       "  'fit': 0,\n",
       "  'time': 1,\n",
       "  'back': 0,\n",
       "  'water': 0,\n",
       "  'used': 0,\n",
       "  'much': 0}]"
      ]
     },
     "execution_count": 57,
     "metadata": {},
     "output_type": "execute_result"
    }
   ],
   "source": [
    "def review_inpector(sentence, stop_words, words):\n",
    "    '''\n",
    "    Function that takes a review and returns a dictionary of word frequencies\n",
    "    Inputs:\n",
    "    sentence -> review: string\n",
    "    stop_words -> list of stop_words\n",
    "    words -> a list of words to count frequency \n",
    "    '''\n",
    "\n",
    "    import re\n",
    "\n",
    "    # Decompose the review in words -> tokens\n",
    "    tokens = nltk.word_tokenize(sentence)\n",
    "    # Cleanup the tokens\n",
    "    for i in range(len(tokens)):\n",
    "        tokens[i] = tokens[i].lower()\n",
    "        tokens[i] = re.sub(r'\\W',' ',tokens[i]) # Replace everything non-alpahnumeric by ' '\n",
    "        tokens[i] = re.sub(r'\\s+','',tokens[i]) # Replace one or more whitespaces by  ' '\n",
    "        tokens[i] = re.sub(r'\\d+','',tokens[i]) # Replace one or more digits by  ' '\n",
    "        tokens[i] = lem.lemmatize(tokens[i])\n",
    "    # Droping tokens which are \"stopwords\" or empty\n",
    "    tokens = [ token for token in tokens if (token not in stop_words and token != '')]\n",
    "\n",
    "    # Initializing an empty dictionary of word frequencies for the corresponding review\n",
    "    col_freq = {col:0 for col in words}\n",
    "    \n",
    "    # Filling the dictionary with word frequencies in the review\n",
    "    for token in tokens:\n",
    "        if token in words:\n",
    "            col_freq[token] += 1\n",
    "\n",
    "    return col_freq\n",
    "\n",
    "my_list = list( map(review_inpector, data['review_body'], \n",
    "                    [stop_words]*data.shape[0], [list(cols.keys())]*data.shape[0] ) )\n",
    "\n",
    "my_list[:2]\n"
   ]
  },
  {
   "cell_type": "code",
   "execution_count": 59,
   "metadata": {
    "executionInfo": {
     "elapsed": 2263,
     "status": "ok",
     "timestamp": 1627031807563,
     "user": {
      "displayName": "Ignacio Soteras",
      "photoUrl": "",
      "userId": "02050793736257155229"
     },
     "user_tz": -120
    },
    "id": "6qCPEgp_Y45B"
   },
   "outputs": [],
   "source": [
    "reviews = pd.DataFrame(my_list)"
   ]
  },
  {
   "cell_type": "code",
   "execution_count": 60,
   "metadata": {
    "colab": {
     "base_uri": "https://localhost:8080/",
     "height": 205
    },
    "executionInfo": {
     "elapsed": 334,
     "status": "ok",
     "timestamp": 1627031811459,
     "user": {
      "displayName": "Ignacio Soteras",
      "photoUrl": "",
      "userId": "02050793736257155229"
     },
     "user_tz": -120
    },
    "id": "SzMdfmP0Z6Oc",
    "outputId": "a1e44705-2396-47cc-d4fc-ce8b954d8f40"
   },
   "outputs": [
    {
     "data": {
      "text/html": [
       "<div>\n",
       "<style scoped>\n",
       "    .dataframe tbody tr th:only-of-type {\n",
       "        vertical-align: middle;\n",
       "    }\n",
       "\n",
       "    .dataframe tbody tr th {\n",
       "        vertical-align: top;\n",
       "    }\n",
       "\n",
       "    .dataframe thead th {\n",
       "        text-align: right;\n",
       "    }\n",
       "</style>\n",
       "<table border=\"1\" class=\"dataframe\">\n",
       "  <thead>\n",
       "    <tr style=\"text-align: right;\">\n",
       "      <th></th>\n",
       "      <th>one</th>\n",
       "      <th>would</th>\n",
       "      <th>bike</th>\n",
       "      <th>like</th>\n",
       "      <th>great</th>\n",
       "      <th>use</th>\n",
       "      <th>well</th>\n",
       "      <th>get</th>\n",
       "      <th>good</th>\n",
       "      <th>bag</th>\n",
       "      <th>light</th>\n",
       "      <th>also</th>\n",
       "      <th>little</th>\n",
       "      <th>really</th>\n",
       "      <th>fit</th>\n",
       "      <th>time</th>\n",
       "      <th>back</th>\n",
       "      <th>water</th>\n",
       "      <th>used</th>\n",
       "      <th>much</th>\n",
       "    </tr>\n",
       "  </thead>\n",
       "  <tbody>\n",
       "    <tr>\n",
       "      <th>0</th>\n",
       "      <td>0</td>\n",
       "      <td>1</td>\n",
       "      <td>0</td>\n",
       "      <td>1</td>\n",
       "      <td>0</td>\n",
       "      <td>0</td>\n",
       "      <td>0</td>\n",
       "      <td>0</td>\n",
       "      <td>0</td>\n",
       "      <td>2</td>\n",
       "      <td>0</td>\n",
       "      <td>1</td>\n",
       "      <td>0</td>\n",
       "      <td>0</td>\n",
       "      <td>0</td>\n",
       "      <td>0</td>\n",
       "      <td>0</td>\n",
       "      <td>0</td>\n",
       "      <td>0</td>\n",
       "      <td>0</td>\n",
       "    </tr>\n",
       "    <tr>\n",
       "      <th>1</th>\n",
       "      <td>0</td>\n",
       "      <td>1</td>\n",
       "      <td>0</td>\n",
       "      <td>0</td>\n",
       "      <td>0</td>\n",
       "      <td>0</td>\n",
       "      <td>1</td>\n",
       "      <td>0</td>\n",
       "      <td>0</td>\n",
       "      <td>0</td>\n",
       "      <td>0</td>\n",
       "      <td>0</td>\n",
       "      <td>1</td>\n",
       "      <td>0</td>\n",
       "      <td>0</td>\n",
       "      <td>1</td>\n",
       "      <td>0</td>\n",
       "      <td>0</td>\n",
       "      <td>0</td>\n",
       "      <td>0</td>\n",
       "    </tr>\n",
       "    <tr>\n",
       "      <th>2</th>\n",
       "      <td>1</td>\n",
       "      <td>0</td>\n",
       "      <td>0</td>\n",
       "      <td>0</td>\n",
       "      <td>0</td>\n",
       "      <td>1</td>\n",
       "      <td>0</td>\n",
       "      <td>0</td>\n",
       "      <td>0</td>\n",
       "      <td>0</td>\n",
       "      <td>0</td>\n",
       "      <td>0</td>\n",
       "      <td>0</td>\n",
       "      <td>0</td>\n",
       "      <td>0</td>\n",
       "      <td>0</td>\n",
       "      <td>0</td>\n",
       "      <td>0</td>\n",
       "      <td>0</td>\n",
       "      <td>0</td>\n",
       "    </tr>\n",
       "    <tr>\n",
       "      <th>3</th>\n",
       "      <td>0</td>\n",
       "      <td>0</td>\n",
       "      <td>0</td>\n",
       "      <td>5</td>\n",
       "      <td>4</td>\n",
       "      <td>0</td>\n",
       "      <td>2</td>\n",
       "      <td>1</td>\n",
       "      <td>0</td>\n",
       "      <td>0</td>\n",
       "      <td>0</td>\n",
       "      <td>2</td>\n",
       "      <td>0</td>\n",
       "      <td>0</td>\n",
       "      <td>1</td>\n",
       "      <td>1</td>\n",
       "      <td>0</td>\n",
       "      <td>0</td>\n",
       "      <td>0</td>\n",
       "      <td>0</td>\n",
       "    </tr>\n",
       "    <tr>\n",
       "      <th>4</th>\n",
       "      <td>1</td>\n",
       "      <td>3</td>\n",
       "      <td>0</td>\n",
       "      <td>0</td>\n",
       "      <td>0</td>\n",
       "      <td>0</td>\n",
       "      <td>1</td>\n",
       "      <td>1</td>\n",
       "      <td>1</td>\n",
       "      <td>0</td>\n",
       "      <td>0</td>\n",
       "      <td>0</td>\n",
       "      <td>0</td>\n",
       "      <td>0</td>\n",
       "      <td>0</td>\n",
       "      <td>3</td>\n",
       "      <td>0</td>\n",
       "      <td>0</td>\n",
       "      <td>0</td>\n",
       "      <td>0</td>\n",
       "    </tr>\n",
       "  </tbody>\n",
       "</table>\n",
       "</div>"
      ],
      "text/plain": [
       "   one  would  bike  like  great  use  well  get  good  bag  light  also  \\\n",
       "0    0      1     0     1      0    0     0    0     0    2      0     1   \n",
       "1    0      1     0     0      0    0     1    0     0    0      0     0   \n",
       "2    1      0     0     0      0    1     0    0     0    0      0     0   \n",
       "3    0      0     0     5      4    0     2    1     0    0      0     2   \n",
       "4    1      3     0     0      0    0     1    1     1    0      0     0   \n",
       "\n",
       "   little  really  fit  time  back  water  used  much  \n",
       "0       0       0    0     0     0      0     0     0  \n",
       "1       1       0    0     1     0      0     0     0  \n",
       "2       0       0    0     0     0      0     0     0  \n",
       "3       0       0    1     1     0      0     0     0  \n",
       "4       0       0    0     3     0      0     0     0  "
      ]
     },
     "execution_count": 60,
     "metadata": {},
     "output_type": "execute_result"
    }
   ],
   "source": [
    "reviews.head()"
   ]
  },
  {
   "cell_type": "code",
   "execution_count": 61,
   "metadata": {
    "executionInfo": {
     "elapsed": 343,
     "status": "ok",
     "timestamp": 1627031855876,
     "user": {
      "displayName": "Ignacio Soteras",
      "photoUrl": "",
      "userId": "02050793736257155229"
     },
     "user_tz": -120
    },
    "id": "XGHbnY-gaIDj"
   },
   "outputs": [],
   "source": [
    "reviews['star_rating'] = data['star_rating']"
   ]
  },
  {
   "cell_type": "code",
   "execution_count": 62,
   "metadata": {
    "colab": {
     "base_uri": "https://localhost:8080/"
    },
    "executionInfo": {
     "elapsed": 323,
     "status": "ok",
     "timestamp": 1627031859122,
     "user": {
      "displayName": "Ignacio Soteras",
      "photoUrl": "",
      "userId": "02050793736257155229"
     },
     "user_tz": -120
    },
    "id": "rZMVy42ZbBMH",
    "outputId": "273c7226-bcf2-4c5c-9eb8-dc9096a8d6b0"
   },
   "outputs": [
    {
     "name": "stdout",
     "output_type": "stream",
     "text": [
      "<class 'pandas.core.frame.DataFrame'>\n",
      "Int64Index: 257453 entries, 5 to 2299779\n",
      "Data columns (total 1 columns):\n",
      " #   Column       Non-Null Count   Dtype \n",
      "---  ------       --------------   ----- \n",
      " 0   star_rating  257453 non-null  object\n",
      "dtypes: object(1)\n",
      "memory usage: 12.0+ MB\n"
     ]
    }
   ],
   "source": [
    "data[['star_rating']].info()"
   ]
  },
  {
   "cell_type": "markdown",
   "metadata": {
    "id": "0xj3csSBtFsY"
   },
   "source": [
    "Let's inspect the number of star rating"
   ]
  },
  {
   "cell_type": "code",
   "execution_count": 63,
   "metadata": {
    "colab": {
     "base_uri": "https://localhost:8080/"
    },
    "executionInfo": {
     "elapsed": 401,
     "status": "ok",
     "timestamp": 1627031864137,
     "user": {
      "displayName": "Ignacio Soteras",
      "photoUrl": "",
      "userId": "02050793736257155229"
     },
     "user_tz": -120
    },
    "id": "8MPZshKQgtZC",
    "outputId": "08012ae8-a8ce-465a-bdb8-433a60ef6a40"
   },
   "outputs": [
    {
     "data": {
      "text/plain": [
       "5    7661\n",
       "4    2743\n",
       "5    2390\n",
       "3    1318\n",
       "1    1265\n",
       "2     898\n",
       "4     884\n",
       "1     424\n",
       "3     419\n",
       "2     262\n",
       "Name: star_rating, dtype: int64"
      ]
     },
     "execution_count": 63,
     "metadata": {},
     "output_type": "execute_result"
    }
   ],
   "source": [
    "reviews['star_rating'].value_counts()"
   ]
  },
  {
   "cell_type": "code",
   "execution_count": 65,
   "metadata": {
    "colab": {
     "base_uri": "https://localhost:8080/"
    },
    "executionInfo": {
     "elapsed": 361,
     "status": "ok",
     "timestamp": 1627031908578,
     "user": {
      "displayName": "Ignacio Soteras",
      "photoUrl": "",
      "userId": "02050793736257155229"
     },
     "user_tz": -120
    },
    "id": "_LUNxPvogyIj",
    "outputId": "cea039d5-9eec-4c4c-9444-1b9de8c7c332"
   },
   "outputs": [
    {
     "data": {
      "text/plain": [
       "array([nan, '4', '5', '3', '1', '2', 4, 5, 3, 1, 2], dtype=object)"
      ]
     },
     "execution_count": 65,
     "metadata": {},
     "output_type": "execute_result"
    }
   ],
   "source": [
    "reviews['star_rating'].unique()"
   ]
  },
  {
   "cell_type": "code",
   "execution_count": 66,
   "metadata": {
    "colab": {
     "base_uri": "https://localhost:8080/"
    },
    "executionInfo": {
     "elapsed": 452,
     "status": "ok",
     "timestamp": 1627031929325,
     "user": {
      "displayName": "Ignacio Soteras",
      "photoUrl": "",
      "userId": "02050793736257155229"
     },
     "user_tz": -120
    },
    "id": "2qBspXDdg9_V",
    "outputId": "dc16e8f2-8c9d-47e9-e9ca-b9ebed3ca6c6"
   },
   "outputs": [
    {
     "data": {
      "text/plain": [
       "239189"
      ]
     },
     "execution_count": 66,
     "metadata": {},
     "output_type": "execute_result"
    }
   ],
   "source": [
    "reviews['star_rating'].isna().sum()"
   ]
  },
  {
   "cell_type": "code",
   "execution_count": 67,
   "metadata": {
    "executionInfo": {
     "elapsed": 359,
     "status": "ok",
     "timestamp": 1627031938769,
     "user": {
      "displayName": "Ignacio Soteras",
      "photoUrl": "",
      "userId": "02050793736257155229"
     },
     "user_tz": -120
    },
    "id": "Gf9UmkiYhDVW"
   },
   "outputs": [],
   "source": [
    "reviews.dropna(inplace=True)"
   ]
  },
  {
   "cell_type": "code",
   "execution_count": 68,
   "metadata": {
    "colab": {
     "base_uri": "https://localhost:8080/"
    },
    "executionInfo": {
     "elapsed": 354,
     "status": "ok",
     "timestamp": 1627031941962,
     "user": {
      "displayName": "Ignacio Soteras",
      "photoUrl": "",
      "userId": "02050793736257155229"
     },
     "user_tz": -120
    },
    "id": "OdTfS4LAce2s",
    "outputId": "254dc81d-8330-4260-f09d-997ab2fd2222"
   },
   "outputs": [
    {
     "data": {
      "text/plain": [
       "(18264, 21)"
      ]
     },
     "execution_count": 68,
     "metadata": {},
     "output_type": "execute_result"
    }
   ],
   "source": [
    "reviews.shape"
   ]
  },
  {
   "cell_type": "code",
   "execution_count": 69,
   "metadata": {
    "executionInfo": {
     "elapsed": 354,
     "status": "ok",
     "timestamp": 1627031972176,
     "user": {
      "displayName": "Ignacio Soteras",
      "photoUrl": "",
      "userId": "02050793736257155229"
     },
     "user_tz": -120
    },
    "id": "VcbUK7I_imJa"
   },
   "outputs": [],
   "source": [
    "reviews['star_rating'] = reviews['star_rating'].astype(str)"
   ]
  },
  {
   "cell_type": "code",
   "execution_count": 70,
   "metadata": {
    "colab": {
     "base_uri": "https://localhost:8080/"
    },
    "executionInfo": {
     "elapsed": 416,
     "status": "ok",
     "timestamp": 1627031975616,
     "user": {
      "displayName": "Ignacio Soteras",
      "photoUrl": "",
      "userId": "02050793736257155229"
     },
     "user_tz": -120
    },
    "id": "_E19xFdni3Da",
    "outputId": "a46d6609-8653-4d68-bc04-b57e252abf6a"
   },
   "outputs": [
    {
     "data": {
      "text/plain": [
       "5    10051\n",
       "4     3627\n",
       "3     1737\n",
       "1     1689\n",
       "2     1160\n",
       "Name: star_rating, dtype: int64"
      ]
     },
     "execution_count": 70,
     "metadata": {},
     "output_type": "execute_result"
    }
   ],
   "source": [
    "reviews['star_rating'].value_counts()"
   ]
  },
  {
   "cell_type": "markdown",
   "metadata": {
    "id": "BR-Fp9o_aA9M"
   },
   "source": [
    "## Inspecting the number of stars"
   ]
  },
  {
   "cell_type": "code",
   "execution_count": 71,
   "metadata": {
    "colab": {
     "base_uri": "https://localhost:8080/",
     "height": 352
    },
    "executionInfo": {
     "elapsed": 375,
     "status": "ok",
     "timestamp": 1627031989280,
     "user": {
      "displayName": "Ignacio Soteras",
      "photoUrl": "",
      "userId": "02050793736257155229"
     },
     "user_tz": -120
    },
    "id": "XSFua7Hqw5FP",
    "outputId": "3f164aa1-5a86-4be7-b14d-7e0180033e1b"
   },
   "outputs": [
    {
     "name": "stderr",
     "output_type": "stream",
     "text": [
      "/opt/anaconda3/envs/DA_Env/lib/python3.9/site-packages/seaborn/_decorators.py:36: FutureWarning: Pass the following variable as a keyword arg: x. From version 0.12, the only valid positional argument will be `data`, and passing other arguments without an explicit keyword will result in an error or misinterpretation.\n",
      "  warnings.warn(\n"
     ]
    },
    {
     "data": {
      "text/plain": [
       "<AxesSubplot:xlabel='star_rating', ylabel='count'>"
      ]
     },
     "execution_count": 71,
     "metadata": {},
     "output_type": "execute_result"
    },
    {
     "data": {
      "image/png": "[encoded data removed]",
      "text/plain": [
       "<Figure size 432x288 with 1 Axes>"
      ]
     },
     "metadata": {
      "needs_background": "light"
     },
     "output_type": "display_data"
    }
   ],
   "source": [
    "import matplotlib.pyplot as plt\n",
    "import seaborn as sns\n",
    "%matplotlib inline\n",
    "\n",
    "sns.countplot(reviews['star_rating'],order = ['1','2','3','4','5'])"
   ]
  },
  {
   "cell_type": "markdown",
   "metadata": {
    "id": "zF9XdD8caYCw"
   },
   "source": [
    "OMG huge imbalance!!!"
   ]
  },
  {
   "cell_type": "markdown",
   "metadata": {
    "id": "qgQXLXMjjQCt"
   },
   "source": [
    "## Train test split"
   ]
  },
  {
   "cell_type": "code",
   "execution_count": 72,
   "metadata": {
    "executionInfo": {
     "elapsed": 400,
     "status": "ok",
     "timestamp": 1627032078330,
     "user": {
      "displayName": "Ignacio Soteras",
      "photoUrl": "",
      "userId": "02050793736257155229"
     },
     "user_tz": -120
    },
    "id": "FwUHTU0Vjue-"
   },
   "outputs": [],
   "source": [
    "X = reviews.drop(columns='star_rating')\n",
    "y = reviews['star_rating']"
   ]
  },
  {
   "cell_type": "code",
   "execution_count": 73,
   "metadata": {
    "executionInfo": {
     "elapsed": 352,
     "status": "ok",
     "timestamp": 1627032086147,
     "user": {
      "displayName": "Ignacio Soteras",
      "photoUrl": "",
      "userId": "02050793736257155229"
     },
     "user_tz": -120
    },
    "id": "RCbHynDYjVbJ"
   },
   "outputs": [],
   "source": [
    "X_train, X_test, y_train, y_test = train_test_split(X, y, test_size=0.30, random_state=42)\n",
    "\n",
    "X_train = pd.DataFrame(X_train, columns=X.columns)\n",
    "X_test  = pd.DataFrame(X_test, columns=X.columns)\n",
    "\n",
    "y_train = pd.DataFrame(y_train, columns =['star_rating'])\n",
    "y_test  = pd.DataFrame(y_test, columns =['star_rating'])"
   ]
  },
  {
   "cell_type": "markdown",
   "metadata": {
    "id": "rUhRUwwJj9dF"
   },
   "source": [
    "Remember that the train test split respects the distribution of the dependent variable. Therefore we will still have the class imbalance in the train and test sets"
   ]
  },
  {
   "cell_type": "code",
   "execution_count": 74,
   "metadata": {
    "colab": {
     "base_uri": "https://localhost:8080/",
     "height": 352
    },
    "executionInfo": {
     "elapsed": 409,
     "status": "ok",
     "timestamp": 1627032100272,
     "user": {
      "displayName": "Ignacio Soteras",
      "photoUrl": "",
      "userId": "02050793736257155229"
     },
     "user_tz": -120
    },
    "id": "RWse_QKtj5xK",
    "outputId": "7db5fdc7-e971-4baa-a3df-b629db6d52c3"
   },
   "outputs": [
    {
     "name": "stderr",
     "output_type": "stream",
     "text": [
      "/opt/anaconda3/envs/DA_Env/lib/python3.9/site-packages/seaborn/_decorators.py:36: FutureWarning: Pass the following variable as a keyword arg: x. From version 0.12, the only valid positional argument will be `data`, and passing other arguments without an explicit keyword will result in an error or misinterpretation.\n",
      "  warnings.warn(\n"
     ]
    },
    {
     "data": {
      "text/plain": [
       "<AxesSubplot:xlabel='star_rating', ylabel='count'>"
      ]
     },
     "execution_count": 74,
     "metadata": {},
     "output_type": "execute_result"
    },
    {
     "data": {
      "image/png": "[encoded data removed]",
      "text/plain": [
       "<Figure size 432x288 with 1 Axes>"
      ]
     },
     "metadata": {
      "needs_background": "light"
     },
     "output_type": "display_data"
    }
   ],
   "source": [
    "sns.countplot(y_train['star_rating'],order = ['1','2','3','4','5'])"
   ]
  },
  {
   "cell_type": "code",
   "execution_count": 75,
   "metadata": {
    "colab": {
     "base_uri": "https://localhost:8080/",
     "height": 352
    },
    "executionInfo": {
     "elapsed": 394,
     "status": "ok",
     "timestamp": 1627032116109,
     "user": {
      "displayName": "Ignacio Soteras",
      "photoUrl": "",
      "userId": "02050793736257155229"
     },
     "user_tz": -120
    },
    "id": "VSVC4z9xoN-t",
    "outputId": "839c31b4-a4a9-40e7-9fe4-8b0b4779338d"
   },
   "outputs": [
    {
     "name": "stderr",
     "output_type": "stream",
     "text": [
      "/opt/anaconda3/envs/DA_Env/lib/python3.9/site-packages/seaborn/_decorators.py:36: FutureWarning: Pass the following variable as a keyword arg: x. From version 0.12, the only valid positional argument will be `data`, and passing other arguments without an explicit keyword will result in an error or misinterpretation.\n",
      "  warnings.warn(\n"
     ]
    },
    {
     "data": {
      "text/plain": [
       "<AxesSubplot:xlabel='star_rating', ylabel='count'>"
      ]
     },
     "execution_count": 75,
     "metadata": {},
     "output_type": "execute_result"
    },
    {
     "data": {
      "image/png": "[encoded data removed]",
      "text/plain": [
       "<Figure size 432x288 with 1 Axes>"
      ]
     },
     "metadata": {
      "needs_background": "light"
     },
     "output_type": "display_data"
    }
   ],
   "source": [
    "sns.countplot(y_test['star_rating'],order = ['1','2','3','4','5'])"
   ]
  },
  {
   "cell_type": "markdown",
   "metadata": {
    "id": "MVBWMgKnsUmJ"
   },
   "source": [
    "## Class balancing"
   ]
  },
  {
   "cell_type": "code",
   "execution_count": 76,
   "metadata": {
    "colab": {
     "base_uri": "https://localhost:8080/"
    },
    "executionInfo": {
     "elapsed": 349,
     "status": "ok",
     "timestamp": 1627032174463,
     "user": {
      "displayName": "Ignacio Soteras",
      "photoUrl": "",
      "userId": "02050793736257155229"
     },
     "user_tz": -120
    },
    "id": "cdmuzOSEsl61",
    "outputId": "8a7e4dd9-fdf3-45d5-b3c9-38e0bd45a353"
   },
   "outputs": [],
   "source": [
    "from imblearn.under_sampling import RandomUnderSampler\n",
    "\n",
    "rus = RandomUnderSampler(random_state=42)\n",
    "X_train_res, y_train_res = rus.fit_resample(X_train, y_train)\n",
    "\n",
    "X_train_res = pd.DataFrame(X_train_res, columns= X_train.columns)\n",
    "y_train_res = pd.DataFrame(y_train_res, columns =['star_rating'])"
   ]
  },
  {
   "cell_type": "markdown",
   "metadata": {
    "id": "OOXyU9KNtMu4"
   },
   "source": [
    "Let's check the result!"
   ]
  },
  {
   "cell_type": "code",
   "execution_count": 77,
   "metadata": {
    "colab": {
     "base_uri": "https://localhost:8080/",
     "height": 352
    },
    "executionInfo": {
     "elapsed": 553,
     "status": "ok",
     "timestamp": 1627032182626,
     "user": {
      "displayName": "Ignacio Soteras",
      "photoUrl": "",
      "userId": "02050793736257155229"
     },
     "user_tz": -120
    },
    "id": "T5ZCuamBtCa1",
    "outputId": "48f1ff03-3d42-493b-e650-4379819db5d4"
   },
   "outputs": [
    {
     "name": "stderr",
     "output_type": "stream",
     "text": [
      "/opt/anaconda3/envs/DA_Env/lib/python3.9/site-packages/seaborn/_decorators.py:36: FutureWarning: Pass the following variable as a keyword arg: x. From version 0.12, the only valid positional argument will be `data`, and passing other arguments without an explicit keyword will result in an error or misinterpretation.\n",
      "  warnings.warn(\n"
     ]
    },
    {
     "data": {
      "text/plain": [
       "<AxesSubplot:xlabel='star_rating', ylabel='count'>"
      ]
     },
     "execution_count": 77,
     "metadata": {},
     "output_type": "execute_result"
    },
    {
     "data": {
      "image/png": "[encoded data removed]",
      "text/plain": [
       "<Figure size 432x288 with 1 Axes>"
      ]
     },
     "metadata": {
      "needs_background": "light"
     },
     "output_type": "display_data"
    }
   ],
   "source": [
    "sns.countplot(y_train_res['star_rating'],order = ['1','2','3','4','5'])"
   ]
  },
  {
   "cell_type": "code",
   "execution_count": 78,
   "metadata": {
    "colab": {
     "base_uri": "https://localhost:8080/"
    },
    "executionInfo": {
     "elapsed": 370,
     "status": "ok",
     "timestamp": 1627032227418,
     "user": {
      "displayName": "Ignacio Soteras",
      "photoUrl": "",
      "userId": "02050793736257155229"
     },
     "user_tz": -120
    },
    "id": "r1EC0_-pt3SA",
    "outputId": "b30b3d9e-fad3-459a-e32d-20a31b9040b1"
   },
   "outputs": [
    {
     "data": {
      "text/plain": [
       "star_rating\n",
       "1              792\n",
       "2              792\n",
       "3              792\n",
       "4              792\n",
       "5              792\n",
       "dtype: int64"
      ]
     },
     "execution_count": 78,
     "metadata": {},
     "output_type": "execute_result"
    }
   ],
   "source": [
    "y_train_res.value_counts()"
   ]
  },
  {
   "cell_type": "markdown",
   "metadata": {
    "id": "YPjXlDxIL-6i"
   },
   "source": [
    "## Naive Bayes Classification"
   ]
  },
  {
   "cell_type": "markdown",
   "metadata": {
    "id": "TyaIKFchMCvV"
   },
   "source": [
    "Now we are ready to make calculations. We can use whatever method we want, but we will try to use the Naive Bayes Theorem.\n",
    "\n",
    "This theorem is really easy to understand and to use. This theorem is about conditional probabilities: **what is the probability to find a result given something else is known?**\n",
    "\n",
    "To fix ideas, let's consider only two features $x_{1}$ and $x_{2}$. We can ask what is the probability to find them together? ie\n",
    "\n",
    "$$P(x_{1},x_{2}) = ?$$\n",
    "\n",
    "As this can be complicated, we can split the process in two:\n",
    "\n",
    "* compute the probability of finding one of the features values\n",
    "\n",
    "* once we have the first one, compute the probability to find the second one, given the first\n",
    "\n",
    "$$P(x_{1},x_{2}) = P(x_{1})*P(x_{2}|x_{1}) \\tag{1}$$ \n",
    "\n",
    "where $P(x_{2}|x_{1})$ is the probability that having x_{1} finding x_{2}. \n",
    "\n",
    "We could also have started finding first $x_{2}$ and then, $x_{1}$. \n",
    "\n",
    "$$P(x_{1},x_{2}) = P(x_{2})*P(x_{1}|x_{2}) \\tag{2}$$\n",
    "\n",
    "The left hand side of equations (1) and (2) is the same, therefore, que can equal the right hand sides.\n",
    "\n",
    "$$P(x_{1})*P(x_{2}|x_{1}) = P(x_{2})*P(x_{1}|x_{2})$$\n",
    "\n",
    "Then we can isolate on of the both conditional probabilities:\n",
    "\n",
    "$$P(x_{2}|x_{1})=\\frac{P(x_{2})*P(x_{1}|x_{2})}{P(x_{1})}$$\n",
    "\n",
    "or similarly:\n",
    "\n",
    "$$P(x_{1}|x_{2})=\\frac{P(x_{1})*P(x_{2}|x_{1})}{P(x_{2})}$$\n",
    "\n",
    "which is the Bayes theorem. \n",
    "\n",
    "What is telling us? It tells us that if we want to compute a conditional probability which is difficult to compute, we can compute it using the conditional probability with the features in reverse order and the individual probabilitites.\n",
    "\n",
    "\n",
    "\n",
    "\n",
    "\n"
   ]
  },
  {
   "cell_type": "markdown",
   "metadata": {
    "id": "MwmeZEdyQwFZ"
   },
   "source": [
    "What the Bayes Theorem has to do with review ratings? Easy, we can consider the independent features of our dataframe as one big feature: $X$ and the dependent feature ( rating ) as the other $R$. Then we want to compute what is the probability to obtain a given rating, given $X$. In other words, we are looking for $P(R|X)$. But now, we know the Bayes Theorem and we can compute this probability for every review as:\n",
    "\n",
    "$$P(R|X) = \\frac{P(R)*P(X|R)}{P(X)}$$\n",
    "\n",
    "Let's see how to compute each term:\n",
    "\n",
    "$P(R)$ is the probability of finding a given rating R in our dataset: pretty easy!!! (number of reviews with a given rating out of total)\n",
    "\n",
    "$P(X)$ is the probability to find a review with a given set of features: also pretty easy!!! (number of reviews with a given set of features out of total)\n",
    "\n",
    "$P(X|R)$ this is the probability of finding a given features in the review AMONG the ratings R. In other words, within all the reviews with a given rating R, how many of them have the given features out of total number of revires with rating R\n",
    "\n",
    "So basically this is filtering and counting. Of course this method will not be too accurate if our sampling is poor. Let's give it a try anyway."
   ]
  },
  {
   "cell_type": "markdown",
   "metadata": {
    "id": "mNVZ_tiy_N_L"
   },
   "source": [
    "Caveat!\n",
    "\n",
    "According to the Bayes Theorem, we need to divide by $P(X)$. This can become a problem if our dataset is too small, because then the probability of finding a review which has exactly the same values in the same columns can be null, and therefore the conditional probability will blow up. "
   ]
  },
  {
   "cell_type": "markdown",
   "metadata": {
    "id": "TKbbiJPywdtG"
   },
   "source": [
    "Let's write a function to do this for us."
   ]
  },
  {
   "cell_type": "code",
   "execution_count": 79,
   "metadata": {
    "executionInfo": {
     "elapsed": 387,
     "status": "ok",
     "timestamp": 1627033088183,
     "user": {
      "displayName": "Ignacio Soteras",
      "photoUrl": "",
      "userId": "02050793736257155229"
     },
     "user_tz": -120
    },
    "id": "rIgFV42RSf1P"
   },
   "outputs": [],
   "source": [
    "def bayes(df, rating, review ): # rating = stars, review = X; P(R|X)\n",
    "    '''\n",
    "    This function will take a dataframe and it will return the most likely rating for\n",
    "    a given review according to the Bayes Theorem\n",
    "    '''\n",
    "    df2 = df.copy()\n",
    "    p_rating = len(df2[df2['star_rating'] == rating]) / len(df2)\n",
    "    m = ((df2.iloc[:,:-1] == review).apply(sum, axis=1)).tolist()\n",
    "    t = [index for index, value in enumerate(m) if value == 20]\n",
    "    p_review = len(t) / len(df2)\n",
    "    temp = df2[df2['star_rating'] == rating]\n",
    "    m = ((df2[df2['star_rating'] == rating].iloc[:,:-1] == review).apply(sum, axis=1)).tolist()\n",
    "    t = [index for index, value in enumerate(m) if value == 20]\n",
    "    p_rating_review = len(t) / len(temp)\n",
    "    p = ( p_rating * p_rating_review ) / p_review\n",
    "    return round(p,2)"
   ]
  },
  {
   "cell_type": "markdown",
   "metadata": {
    "id": "J3wNl_huxrgu"
   },
   "source": [
    "Let's use this function with the first review."
   ]
  },
  {
   "cell_type": "code",
   "execution_count": 80,
   "metadata": {
    "colab": {
     "base_uri": "https://localhost:8080/"
    },
    "executionInfo": {
     "elapsed": 1330,
     "status": "ok",
     "timestamp": 1627033177449,
     "user": {
      "displayName": "Ignacio Soteras",
      "photoUrl": "",
      "userId": "02050793736257155229"
     },
     "user_tz": -120
    },
    "id": "G7DWLy516zeF",
    "outputId": "7849796c-90c4-4f16-bf9d-283fe8f6b3fe"
   },
   "outputs": [
    {
     "data": {
      "text/plain": [
       "[('Probability rating = 1', 0.0),\n",
       " ('Probability rating = 2', 0.0),\n",
       " ('Probability rating = 3', 0.0),\n",
       " ('Probability rating = 4', 1.0),\n",
       " ('Probability rating = 5', 0.0)]"
      ]
     },
     "execution_count": 80,
     "metadata": {},
     "output_type": "execute_result"
    }
   ],
   "source": [
    "# Using a list comprehension to compute the probability of a given review to have\n",
    "# a given rating\n",
    "prob = [bayes(reviews, i, reviews.iloc[0,:-1].tolist()) for i in ['1','2','3','4','5']]\n",
    "# Normalizing the probabilities\n",
    "partition = np.sum(prob)\n",
    "#partition\n",
    "prob = [ ('Probability rating = ' + str(index+1),round(p/partition,2)) for index, p in enumerate(prob) ]\n",
    "prob   "
   ]
  },
  {
   "cell_type": "markdown",
   "metadata": {
    "id": "4K64bMaox72d"
   },
   "source": [
    "Now let's compare the prediction against the real value"
   ]
  },
  {
   "cell_type": "code",
   "execution_count": 82,
   "metadata": {
    "colab": {
     "base_uri": "https://localhost:8080/",
     "height": 35
    },
    "executionInfo": {
     "elapsed": 386,
     "status": "ok",
     "timestamp": 1627033206921,
     "user": {
      "displayName": "Ignacio Soteras",
      "photoUrl": "",
      "userId": "02050793736257155229"
     },
     "user_tz": -120
    },
    "id": "lOoDuD3ZyCB5",
    "outputId": "12955d7e-55a7-4e6c-e5a1-24e6c23a178d"
   },
   "outputs": [
    {
     "data": {
      "text/plain": [
       "'4'"
      ]
     },
     "execution_count": 82,
     "metadata": {},
     "output_type": "execute_result"
    }
   ],
   "source": [
    "reviews.iloc[0,-1]"
   ]
  },
  {
   "cell_type": "markdown",
   "metadata": {
    "id": "7pntSR31yHFB"
   },
   "source": [
    "Really good prediction! Probably we were really lucky."
   ]
  },
  {
   "cell_type": "code",
   "execution_count": 73,
   "metadata": {
    "colab": {
     "base_uri": "https://localhost:8080/"
    },
    "executionInfo": {
     "elapsed": 434,
     "status": "ok",
     "timestamp": 1627033214299,
     "user": {
      "displayName": "Ignacio Soteras",
      "photoUrl": "",
      "userId": "02050793736257155229"
     },
     "user_tz": -120
    },
    "id": "fp9cLuhG1rts",
    "outputId": "f59a495f-96ad-451f-8c78-bf64423ea6c3"
   },
   "outputs": [
    {
     "data": {
      "text/plain": [
       "(3960, 1)"
      ]
     },
     "execution_count": 73,
     "metadata": {
      "tags": []
     },
     "output_type": "execute_result"
    }
   ],
   "source": [
    "y_train_res.shape\n",
    "#y_train_res.reshape()"
   ]
  },
  {
   "cell_type": "code",
   "execution_count": 83,
   "metadata": {
    "colab": {
     "base_uri": "https://localhost:8080/"
    },
    "executionInfo": {
     "elapsed": 1609,
     "status": "ok",
     "timestamp": 1627033232204,
     "user": {
      "displayName": "Ignacio Soteras",
      "photoUrl": "",
      "userId": "02050793736257155229"
     },
     "user_tz": -120
    },
    "id": "FBhfFpj8xzRU",
    "outputId": "9b34ab9d-d78b-4fb0-db89-425121d33b93"
   },
   "outputs": [
    {
     "data": {
      "text/plain": [
       "RandomForestClassifier()"
      ]
     },
     "execution_count": 83,
     "metadata": {},
     "output_type": "execute_result"
    }
   ],
   "source": [
    "from sklearn.naive_bayes import CategoricalNB\n",
    "from sklearn.ensemble import RandomForestClassifier\n",
    "\n",
    "nb = CategoricalNB()\n",
    "rf = RandomForestClassifier()\n",
    "\n",
    "nb.fit(X_train_res, y_train_res['star_rating'])\n",
    "rf.fit(X_train_res, y_train_res['star_rating'])"
   ]
  },
  {
   "cell_type": "markdown",
   "metadata": {
    "id": "NHK31PeUynWP"
   },
   "source": [
    "## Making predictions"
   ]
  },
  {
   "cell_type": "code",
   "execution_count": 84,
   "metadata": {
    "executionInfo": {
     "elapsed": 369,
     "status": "ok",
     "timestamp": 1627033236700,
     "user": {
      "displayName": "Ignacio Soteras",
      "photoUrl": "",
      "userId": "02050793736257155229"
     },
     "user_tz": -120
    },
    "id": "QFDUFgxeyKHl"
   },
   "outputs": [],
   "source": [
    "y_train_res_pred_rf = rf.predict(X_train_res)\n",
    "y_test_pred_rf      = rf.predict(X_test)\n"
   ]
  },
  {
   "cell_type": "markdown",
   "metadata": {
    "id": "iQRTOshkyvIA"
   },
   "source": [
    "## Model evaluation"
   ]
  },
  {
   "cell_type": "code",
   "execution_count": 85,
   "metadata": {
    "executionInfo": {
     "elapsed": 346,
     "status": "ok",
     "timestamp": 1627033243295,
     "user": {
      "displayName": "Ignacio Soteras",
      "photoUrl": "",
      "userId": "02050793736257155229"
     },
     "user_tz": -120
    },
    "id": "LSL3eBKUyx78"
   },
   "outputs": [],
   "source": [
    "def model_performance_class(y_train, y_pred_train, y_test, y_pred_test):\n",
    "\n",
    "    from sklearn.metrics import cohen_kappa_score, classification_report \n",
    "\n",
    "\n",
    "    print(\"Results obtained for the TRAIN SET\")\n",
    "    print(\"==================================\")\n",
    "    print(\"The Cohen's Kappa is: {:.2f}\".format(cohen_kappa_score(y_train, y_pred_train)))\n",
    "    print(classification_report(y_train, y_pred_train))\n",
    "    print(\"==================================\")\n",
    "    print(\"Results obtained for the TEST SET\")\n",
    "    print(\"The Cohen's Kappa is: {:.2f}\".format(cohen_kappa_score(y_test, y_pred_test)))\n",
    "    print(classification_report(y_test, y_pred_test))\n"
   ]
  },
  {
   "cell_type": "code",
   "execution_count": 86,
   "metadata": {
    "colab": {
     "base_uri": "https://localhost:8080/"
    },
    "executionInfo": {
     "elapsed": 350,
     "status": "ok",
     "timestamp": 1627033247436,
     "user": {
      "displayName": "Ignacio Soteras",
      "photoUrl": "",
      "userId": "02050793736257155229"
     },
     "user_tz": -120
    },
    "id": "odgcuyY4zV9T",
    "outputId": "be5b61e4-6c4c-492b-c656-5c2f0b36dda2"
   },
   "outputs": [
    {
     "name": "stdout",
     "output_type": "stream",
     "text": [
      "Results obtained for the TRAIN SET\n",
      "==================================\n",
      "The Cohen's Kappa is: 0.88\n",
      "              precision    recall  f1-score   support\n",
      "\n",
      "           1       0.91      0.91      0.91       792\n",
      "           2       0.88      0.92      0.90       792\n",
      "           3       0.88      0.90      0.89       792\n",
      "           4       0.92      0.88      0.90       792\n",
      "           5       0.93      0.91      0.92       792\n",
      "\n",
      "    accuracy                           0.90      3960\n",
      "   macro avg       0.91      0.90      0.90      3960\n",
      "weighted avg       0.91      0.90      0.90      3960\n",
      "\n",
      "==================================\n",
      "Results obtained for the TEST SET\n",
      "The Cohen's Kappa is: -0.00\n",
      "              precision    recall  f1-score   support\n",
      "\n",
      "           1       0.09      0.21      0.13       528\n",
      "           2       0.07      0.21      0.10       368\n",
      "           3       0.09      0.20      0.13       497\n",
      "           4       0.20      0.20      0.20      1082\n",
      "           5       0.54      0.19      0.28      3005\n",
      "\n",
      "    accuracy                           0.20      5480\n",
      "   macro avg       0.20      0.20      0.17      5480\n",
      "weighted avg       0.36      0.20      0.23      5480\n",
      "\n"
     ]
    }
   ],
   "source": [
    "model_performance_class(y_train_res, y_train_res_pred_rf, y_test, y_test_pred_rf)"
   ]
  },
  {
   "cell_type": "markdown",
   "metadata": {
    "id": "2H7FYgEFzLa6"
   },
   "source": [
    "# Proper way"
   ]
  },
  {
   "cell_type": "markdown",
   "metadata": {
    "id": "_XoW-IYxzNsO"
   },
   "source": [
    "## Defining a function to clean a review\n",
    "\n",
    "\n",
    "\n"
   ]
  },
  {
   "cell_type": "code",
   "execution_count": 87,
   "metadata": {
    "executionInfo": {
     "elapsed": 364,
     "status": "ok",
     "timestamp": 1627033324695,
     "user": {
      "displayName": "Ignacio Soteras",
      "photoUrl": "",
      "userId": "02050793736257155229"
     },
     "user_tz": -120
    },
    "id": "fz1i7sERzSUU"
   },
   "outputs": [],
   "source": [
    "def clean_review(x):\n",
    "    x = str(x).lower().replace(\"\\\\\",\"\").replace(\"_\",\" \")\n",
    "    x = re.sub(r'\\W+',' ',x) # Replace everything non-alpahnumeric by ' '\n",
    "    x = re.sub(r'\\s+',' ',x) # Replace one or more whitespaces by  ' '\n",
    "    x = re.sub(r'\\d+',' ',x) # Replace one or more digits by  ' '\n",
    "    x = re.sub(r'([a-z0-9+._-]+@[a-z0-9+._-]+\\.[a-z0-9+_-]+)',\" \", x) # Replace e-mails by ''\n",
    "    # Replace urls by ''\n",
    "    x = re.sub(r'(http|https|ftp|ssh)://([\\w_-]+(?:(?:\\.[\\w_-]+)+))([\\w.,@?^=%&:/~+#-]*[\\w@?^=%&/~+#-])?', ' ' , x) \n",
    "    # Replace html tags by ''\n",
    "    x = BeautifulSoup(x, 'lxml').get_text().strip()\n",
    "    x = x.replace(' br ',' ')\n",
    "\n",
    "    return x\n"
   ]
  },
  {
   "cell_type": "code",
   "execution_count": 88,
   "metadata": {
    "colab": {
     "base_uri": "https://localhost:8080/",
     "height": 205
    },
    "executionInfo": {
     "elapsed": 362,
     "status": "ok",
     "timestamp": 1627033327845,
     "user": {
      "displayName": "Ignacio Soteras",
      "photoUrl": "",
      "userId": "02050793736257155229"
     },
     "user_tz": -120
    },
    "id": "MZ6XRu9C1G0q",
    "outputId": "7a4ec228-d346-4366-9fad-dbfe54495103"
   },
   "outputs": [
    {
     "data": {
      "text/html": [
       "<div>\n",
       "<style scoped>\n",
       "    .dataframe tbody tr th:only-of-type {\n",
       "        vertical-align: middle;\n",
       "    }\n",
       "\n",
       "    .dataframe tbody tr th {\n",
       "        vertical-align: top;\n",
       "    }\n",
       "\n",
       "    .dataframe thead th {\n",
       "        text-align: right;\n",
       "    }\n",
       "</style>\n",
       "<table border=\"1\" class=\"dataframe\">\n",
       "  <thead>\n",
       "    <tr style=\"text-align: right;\">\n",
       "      <th></th>\n",
       "      <th>review_id</th>\n",
       "      <th>review_body</th>\n",
       "      <th>helpful_votes</th>\n",
       "      <th>total_votes</th>\n",
       "      <th>verified_purchase</th>\n",
       "      <th>star_rating</th>\n",
       "      <th>perc</th>\n",
       "      <th>length</th>\n",
       "    </tr>\n",
       "  </thead>\n",
       "  <tbody>\n",
       "    <tr>\n",
       "      <th>5</th>\n",
       "      <td>R3GNM3SU9VHJFT</td>\n",
       "      <td>Nice bag. Should have another strap on bottom ...</td>\n",
       "      <td>1.0</td>\n",
       "      <td>1.0</td>\n",
       "      <td>Y</td>\n",
       "      <td>4</td>\n",
       "      <td>1.000000</td>\n",
       "      <td>60</td>\n",
       "    </tr>\n",
       "    <tr>\n",
       "      <th>22</th>\n",
       "      <td>RD10YF7LLTGCQ</td>\n",
       "      <td>This is my second time buying this system from...</td>\n",
       "      <td>1.0</td>\n",
       "      <td>1.0</td>\n",
       "      <td>Y</td>\n",
       "      <td>5</td>\n",
       "      <td>1.000000</td>\n",
       "      <td>79</td>\n",
       "    </tr>\n",
       "    <tr>\n",
       "      <th>27</th>\n",
       "      <td>R2FM18IYOYV53R</td>\n",
       "      <td>When I first bought these I was worried about ...</td>\n",
       "      <td>1.0</td>\n",
       "      <td>1.0</td>\n",
       "      <td>Y</td>\n",
       "      <td>4</td>\n",
       "      <td>1.000000</td>\n",
       "      <td>100</td>\n",
       "    </tr>\n",
       "    <tr>\n",
       "      <th>29</th>\n",
       "      <td>REU5E8A34P3R</td>\n",
       "      <td>I returned a pair of Roller Derby skates a bou...</td>\n",
       "      <td>5.0</td>\n",
       "      <td>5.0</td>\n",
       "      <td>Y</td>\n",
       "      <td>5</td>\n",
       "      <td>1.000000</td>\n",
       "      <td>301</td>\n",
       "    </tr>\n",
       "    <tr>\n",
       "      <th>65</th>\n",
       "      <td>R2FP3U4NHNFNL2</td>\n",
       "      <td>This item is awesome. It holds temp very well ...</td>\n",
       "      <td>25.0</td>\n",
       "      <td>29.0</td>\n",
       "      <td>Y</td>\n",
       "      <td>5</td>\n",
       "      <td>0.862069</td>\n",
       "      <td>284</td>\n",
       "    </tr>\n",
       "  </tbody>\n",
       "</table>\n",
       "</div>"
      ],
      "text/plain": [
       "         review_id                                        review_body  \\\n",
       "5   R3GNM3SU9VHJFT  Nice bag. Should have another strap on bottom ...   \n",
       "22   RD10YF7LLTGCQ  This is my second time buying this system from...   \n",
       "27  R2FM18IYOYV53R  When I first bought these I was worried about ...   \n",
       "29    REU5E8A34P3R  I returned a pair of Roller Derby skates a bou...   \n",
       "65  R2FP3U4NHNFNL2  This item is awesome. It holds temp very well ...   \n",
       "\n",
       "    helpful_votes  total_votes verified_purchase star_rating      perc  length  \n",
       "5             1.0          1.0                 Y           4  1.000000      60  \n",
       "22            1.0          1.0                 Y           5  1.000000      79  \n",
       "27            1.0          1.0                 Y           4  1.000000     100  \n",
       "29            5.0          5.0                 Y           5  1.000000     301  \n",
       "65           25.0         29.0                 Y           5  0.862069     284  "
      ]
     },
     "execution_count": 88,
     "metadata": {},
     "output_type": "execute_result"
    }
   ],
   "source": [
    "data.head()"
   ]
  },
  {
   "cell_type": "code",
   "execution_count": 89,
   "metadata": {
    "executionInfo": {
     "elapsed": 352,
     "status": "ok",
     "timestamp": 1627033332192,
     "user": {
      "displayName": "Ignacio Soteras",
      "photoUrl": "",
      "userId": "02050793736257155229"
     },
     "user_tz": -120
    },
    "id": "LJmisSkz1OFw"
   },
   "outputs": [],
   "source": [
    "reviews2 = data.copy()"
   ]
  },
  {
   "cell_type": "code",
   "execution_count": 90,
   "metadata": {
    "executionInfo": {
     "elapsed": 386,
     "status": "ok",
     "timestamp": 1627033334977,
     "user": {
      "displayName": "Ignacio Soteras",
      "photoUrl": "",
      "userId": "02050793736257155229"
     },
     "user_tz": -120
    },
    "id": "UmOp2Cwj1WiI"
   },
   "outputs": [],
   "source": [
    "reviews2 = reviews2[['review_body','star_rating']]"
   ]
  },
  {
   "cell_type": "code",
   "execution_count": 91,
   "metadata": {
    "colab": {
     "base_uri": "https://localhost:8080/",
     "height": 205
    },
    "executionInfo": {
     "elapsed": 370,
     "status": "ok",
     "timestamp": 1627033341869,
     "user": {
      "displayName": "Ignacio Soteras",
      "photoUrl": "",
      "userId": "02050793736257155229"
     },
     "user_tz": -120
    },
    "id": "J3UzVeNn1lwY",
    "outputId": "e7e79721-241a-4071-9970-a69a125bc3c5"
   },
   "outputs": [
    {
     "data": {
      "text/html": [
       "<div>\n",
       "<style scoped>\n",
       "    .dataframe tbody tr th:only-of-type {\n",
       "        vertical-align: middle;\n",
       "    }\n",
       "\n",
       "    .dataframe tbody tr th {\n",
       "        vertical-align: top;\n",
       "    }\n",
       "\n",
       "    .dataframe thead th {\n",
       "        text-align: right;\n",
       "    }\n",
       "</style>\n",
       "<table border=\"1\" class=\"dataframe\">\n",
       "  <thead>\n",
       "    <tr style=\"text-align: right;\">\n",
       "      <th></th>\n",
       "      <th>review_body</th>\n",
       "      <th>star_rating</th>\n",
       "    </tr>\n",
       "  </thead>\n",
       "  <tbody>\n",
       "    <tr>\n",
       "      <th>5</th>\n",
       "      <td>Nice bag. Should have another strap on bottom ...</td>\n",
       "      <td>4</td>\n",
       "    </tr>\n",
       "    <tr>\n",
       "      <th>22</th>\n",
       "      <td>This is my second time buying this system from...</td>\n",
       "      <td>5</td>\n",
       "    </tr>\n",
       "    <tr>\n",
       "      <th>27</th>\n",
       "      <td>When I first bought these I was worried about ...</td>\n",
       "      <td>4</td>\n",
       "    </tr>\n",
       "    <tr>\n",
       "      <th>29</th>\n",
       "      <td>I returned a pair of Roller Derby skates a bou...</td>\n",
       "      <td>5</td>\n",
       "    </tr>\n",
       "    <tr>\n",
       "      <th>65</th>\n",
       "      <td>This item is awesome. It holds temp very well ...</td>\n",
       "      <td>5</td>\n",
       "    </tr>\n",
       "  </tbody>\n",
       "</table>\n",
       "</div>"
      ],
      "text/plain": [
       "                                          review_body star_rating\n",
       "5   Nice bag. Should have another strap on bottom ...           4\n",
       "22  This is my second time buying this system from...           5\n",
       "27  When I first bought these I was worried about ...           4\n",
       "29  I returned a pair of Roller Derby skates a bou...           5\n",
       "65  This item is awesome. It holds temp very well ...           5"
      ]
     },
     "execution_count": 91,
     "metadata": {},
     "output_type": "execute_result"
    }
   ],
   "source": [
    "reviews2.head()"
   ]
  },
  {
   "cell_type": "code",
   "execution_count": 92,
   "metadata": {
    "executionInfo": {
     "elapsed": 90687,
     "status": "ok",
     "timestamp": 1627033458403,
     "user": {
      "displayName": "Ignacio Soteras",
      "photoUrl": "",
      "userId": "02050793736257155229"
     },
     "user_tz": -120
    },
    "id": "TX2QefC71m6y"
   },
   "outputs": [],
   "source": [
    "reviews2['review_body'] = reviews2['review_body'].apply(lambda x: clean_review(x)) "
   ]
  },
  {
   "cell_type": "code",
   "execution_count": 93,
   "metadata": {
    "colab": {
     "base_uri": "https://localhost:8080/",
     "height": 205
    },
    "executionInfo": {
     "elapsed": 359,
     "status": "ok",
     "timestamp": 1627033464311,
     "user": {
      "displayName": "Ignacio Soteras",
      "photoUrl": "",
      "userId": "02050793736257155229"
     },
     "user_tz": -120
    },
    "id": "CvtqLBDN2Va3",
    "outputId": "5a111d53-5550-496e-e1c6-8d735ef02a5d"
   },
   "outputs": [
    {
     "data": {
      "text/html": [
       "<div>\n",
       "<style scoped>\n",
       "    .dataframe tbody tr th:only-of-type {\n",
       "        vertical-align: middle;\n",
       "    }\n",
       "\n",
       "    .dataframe tbody tr th {\n",
       "        vertical-align: top;\n",
       "    }\n",
       "\n",
       "    .dataframe thead th {\n",
       "        text-align: right;\n",
       "    }\n",
       "</style>\n",
       "<table border=\"1\" class=\"dataframe\">\n",
       "  <thead>\n",
       "    <tr style=\"text-align: right;\">\n",
       "      <th></th>\n",
       "      <th>review_body</th>\n",
       "      <th>star_rating</th>\n",
       "    </tr>\n",
       "  </thead>\n",
       "  <tbody>\n",
       "    <tr>\n",
       "      <th>5</th>\n",
       "      <td>nice bag should have another strap on bottom o...</td>\n",
       "      <td>4</td>\n",
       "    </tr>\n",
       "    <tr>\n",
       "      <th>22</th>\n",
       "      <td>this is my second time buying this system from...</td>\n",
       "      <td>5</td>\n",
       "    </tr>\n",
       "    <tr>\n",
       "      <th>27</th>\n",
       "      <td>when i first bought these i was worried about ...</td>\n",
       "      <td>4</td>\n",
       "    </tr>\n",
       "    <tr>\n",
       "      <th>29</th>\n",
       "      <td>i returned a pair of roller derby skates a bou...</td>\n",
       "      <td>5</td>\n",
       "    </tr>\n",
       "    <tr>\n",
       "      <th>65</th>\n",
       "      <td>this item is awesome it holds temp very well i...</td>\n",
       "      <td>5</td>\n",
       "    </tr>\n",
       "  </tbody>\n",
       "</table>\n",
       "</div>"
      ],
      "text/plain": [
       "                                          review_body star_rating\n",
       "5   nice bag should have another strap on bottom o...           4\n",
       "22  this is my second time buying this system from...           5\n",
       "27  when i first bought these i was worried about ...           4\n",
       "29  i returned a pair of roller derby skates a bou...           5\n",
       "65  this item is awesome it holds temp very well i...           5"
      ]
     },
     "execution_count": 93,
     "metadata": {},
     "output_type": "execute_result"
    }
   ],
   "source": [
    "reviews2.head()"
   ]
  },
  {
   "cell_type": "markdown",
   "metadata": {
    "id": "z5gQ1r2u2neU"
   },
   "source": [
    "# TF-IDF "
   ]
  },
  {
   "cell_type": "code",
   "execution_count": 85,
   "metadata": {
    "executionInfo": {
     "elapsed": 426,
     "status": "ok",
     "timestamp": 1627033620213,
     "user": {
      "displayName": "Ignacio Soteras",
      "photoUrl": "",
      "userId": "02050793736257155229"
     },
     "user_tz": -120
    },
    "id": "so0ZhBKu2qVv"
   },
   "outputs": [],
   "source": [
    "from sklearn.feature_extraction.text import TfidfVectorizer\n",
    "\n",
    "tidf = TfidfVectorizer(max_features = 20000, ngram_range = (2,2), analyzer = 'word',\n",
    "                       stop_words = stop_words )"
   ]
  },
  {
   "cell_type": "code",
   "execution_count": 86,
   "metadata": {
    "executionInfo": {
     "elapsed": 81186,
     "status": "ok",
     "timestamp": 1627033718768,
     "user": {
      "displayName": "Ignacio Soteras",
      "photoUrl": "",
      "userId": "02050793736257155229"
     },
     "user_tz": -120
    },
    "id": "UcX643Wd5Dm-"
   },
   "outputs": [],
   "source": [
    "X = tidf.fit_transform(reviews2['review_body'])\n",
    "y = reviews2['star_rating']"
   ]
  },
  {
   "cell_type": "markdown",
   "metadata": {
    "id": "5TAbSH7F82pv"
   },
   "source": [
    "Let's inspect the features ie: the 3-grams used by the model ( the most frequent 3-grams )"
   ]
  },
  {
   "cell_type": "code",
   "execution_count": 87,
   "metadata": {
    "colab": {
     "base_uri": "https://localhost:8080/"
    },
    "executionInfo": {
     "elapsed": 377,
     "status": "ok",
     "timestamp": 1627033737999,
     "user": {
      "displayName": "Ignacio Soteras",
      "photoUrl": "",
      "userId": "02050793736257155229"
     },
     "user_tz": -120
    },
    "id": "iAzfM8p-86YQ",
    "outputId": "22f67a33-815d-4077-e432-753292221c2e"
   },
   "outputs": [
    {
     "data": {
      "text/plain": [
       "['aa aaa',\n",
       " 'aa batteries',\n",
       " 'aa battery',\n",
       " 'aaa batteries',\n",
       " 'aaa battery',\n",
       " 'abec bearings',\n",
       " 'ability keep',\n",
       " 'ability use',\n",
       " 'able adjust',\n",
       " 'able assemble',\n",
       " 'able attach',\n",
       " 'able bring',\n",
       " 'able buy',\n",
       " 'able carry',\n",
       " 'able change',\n",
       " 'able cut',\n",
       " 'able easily',\n",
       " 'able enjoy',\n",
       " 'able figure',\n",
       " 'able find',\n",
       " 'able fit',\n",
       " 'able fix',\n",
       " 'able fold',\n",
       " 'able get',\n",
       " 'able go',\n",
       " 'able handle',\n",
       " 'able hold',\n",
       " 'able install',\n",
       " 'able keep',\n",
       " 'able make',\n",
       " 'able mount',\n",
       " 'able move',\n",
       " 'able open',\n",
       " 'able pack',\n",
       " 'able pull',\n",
       " 'able put',\n",
       " 'able quickly',\n",
       " 'able reach',\n",
       " 'able remove',\n",
       " 'able return',\n",
       " 'able ride',\n",
       " 'able roll',\n",
       " 'able run',\n",
       " 'able see',\n",
       " 'able set',\n",
       " 'able sit',\n",
       " 'able sleep',\n",
       " 'able stand',\n",
       " 'able stay',\n",
       " 'able store',\n",
       " 'able take',\n",
       " 'able test',\n",
       " 'able tighten',\n",
       " 'able try',\n",
       " 'able turn',\n",
       " 'able use',\n",
       " 'able walk',\n",
       " 'able wear',\n",
       " 'able zip',\n",
       " 'absolutely amazing',\n",
       " 'absolutely best',\n",
       " 'absolutely buy',\n",
       " 'absolutely fantastic',\n",
       " 'absolutely great',\n",
       " 'absolutely love',\n",
       " 'absolutely loved',\n",
       " 'absolutely loves',\n",
       " 'absolutely nothing',\n",
       " 'absolutely perfect',\n",
       " 'absolutely problems',\n",
       " 'absolutely recommend',\n",
       " 'absolutely worth',\n",
       " 'ac adapter',\n",
       " 'according size',\n",
       " 'accurate br',\n",
       " 'across back',\n",
       " 'across body',\n",
       " 'across bottom',\n",
       " 'across chest',\n",
       " 'across country',\n",
       " 'across front',\n",
       " 'across one',\n",
       " 'across top',\n",
       " 'act like',\n",
       " 'acts like',\n",
       " 'actual product',\n",
       " 'actual size',\n",
       " 'actual use',\n",
       " 'actually able',\n",
       " 'actually better',\n",
       " 'actually bought',\n",
       " 'actually came',\n",
       " 'actually comfortable',\n",
       " 'actually feel',\n",
       " 'actually fit',\n",
       " 'actually fits',\n",
       " 'actually get',\n",
       " 'actually going',\n",
       " 'actually good',\n",
       " 'actually got',\n",
       " 'actually like',\n",
       " 'actually little',\n",
       " 'actually look',\n",
       " 'actually looks',\n",
       " 'actually made',\n",
       " 'actually make',\n",
       " 'actually makes',\n",
       " 'actually much',\n",
       " 'actually need',\n",
       " 'actually one',\n",
       " 'actually prefer',\n",
       " 'actually pretty',\n",
       " 'actually put',\n",
       " 'actually quite',\n",
       " 'actually really',\n",
       " 'actually see',\n",
       " 'actually think',\n",
       " 'actually two',\n",
       " 'actually use',\n",
       " 'actually used',\n",
       " 'actually using',\n",
       " 'actually work',\n",
       " 'actually worked',\n",
       " 'actually works',\n",
       " 'add additional',\n",
       " 'add air',\n",
       " 'add another',\n",
       " 'add bit',\n",
       " 'add couple',\n",
       " 'add extra',\n",
       " 'add ice',\n",
       " 'add little',\n",
       " 'add much',\n",
       " 'add one',\n",
       " 'add ons',\n",
       " 'add review',\n",
       " 'add water',\n",
       " 'add weight',\n",
       " 'added benefit',\n",
       " 'added bonus',\n",
       " 'added comfort',\n",
       " 'added protection',\n",
       " 'added security',\n",
       " 'added warmth',\n",
       " 'added weight',\n",
       " 'additional items',\n",
       " 'adjust angle',\n",
       " 'adjust brakes',\n",
       " 'adjust fit',\n",
       " 'adjust front',\n",
       " 'adjust height',\n",
       " 'adjust length',\n",
       " 'adjust seat',\n",
       " 'adjust size',\n",
       " 'adjust straps',\n",
       " 'adjust tension',\n",
       " 'adjustable fit',\n",
       " 'adjustable handle',\n",
       " 'adjustable height',\n",
       " 'adjustable shoulder',\n",
       " 'adjustable strap',\n",
       " 'adjustable straps',\n",
       " 'adjustable wrench',\n",
       " 'adjusted fit',\n",
       " 'adjusted properly',\n",
       " 'adjusting brakes',\n",
       " 'adjustment br',\n",
       " 'adjustment knob',\n",
       " 'adjustment straps',\n",
       " 'adult bike',\n",
       " 'adult bikes',\n",
       " 'adult size',\n",
       " 'adult sized',\n",
       " 'adults kids',\n",
       " 'advanced elements',\n",
       " 'advertised br',\n",
       " 'aero bars',\n",
       " 'aesthetically pleasing',\n",
       " 'affect performance',\n",
       " 'affordable price',\n",
       " 'afraid would',\n",
       " 'ago bought',\n",
       " 'ago br',\n",
       " 'ago first',\n",
       " 'ago got',\n",
       " 'ago love',\n",
       " 'ago one',\n",
       " 'ago purchased',\n",
       " 'ago really',\n",
       " 'ago still',\n",
       " 'ago use',\n",
       " 'ago used',\n",
       " 'agree reviewers',\n",
       " 'agree reviews',\n",
       " 'ahead bought',\n",
       " 'ahead buy',\n",
       " 'ahead ordered',\n",
       " 'ahead schedule',\n",
       " 'ahead time',\n",
       " 'aid kit',\n",
       " 'air bed',\n",
       " 'air beds',\n",
       " 'air br',\n",
       " 'air bubbles',\n",
       " 'air chambers',\n",
       " 'air circulation',\n",
       " 'air compressor',\n",
       " 'air dry',\n",
       " 'air every',\n",
       " 'air filled',\n",
       " 'air first',\n",
       " 'air flow',\n",
       " 'air get',\n",
       " 'air inside',\n",
       " 'air leak',\n",
       " 'air leaks',\n",
       " 'air like',\n",
       " 'air loss',\n",
       " 'air matress',\n",
       " 'air mattress',\n",
       " 'air mattresses',\n",
       " 'air night',\n",
       " 'air pad',\n",
       " 'air pressure',\n",
       " 'air pump',\n",
       " 'air tight',\n",
       " 'air tire',\n",
       " 'air tires',\n",
       " 'air travel',\n",
       " 'air tube',\n",
       " 'air valve',\n",
       " 'air vent',\n",
       " 'air vents',\n",
       " 'air well',\n",
       " 'air would',\n",
       " 'airport security',\n",
       " 'alcohol burner',\n",
       " 'alcohol stove',\n",
       " 'alcohol stoves',\n",
       " 'alkaline batteries',\n",
       " 'allen key',\n",
       " 'allen keys',\n",
       " 'allen sports',\n",
       " 'allen wrench',\n",
       " 'allen wrenches',\n",
       " 'allow air',\n",
       " 'allow easy',\n",
       " 'allow use',\n",
       " 'allow water',\n",
       " 'allowed us',\n",
       " 'allows air',\n",
       " 'allows carry',\n",
       " 'allows easy',\n",
       " 'allows put',\n",
       " 'allows us',\n",
       " 'allows use',\n",
       " 'almost always',\n",
       " 'almost anything',\n",
       " 'almost anywhere',\n",
       " 'almost big',\n",
       " 'almost bought',\n",
       " 'almost completely',\n",
       " 'almost daily',\n",
       " 'almost every',\n",
       " 'almost everyday',\n",
       " 'almost everything',\n",
       " 'almost exactly',\n",
       " 'almost good',\n",
       " 'almost half',\n",
       " 'almost identical',\n",
       " 'almost immediately',\n",
       " 'almost impossible',\n",
       " 'almost like',\n",
       " 'almost month',\n",
       " 'almost months',\n",
       " 'almost much',\n",
       " 'almost never',\n",
       " 'almost nothing',\n",
       " 'almost perfect',\n",
       " 'almost perfectly',\n",
       " 'almost twice',\n",
       " 'almost two',\n",
       " 'almost useless',\n",
       " 'almost way',\n",
       " 'almost year',\n",
       " 'almost years',\n",
       " 'alone worth',\n",
       " 'alone would',\n",
       " 'along back',\n",
       " 'along bottom',\n",
       " 'along one',\n",
       " 'along side',\n",
       " 'along sides',\n",
       " 'along top',\n",
       " 'along way',\n",
       " 'alps mountaineering',\n",
       " 'already assembled',\n",
       " 'already attached',\n",
       " 'already bought',\n",
       " 'already broken',\n",
       " 'already installed',\n",
       " 'already knew',\n",
       " 'already know',\n",
       " 'already one',\n",
       " 'already ordered',\n",
       " 'already owned',\n",
       " 'already purchased',\n",
       " 'already put',\n",
       " 'already recommended',\n",
       " 'already started',\n",
       " 'already starting',\n",
       " 'already used',\n",
       " 'also able',\n",
       " 'also add',\n",
       " 'also added',\n",
       " 'also adjustable',\n",
       " 'also allows',\n",
       " 'also amazon',\n",
       " 'also another',\n",
       " 'also appreciate',\n",
       " 'also available',\n",
       " 'also bag',\n",
       " 'also big',\n",
       " 'also bike',\n",
       " 'also bit',\n",
       " 'also bought',\n",
       " 'also br',\n",
       " 'also bright',\n",
       " 'also buy',\n",
       " 'also came',\n",
       " 'also carry',\n",
       " 'also come',\n",
       " 'also comes',\n",
       " 'also comfortable',\n",
       " 'also could',\n",
       " 'also difficult',\n",
       " 'also durable',\n",
       " 'also easily',\n",
       " 'also easy',\n",
       " 'also even',\n",
       " 'also excellent',\n",
       " 'also extremely',\n",
       " 'also fairly',\n",
       " 'also feel',\n",
       " 'also feels',\n",
       " 'also find',\n",
       " 'also first',\n",
       " 'also fit',\n",
       " 'also fits',\n",
       " 'also folds',\n",
       " 'also found',\n",
       " 'also front',\n",
       " 'also get',\n",
       " 'also give',\n",
       " 'also gives',\n",
       " 'also go',\n",
       " 'also going',\n",
       " 'also good',\n",
       " 'also got',\n",
       " 'also great',\n",
       " 'also handle',\n",
       " 'also handy',\n",
       " 'also happy',\n",
       " 'also hard',\n",
       " 'also heavy',\n",
       " 'also help',\n",
       " 'also helps',\n",
       " 'also hold',\n",
       " 'also holds',\n",
       " 'also important',\n",
       " 'also impressed',\n",
       " 'also included',\n",
       " 'also includes',\n",
       " 'also keep',\n",
       " 'also keeps',\n",
       " 'also kept',\n",
       " 'also know',\n",
       " 'also large',\n",
       " 'also light',\n",
       " 'also lightweight',\n",
       " 'also like',\n",
       " 'also liked',\n",
       " 'also little',\n",
       " 'also long',\n",
       " 'also look',\n",
       " 'also looking',\n",
       " 'also looks',\n",
       " 'also lot',\n",
       " 'also love',\n",
       " 'also loved',\n",
       " 'also made',\n",
       " 'also make',\n",
       " 'also makes',\n",
       " 'also means',\n",
       " 'also mention',\n",
       " 'also much',\n",
       " 'also need',\n",
       " 'also needed',\n",
       " 'also never',\n",
       " 'also nice',\n",
       " 'also note',\n",
       " 'also noted',\n",
       " 'also noticed',\n",
       " 'also one',\n",
       " 'also ordered',\n",
       " 'also perfect',\n",
       " 'also plan',\n",
       " 'also plastic',\n",
       " 'also plenty',\n",
       " 'also plus',\n",
       " 'also pretty',\n",
       " 'also price',\n",
       " 'also problem',\n",
       " 'also provide',\n",
       " 'also provides',\n",
       " 'also purchased',\n",
       " 'also put',\n",
       " 'also quite',\n",
       " 'also read',\n",
       " 'also really',\n",
       " 'also received',\n",
       " 'also recommend',\n",
       " 'also ride',\n",
       " 'also run',\n",
       " 'also said',\n",
       " 'also say',\n",
       " 'also says',\n",
       " 'also see',\n",
       " 'also seem',\n",
       " 'also seemed',\n",
       " 'also seems',\n",
       " 'also set',\n",
       " 'also side',\n",
       " 'also since',\n",
       " 'also size',\n",
       " 'also slightly',\n",
       " 'also small',\n",
       " 'also smaller',\n",
       " 'also straps',\n",
       " 'also sturdy',\n",
       " 'also super',\n",
       " 'also sure',\n",
       " 'also take',\n",
       " 'also takes',\n",
       " 'also thin',\n",
       " 'also think',\n",
       " 'also thought',\n",
       " 'also took',\n",
       " 'also top',\n",
       " 'also tried',\n",
       " 'also two',\n",
       " 'also use',\n",
       " 'also used',\n",
       " 'also useful',\n",
       " 'also uses',\n",
       " 'also using',\n",
       " 'also velcro',\n",
       " 'also want',\n",
       " 'also wanted',\n",
       " 'also water',\n",
       " 'also way',\n",
       " 'also wear',\n",
       " 'also well',\n",
       " 'also wish',\n",
       " 'also work',\n",
       " 'also worked',\n",
       " 'also works',\n",
       " 'also would',\n",
       " 'also zipper',\n",
       " 'although bit',\n",
       " 'although could',\n",
       " 'although little',\n",
       " 'although may',\n",
       " 'although one',\n",
       " 'although still',\n",
       " 'although sure',\n",
       " 'although think',\n",
       " 'although use',\n",
       " 'although used',\n",
       " 'although would',\n",
       " 'aluminum foil',\n",
       " 'aluminum frame',\n",
       " 'aluminum poles',\n",
       " 'always buy',\n",
       " 'always carry',\n",
       " 'always cold',\n",
       " 'always felt',\n",
       " 'always find',\n",
       " 'always found',\n",
       " 'always get',\n",
       " 'always go',\n",
       " 'always good',\n",
       " 'always great',\n",
       " 'always keep',\n",
       " 'always liked',\n",
       " 'always looking',\n",
       " 'always loved',\n",
       " 'always make',\n",
       " 'always need',\n",
       " 'always nice',\n",
       " 'always one',\n",
       " 'always put',\n",
       " 'always seem',\n",
       " 'always seems',\n",
       " 'always take',\n",
       " 'always use',\n",
       " 'always used',\n",
       " 'always want',\n",
       " 'always wanted',\n",
       " 'always wear',\n",
       " 'amazed much',\n",
       " 'amazed well',\n",
       " 'amazing amount',\n",
       " 'amazing br',\n",
       " 'amazing light',\n",
       " 'amazing little',\n",
       " 'amazing much',\n",
       " 'amazing price',\n",
       " 'amazing product',\n",
       " 'amazing quality',\n",
       " 'amazingly bright',\n",
       " 'amazingly well',\n",
       " 'amazon also',\n",
       " 'amazon best',\n",
       " 'amazon bought',\n",
       " 'amazon box',\n",
       " 'amazon br',\n",
       " 'amazon came',\n",
       " 'amazon com',\n",
       " 'amazon could',\n",
       " 'amazon customer',\n",
       " 'amazon decided',\n",
       " 'amazon description',\n",
       " 'amazon even',\n",
       " 'amazon first',\n",
       " 'amazon found',\n",
       " 'amazon free',\n",
       " 'amazon gave',\n",
       " 'amazon get',\n",
       " 'amazon good',\n",
       " 'amazon got',\n",
       " 'amazon great',\n",
       " 'amazon made',\n",
       " 'amazon one',\n",
       " 'amazon order',\n",
       " 'amazon ordered',\n",
       " 'amazon price',\n",
       " 'amazon prime',\n",
       " 'amazon product',\n",
       " 'amazon really',\n",
       " 'amazon received',\n",
       " 'amazon return',\n",
       " 'amazon reviews',\n",
       " 'amazon said',\n",
       " 'amazon see',\n",
       " 'amazon seller',\n",
       " 'amazon sells',\n",
       " 'amazon sent',\n",
       " 'amazon shipped',\n",
       " 'amazon shipping',\n",
       " 'amazon site',\n",
       " 'amazon still',\n",
       " 'amazon time',\n",
       " 'amazon took',\n",
       " 'amazon warehouse',\n",
       " 'amazon website',\n",
       " 'amazon well',\n",
       " 'amazon would',\n",
       " 'ambient light',\n",
       " 'ambient temperature',\n",
       " 'american made',\n",
       " 'amount air',\n",
       " 'amount gear',\n",
       " 'amount heat',\n",
       " 'amount light',\n",
       " 'amount money',\n",
       " 'amount padding',\n",
       " 'amount pressure',\n",
       " 'amount room',\n",
       " 'amount space',\n",
       " 'amount storage',\n",
       " 'amount stuff',\n",
       " 'amount time',\n",
       " 'amount water',\n",
       " 'amount weight',\n",
       " 'ample room',\n",
       " 'ample space',\n",
       " 'angle light',\n",
       " 'ankle support',\n",
       " 'annoying br',\n",
       " 'anodized aluminum',\n",
       " 'another bag',\n",
       " 'another bike',\n",
       " 'another bottle',\n",
       " 'another brand',\n",
       " 'another color',\n",
       " 'another company',\n",
       " 'another couple',\n",
       " 'another good',\n",
       " 'another great',\n",
       " 'another inch',\n",
       " 'another issue',\n",
       " 'another layer',\n",
       " 'another light',\n",
       " 'another manufacturer',\n",
       " 'another minutes',\n",
       " 'another model',\n",
       " 'another nice',\n",
       " 'another note',\n",
       " 'another one',\n",
       " 'another option',\n",
       " 'another pair',\n",
       " 'another person',\n",
       " 'another plus',\n",
       " 'another problem',\n",
       " 'another product',\n",
       " 'another reason',\n",
       " 'another review',\n",
       " 'another reviewer',\n",
       " 'another set',\n",
       " 'another small',\n",
       " 'another star',\n",
       " 'another story',\n",
       " 'another tent',\n",
       " 'another thing',\n",
       " 'another two',\n",
       " 'another way',\n",
       " 'another year',\n",
       " 'another years',\n",
       " 'answer questions',\n",
       " 'anti fog',\n",
       " 'anti shock',\n",
       " 'anti sway',\n",
       " 'anymore br',\n",
       " 'anyone considering',\n",
       " 'anyone could',\n",
       " 'anyone else',\n",
       " 'anyone interested',\n",
       " 'anyone likes',\n",
       " 'anyone looking',\n",
       " 'anyone needing',\n",
       " 'anyone needs',\n",
       " 'anyone wanting',\n",
       " 'anyone wants',\n",
       " 'anyone would',\n",
       " 'anything bad',\n",
       " 'anything better',\n",
       " 'anything br',\n",
       " 'anything changes',\n",
       " 'anything could',\n",
       " 'anything else',\n",
       " 'anything ever',\n",
       " 'anything heavy',\n",
       " 'anything larger',\n",
       " 'anything less',\n",
       " 'anything like',\n",
       " 'anything might',\n",
       " 'anything need',\n",
       " 'anything put',\n",
       " 'anything really',\n",
       " 'anything want',\n",
       " 'anything would',\n",
       " 'anything wrong',\n",
       " 'anytime soon',\n",
       " 'anyway br',\n",
       " 'anyway great',\n",
       " 'anywhere br',\n",
       " 'anywhere else',\n",
       " 'anywhere near',\n",
       " 'apart br',\n",
       " 'apart easily',\n",
       " 'apart first',\n",
       " 'appalachian trail',\n",
       " 'appear well',\n",
       " 'appears durable',\n",
       " 'appears good',\n",
       " 'appears made',\n",
       " 'appears sturdy',\n",
       " 'appears well',\n",
       " 'arc teryx',\n",
       " 'area also',\n",
       " 'area around',\n",
       " 'area br',\n",
       " 'area front',\n",
       " 'area light',\n",
       " 'area like',\n",
       " 'area well',\n",
       " 'area would',\n",
       " 'arm leg',\n",
       " 'arm length',\n",
       " 'arm rests',\n",
       " 'arm warmers',\n",
       " 'arms legs',\n",
       " 'army knife',\n",
       " 'army knives',\n",
       " 'around also',\n",
       " 'around amazon',\n",
       " 'around ankle',\n",
       " 'around ankles',\n",
       " 'around back',\n",
       " 'around bag',\n",
       " 'around bar',\n",
       " 'around base',\n",
       " 'around bike',\n",
       " 'around bit',\n",
       " 'around block',\n",
       " 'around body',\n",
       " 'around bottom',\n",
       " 'around br',\n",
       " 'around camp',\n",
       " 'around campus',\n",
       " 'around chest',\n",
       " 'around city',\n",
       " 'around corner',\n",
       " 'around corners',\n",
       " 'around day',\n",
       " 'around degrees',\n",
       " 'around easily',\n",
       " 'around easy',\n",
       " 'around edge',\n",
       " 'around edges',\n",
       " 'around even',\n",
       " 'around face',\n",
       " 'around feet',\n",
       " 'around find',\n",
       " 'around found',\n",
       " 'around frame',\n",
       " 'around front',\n",
       " 'around get',\n",
       " 'around good',\n",
       " 'around great',\n",
       " 'around handle',\n",
       " 'around handlebar',\n",
       " 'around handlebars',\n",
       " 'around head',\n",
       " 'around hips',\n",
       " 'around home',\n",
       " 'around hours',\n",
       " 'around house',\n",
       " 'around inside',\n",
       " 'around keep',\n",
       " 'around lbs',\n",
       " 'around leg',\n",
       " 'around legs',\n",
       " 'around light',\n",
       " 'around like',\n",
       " 'around little',\n",
       " 'around long',\n",
       " 'around lot',\n",
       " 'around make',\n",
       " 'around middle',\n",
       " 'around miles',\n",
       " 'around minutes',\n",
       " 'around mph',\n",
       " 'around much',\n",
       " 'around neck',\n",
       " 'around neighborhood',\n",
       " 'around night',\n",
       " 'around one',\n",
       " 'around outside',\n",
       " 'around pack',\n",
       " 'around pounds',\n",
       " 'around price',\n",
       " 'around psi',\n",
       " 'around put',\n",
       " 'around quite',\n",
       " 'around really',\n",
       " 'around rim',\n",
       " 'around seat',\n",
       " 'around see',\n",
       " 'around shoulders',\n",
       " 'around sides',\n",
       " 'around small',\n",
       " 'around still',\n",
       " 'around tent',\n",
       " 'around time',\n",
       " 'around tire',\n",
       " 'around top',\n",
       " 'around town',\n",
       " 'around two',\n",
       " 'around us',\n",
       " 'around use',\n",
       " 'around waist',\n",
       " 'around water',\n",
       " 'around well',\n",
       " 'around without',\n",
       " 'around world',\n",
       " 'around would',\n",
       " 'around wrist',\n",
       " 'around yard',\n",
       " 'around years',\n",
       " 'arrived box',\n",
       " 'arrived broken',\n",
       " 'arrived damaged',\n",
       " 'arrived day',\n",
       " 'arrived days',\n",
       " 'arrived fast',\n",
       " 'arrived good',\n",
       " 'arrived great',\n",
       " 'arrived one',\n",
       " 'arrived perfect',\n",
       " 'arrived promptly',\n",
       " 'arrived quickly',\n",
       " 'arrived time',\n",
       " 'arrived timely',\n",
       " 'arrived today',\n",
       " 'arrived two',\n",
       " 'arrived well',\n",
       " 'arrived within',\n",
       " 'arrived without',\n",
       " 'arrived yesterday',\n",
       " 'ask got',\n",
       " 'asked could',\n",
       " 'assemble bike',\n",
       " 'assemble disassemble',\n",
       " 'assemble easy',\n",
       " 'assembled bike',\n",
       " 'assembling bike',\n",
       " 'assembly br',\n",
       " 'assembly easy',\n",
       " 'assembly instructions',\n",
       " 'assembly required',\n",
       " 'assembly took',\n",
       " 'assumed would',\n",
       " 'athletic build',\n",
       " 'athletic fit',\n",
       " 'attach bike',\n",
       " 'attach detach',\n",
       " 'attach front',\n",
       " 'attach light',\n",
       " 'attach rack',\n",
       " 'attach remove',\n",
       " 'attach seat',\n",
       " 'attached back',\n",
       " 'attached bag',\n",
       " 'attached bike',\n",
       " 'attached br',\n",
       " 'attached one',\n",
       " 'attached photo',\n",
       " 'attaches bike',\n",
       " 'attaches easily',\n",
       " 'attaching bike',\n",
       " 'attachment point',\n",
       " 'attachment points',\n",
       " 'attachment system',\n",
       " 'attention detail',\n",
       " 'available amazon',\n",
       " 'available br',\n",
       " 'average height',\n",
       " 'average miles',\n",
       " 'average person',\n",
       " 'average size',\n",
       " 'average sized',\n",
       " 'average speed',\n",
       " 'avid cyclist',\n",
       " 'away also',\n",
       " 'away bike',\n",
       " 'away body',\n",
       " 'away br',\n",
       " 'away easily',\n",
       " 'away even',\n",
       " 'away home',\n",
       " 'away like',\n",
       " 'away moisture',\n",
       " 'away one',\n",
       " 'away sweat',\n",
       " 'away tent',\n",
       " 'away use',\n",
       " 'away would',\n",
       " 'awesome bag',\n",
       " 'awesome bike',\n",
       " 'awesome br',\n",
       " 'awesome light',\n",
       " 'awesome little',\n",
       " 'awesome love',\n",
       " 'awesome price',\n",
       " 'awesome product',\n",
       " 'awesome really',\n",
       " 'awesome tent',\n",
       " 'awkward use',\n",
       " 'back also',\n",
       " 'back amazon',\n",
       " 'back another',\n",
       " 'back back',\n",
       " 'back backpack',\n",
       " 'back bag',\n",
       " 'back big',\n",
       " 'back bike',\n",
       " 'back bit',\n",
       " 'back boat',\n",
       " 'back bought',\n",
       " 'back box',\n",
       " 'back br',\n",
       " 'back brake',\n",
       " 'back buy',\n",
       " 'back camp',\n",
       " 'back camping',\n",
       " 'back car',\n",
       " 'back carry',\n",
       " 'back carrying',\n",
       " 'back case',\n",
       " 'back chair',\n",
       " 'back comfortable',\n",
       " 'back could',\n",
       " 'back country',\n",
       " 'back day',\n",
       " 'back days',\n",
       " 'back door',\n",
       " 'back easily',\n",
       " 'back easy',\n",
       " 'back end',\n",
       " 'back even',\n",
       " 'back far',\n",
       " 'back feel',\n",
       " 'back first',\n",
       " 'back fit',\n",
       " 'back forth',\n",
       " 'back front',\n",
       " 'back get',\n",
       " 'back go',\n",
       " 'back good',\n",
       " 'back got',\n",
       " 'back great',\n",
       " 'back hand',\n",
       " 'back head',\n",
       " 'back helmet',\n",
       " 'back high',\n",
       " 'back home',\n",
       " 'back inside',\n",
       " 'back issues',\n",
       " 'back keep',\n",
       " 'back legs',\n",
       " 'back light',\n",
       " 'back like',\n",
       " 'back little',\n",
       " 'back long',\n",
       " 'back make',\n",
       " 'back makes',\n",
       " 'back much',\n",
       " 'back neck',\n",
       " 'back need',\n",
       " 'back never',\n",
       " 'back next',\n",
       " 'back nice',\n",
       " 'back normal',\n",
       " 'back old',\n",
       " 'back one',\n",
       " 'back onto',\n",
       " 'back order',\n",
       " 'back ordered',\n",
       " 'back original',\n",
       " 'back pack',\n",
       " 'back packing',\n",
       " 'back packs',\n",
       " 'back padding',\n",
       " 'back pain',\n",
       " 'back panel',\n",
       " 'back part',\n",
       " 'back place',\n",
       " 'back pocket',\n",
       " 'back pockets',\n",
       " 'back pouch',\n",
       " 'back problem',\n",
       " 'back problems',\n",
       " 'back put',\n",
       " 'back rack',\n",
       " 'back really',\n",
       " 'back refund',\n",
       " 'back rest',\n",
       " 'back riding',\n",
       " 'back right',\n",
       " 'back road',\n",
       " 'back seat',\n",
       " 'back see',\n",
       " 'back shape',\n",
       " 'back shoulder',\n",
       " 'back shoulders',\n",
       " 'back side',\n",
       " 'back sides',\n",
       " 'back since',\n",
       " 'back small',\n",
       " 'back still',\n",
       " 'back storage',\n",
       " 'back strap',\n",
       " 'back straps',\n",
       " 'back stuff',\n",
       " 'back support',\n",
       " 'back suv',\n",
       " 'back take',\n",
       " 'back tent',\n",
       " 'back think',\n",
       " 'back time',\n",
       " 'back tire',\n",
       " 'back together',\n",
       " 'back top',\n",
       " 'back trip',\n",
       " 'back truck',\n",
       " 'back two',\n",
       " 'back update',\n",
       " 'back use',\n",
       " ...]"
      ]
     },
     "execution_count": 87,
     "metadata": {
      "tags": []
     },
     "output_type": "execute_result"
    }
   ],
   "source": [
    "tidf.get_feature_names()"
   ]
  },
  {
   "cell_type": "code",
   "execution_count": 88,
   "metadata": {
    "colab": {
     "base_uri": "https://localhost:8080/"
    },
    "executionInfo": {
     "elapsed": 381,
     "status": "ok",
     "timestamp": 1627033845627,
     "user": {
      "displayName": "Ignacio Soteras",
      "photoUrl": "",
      "userId": "02050793736257155229"
     },
     "user_tz": -120
    },
    "id": "yCU-N1jU6aSI",
    "outputId": "b6d44e84-3985-40a3-d813-728f33b60cb9"
   },
   "outputs": [
    {
     "data": {
      "text/plain": [
       "20000"
      ]
     },
     "execution_count": 88,
     "metadata": {
      "tags": []
     },
     "output_type": "execute_result"
    }
   ],
   "source": [
    "len(tidf.get_feature_names())"
   ]
  },
  {
   "cell_type": "markdown",
   "metadata": {
    "id": "PORdGxfd6xtu"
   },
   "source": [
    "Now we can't see the features because the numpy array contains so many zero entries that is stores as \"sparse matrix\". An \"sparse matrix\" is one type of numpy array that contains so many zero entries that only stores in which columns contains non zero entries and what are the values there. "
   ]
  },
  {
   "cell_type": "code",
   "execution_count": 89,
   "metadata": {
    "colab": {
     "base_uri": "https://localhost:8080/"
    },
    "executionInfo": {
     "elapsed": 381,
     "status": "ok",
     "timestamp": 1627033862539,
     "user": {
      "displayName": "Ignacio Soteras",
      "photoUrl": "",
      "userId": "02050793736257155229"
     },
     "user_tz": -120
    },
    "id": "D2LHPFt56qkk",
    "outputId": "42dd3ed6-26e8-4931-f32b-29e05cf8503c"
   },
   "outputs": [
    {
     "data": {
      "text/plain": [
       "<2x5 sparse matrix of type '<class 'numpy.float64'>'\n",
       "\twith 0 stored elements in Compressed Sparse Row format>"
      ]
     },
     "execution_count": 89,
     "metadata": {
      "tags": []
     },
     "output_type": "execute_result"
    }
   ],
   "source": [
    "X[:2,:5]"
   ]
  },
  {
   "cell_type": "markdown",
   "metadata": {
    "id": "6Z0WjsxoENTV"
   },
   "source": [
    "## Train test split"
   ]
  },
  {
   "cell_type": "code",
   "execution_count": 90,
   "metadata": {
    "executionInfo": {
     "elapsed": 363,
     "status": "ok",
     "timestamp": 1627034335635,
     "user": {
      "displayName": "Ignacio Soteras",
      "photoUrl": "",
      "userId": "02050793736257155229"
     },
     "user_tz": -120
    },
    "id": "0mpRAj-S6rtY"
   },
   "outputs": [],
   "source": [
    "X_train, X_test, y_train, y_test = train_test_split(X, y, test_size=0.30, random_state=42)\n",
    "\n",
    "# We don't convert the X_train, X_test back to df because they are spare_matrixes and we \n",
    "# don't know the column names anymore"
   ]
  },
  {
   "cell_type": "code",
   "execution_count": null,
   "metadata": {
    "id": "bOhVASCCCxMA"
   },
   "outputs": [],
   "source": []
  },
  {
   "cell_type": "code",
   "execution_count": 91,
   "metadata": {
    "colab": {
     "base_uri": "https://localhost:8080/"
    },
    "executionInfo": {
     "elapsed": 346,
     "status": "ok",
     "timestamp": 1627034340003,
     "user": {
      "displayName": "Ignacio Soteras",
      "photoUrl": "",
      "userId": "02050793736257155229"
     },
     "user_tz": -120
    },
    "id": "1ThmYbTh8OGA",
    "outputId": "4ec0a277-5626-4be7-9648-a0d9bfacaceb"
   },
   "outputs": [
    {
     "data": {
      "text/plain": [
       "scipy.sparse.csr.csr_matrix"
      ]
     },
     "execution_count": 91,
     "metadata": {
      "tags": []
     },
     "output_type": "execute_result"
    }
   ],
   "source": [
    "type(X_train)"
   ]
  },
  {
   "cell_type": "markdown",
   "metadata": {
    "id": "LLroHiS4ESAh"
   },
   "source": [
    "## Generating the model"
   ]
  },
  {
   "cell_type": "code",
   "execution_count": 92,
   "metadata": {
    "executionInfo": {
     "elapsed": 65242,
     "status": "ok",
     "timestamp": 1627034459525,
     "user": {
      "displayName": "Ignacio Soteras",
      "photoUrl": "",
      "userId": "02050793736257155229"
     },
     "user_tz": -120
    },
    "id": "QI__6nzH7_Di"
   },
   "outputs": [],
   "source": [
    "from sklearn.ensemble import RandomForestClassifier\n",
    "\n",
    "# We can go with lots of features because our dataset contains 20K!!!\n",
    "rf = RandomForestClassifier(max_depth=100, n_estimators=50)\n",
    "\n",
    "y_train = y_train.astype('int')\n",
    "y_test  = y_test.astype('int')\n",
    "\n",
    "rf.fit(X_train, y_train)\n",
    "\n",
    "y_train_pred_rf = rf.predict(X_train)\n",
    "y_test_pred_rf  = rf.predict(X_test)"
   ]
  },
  {
   "cell_type": "markdown",
   "metadata": {
    "id": "LTr8nv4GEU16"
   },
   "source": [
    "## Model evaluation"
   ]
  },
  {
   "cell_type": "code",
   "execution_count": 93,
   "metadata": {
    "colab": {
     "base_uri": "https://localhost:8080/"
    },
    "executionInfo": {
     "elapsed": 828,
     "status": "ok",
     "timestamp": 1627034466063,
     "user": {
      "displayName": "Ignacio Soteras",
      "photoUrl": "",
      "userId": "02050793736257155229"
     },
     "user_tz": -120
    },
    "id": "LBIqin01B2E1",
    "outputId": "f1bb37a5-1184-4256-95c9-75f5c67e0931"
   },
   "outputs": [
    {
     "name": "stdout",
     "output_type": "stream",
     "text": [
      "Results obtained for the TRAIN SET\n",
      "==================================\n",
      "The Cohen's Kappa is: 0.20\n",
      "              precision    recall  f1-score   support\n",
      "\n",
      "           1       0.97      0.26      0.41     12443\n",
      "           2       1.00      0.11      0.19      9820\n",
      "           3       1.00      0.08      0.14     16896\n",
      "           4       0.92      0.15      0.27     40390\n",
      "           5       0.60      1.00      0.75    100668\n",
      "\n",
      "    accuracy                           0.62    180217\n",
      "   macro avg       0.90      0.32      0.35    180217\n",
      "weighted avg       0.75      0.62      0.53    180217\n",
      "\n",
      "==================================\n",
      "Results obtained for the TEST SET\n",
      "The Cohen's Kappa is: 0.12\n",
      "              precision    recall  f1-score   support\n",
      "\n",
      "           1       0.64      0.17      0.27      5164\n",
      "           2       0.77      0.02      0.04      4127\n",
      "           3       0.83      0.01      0.02      7025\n",
      "           4       0.66      0.10      0.17     17357\n",
      "           5       0.59      0.99      0.74     43563\n",
      "\n",
      "    accuracy                           0.60     77236\n",
      "   macro avg       0.70      0.26      0.25     77236\n",
      "weighted avg       0.64      0.60      0.48     77236\n",
      "\n"
     ]
    }
   ],
   "source": [
    "model_performance_class(y_train, y_train_pred_rf, y_test, y_test_pred_rf)"
   ]
  },
  {
   "cell_type": "markdown",
   "metadata": {
    "id": "AeRtEpl_CgVY"
   },
   "source": [
    "Its works really bad probably because several reasons:\n",
    "\n",
    "* class imbalance\n",
    "* too many combinations of words in 3-grams that we can't cover the relevant ones restricting ourselves to 20K features\n",
    "\n",
    "Possible solutions:\n",
    "\n",
    "* use nltk.tagger to tag each word\n",
    "* keep only nouns and adjectives\n",
    "* use 2-grams\n",
    "* do class blancing"
   ]
  },
  {
   "cell_type": "markdown",
   "metadata": {
    "id": "Nl3Mty7_Edc2"
   },
   "source": [
    "\n",
    "\n",
    "```\n",
    "text = word_tokenize(\"And now for something completely different\")\n",
    "nltk.pos_tag(text)\n",
    "[('And', 'CC'), ('now', 'RB'), ('for', 'IN'), ('something', 'NN'),\n",
    "('completely', 'RB'), ('different', 'JJ')]\n",
    "```\n",
    "\n"
   ]
  },
  {
   "cell_type": "code",
   "execution_count": 143,
   "metadata": {
    "colab": {
     "base_uri": "https://localhost:8080/"
    },
    "executionInfo": {
     "elapsed": 375,
     "status": "ok",
     "timestamp": 1626988893374,
     "user": {
      "displayName": "Ignacio Soteras",
      "photoUrl": "",
      "userId": "02050793736257155229"
     },
     "user_tz": -120
    },
    "id": "MJUjKEjJF8zt",
    "outputId": "907fb7da-2ad3-46f0-b8ab-26a1560ebce9"
   },
   "outputs": [
    {
     "name": "stdout",
     "output_type": "stream",
     "text": [
      "$: dollar\n",
      "    $ -$ --$ A$ C$ HK$ M$ NZ$ S$ U.S.$ US$\n",
      "'': closing quotation mark\n",
      "    ' ''\n",
      "(: opening parenthesis\n",
      "    ( [ {\n",
      "): closing parenthesis\n",
      "    ) ] }\n",
      ",: comma\n",
      "    ,\n",
      "--: dash\n",
      "    --\n",
      ".: sentence terminator\n",
      "    . ! ?\n",
      ":: colon or ellipsis\n",
      "    : ; ...\n",
      "CC: conjunction, coordinating\n",
      "    & 'n and both but either et for less minus neither nor or plus so\n",
      "    therefore times v. versus vs. whether yet\n",
      "CD: numeral, cardinal\n",
      "    mid-1890 nine-thirty forty-two one-tenth ten million 0.5 one forty-\n",
      "    seven 1987 twenty '79 zero two 78-degrees eighty-four IX '60s .025\n",
      "    fifteen 271,124 dozen quintillion DM2,000 ...\n",
      "DT: determiner\n",
      "    all an another any both del each either every half la many much nary\n",
      "    neither no some such that the them these this those\n",
      "EX: existential there\n",
      "    there\n",
      "FW: foreign word\n",
      "    gemeinschaft hund ich jeux habeas Haementeria Herr K'ang-si vous\n",
      "    lutihaw alai je jour objets salutaris fille quibusdam pas trop Monte\n",
      "    terram fiche oui corporis ...\n",
      "IN: preposition or conjunction, subordinating\n",
      "    astride among uppon whether out inside pro despite on by throughout\n",
      "    below within for towards near behind atop around if like until below\n",
      "    next into if beside ...\n",
      "JJ: adjective or numeral, ordinal\n",
      "    third ill-mannered pre-war regrettable oiled calamitous first separable\n",
      "    ectoplasmic battery-powered participatory fourth still-to-be-named\n",
      "    multilingual multi-disciplinary ...\n",
      "JJR: adjective, comparative\n",
      "    bleaker braver breezier briefer brighter brisker broader bumper busier\n",
      "    calmer cheaper choosier cleaner clearer closer colder commoner costlier\n",
      "    cozier creamier crunchier cuter ...\n",
      "JJS: adjective, superlative\n",
      "    calmest cheapest choicest classiest cleanest clearest closest commonest\n",
      "    corniest costliest crassest creepiest crudest cutest darkest deadliest\n",
      "    dearest deepest densest dinkiest ...\n",
      "LS: list item marker\n",
      "    A A. B B. C C. D E F First G H I J K One SP-44001 SP-44002 SP-44005\n",
      "    SP-44007 Second Third Three Two * a b c d first five four one six three\n",
      "    two\n",
      "MD: modal auxiliary\n",
      "    can cannot could couldn't dare may might must need ought shall should\n",
      "    shouldn't will would\n",
      "NN: noun, common, singular or mass\n",
      "    common-carrier cabbage knuckle-duster Casino afghan shed thermostat\n",
      "    investment slide humour falloff slick wind hyena override subhumanity\n",
      "    machinist ...\n",
      "NNP: noun, proper, singular\n",
      "    Motown Venneboerger Czestochwa Ranzer Conchita Trumplane Christos\n",
      "    Oceanside Escobar Kreisler Sawyer Cougar Yvette Ervin ODI Darryl CTCA\n",
      "    Shannon A.K.C. Meltex Liverpool ...\n",
      "NNPS: noun, proper, plural\n",
      "    Americans Americas Amharas Amityvilles Amusements Anarcho-Syndicalists\n",
      "    Andalusians Andes Andruses Angels Animals Anthony Antilles Antiques\n",
      "    Apache Apaches Apocrypha ...\n",
      "NNS: noun, common, plural\n",
      "    undergraduates scotches bric-a-brac products bodyguards facets coasts\n",
      "    divestitures storehouses designs clubs fragrances averages\n",
      "    subjectivists apprehensions muses factory-jobs ...\n",
      "PDT: pre-determiner\n",
      "    all both half many quite such sure this\n",
      "POS: genitive marker\n",
      "    ' 's\n",
      "PRP: pronoun, personal\n",
      "    hers herself him himself hisself it itself me myself one oneself ours\n",
      "    ourselves ownself self she thee theirs them themselves they thou thy us\n",
      "PRP$: pronoun, possessive\n",
      "    her his mine my our ours their thy your\n",
      "RB: adverb\n",
      "    occasionally unabatingly maddeningly adventurously professedly\n",
      "    stirringly prominently technologically magisterially predominately\n",
      "    swiftly fiscally pitilessly ...\n",
      "RBR: adverb, comparative\n",
      "    further gloomier grander graver greater grimmer harder harsher\n",
      "    healthier heavier higher however larger later leaner lengthier less-\n",
      "    perfectly lesser lonelier longer louder lower more ...\n",
      "RBS: adverb, superlative\n",
      "    best biggest bluntest earliest farthest first furthest hardest\n",
      "    heartiest highest largest least less most nearest second tightest worst\n",
      "RP: particle\n",
      "    aboard about across along apart around aside at away back before behind\n",
      "    by crop down ever fast for forth from go high i.e. in into just later\n",
      "    low more off on open out over per pie raising start teeth that through\n",
      "    under unto up up-pp upon whole with you\n",
      "SYM: symbol\n",
      "    % & ' '' ''. ) ). * + ,. < = > @ A[fj] U.S U.S.S.R * ** ***\n",
      "TO: \"to\" as preposition or infinitive marker\n",
      "    to\n",
      "UH: interjection\n",
      "    Goodbye Goody Gosh Wow Jeepers Jee-sus Hubba Hey Kee-reist Oops amen\n",
      "    huh howdy uh dammit whammo shucks heck anyways whodunnit honey golly\n",
      "    man baby diddle hush sonuvabitch ...\n",
      "VB: verb, base form\n",
      "    ask assemble assess assign assume atone attention avoid bake balkanize\n",
      "    bank begin behold believe bend benefit bevel beware bless boil bomb\n",
      "    boost brace break bring broil brush build ...\n",
      "VBD: verb, past tense\n",
      "    dipped pleaded swiped regummed soaked tidied convened halted registered\n",
      "    cushioned exacted snubbed strode aimed adopted belied figgered\n",
      "    speculated wore appreciated contemplated ...\n",
      "VBG: verb, present participle or gerund\n",
      "    telegraphing stirring focusing angering judging stalling lactating\n",
      "    hankerin' alleging veering capping approaching traveling besieging\n",
      "    encrypting interrupting erasing wincing ...\n",
      "VBN: verb, past participle\n",
      "    multihulled dilapidated aerosolized chaired languished panelized used\n",
      "    experimented flourished imitated reunifed factored condensed sheared\n",
      "    unsettled primed dubbed desired ...\n",
      "VBP: verb, present tense, not 3rd person singular\n",
      "    predominate wrap resort sue twist spill cure lengthen brush terminate\n",
      "    appear tend stray glisten obtain comprise detest tease attract\n",
      "    emphasize mold postpone sever return wag ...\n",
      "VBZ: verb, present tense, 3rd person singular\n",
      "    bases reconstructs marks mixes displeases seals carps weaves snatches\n",
      "    slumps stretches authorizes smolders pictures emerges stockpiles\n",
      "    seduces fizzes uses bolsters slaps speaks pleads ...\n",
      "WDT: WH-determiner\n",
      "    that what whatever which whichever\n",
      "WP: WH-pronoun\n",
      "    that what whatever whatsoever which who whom whosoever\n",
      "WP$: WH-pronoun, possessive\n",
      "    whose\n",
      "WRB: Wh-adverb\n",
      "    how however whence whenever where whereby whereever wherein whereof why\n",
      "``: opening quotation mark\n",
      "    ` ``\n"
     ]
    }
   ],
   "source": [
    "nltk.help.upenn_tagset()"
   ]
  },
  {
   "cell_type": "code",
   "execution_count": null,
   "metadata": {
    "id": "LS1b-l65En5l"
   },
   "outputs": [],
   "source": [
    "def filter_review(x):\n",
    "    text = word_tokenize(x)\n",
    "    # Apply an steemer\n",
    "    tags = nltk.pos_tag(text)\n",
    "    words = []\n",
    "    for tag in tags:\n",
    "        # Include the type of words that you want to consider.\n",
    "        # It will be also better \n",
    "        if ( tag[1] in ['JJ','NN','VB'] ):\n",
    "            words.extend(tag[0])\n",
    "    return \" \".join(words)"
   ]
  }
 ],
 "metadata": {
  "colab": {
   "authorship_tag": "ABX9TyPcMPm1xxJHCNrrbh7ttG6+",
   "mount_file_id": "1WWvNC1KGm7z4ezh37X2HfnJCS8XdTccZ",
   "name": "Code-along.ipynb",
   "provenance": []
  },
  "kernelspec": {
   "display_name": "Python 3",
   "language": "python",
   "name": "python3"
  },
  "language_info": {
   "codemirror_mode": {
    "name": "ipython",
    "version": 3
   },
   "file_extension": ".py",
   "mimetype": "text/x-python",
   "name": "python",
   "nbconvert_exporter": "python",
   "pygments_lexer": "ipython3",
   "version": "3.9.6"
  }
 },
 "nbformat": 4,
 "nbformat_minor": 1
}

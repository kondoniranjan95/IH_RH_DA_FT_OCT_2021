{
 "cells": [
  {
   "cell_type": "markdown",
   "metadata": {
    "id": "JIbtOgdA10lH"
   },
   "source": [
    "# PCA\n"
   ]
  },
  {
   "cell_type": "code",
   "execution_count": 1,
   "metadata": {
    "executionInfo": {
     "elapsed": 1022,
     "status": "ok",
     "timestamp": 1626422791927,
     "user": {
      "displayName": "Ignacio Soteras",
      "photoUrl": "",
      "userId": "02050793736257155229"
     },
     "user_tz": -120
    },
    "id": "Xie9v3Xc3vB8"
   },
   "outputs": [],
   "source": [
    "import pandas as pd\n",
    "import numpy as np\n",
    "from sklearn.model_selection import train_test_split"
   ]
  },
  {
   "cell_type": "code",
   "execution_count": 3,
   "metadata": {
    "executionInfo": {
     "elapsed": 594,
     "status": "ok",
     "timestamp": 1626422822011,
     "user": {
      "displayName": "Ignacio Soteras",
      "photoUrl": "",
      "userId": "02050793736257155229"
     },
     "user_tz": -120
    },
    "id": "hakKlTeEFzQG"
   },
   "outputs": [],
   "source": [
    "data = pd.read_csv('Data/DATA_Housing_Prices.csv')"
   ]
  },
  {
   "cell_type": "code",
   "execution_count": 5,
   "metadata": {
    "colab": {
     "base_uri": "https://localhost:8080/",
     "height": 255
    },
    "executionInfo": {
     "elapsed": 216,
     "status": "ok",
     "timestamp": 1626422859401,
     "user": {
      "displayName": "Ignacio Soteras",
      "photoUrl": "",
      "userId": "02050793736257155229"
     },
     "user_tz": -120
    },
    "id": "5GcsqgmO8YEE",
    "outputId": "c5fb0be8-4448-4ad1-837d-6fee73102b84"
   },
   "outputs": [
    {
     "data": {
      "text/html": [
       "<div>\n",
       "<style scoped>\n",
       "    .dataframe tbody tr th:only-of-type {\n",
       "        vertical-align: middle;\n",
       "    }\n",
       "\n",
       "    .dataframe tbody tr th {\n",
       "        vertical-align: top;\n",
       "    }\n",
       "\n",
       "    .dataframe thead th {\n",
       "        text-align: right;\n",
       "    }\n",
       "</style>\n",
       "<table border=\"1\" class=\"dataframe\">\n",
       "  <thead>\n",
       "    <tr style=\"text-align: right;\">\n",
       "      <th></th>\n",
       "      <th>Id</th>\n",
       "      <th>MSSubClass</th>\n",
       "      <th>MSZoning</th>\n",
       "      <th>LotFrontage</th>\n",
       "      <th>LotArea</th>\n",
       "      <th>Street</th>\n",
       "      <th>Alley</th>\n",
       "      <th>LotShape</th>\n",
       "      <th>LandContour</th>\n",
       "      <th>Utilities</th>\n",
       "      <th>...</th>\n",
       "      <th>PoolQC</th>\n",
       "      <th>Fence</th>\n",
       "      <th>MiscFeature</th>\n",
       "      <th>MiscVal</th>\n",
       "      <th>MoSold</th>\n",
       "      <th>YrSold</th>\n",
       "      <th>SaleType</th>\n",
       "      <th>SaleCondition</th>\n",
       "      <th>SalePrice</th>\n",
       "      <th>Antiquity</th>\n",
       "    </tr>\n",
       "  </thead>\n",
       "  <tbody>\n",
       "    <tr>\n",
       "      <th>0</th>\n",
       "      <td>1</td>\n",
       "      <td>60</td>\n",
       "      <td>RL</td>\n",
       "      <td>65.0</td>\n",
       "      <td>8450</td>\n",
       "      <td>Pave</td>\n",
       "      <td>NaN</td>\n",
       "      <td>Reg</td>\n",
       "      <td>Lvl</td>\n",
       "      <td>AllPub</td>\n",
       "      <td>...</td>\n",
       "      <td>NaN</td>\n",
       "      <td>NaN</td>\n",
       "      <td>NaN</td>\n",
       "      <td>0</td>\n",
       "      <td>2</td>\n",
       "      <td>2008</td>\n",
       "      <td>WD</td>\n",
       "      <td>Normal</td>\n",
       "      <td>208500</td>\n",
       "      <td>5</td>\n",
       "    </tr>\n",
       "    <tr>\n",
       "      <th>1</th>\n",
       "      <td>2</td>\n",
       "      <td>20</td>\n",
       "      <td>RL</td>\n",
       "      <td>80.0</td>\n",
       "      <td>9600</td>\n",
       "      <td>Pave</td>\n",
       "      <td>NaN</td>\n",
       "      <td>Reg</td>\n",
       "      <td>Lvl</td>\n",
       "      <td>AllPub</td>\n",
       "      <td>...</td>\n",
       "      <td>NaN</td>\n",
       "      <td>NaN</td>\n",
       "      <td>NaN</td>\n",
       "      <td>0</td>\n",
       "      <td>5</td>\n",
       "      <td>2007</td>\n",
       "      <td>WD</td>\n",
       "      <td>Normal</td>\n",
       "      <td>181500</td>\n",
       "      <td>31</td>\n",
       "    </tr>\n",
       "    <tr>\n",
       "      <th>2</th>\n",
       "      <td>3</td>\n",
       "      <td>60</td>\n",
       "      <td>RL</td>\n",
       "      <td>68.0</td>\n",
       "      <td>11250</td>\n",
       "      <td>Pave</td>\n",
       "      <td>NaN</td>\n",
       "      <td>IR1</td>\n",
       "      <td>Lvl</td>\n",
       "      <td>AllPub</td>\n",
       "      <td>...</td>\n",
       "      <td>NaN</td>\n",
       "      <td>NaN</td>\n",
       "      <td>NaN</td>\n",
       "      <td>0</td>\n",
       "      <td>9</td>\n",
       "      <td>2008</td>\n",
       "      <td>WD</td>\n",
       "      <td>Normal</td>\n",
       "      <td>223500</td>\n",
       "      <td>6</td>\n",
       "    </tr>\n",
       "    <tr>\n",
       "      <th>3</th>\n",
       "      <td>4</td>\n",
       "      <td>70</td>\n",
       "      <td>RL</td>\n",
       "      <td>60.0</td>\n",
       "      <td>9550</td>\n",
       "      <td>Pave</td>\n",
       "      <td>NaN</td>\n",
       "      <td>IR1</td>\n",
       "      <td>Lvl</td>\n",
       "      <td>AllPub</td>\n",
       "      <td>...</td>\n",
       "      <td>NaN</td>\n",
       "      <td>NaN</td>\n",
       "      <td>NaN</td>\n",
       "      <td>0</td>\n",
       "      <td>2</td>\n",
       "      <td>2006</td>\n",
       "      <td>WD</td>\n",
       "      <td>Abnorml</td>\n",
       "      <td>140000</td>\n",
       "      <td>36</td>\n",
       "    </tr>\n",
       "    <tr>\n",
       "      <th>4</th>\n",
       "      <td>5</td>\n",
       "      <td>60</td>\n",
       "      <td>RL</td>\n",
       "      <td>84.0</td>\n",
       "      <td>14260</td>\n",
       "      <td>Pave</td>\n",
       "      <td>NaN</td>\n",
       "      <td>IR1</td>\n",
       "      <td>Lvl</td>\n",
       "      <td>AllPub</td>\n",
       "      <td>...</td>\n",
       "      <td>NaN</td>\n",
       "      <td>NaN</td>\n",
       "      <td>NaN</td>\n",
       "      <td>0</td>\n",
       "      <td>12</td>\n",
       "      <td>2008</td>\n",
       "      <td>WD</td>\n",
       "      <td>Normal</td>\n",
       "      <td>250000</td>\n",
       "      <td>8</td>\n",
       "    </tr>\n",
       "  </tbody>\n",
       "</table>\n",
       "<p>5 rows × 82 columns</p>\n",
       "</div>"
      ],
      "text/plain": [
       "   Id  MSSubClass MSZoning  LotFrontage  LotArea Street Alley LotShape  \\\n",
       "0   1          60       RL         65.0     8450   Pave   NaN      Reg   \n",
       "1   2          20       RL         80.0     9600   Pave   NaN      Reg   \n",
       "2   3          60       RL         68.0    11250   Pave   NaN      IR1   \n",
       "3   4          70       RL         60.0     9550   Pave   NaN      IR1   \n",
       "4   5          60       RL         84.0    14260   Pave   NaN      IR1   \n",
       "\n",
       "  LandContour Utilities  ... PoolQC Fence MiscFeature MiscVal MoSold YrSold  \\\n",
       "0         Lvl    AllPub  ...    NaN   NaN         NaN       0      2   2008   \n",
       "1         Lvl    AllPub  ...    NaN   NaN         NaN       0      5   2007   \n",
       "2         Lvl    AllPub  ...    NaN   NaN         NaN       0      9   2008   \n",
       "3         Lvl    AllPub  ...    NaN   NaN         NaN       0      2   2006   \n",
       "4         Lvl    AllPub  ...    NaN   NaN         NaN       0     12   2008   \n",
       "\n",
       "  SaleType  SaleCondition  SalePrice  Antiquity  \n",
       "0       WD         Normal     208500          5  \n",
       "1       WD         Normal     181500         31  \n",
       "2       WD         Normal     223500          6  \n",
       "3       WD        Abnorml     140000         36  \n",
       "4       WD         Normal     250000          8  \n",
       "\n",
       "[5 rows x 82 columns]"
      ]
     },
     "execution_count": 5,
     "metadata": {},
     "output_type": "execute_result"
    }
   ],
   "source": [
    "# Let's construct a dataframe with this features\n",
    "data['Antiquity'] = data['YrSold'] - data['YearRemodAdd']\n",
    "\n",
    "X = data.drop(columns=['Id','SalePrice','YearBuilt', 'YearRemodAdd', 'YrSold',\n",
    "                       'LotFrontage','MasVnrArea','GarageYrBlt'], axis = 1)\n",
    "y = np.log(data['SalePrice'])\n",
    "\n",
    "data.head()"
   ]
  },
  {
   "cell_type": "code",
   "execution_count": 8,
   "metadata": {
    "colab": {
     "base_uri": "https://localhost:8080/",
     "height": 225
    },
    "executionInfo": {
     "elapsed": 203,
     "status": "ok",
     "timestamp": 1626422902058,
     "user": {
      "displayName": "Ignacio Soteras",
      "photoUrl": "",
      "userId": "02050793736257155229"
     },
     "user_tz": -120
    },
    "id": "F7CQG_8rGRAZ",
    "outputId": "685bff9b-c2a8-4a0c-8607-0bb9e4c81f71"
   },
   "outputs": [
    {
     "data": {
      "text/html": [
       "<div>\n",
       "<style scoped>\n",
       "    .dataframe tbody tr th:only-of-type {\n",
       "        vertical-align: middle;\n",
       "    }\n",
       "\n",
       "    .dataframe tbody tr th {\n",
       "        vertical-align: top;\n",
       "    }\n",
       "\n",
       "    .dataframe thead th {\n",
       "        text-align: right;\n",
       "    }\n",
       "</style>\n",
       "<table border=\"1\" class=\"dataframe\">\n",
       "  <thead>\n",
       "    <tr style=\"text-align: right;\">\n",
       "      <th></th>\n",
       "      <th>MSSubClass</th>\n",
       "      <th>LotArea</th>\n",
       "      <th>OverallQual</th>\n",
       "      <th>OverallCond</th>\n",
       "      <th>BsmtFinSF1</th>\n",
       "      <th>BsmtFinSF2</th>\n",
       "      <th>BsmtUnfSF</th>\n",
       "      <th>TotalBsmtSF</th>\n",
       "      <th>1stFlrSF</th>\n",
       "      <th>2ndFlrSF</th>\n",
       "      <th>...</th>\n",
       "      <th>GarageArea</th>\n",
       "      <th>WoodDeckSF</th>\n",
       "      <th>OpenPorchSF</th>\n",
       "      <th>EnclosedPorch</th>\n",
       "      <th>3SsnPorch</th>\n",
       "      <th>ScreenPorch</th>\n",
       "      <th>PoolArea</th>\n",
       "      <th>MiscVal</th>\n",
       "      <th>MoSold</th>\n",
       "      <th>Antiquity</th>\n",
       "    </tr>\n",
       "  </thead>\n",
       "  <tbody>\n",
       "    <tr>\n",
       "      <th>0</th>\n",
       "      <td>60</td>\n",
       "      <td>8450</td>\n",
       "      <td>7</td>\n",
       "      <td>5</td>\n",
       "      <td>706</td>\n",
       "      <td>0</td>\n",
       "      <td>150</td>\n",
       "      <td>856</td>\n",
       "      <td>856</td>\n",
       "      <td>854</td>\n",
       "      <td>...</td>\n",
       "      <td>548</td>\n",
       "      <td>0</td>\n",
       "      <td>61</td>\n",
       "      <td>0</td>\n",
       "      <td>0</td>\n",
       "      <td>0</td>\n",
       "      <td>0</td>\n",
       "      <td>0</td>\n",
       "      <td>2</td>\n",
       "      <td>5</td>\n",
       "    </tr>\n",
       "    <tr>\n",
       "      <th>1</th>\n",
       "      <td>20</td>\n",
       "      <td>9600</td>\n",
       "      <td>6</td>\n",
       "      <td>8</td>\n",
       "      <td>978</td>\n",
       "      <td>0</td>\n",
       "      <td>284</td>\n",
       "      <td>1262</td>\n",
       "      <td>1262</td>\n",
       "      <td>0</td>\n",
       "      <td>...</td>\n",
       "      <td>460</td>\n",
       "      <td>298</td>\n",
       "      <td>0</td>\n",
       "      <td>0</td>\n",
       "      <td>0</td>\n",
       "      <td>0</td>\n",
       "      <td>0</td>\n",
       "      <td>0</td>\n",
       "      <td>5</td>\n",
       "      <td>31</td>\n",
       "    </tr>\n",
       "    <tr>\n",
       "      <th>2</th>\n",
       "      <td>60</td>\n",
       "      <td>11250</td>\n",
       "      <td>7</td>\n",
       "      <td>5</td>\n",
       "      <td>486</td>\n",
       "      <td>0</td>\n",
       "      <td>434</td>\n",
       "      <td>920</td>\n",
       "      <td>920</td>\n",
       "      <td>866</td>\n",
       "      <td>...</td>\n",
       "      <td>608</td>\n",
       "      <td>0</td>\n",
       "      <td>42</td>\n",
       "      <td>0</td>\n",
       "      <td>0</td>\n",
       "      <td>0</td>\n",
       "      <td>0</td>\n",
       "      <td>0</td>\n",
       "      <td>9</td>\n",
       "      <td>6</td>\n",
       "    </tr>\n",
       "    <tr>\n",
       "      <th>3</th>\n",
       "      <td>70</td>\n",
       "      <td>9550</td>\n",
       "      <td>7</td>\n",
       "      <td>5</td>\n",
       "      <td>216</td>\n",
       "      <td>0</td>\n",
       "      <td>540</td>\n",
       "      <td>756</td>\n",
       "      <td>961</td>\n",
       "      <td>756</td>\n",
       "      <td>...</td>\n",
       "      <td>642</td>\n",
       "      <td>0</td>\n",
       "      <td>35</td>\n",
       "      <td>272</td>\n",
       "      <td>0</td>\n",
       "      <td>0</td>\n",
       "      <td>0</td>\n",
       "      <td>0</td>\n",
       "      <td>2</td>\n",
       "      <td>36</td>\n",
       "    </tr>\n",
       "    <tr>\n",
       "      <th>4</th>\n",
       "      <td>60</td>\n",
       "      <td>14260</td>\n",
       "      <td>8</td>\n",
       "      <td>5</td>\n",
       "      <td>655</td>\n",
       "      <td>0</td>\n",
       "      <td>490</td>\n",
       "      <td>1145</td>\n",
       "      <td>1145</td>\n",
       "      <td>1053</td>\n",
       "      <td>...</td>\n",
       "      <td>836</td>\n",
       "      <td>192</td>\n",
       "      <td>84</td>\n",
       "      <td>0</td>\n",
       "      <td>0</td>\n",
       "      <td>0</td>\n",
       "      <td>0</td>\n",
       "      <td>0</td>\n",
       "      <td>12</td>\n",
       "      <td>8</td>\n",
       "    </tr>\n",
       "  </tbody>\n",
       "</table>\n",
       "<p>5 rows × 31 columns</p>\n",
       "</div>"
      ],
      "text/plain": [
       "   MSSubClass  LotArea  OverallQual  OverallCond  BsmtFinSF1  BsmtFinSF2  \\\n",
       "0          60     8450            7            5         706           0   \n",
       "1          20     9600            6            8         978           0   \n",
       "2          60    11250            7            5         486           0   \n",
       "3          70     9550            7            5         216           0   \n",
       "4          60    14260            8            5         655           0   \n",
       "\n",
       "   BsmtUnfSF  TotalBsmtSF  1stFlrSF  2ndFlrSF  ...  GarageArea  WoodDeckSF  \\\n",
       "0        150          856       856       854  ...         548           0   \n",
       "1        284         1262      1262         0  ...         460         298   \n",
       "2        434          920       920       866  ...         608           0   \n",
       "3        540          756       961       756  ...         642           0   \n",
       "4        490         1145      1145      1053  ...         836         192   \n",
       "\n",
       "   OpenPorchSF  EnclosedPorch  3SsnPorch  ScreenPorch  PoolArea  MiscVal  \\\n",
       "0           61              0          0            0         0        0   \n",
       "1            0              0          0            0         0        0   \n",
       "2           42              0          0            0         0        0   \n",
       "3           35            272          0            0         0        0   \n",
       "4           84              0          0            0         0        0   \n",
       "\n",
       "   MoSold  Antiquity  \n",
       "0       2          5  \n",
       "1       5         31  \n",
       "2       9          6  \n",
       "3       2         36  \n",
       "4      12          8  \n",
       "\n",
       "[5 rows x 31 columns]"
      ]
     },
     "execution_count": 8,
     "metadata": {},
     "output_type": "execute_result"
    }
   ],
   "source": [
    "X_cols = X.select_dtypes(include=np.number).columns\n",
    "X = X.select_dtypes(include=np.number)\n",
    "\n",
    "X.head()"
   ]
  },
  {
   "cell_type": "code",
   "execution_count": 9,
   "metadata": {
    "colab": {
     "base_uri": "https://localhost:8080/"
    },
    "executionInfo": {
     "elapsed": 211,
     "status": "ok",
     "timestamp": 1626422910768,
     "user": {
      "displayName": "Ignacio Soteras",
      "photoUrl": "",
      "userId": "02050793736257155229"
     },
     "user_tz": -120
    },
    "id": "D3Hh1vJBHvuq",
    "outputId": "84e77b2d-c41c-4d27-b250-b9df59d0a012"
   },
   "outputs": [
    {
     "data": {
      "text/plain": [
       "MSSubClass       0\n",
       "LotArea          0\n",
       "OverallQual      0\n",
       "OverallCond      0\n",
       "BsmtFinSF1       0\n",
       "BsmtFinSF2       0\n",
       "BsmtUnfSF        0\n",
       "TotalBsmtSF      0\n",
       "1stFlrSF         0\n",
       "2ndFlrSF         0\n",
       "LowQualFinSF     0\n",
       "GrLivArea        0\n",
       "BsmtFullBath     0\n",
       "BsmtHalfBath     0\n",
       "FullBath         0\n",
       "HalfBath         0\n",
       "BedroomAbvGr     0\n",
       "KitchenAbvGr     0\n",
       "TotRmsAbvGrd     0\n",
       "Fireplaces       0\n",
       "GarageCars       0\n",
       "GarageArea       0\n",
       "WoodDeckSF       0\n",
       "OpenPorchSF      0\n",
       "EnclosedPorch    0\n",
       "3SsnPorch        0\n",
       "ScreenPorch      0\n",
       "PoolArea         0\n",
       "MiscVal          0\n",
       "MoSold           0\n",
       "Antiquity        0\n",
       "dtype: int64"
      ]
     },
     "execution_count": 9,
     "metadata": {},
     "output_type": "execute_result"
    }
   ],
   "source": [
    "X.isna().sum()"
   ]
  },
  {
   "cell_type": "markdown",
   "metadata": {
    "id": "YW4TNP_XBpp-"
   },
   "source": [
    "# Scaling the data before PCA"
   ]
  },
  {
   "cell_type": "code",
   "execution_count": 10,
   "metadata": {
    "executionInfo": {
     "elapsed": 201,
     "status": "ok",
     "timestamp": 1626422969811,
     "user": {
      "displayName": "Ignacio Soteras",
      "photoUrl": "",
      "userId": "02050793736257155229"
     },
     "user_tz": -120
    },
    "id": "LfxVqHwy5CmB"
   },
   "outputs": [],
   "source": [
    "from sklearn.preprocessing import StandardScaler\n",
    "from sklearn.model_selection import train_test_split\n",
    "\n",
    "X_train, X_test, y_train, y_test = train_test_split(X, y, test_size=0.20, random_state=42)\n",
    "\n",
    "scaler = StandardScaler()\n",
    "\n",
    "scaler.fit(X_train)\n",
    "\n",
    "X_train = scaler.transform(X_train)\n",
    "X_test  = scaler.transform(X_test)\n",
    "\n",
    "X_train = pd.DataFrame(X_train, columns = X.columns)\n",
    "X_test  = pd.DataFrame(X_test , columns = X.columns)"
   ]
  },
  {
   "cell_type": "code",
   "execution_count": 11,
   "metadata": {
    "colab": {
     "base_uri": "https://localhost:8080/"
    },
    "executionInfo": {
     "elapsed": 213,
     "status": "ok",
     "timestamp": 1626422979582,
     "user": {
      "displayName": "Ignacio Soteras",
      "photoUrl": "",
      "userId": "02050793736257155229"
     },
     "user_tz": -120
    },
    "id": "PjdFdVKl0z8R",
    "outputId": "ec87a69b-0c71-47f2-c83a-03e7bd8ec697"
   },
   "outputs": [
    {
     "data": {
      "text/plain": [
       "(1168, 31)"
      ]
     },
     "execution_count": 11,
     "metadata": {},
     "output_type": "execute_result"
    }
   ],
   "source": [
    "X_train.shape"
   ]
  },
  {
   "cell_type": "markdown",
   "metadata": {
    "id": "RxdMEL4lCWMD"
   },
   "source": [
    "# Performing PCA"
   ]
  },
  {
   "cell_type": "code",
   "execution_count": 12,
   "metadata": {
    "executionInfo": {
     "elapsed": 211,
     "status": "ok",
     "timestamp": 1626423259204,
     "user": {
      "displayName": "Ignacio Soteras",
      "photoUrl": "",
      "userId": "02050793736257155229"
     },
     "user_tz": -120
    },
    "id": "7zp2BOXXBgoL"
   },
   "outputs": [],
   "source": [
    "from sklearn.decomposition import PCA\n",
    "\n",
    "pca = PCA(svd_solver='full')\n",
    "\n",
    "pca.fit(X_train)\n",
    "\n",
    "X_train = pca.transform(X_train)\n",
    "X_test  = pca.transform(X_test)\n",
    "\n",
    "cols = [ 'PCA_' + str(i) for i in list(range(1,len(X.columns)+1))]\n",
    "\n",
    "X_train = pd.DataFrame(X_train, columns = cols)\n",
    "X_test  = pd.DataFrame(X_test , columns = cols)\n",
    "\n",
    "#X_train = pd.DataFrame(X_train, columns = X.columns)\n",
    "#X_test  = pd.DataFrame(X_test , columns = X.columns)"
   ]
  },
  {
   "cell_type": "code",
   "execution_count": 13,
   "metadata": {
    "colab": {
     "base_uri": "https://localhost:8080/",
     "height": 312
    },
    "executionInfo": {
     "elapsed": 200,
     "status": "ok",
     "timestamp": 1626423263561,
     "user": {
      "displayName": "Ignacio Soteras",
      "photoUrl": "",
      "userId": "02050793736257155229"
     },
     "user_tz": -120
    },
    "id": "rnDlgsCl1CDw",
    "outputId": "d90425a7-7de9-429b-d9fc-bef0fabd8343"
   },
   "outputs": [
    {
     "data": {
      "text/html": [
       "<div>\n",
       "<style scoped>\n",
       "    .dataframe tbody tr th:only-of-type {\n",
       "        vertical-align: middle;\n",
       "    }\n",
       "\n",
       "    .dataframe tbody tr th {\n",
       "        vertical-align: top;\n",
       "    }\n",
       "\n",
       "    .dataframe thead th {\n",
       "        text-align: right;\n",
       "    }\n",
       "</style>\n",
       "<table border=\"1\" class=\"dataframe\">\n",
       "  <thead>\n",
       "    <tr style=\"text-align: right;\">\n",
       "      <th></th>\n",
       "      <th>PCA_1</th>\n",
       "      <th>PCA_2</th>\n",
       "      <th>PCA_3</th>\n",
       "      <th>PCA_4</th>\n",
       "      <th>PCA_5</th>\n",
       "      <th>PCA_6</th>\n",
       "      <th>PCA_7</th>\n",
       "      <th>PCA_8</th>\n",
       "      <th>PCA_9</th>\n",
       "      <th>PCA_10</th>\n",
       "      <th>...</th>\n",
       "      <th>PCA_22</th>\n",
       "      <th>PCA_23</th>\n",
       "      <th>PCA_24</th>\n",
       "      <th>PCA_25</th>\n",
       "      <th>PCA_26</th>\n",
       "      <th>PCA_27</th>\n",
       "      <th>PCA_28</th>\n",
       "      <th>PCA_29</th>\n",
       "      <th>PCA_30</th>\n",
       "      <th>PCA_31</th>\n",
       "    </tr>\n",
       "  </thead>\n",
       "  <tbody>\n",
       "    <tr>\n",
       "      <th>0</th>\n",
       "      <td>-1.831949</td>\n",
       "      <td>1.958218</td>\n",
       "      <td>0.786292</td>\n",
       "      <td>0.935775</td>\n",
       "      <td>0.546249</td>\n",
       "      <td>0.195964</td>\n",
       "      <td>0.451519</td>\n",
       "      <td>-0.143039</td>\n",
       "      <td>-0.775133</td>\n",
       "      <td>0.150858</td>\n",
       "      <td>...</td>\n",
       "      <td>-0.841884</td>\n",
       "      <td>0.266641</td>\n",
       "      <td>0.269738</td>\n",
       "      <td>-0.311738</td>\n",
       "      <td>0.226015</td>\n",
       "      <td>0.133419</td>\n",
       "      <td>-0.412141</td>\n",
       "      <td>-0.211248</td>\n",
       "      <td>-3.522251e-16</td>\n",
       "      <td>-5.770918e-16</td>\n",
       "    </tr>\n",
       "    <tr>\n",
       "      <th>1</th>\n",
       "      <td>0.014032</td>\n",
       "      <td>-2.090796</td>\n",
       "      <td>-0.368208</td>\n",
       "      <td>-0.928789</td>\n",
       "      <td>-1.076340</td>\n",
       "      <td>-0.192240</td>\n",
       "      <td>0.272721</td>\n",
       "      <td>0.135859</td>\n",
       "      <td>-0.080727</td>\n",
       "      <td>0.497065</td>\n",
       "      <td>...</td>\n",
       "      <td>0.325568</td>\n",
       "      <td>0.025088</td>\n",
       "      <td>-0.110686</td>\n",
       "      <td>-0.756582</td>\n",
       "      <td>0.492155</td>\n",
       "      <td>0.001252</td>\n",
       "      <td>0.415854</td>\n",
       "      <td>-0.274084</td>\n",
       "      <td>-3.495282e-16</td>\n",
       "      <td>-5.213667e-17</td>\n",
       "    </tr>\n",
       "    <tr>\n",
       "      <th>2</th>\n",
       "      <td>-4.517982</td>\n",
       "      <td>0.042709</td>\n",
       "      <td>-0.454717</td>\n",
       "      <td>1.332889</td>\n",
       "      <td>-0.889459</td>\n",
       "      <td>-0.312530</td>\n",
       "      <td>1.910311</td>\n",
       "      <td>-0.623448</td>\n",
       "      <td>-0.095808</td>\n",
       "      <td>0.526512</td>\n",
       "      <td>...</td>\n",
       "      <td>-0.102109</td>\n",
       "      <td>0.843477</td>\n",
       "      <td>0.578914</td>\n",
       "      <td>-0.777266</td>\n",
       "      <td>-0.162720</td>\n",
       "      <td>-0.038375</td>\n",
       "      <td>0.026304</td>\n",
       "      <td>0.047860</td>\n",
       "      <td>1.744334e-16</td>\n",
       "      <td>-7.120796e-16</td>\n",
       "    </tr>\n",
       "    <tr>\n",
       "      <th>3</th>\n",
       "      <td>-1.454531</td>\n",
       "      <td>-1.147408</td>\n",
       "      <td>2.907253</td>\n",
       "      <td>1.167000</td>\n",
       "      <td>-0.766471</td>\n",
       "      <td>-1.552878</td>\n",
       "      <td>1.271504</td>\n",
       "      <td>0.005446</td>\n",
       "      <td>-1.731429</td>\n",
       "      <td>0.716110</td>\n",
       "      <td>...</td>\n",
       "      <td>0.629124</td>\n",
       "      <td>-0.488450</td>\n",
       "      <td>0.063396</td>\n",
       "      <td>-0.512554</td>\n",
       "      <td>0.703925</td>\n",
       "      <td>-0.313560</td>\n",
       "      <td>0.103331</td>\n",
       "      <td>-0.043281</td>\n",
       "      <td>6.608149e-16</td>\n",
       "      <td>-7.191569e-16</td>\n",
       "    </tr>\n",
       "    <tr>\n",
       "      <th>4</th>\n",
       "      <td>-1.522270</td>\n",
       "      <td>-1.472269</td>\n",
       "      <td>-0.102242</td>\n",
       "      <td>2.078073</td>\n",
       "      <td>-0.099935</td>\n",
       "      <td>-1.309608</td>\n",
       "      <td>1.400255</td>\n",
       "      <td>-0.199706</td>\n",
       "      <td>-0.725767</td>\n",
       "      <td>0.343235</td>\n",
       "      <td>...</td>\n",
       "      <td>-0.281759</td>\n",
       "      <td>0.671191</td>\n",
       "      <td>-0.131401</td>\n",
       "      <td>-0.888812</td>\n",
       "      <td>0.901676</td>\n",
       "      <td>0.360328</td>\n",
       "      <td>-0.032660</td>\n",
       "      <td>0.076123</td>\n",
       "      <td>2.524659e-16</td>\n",
       "      <td>-1.687290e-16</td>\n",
       "    </tr>\n",
       "  </tbody>\n",
       "</table>\n",
       "<p>5 rows × 31 columns</p>\n",
       "</div>"
      ],
      "text/plain": [
       "      PCA_1     PCA_2     PCA_3     PCA_4     PCA_5     PCA_6     PCA_7  \\\n",
       "0 -1.831949  1.958218  0.786292  0.935775  0.546249  0.195964  0.451519   \n",
       "1  0.014032 -2.090796 -0.368208 -0.928789 -1.076340 -0.192240  0.272721   \n",
       "2 -4.517982  0.042709 -0.454717  1.332889 -0.889459 -0.312530  1.910311   \n",
       "3 -1.454531 -1.147408  2.907253  1.167000 -0.766471 -1.552878  1.271504   \n",
       "4 -1.522270 -1.472269 -0.102242  2.078073 -0.099935 -1.309608  1.400255   \n",
       "\n",
       "      PCA_8     PCA_9    PCA_10  ...    PCA_22    PCA_23    PCA_24    PCA_25  \\\n",
       "0 -0.143039 -0.775133  0.150858  ... -0.841884  0.266641  0.269738 -0.311738   \n",
       "1  0.135859 -0.080727  0.497065  ...  0.325568  0.025088 -0.110686 -0.756582   \n",
       "2 -0.623448 -0.095808  0.526512  ... -0.102109  0.843477  0.578914 -0.777266   \n",
       "3  0.005446 -1.731429  0.716110  ...  0.629124 -0.488450  0.063396 -0.512554   \n",
       "4 -0.199706 -0.725767  0.343235  ... -0.281759  0.671191 -0.131401 -0.888812   \n",
       "\n",
       "     PCA_26    PCA_27    PCA_28    PCA_29        PCA_30        PCA_31  \n",
       "0  0.226015  0.133419 -0.412141 -0.211248 -3.522251e-16 -5.770918e-16  \n",
       "1  0.492155  0.001252  0.415854 -0.274084 -3.495282e-16 -5.213667e-17  \n",
       "2 -0.162720 -0.038375  0.026304  0.047860  1.744334e-16 -7.120796e-16  \n",
       "3  0.703925 -0.313560  0.103331 -0.043281  6.608149e-16 -7.191569e-16  \n",
       "4  0.901676  0.360328 -0.032660  0.076123  2.524659e-16 -1.687290e-16  \n",
       "\n",
       "[5 rows x 31 columns]"
      ]
     },
     "execution_count": 13,
     "metadata": {},
     "output_type": "execute_result"
    }
   ],
   "source": [
    "X_train.head()"
   ]
  },
  {
   "cell_type": "markdown",
   "metadata": {
    "id": "ULRwKeARCb3D"
   },
   "source": [
    "# Getting variances"
   ]
  },
  {
   "cell_type": "code",
   "execution_count": 14,
   "metadata": {
    "colab": {
     "base_uri": "https://localhost:8080/"
    },
    "executionInfo": {
     "elapsed": 251,
     "status": "ok",
     "timestamp": 1626423394922,
     "user": {
      "displayName": "Ignacio Soteras",
      "photoUrl": "",
      "userId": "02050793736257155229"
     },
     "user_tz": -120
    },
    "id": "tt2nU1uiCdfb",
    "outputId": "a1cf4200-ecec-483d-d183-2806a09b28f2"
   },
   "outputs": [
    {
     "name": "stdout",
     "output_type": "stream",
     "text": [
      "[1.94659261e-01 1.00316171e-01 6.69947183e-02 5.71372532e-02\n",
      " 4.72736923e-02 3.84978620e-02 3.62225870e-02 3.44910781e-02\n",
      " 3.40617359e-02 3.35036791e-02 3.20660391e-02 3.07060878e-02\n",
      " 3.02706523e-02 2.93527314e-02 2.84953477e-02 2.79779428e-02\n",
      " 2.63580721e-02 2.43060938e-02 2.13308972e-02 2.01356327e-02\n",
      " 1.83437422e-02 1.47261290e-02 1.27574356e-02 9.47236245e-03\n",
      " 8.64702588e-03 8.20070843e-03 6.22698369e-03 4.27617333e-03\n",
      " 3.19190464e-03 3.83897702e-32 1.06676883e-33]\n"
     ]
    }
   ],
   "source": [
    "# Getting\n",
    "print(pca.explained_variance_ratio_) # Individual variances of each principal components\n",
    "#print(pca.singular_values_)"
   ]
  },
  {
   "cell_type": "code",
   "execution_count": 15,
   "metadata": {
    "executionInfo": {
     "elapsed": 214,
     "status": "ok",
     "timestamp": 1626423495456,
     "user": {
      "displayName": "Ignacio Soteras",
      "photoUrl": "",
      "userId": "02050793736257155229"
     },
     "user_tz": -120
    },
    "id": "gNXO9WGEP_y-"
   },
   "outputs": [],
   "source": [
    "variances = pca.explained_variance_ratio_.tolist()"
   ]
  },
  {
   "cell_type": "code",
   "execution_count": 16,
   "metadata": {
    "colab": {
     "base_uri": "https://localhost:8080/"
    },
    "executionInfo": {
     "elapsed": 201,
     "status": "ok",
     "timestamp": 1626423498986,
     "user": {
      "displayName": "Ignacio Soteras",
      "photoUrl": "",
      "userId": "02050793736257155229"
     },
     "user_tz": -120
    },
    "id": "JKmM34WbSOG4",
    "outputId": "982ef7ab-6b7e-4b2d-8e03-61a02b71f099"
   },
   "outputs": [
    {
     "data": {
      "text/plain": [
       "[0.1946592607021988, 0.10031617149771913]"
      ]
     },
     "execution_count": 16,
     "metadata": {},
     "output_type": "execute_result"
    }
   ],
   "source": [
    "variances[:2]"
   ]
  },
  {
   "cell_type": "code",
   "execution_count": 17,
   "metadata": {
    "colab": {
     "base_uri": "https://localhost:8080/",
     "height": 236
    },
    "executionInfo": {
     "elapsed": 215,
     "status": "ok",
     "timestamp": 1626423663595,
     "user": {
      "displayName": "Ignacio Soteras",
      "photoUrl": "",
      "userId": "02050793736257155229"
     },
     "user_tz": -120
    },
    "id": "S1o-Ems8QsJO",
    "outputId": "7eee79f8-bbce-429b-9874-0076cdb12447"
   },
   "outputs": [
    {
     "data": {
      "text/html": [
       "<div>\n",
       "<style scoped>\n",
       "    .dataframe tbody tr th:only-of-type {\n",
       "        vertical-align: middle;\n",
       "    }\n",
       "\n",
       "    .dataframe tbody tr th {\n",
       "        vertical-align: top;\n",
       "    }\n",
       "\n",
       "    .dataframe thead th {\n",
       "        text-align: right;\n",
       "    }\n",
       "</style>\n",
       "<table border=\"1\" class=\"dataframe\">\n",
       "  <thead>\n",
       "    <tr style=\"text-align: right;\">\n",
       "      <th></th>\n",
       "      <th>num_pca</th>\n",
       "      <th>variance</th>\n",
       "      <th>cum_variance</th>\n",
       "    </tr>\n",
       "  </thead>\n",
       "  <tbody>\n",
       "    <tr>\n",
       "      <th>0</th>\n",
       "      <td>1</td>\n",
       "      <td>0.194659</td>\n",
       "      <td>0.194659</td>\n",
       "    </tr>\n",
       "    <tr>\n",
       "      <th>1</th>\n",
       "      <td>2</td>\n",
       "      <td>0.100316</td>\n",
       "      <td>0.294975</td>\n",
       "    </tr>\n",
       "    <tr>\n",
       "      <th>2</th>\n",
       "      <td>3</td>\n",
       "      <td>0.066995</td>\n",
       "      <td>0.361970</td>\n",
       "    </tr>\n",
       "    <tr>\n",
       "      <th>3</th>\n",
       "      <td>4</td>\n",
       "      <td>0.057137</td>\n",
       "      <td>0.419107</td>\n",
       "    </tr>\n",
       "    <tr>\n",
       "      <th>4</th>\n",
       "      <td>5</td>\n",
       "      <td>0.047274</td>\n",
       "      <td>0.466381</td>\n",
       "    </tr>\n",
       "    <tr>\n",
       "      <th>5</th>\n",
       "      <td>6</td>\n",
       "      <td>0.038498</td>\n",
       "      <td>0.504879</td>\n",
       "    </tr>\n",
       "  </tbody>\n",
       "</table>\n",
       "</div>"
      ],
      "text/plain": [
       "   num_pca  variance  cum_variance\n",
       "0        1  0.194659      0.194659\n",
       "1        2  0.100316      0.294975\n",
       "2        3  0.066995      0.361970\n",
       "3        4  0.057137      0.419107\n",
       "4        5  0.047274      0.466381\n",
       "5        6  0.038498      0.504879"
      ]
     },
     "execution_count": 17,
     "metadata": {},
     "output_type": "execute_result"
    }
   ],
   "source": [
    "total_variance = [sum(variances[:i]) for i in range(1, len(variances)+1)]\n",
    "scree = pd.DataFrame({'num_pca': range(1,len(variances)+1),'variance': variances,'cum_variance': total_variance})\n",
    "scree.head(6)"
   ]
  },
  {
   "cell_type": "code",
   "execution_count": 18,
   "metadata": {
    "colab": {
     "base_uri": "https://localhost:8080/",
     "height": 515
    },
    "executionInfo": {
     "elapsed": 1573,
     "status": "ok",
     "timestamp": 1626423811432,
     "user": {
      "displayName": "Ignacio Soteras",
      "photoUrl": "",
      "userId": "02050793736257155229"
     },
     "user_tz": -120
    },
    "id": "sOkM5yK5JEnx",
    "outputId": "de5e7c0b-f903-4c58-e7f6-f521b669a5ee"
   },
   "outputs": [
    {
     "data": {
      "text/plain": [
       "<AxesSubplot:xlabel='num_pca', ylabel='cum_variance'>"
      ]
     },
     "execution_count": 18,
     "metadata": {},
     "output_type": "execute_result"
    },
    {
     "data": {
      "image/png": "[encoded data removed]",
      "text/plain": [
       "<Figure size 1152x576 with 2 Axes>"
      ]
     },
     "metadata": {},
     "output_type": "display_data"
    }
   ],
   "source": [
    "import matplotlib.pyplot as plt\n",
    "import seaborn as sns\n",
    "%matplotlib inline\n",
    "\n",
    "sns.set_style(\"darkgrid\", {\"axes.facecolor\": \".9\"})\n",
    "\n",
    "fig, ax = plt.subplots(1,2,figsize=(16,8))\n",
    "\n",
    "sns.lineplot(x=\"num_pca\", y=\"variance\", data=scree, ax = ax[0], color = 'black')\n",
    "ax[0].set_xticks(range(1,32))\n",
    "sns.barplot(x=\"num_pca\", y=\"cum_variance\", data=scree, ax = ax[1], color = 'lightblue')"
   ]
  },
  {
   "cell_type": "markdown",
   "metadata": {
    "id": "Tqw3OlSmUCF0"
   },
   "source": [
    "Here we have a very bad scenario. On the left plot it looks that there is an elbow at 6 pca's. However, with five principal components we are only able to explain\n",
    "\n",
    "```\n",
    "cum_variance[6] = 0.51\n",
    "```\n",
    "\n",
    "only 51% of the total variability of the data!!!\n",
    "\n",
    "Bear in mind that we only selected the numerical columns and we didn't take into account the categorical ones. \n"
   ]
  },
  {
   "cell_type": "markdown",
   "metadata": {
    "id": "MYifnhkumyK5"
   },
   "source": [
    "# Getting the pca coeficients"
   ]
  },
  {
   "cell_type": "code",
   "execution_count": 19,
   "metadata": {
    "colab": {
     "base_uri": "https://localhost:8080/"
    },
    "executionInfo": {
     "elapsed": 261,
     "status": "ok",
     "timestamp": 1626423965953,
     "user": {
      "displayName": "Ignacio Soteras",
      "photoUrl": "",
      "userId": "02050793736257155229"
     },
     "user_tz": -120
    },
    "id": "cQymnyxmmxhj",
    "outputId": "ed79975c-eda4-47f7-c0c1-bc63e23784a6"
   },
   "outputs": [
    {
     "data": {
      "text/plain": [
       "array([[-9.14713738e-03,  1.28792378e-01,  3.14050332e-01,\n",
       "        -6.29542263e-02,  1.31427582e-01, -2.64919876e-03,\n",
       "         1.37500548e-01,  2.75237858e-01,  2.81649735e-01,\n",
       "         1.73712608e-01,  8.00261205e-03,  3.54000077e-01,\n",
       "         6.59566344e-02, -2.15633545e-02,  2.85001973e-01,\n",
       "         1.38341449e-01,  1.50258245e-01,  7.17777997e-04,\n",
       "         2.90969002e-01,  2.11476886e-01,  2.95399118e-01,\n",
       "         2.92682652e-01,  1.49070934e-01,  1.64438398e-01,\n",
       "        -6.45910546e-02,  1.44426458e-02,  4.92544571e-02,\n",
       "         7.64019965e-02, -8.27103988e-03,  2.96048546e-02,\n",
       "        -2.02472006e-01],\n",
       "       [-2.25547911e-01,  1.08069604e-01,  3.23941945e-02,\n",
       "        -3.48087395e-02,  3.50187356e-01,  1.08754165e-01,\n",
       "        -1.08891288e-01,  2.93554348e-01,  2.56392526e-01,\n",
       "        -4.21147781e-01, -9.29905976e-02, -1.72446725e-01,\n",
       "         3.18995527e-01,  1.44416659e-02, -1.47839154e-01,\n",
       "        -2.28361740e-01, -3.09026545e-01, -1.77943765e-01,\n",
       "        -2.65695840e-01,  5.84987843e-02,  8.17742681e-02,\n",
       "         1.24395791e-01,  9.07878511e-02, -2.17068714e-02,\n",
       "        -8.40783501e-02,  3.72178369e-02,  1.94032272e-02,\n",
       "         2.38199796e-02, -2.51114930e-02, -3.50852374e-02,\n",
       "        -4.38807416e-02],\n",
       "       [ 1.51722618e-01,  1.84045894e-01, -1.23769058e-01,\n",
       "         1.34833162e-01,  3.59674719e-01,  1.75947297e-01,\n",
       "        -5.44027820e-01, -1.13190938e-01, -8.38638719e-02,\n",
       "         2.23366735e-01,  8.13677145e-02,  1.32817598e-01,\n",
       "         3.49735932e-01,  8.71467987e-02, -1.18727576e-01,\n",
       "         2.02197088e-01,  1.24135567e-01,  3.76150746e-02,\n",
       "         9.99012513e-02,  1.57981043e-01, -1.34302515e-01,\n",
       "        -9.86118605e-02,  8.68767627e-02,  1.81339976e-03,\n",
       "         6.22469171e-02, -5.51063139e-02,  1.23713308e-01,\n",
       "         1.81513447e-01,  6.15220769e-02, -2.67752816e-02,\n",
       "         1.66401689e-01],\n",
       "       [-2.43611087e-01,  2.14037176e-01, -1.90655411e-01,\n",
       "         1.80490860e-02, -6.58928438e-02,  1.65030282e-01,\n",
       "         2.04742984e-01,  1.97993834e-01,  3.02812674e-01,\n",
       "        -1.55602483e-01,  1.50138921e-01,  1.06556233e-01,\n",
       "        -1.16426780e-01,  7.86773751e-02, -4.69077333e-02,\n",
       "        -3.09161868e-01,  2.98303541e-01,  2.44115070e-01,\n",
       "         1.95858473e-01,  7.70491376e-02, -1.86804927e-01,\n",
       "        -1.36145456e-01, -8.18176085e-02, -8.51496048e-02,\n",
       "         2.47490916e-01, -3.61255092e-03,  1.03715577e-01,\n",
       "         1.37341375e-01,  7.35443570e-02,  1.72259542e-02,\n",
       "         3.48278135e-01],\n",
       "       [ 3.58464077e-01, -9.15334227e-02, -8.59123951e-02,\n",
       "        -3.68853775e-01,  1.78830209e-01, -1.86352718e-01,\n",
       "        -6.85858215e-02,  4.99169499e-02,  7.90509504e-02,\n",
       "        -7.16057188e-02, -2.04244315e-02, -3.59780729e-03,\n",
       "         2.47336199e-01, -2.53969272e-01,  1.55216458e-01,\n",
       "        -1.72019223e-01,  9.09195865e-03,  5.31392915e-01,\n",
       "         6.90393335e-02, -2.23226956e-01,  4.03237833e-02,\n",
       "         3.82467693e-02, -2.28257908e-02, -1.47260898e-01,\n",
       "         6.66588796e-03, -4.71819209e-02, -2.87411827e-01,\n",
       "        -2.94354845e-02, -3.64755543e-02, -4.29231678e-02,\n",
       "         5.79143076e-02],\n",
       "       [ 4.73565350e-02,  1.14406202e-01, -5.79045505e-02,\n",
       "         2.75744320e-01,  4.12761770e-02,  3.17366139e-02,\n",
       "        -1.01183262e-01, -4.80957050e-02,  2.83577136e-02,\n",
       "        -4.05794201e-02, -2.11701920e-01, -3.24352339e-02,\n",
       "        -7.81403792e-02,  5.12193095e-01,  1.28492168e-01,\n",
       "        -1.58417487e-01,  9.24567211e-02,  2.14863910e-01,\n",
       "         4.83531528e-02, -8.60835689e-02,  7.75815054e-03,\n",
       "        -1.51677117e-02,  2.30753069e-01, -1.19296532e-01,\n",
       "        -2.30443385e-01,  2.21093614e-01, -2.21384242e-01,\n",
       "        -2.04466158e-01,  1.00525332e-01,  4.15613890e-01,\n",
       "        -1.54167717e-01],\n",
       "       [-7.49102347e-02,  4.22902455e-02,  6.72040929e-02,\n",
       "         2.52177156e-01,  1.64557031e-02, -1.05664742e-01,\n",
       "         1.04828975e-02, -1.01763615e-02, -2.22993914e-02,\n",
       "         5.49273578e-02,  2.16521532e-01,  4.93684577e-02,\n",
       "        -8.06275510e-04,  4.51607188e-02,  1.87882989e-02,\n",
       "        -9.55959701e-02, -1.72208042e-03, -1.86205499e-01,\n",
       "         8.19246227e-03, -1.38598877e-01, -2.72285656e-02,\n",
       "         8.31939723e-03,  2.61859454e-01, -1.85624272e-01,\n",
       "         3.88428310e-01,  3.58087526e-02, -5.69488278e-01,\n",
       "         2.67006715e-01,  3.52220887e-02, -3.19275534e-01,\n",
       "        -1.99351060e-01],\n",
       "       [ 4.25954020e-02, -1.70994040e-01,  5.91506354e-02,\n",
       "         2.40934399e-01,  1.91179708e-01, -4.15562438e-01,\n",
       "         6.77593713e-03,  5.68225293e-02,  5.03717562e-02,\n",
       "        -2.44231780e-02,  2.56354720e-01,  4.00773651e-02,\n",
       "         4.25746894e-02, -6.87688708e-02,  4.91931951e-03,\n",
       "        -7.92658152e-02, -5.39623708e-02,  4.49026856e-02,\n",
       "        -3.86147340e-05, -2.67488714e-02, -1.36205475e-01,\n",
       "        -9.50034680e-02, -3.53668091e-01,  1.74037442e-01,\n",
       "        -6.50495840e-02,  4.83399339e-01,  1.54530325e-01,\n",
       "         1.92402718e-01,  3.13006980e-01,  8.63836383e-02,\n",
       "        -1.36906717e-01],\n",
       "       [ 3.50399106e-01, -1.74407464e-01,  7.99715991e-02,\n",
       "         1.86920423e-01, -1.15471047e-01,  3.47382125e-01,\n",
       "         3.61859454e-02,  4.10837769e-02,  2.77244001e-02,\n",
       "        -9.74913136e-02,  2.14284878e-01, -4.17070100e-02,\n",
       "        -4.54011693e-02,  1.78216009e-01,  1.18662672e-01,\n",
       "        -1.91865050e-01, -1.78578935e-01,  1.85179494e-01,\n",
       "        -7.39755994e-02, -1.06584815e-01,  9.59038422e-03,\n",
       "         8.67177193e-03,  5.15565482e-02,  1.39333594e-01,\n",
       "        -5.13842414e-02, -4.13743123e-01,  2.40470538e-01,\n",
       "         2.28841882e-01,  2.55387768e-01, -1.24821504e-01,\n",
       "        -2.36095876e-01],\n",
       "       [-1.01161187e-01,  1.41955489e-01, -5.17612828e-03,\n",
       "         1.48638594e-01, -2.87322360e-02, -6.91022705e-02,\n",
       "         3.95401614e-02, -1.46910494e-02, -1.54899623e-02,\n",
       "         2.71390479e-02, -4.40177077e-01, -2.88671111e-02,\n",
       "         1.56547883e-02, -3.10476527e-01, -1.31078171e-02,\n",
       "         5.52700044e-02,  1.16428807e-04,  6.06345805e-02,\n",
       "         3.00459494e-02,  9.24803654e-02,  1.58452933e-02,\n",
       "         6.19869080e-03,  5.61082665e-02, -1.38109486e-01,\n",
       "         3.25092076e-02, -1.44451103e-01,  1.05212153e-02,\n",
       "        -1.58800330e-01,  7.30496710e-01, -1.67517257e-01,\n",
       "        -9.97241286e-03],\n",
       "       [ 1.01477005e-01, -4.14056695e-02,  1.73947663e-02,\n",
       "        -9.50268562e-02, -7.36504839e-02,  2.88234022e-01,\n",
       "        -1.01154719e-01, -7.56995825e-02, -4.30507186e-02,\n",
       "         2.64684583e-02, -1.09346773e-01, -1.95414695e-02,\n",
       "        -8.40536488e-02,  2.34853108e-01, -1.03693637e-03,\n",
       "         4.52186650e-02, -9.72021774e-02,  9.49405739e-02,\n",
       "        -4.02415384e-02, -6.91382357e-03,  3.55321969e-01,\n",
       "         3.47706122e-01, -3.02014385e-01, -2.72197777e-01,\n",
       "         2.89726419e-01,  4.41697781e-01,  1.15554516e-01,\n",
       "         4.67796363e-02,  8.73393352e-02, -2.27292042e-01,\n",
       "         9.25956886e-02],\n",
       "       [-3.52240041e-02, -2.04529773e-01,  1.08894829e-01,\n",
       "         1.65325783e-01,  3.47405884e-02,  8.07702617e-02,\n",
       "        -5.74707545e-02,  6.97735952e-03,  4.17613480e-03,\n",
       "         4.01419800e-02, -2.14788061e-01,  1.71127294e-02,\n",
       "         1.01720152e-01, -1.39531797e-01, -2.32774867e-02,\n",
       "        -5.90682584e-02, -5.96993751e-02,  3.16230158e-03,\n",
       "        -2.30975927e-02, -1.09658991e-02,  5.45126936e-02,\n",
       "         7.08478209e-02, -2.10032174e-01,  1.58078455e-01,\n",
       "         5.91689176e-01, -2.01942503e-01, -8.36531299e-02,\n",
       "         1.23356216e-02, -5.63076546e-02,  5.83111413e-01,\n",
       "        -4.70507810e-02],\n",
       "       [ 8.10415941e-02, -6.54029334e-02,  2.27535103e-02,\n",
       "        -2.74464243e-01,  1.26704325e-01, -3.56933497e-01,\n",
       "         4.95485617e-02,  5.40303007e-02,  1.18654753e-02,\n",
       "         2.95437973e-02, -4.07118363e-01, -3.66308499e-03,\n",
       "        -2.19036940e-01,  3.82779475e-01,  1.44731689e-02,\n",
       "         5.33592753e-02, -6.53913251e-02, -5.42320505e-02,\n",
       "        -1.04838907e-01,  1.47873077e-01, -6.67918444e-02,\n",
       "        -7.67448128e-02, -7.70891759e-03, -4.13563144e-02,\n",
       "         2.16036498e-02, -1.86039239e-01,  2.58976066e-03,\n",
       "         5.43026640e-01,  3.80045361e-02,  1.81766310e-02,\n",
       "         1.27349803e-01],\n",
       "       [ 1.24262222e-02,  1.23831728e-01, -4.28969523e-02,\n",
       "        -2.68311700e-01, -1.50507564e-01,  4.49155208e-01,\n",
       "         4.05571164e-02,  4.55522956e-02, -1.39235898e-02,\n",
       "         2.73261966e-02, -2.06072314e-01, -6.17870416e-03,\n",
       "         3.14643001e-02, -1.49760555e-01,  8.37927561e-02,\n",
       "         1.09155354e-01, -5.37957946e-02, -1.52417421e-02,\n",
       "        -6.05857105e-02, -1.30417391e-01, -1.97629241e-01,\n",
       "        -1.94041608e-01,  5.67796121e-02,  4.35811344e-01,\n",
       "        -5.25927138e-02,  3.62618867e-01, -2.60221549e-01,\n",
       "         2.81136668e-01,  1.24328071e-01,  5.06552401e-02,\n",
       "        -6.37398892e-02],\n",
       "       [-2.66976944e-02,  1.04396398e-01, -2.18388563e-02,\n",
       "        -3.61792930e-01, -7.05178780e-02, -1.31031862e-02,\n",
       "        -8.27265559e-03, -8.65453442e-02, -7.48399183e-02,\n",
       "        -3.23334044e-03,  4.75821446e-01, -1.44428753e-02,\n",
       "        -7.53041287e-02, -6.56511702e-02, -8.37380262e-02,\n",
       "         7.17058947e-02, -1.29956886e-01, -1.21544127e-01,\n",
       "        -7.20825291e-02,  1.47830975e-02,  1.49560242e-01,\n",
       "         1.43217588e-01,  2.33448590e-01, -2.12768735e-01,\n",
       "        -2.51514083e-02, -1.40523683e-02, -2.71536358e-02,\n",
       "         1.26673031e-01,  3.82553953e-01,  4.81551238e-01,\n",
       "         1.19903264e-01],\n",
       "       [ 4.31448568e-01,  1.68064274e-01,  1.54772448e-01,\n",
       "         8.08316112e-02, -1.22075675e-01,  6.33712485e-03,\n",
       "         1.25375130e-01,  2.09736300e-03,  6.29239704e-02,\n",
       "        -3.32345076e-03, -3.27634525e-02,  4.06178040e-02,\n",
       "        -3.82518668e-02, -1.82768696e-01,  5.08829089e-02,\n",
       "        -9.07966920e-02, -2.94612678e-01,  1.96810948e-02,\n",
       "        -9.60158297e-02,  5.05898548e-01, -1.74026998e-01,\n",
       "        -2.43425506e-01,  2.02604670e-01, -2.51864313e-01,\n",
       "         1.62639997e-01,  2.24394730e-01,  1.02345364e-01,\n",
       "        -6.92531007e-02, -1.68378969e-01,  6.70793313e-02,\n",
       "        -2.77386487e-02],\n",
       "       [-1.59531904e-01, -3.65807536e-01, -4.62163331e-02,\n",
       "         1.94667865e-01, -7.53867407e-02,  1.21942574e-01,\n",
       "        -1.71066341e-02, -5.20795175e-02,  9.64070059e-03,\n",
       "         3.14049538e-03, -1.84325966e-01, -7.09060732e-03,\n",
       "         4.84164609e-02, -3.44198167e-01,  7.89601202e-03,\n",
       "        -3.77695244e-02,  1.62384303e-01,  3.28446848e-02,\n",
       "         6.40870951e-02, -1.23424654e-01,  5.01046275e-02,\n",
       "         3.88291803e-02,  2.68667676e-01, -3.82794290e-01,\n",
       "        -2.15604117e-01,  1.38442141e-01,  2.26591334e-01,\n",
       "         4.37227267e-01, -1.66754719e-01,  1.18710376e-01,\n",
       "        -3.35871308e-02],\n",
       "       [ 4.30887850e-02,  6.55312053e-01, -1.42433031e-01,\n",
       "         2.39358942e-01, -1.07277502e-01, -1.74372126e-01,\n",
       "        -8.54636723e-04, -1.75226541e-01, -1.11850183e-01,\n",
       "         2.07214537e-02, -4.80828619e-02, -6.94916662e-02,\n",
       "        -7.09462776e-02, -2.01285728e-01,  2.29083532e-02,\n",
       "        -1.52391457e-01, -9.31800367e-02,  1.19989798e-01,\n",
       "        -9.68581144e-02, -1.13382222e-01,  2.10795990e-01,\n",
       "         2.36493601e-01, -1.28301742e-01,  1.48448650e-01,\n",
       "        -9.26355414e-02, -6.77830524e-02,  5.76869192e-02,\n",
       "         2.94733403e-01, -1.95001325e-01,  5.93687357e-02,\n",
       "        -5.57223792e-03],\n",
       "       [-5.16200921e-02,  2.18732959e-01,  1.56698835e-01,\n",
       "        -2.00814219e-01,  2.41496091e-02,  1.41949621e-01,\n",
       "        -1.10317505e-01, -3.56191693e-02, -5.28931699e-02,\n",
       "         3.30827226e-02, -1.16535002e-03, -1.13762639e-02,\n",
       "         7.97100452e-02, -1.72970724e-02,  3.31656500e-01,\n",
       "        -1.80677290e-01,  1.69039637e-01, -2.90535089e-01,\n",
       "         3.22019832e-02, -4.09458164e-02, -1.30054498e-01,\n",
       "        -2.05356072e-01, -4.65997897e-01, -3.99800227e-01,\n",
       "        -1.03115804e-01, -1.30387138e-01,  7.78273362e-03,\n",
       "         3.94385278e-02,  1.18370670e-02,  7.57740267e-02,\n",
       "        -3.31983588e-01],\n",
       "       [-4.30311606e-02,  1.17346646e-02, -6.25331275e-02,\n",
       "        -2.21254376e-01,  1.78047968e-02, -1.71535397e-01,\n",
       "        -1.11517084e-01, -1.55995465e-01, -1.17891863e-01,\n",
       "         5.86151358e-02, -6.75431024e-02, -4.39614192e-02,\n",
       "         6.41350429e-02,  3.92520747e-02,  3.41884415e-01,\n",
       "        -3.90677486e-01,  1.16770124e-01, -1.83072534e-01,\n",
       "        -3.46903069e-02, -1.73977480e-01, -5.55841944e-03,\n",
       "        -6.71113603e-03,  3.78701496e-01,  2.08938916e-01,\n",
       "         3.11123226e-01,  1.38790343e-01,  4.17844066e-01,\n",
       "        -1.23462387e-01,  3.93790412e-02, -7.82659958e-02,\n",
       "        -1.72032096e-02],\n",
       "       [ 1.05390258e-01,  2.54640844e-01,  5.35525104e-02,\n",
       "        -3.01959840e-02,  2.58669396e-02, -6.99650693e-02,\n",
       "         2.47534755e-01,  2.52556797e-01,  1.45519599e-02,\n",
       "         3.91582976e-03, -4.62884724e-02,  9.78494828e-03,\n",
       "         1.30656483e-01,  1.07939926e-01, -2.38985581e-01,\n",
       "         3.98554188e-01, -3.81414570e-03,  6.27231136e-02,\n",
       "        -2.58483768e-02, -5.22300703e-01, -1.18323083e-01,\n",
       "        -1.10030526e-01,  9.26836715e-02, -1.92831704e-01,\n",
       "         2.09009665e-01,  3.05842710e-02,  3.07899130e-01,\n",
       "        -4.17495579e-02, -4.49706805e-02,  6.02810183e-02,\n",
       "        -2.15368784e-01],\n",
       "       [-4.54938071e-01, -2.54254099e-03, -1.88431890e-01,\n",
       "        -1.62856195e-01, -4.67163178e-02, -5.83697418e-02,\n",
       "        -1.11590520e-01, -1.82653950e-01, -1.11381517e-02,\n",
       "        -8.38657029e-02,  8.83532671e-02, -7.04395182e-02,\n",
       "        -1.48213335e-02,  5.20876367e-02,  7.43443513e-02,\n",
       "         2.11632088e-01, -1.77706270e-01,  4.50186830e-01,\n",
       "         2.56584208e-02,  2.78482254e-01, -2.39315298e-02,\n",
       "        -8.84797025e-02,  3.69225880e-02,  3.17560539e-03,\n",
       "         1.47974323e-01, -2.34004938e-02,  8.52054689e-02,\n",
       "         4.54601497e-02, -6.94471637e-02, -4.76546921e-02,\n",
       "        -4.95298541e-01],\n",
       "       [-1.76147016e-01,  2.15900745e-02,  8.79495904e-02,\n",
       "         6.68471169e-02,  2.68573851e-01,  8.14036805e-02,\n",
       "        -2.54225240e-01,  5.15044950e-02,  1.55409563e-01,\n",
       "         1.32351633e-01,  1.27311898e-02,  2.26684225e-01,\n",
       "        -5.09573630e-01, -1.44746195e-01,  2.63836620e-01,\n",
       "         6.73685625e-02, -4.37066093e-01,  6.11066052e-02,\n",
       "        -1.29430653e-02, -2.96367225e-01, -1.38336164e-01,\n",
       "        -5.82827697e-02,  1.59286297e-02, -7.60088643e-02,\n",
       "        -1.51227029e-02, -3.10685821e-02,  4.10556633e-02,\n",
       "        -9.83012704e-02, -5.15757003e-02, -1.39876982e-02,\n",
       "         1.88557095e-01],\n",
       "       [-3.07509080e-01,  3.07972772e-02,  5.31593780e-01,\n",
       "        -1.04366130e-02, -1.74401141e-01, -1.98186160e-02,\n",
       "         1.14076669e-01, -7.32473492e-02, -2.38703577e-01,\n",
       "         2.45943187e-01, -1.67696126e-03,  2.99912409e-02,\n",
       "         3.78409464e-01,  1.64665907e-01, -5.14128589e-02,\n",
       "        -1.89814325e-01, -2.91022502e-01,  2.34369165e-01,\n",
       "         1.03857360e-01, -6.37693940e-02, -6.52800555e-02,\n",
       "        -7.16396830e-02,  1.74051428e-03, -2.21899252e-02,\n",
       "        -1.02709159e-01, -7.59888674e-04,  5.52494258e-03,\n",
       "         4.38519264e-02, -4.15418003e-03, -2.57272491e-02,\n",
       "         2.60198181e-01],\n",
       "       [ 7.73021238e-02, -6.73001133e-03, -7.11026013e-02,\n",
       "        -1.94805483e-01, -4.27827072e-02, -1.70352367e-03,\n",
       "        -1.11255587e-01, -1.57871825e-01,  1.70686336e-01,\n",
       "         1.51481354e-01, -1.20407193e-01,  2.41825171e-01,\n",
       "        -1.23610192e-01, -1.29783161e-02, -5.83374733e-01,\n",
       "        -3.56732319e-01, -1.81831647e-01, -1.13033020e-01,\n",
       "         3.99123602e-01, -6.51871877e-02, -4.55102183e-02,\n",
       "         5.00559946e-02, -1.04812953e-02,  2.85539117e-02,\n",
       "        -5.70863693e-02,  4.66029935e-03,  2.47688669e-02,\n",
       "        -2.63349530e-02, -1.47322111e-03, -1.61797428e-02,\n",
       "        -2.89841900e-01],\n",
       "       [-3.23105982e-02, -9.24659461e-02, -6.11813775e-01,\n",
       "         7.10023875e-02, -1.29799546e-01, -1.88446231e-02,\n",
       "         2.41629349e-01,  1.02764816e-01,  5.60971757e-02,\n",
       "         2.84296467e-01, -1.95086372e-02,  2.77872887e-01,\n",
       "         3.41566351e-01,  1.17260104e-01,  2.35450605e-01,\n",
       "        -8.57622905e-03, -3.49392796e-01, -1.64356292e-01,\n",
       "        -2.62342663e-02, -1.73146008e-04, -2.18294629e-02,\n",
       "         5.52324426e-02, -8.80430382e-02, -9.22506325e-02,\n",
       "        -5.33169056e-02, -3.81191164e-02, -1.60388613e-02,\n",
       "        -2.72391448e-02,  1.48686109e-02,  3.06763839e-02,\n",
       "         3.72064905e-02],\n",
       "       [-6.46926794e-02, -1.73318814e-02, -9.47513333e-02,\n",
       "        -5.20672803e-02,  2.76292052e-01,  1.21047996e-01,\n",
       "         1.11052616e-01,  4.43771337e-01, -4.77134473e-01,\n",
       "         3.94376878e-01,  3.25592261e-02, -1.82680160e-02,\n",
       "        -1.98388381e-01, -7.13599784e-02, -1.65026141e-01,\n",
       "        -2.47225589e-01,  1.21167943e-01,  1.57516108e-01,\n",
       "        -2.58132677e-01,  1.37493910e-01, -4.07894388e-02,\n",
       "         1.00215308e-01,  2.23016978e-02, -2.45267498e-02,\n",
       "        -2.69982371e-02,  2.20172034e-02, -9.74891288e-04,\n",
       "        -4.42563768e-02, -1.87913800e-02,  1.09622256e-03,\n",
       "        -1.57537498e-01],\n",
       "       [ 4.81410297e-02,  1.53903355e-02, -1.26648822e-01,\n",
       "         4.64214231e-02,  1.50629051e-01,  3.17514519e-02,\n",
       "         6.00631953e-02,  2.29154904e-01, -3.35815269e-01,\n",
       "        -1.43862695e-01,  2.66080766e-03, -3.67944059e-01,\n",
       "        -6.14419293e-02, -1.29607758e-02,  1.11033359e-01,\n",
       "         3.30563039e-02, -2.33113912e-01, -1.12683896e-01,\n",
       "         6.74298317e-01,  2.21653189e-02,  2.12542791e-01,\n",
       "        -1.91323107e-01,  1.04819562e-02,  1.69186341e-02,\n",
       "         4.01120712e-02,  1.65833404e-02,  6.79292859e-03,\n",
       "         4.97669694e-02, -1.93701560e-02,  2.24170936e-02,\n",
       "         5.95181984e-02],\n",
       "       [ 3.69871732e-02,  7.44966992e-03,  2.35472378e-02,\n",
       "        -1.03719081e-02, -1.95175855e-02,  1.16064385e-03,\n",
       "         1.83009238e-02, -1.37842499e-03, -9.34632784e-02,\n",
       "        -1.10138590e-01, -1.50915878e-02, -1.62606850e-01,\n",
       "         5.73722155e-03,  7.00775900e-03,  1.01619148e-01,\n",
       "         7.01545555e-02, -3.85852711e-02, -2.83384461e-02,\n",
       "         2.05712449e-01,  5.25108192e-02, -6.74648935e-01,\n",
       "         6.55859529e-01,  4.48253441e-03, -3.02380093e-02,\n",
       "         5.32167399e-03,  1.54183752e-03,  8.93327218e-03,\n",
       "         4.04576927e-03, -1.45596366e-02,  1.84141441e-02,\n",
       "        -6.95426217e-03],\n",
       "       [ 1.12824246e-16,  8.14628360e-17,  1.30574081e-16,\n",
       "        -1.81386480e-16, -8.10520491e-02, -2.79343569e-02,\n",
       "        -7.88086446e-02,  7.78043512e-02, -4.86213455e-01,\n",
       "        -5.52725478e-01, -6.02142341e-02,  6.59432473e-01,\n",
       "         1.11130480e-16,  6.79889867e-17, -2.18960487e-16,\n",
       "        -1.18056454e-16, -1.66112702e-16,  1.13893265e-16,\n",
       "         3.91656841e-17, -3.66109494e-17,  9.69135832e-17,\n",
       "        -1.04274477e-16,  1.15643957e-17,  3.84543614e-17,\n",
       "         1.28048818e-16,  7.54637073e-17,  3.75134099e-17,\n",
       "         2.38064148e-17, -4.49545107e-17,  1.39519035e-16,\n",
       "         6.46990093e-17],\n",
       "       [-0.00000000e+00, -5.00546249e-17,  3.21422171e-16,\n",
       "        -2.07677378e-16, -5.73031548e-01, -1.97493684e-01,\n",
       "        -5.57170856e-01,  5.50070582e-01,  6.87721242e-02,\n",
       "         7.81798712e-02,  8.51696050e-03, -9.32729679e-02,\n",
       "         2.46264992e-17, -2.71457102e-18, -1.39314807e-16,\n",
       "        -1.51407581e-16, -1.02758190e-17, -9.87467507e-17,\n",
       "         4.64979147e-17, -5.28043494e-18,  1.38019204e-16,\n",
       "        -4.07045417e-17, -1.56803872e-16,  7.75646509e-17,\n",
       "         2.43181328e-17,  5.75762116e-18, -9.97005742e-17,\n",
       "         2.46143361e-17, -3.21702786e-17, -9.00758101e-17,\n",
       "        -9.20172593e-17]])"
      ]
     },
     "execution_count": 19,
     "metadata": {},
     "output_type": "execute_result"
    }
   ],
   "source": [
    "pca.components_"
   ]
  },
  {
   "cell_type": "code",
   "execution_count": 20,
   "metadata": {
    "colab": {
     "base_uri": "https://localhost:8080/"
    },
    "executionInfo": {
     "elapsed": 227,
     "status": "ok",
     "timestamp": 1626424263798,
     "user": {
      "displayName": "Ignacio Soteras",
      "photoUrl": "",
      "userId": "02050793736257155229"
     },
     "user_tz": -120
    },
    "id": "xgCXk-Z3nB1a",
    "outputId": "18e1eb6d-7d03-463d-b678-43ad41d18480"
   },
   "outputs": [
    {
     "data": {
      "text/plain": [
       "array([-0.00914714,  0.12879238,  0.31405033, -0.06295423,  0.13142758,\n",
       "       -0.0026492 ,  0.13750055,  0.27523786,  0.28164973,  0.17371261,\n",
       "        0.00800261,  0.35400008,  0.06595663, -0.02156335,  0.28500197,\n",
       "        0.13834145,  0.15025824,  0.00071778,  0.290969  ,  0.21147689,\n",
       "        0.29539912,  0.29268265,  0.14907093,  0.1644384 , -0.06459105,\n",
       "        0.01444265,  0.04925446,  0.076402  , -0.00827104,  0.02960485,\n",
       "       -0.20247201])"
      ]
     },
     "execution_count": 20,
     "metadata": {},
     "output_type": "execute_result"
    }
   ],
   "source": [
    "# Fisrt pca components\n",
    "pca.components_[0,:]"
   ]
  },
  {
   "cell_type": "code",
   "execution_count": 18,
   "metadata": {
    "colab": {
     "base_uri": "https://localhost:8080/"
    },
    "executionInfo": {
     "elapsed": 222,
     "status": "ok",
     "timestamp": 1626424589642,
     "user": {
      "displayName": "Ignacio Soteras",
      "photoUrl": "",
      "userId": "02050793736257155229"
     },
     "user_tz": -120
    },
    "id": "J4PHai6CnMl-",
    "outputId": "e9dd4bdb-cf86-47b3-b03f-c515b2397874"
   },
   "outputs": [
    {
     "name": "stdout",
     "output_type": "stream",
     "text": [
      "Principal component  1\n",
      "[(12, 'GrLivArea', 0.35), (3, 'OverallQual', 0.31), (19, 'TotRmsAbvGrd', 0.29), (21, 'GarageCars', 0.29), (22, 'GarageArea', 0.29), (15, 'FullBath', 0.28), (9, '1stFlrSF', 0.28), (8, 'TotalBsmtSF', 0.28), (20, 'Fireplaces', 0.21), (31, 'Antiquity', -0.2), (10, '2ndFlrSF', 0.18), (24, 'OpenPorchSF', 0.16), (17, 'BedroomAbvGr', 0.15), (23, 'WoodDeckSF', 0.15), (7, 'BsmtUnfSF', 0.14), (16, 'HalfBath', 0.14), (5, 'BsmtFinSF1', 0.14), (2, 'LotArea', 0.13), (28, 'PoolArea', 0.09), (13, 'BsmtFullBath', 0.07), (25, 'EnclosedPorch', -0.06), (4, 'OverallCond', -0.06), (27, 'ScreenPorch', 0.05), (30, 'MoSold', 0.03), (14, 'BsmtHalfBath', -0.02), (26, '3SsnPorch', 0.02), (11, 'LowQualFinSF', 0.01), (1, 'MSSubClass', -0.01), (29, 'MiscVal', 0.01), (6, 'BsmtFinSF2', -0.01), (18, 'KitchenAbvGr', 0.0)]\n",
      "\n",
      "Principal component  2\n",
      "[(10, '2ndFlrSF', -0.42), (5, 'BsmtFinSF1', 0.33), (17, 'BedroomAbvGr', -0.32), (13, 'BsmtFullBath', 0.31), (8, 'TotalBsmtSF', 0.3), (19, 'TotRmsAbvGrd', -0.27), (9, '1stFlrSF', 0.25), (1, 'MSSubClass', -0.23), (16, 'HalfBath', -0.23), (18, 'KitchenAbvGr', -0.19), (12, 'GrLivArea', -0.18), (15, 'FullBath', -0.15), (22, 'GarageArea', 0.12), (11, 'LowQualFinSF', -0.11), (2, 'LotArea', 0.11), (25, 'EnclosedPorch', -0.1), (6, 'BsmtFinSF2', 0.1), (23, 'WoodDeckSF', 0.08), (21, 'GarageCars', 0.08), (7, 'BsmtUnfSF', -0.08), (29, 'MiscVal', -0.07), (31, 'Antiquity', -0.06), (20, 'Fireplaces', 0.06), (3, 'OverallQual', 0.04), (4, 'OverallCond', -0.04), (26, '3SsnPorch', 0.03), (27, 'ScreenPorch', 0.01), (14, 'BsmtHalfBath', 0.01), (24, 'OpenPorchSF', -0.01), (30, 'MoSold', -0.01), (28, 'PoolArea', 0.01)]\n",
      "\n",
      "Principal component  3\n",
      "[(7, 'BsmtUnfSF', -0.53), (5, 'BsmtFinSF1', 0.37), (13, 'BsmtFullBath', 0.36), (2, 'LotArea', 0.2), (28, 'PoolArea', 0.2), (10, '2ndFlrSF', 0.19), (6, 'BsmtFinSF2', 0.19), (31, 'Antiquity', 0.18), (21, 'GarageCars', -0.16), (16, 'HalfBath', 0.16), (20, 'Fireplaces', 0.16), (27, 'ScreenPorch', 0.14), (29, 'MiscVal', 0.14), (3, 'OverallQual', -0.13), (12, 'GrLivArea', 0.13), (4, 'OverallCond', 0.13), (1, 'MSSubClass', 0.12), (22, 'GarageArea', -0.12), (15, 'FullBath', -0.12), (17, 'BedroomAbvGr', 0.11), (19, 'TotRmsAbvGrd', 0.09), (14, 'BsmtHalfBath', 0.09), (11, 'LowQualFinSF', 0.08), (8, 'TotalBsmtSF', -0.08), (23, 'WoodDeckSF', 0.08), (25, 'EnclosedPorch', 0.07), (9, '1stFlrSF', -0.05), (26, '3SsnPorch', -0.05), (18, 'KitchenAbvGr', 0.04), (24, 'OpenPorchSF', 0.02), (30, 'MoSold', -0.01)]\n",
      "\n",
      "Principal component  4\n",
      "[(16, 'HalfBath', -0.35), (31, 'Antiquity', 0.33), (9, '1stFlrSF', 0.31), (18, 'KitchenAbvGr', 0.28), (17, 'BedroomAbvGr', 0.27), (1, 'MSSubClass', -0.24), (7, 'BsmtUnfSF', 0.23), (25, 'EnclosedPorch', 0.22), (8, 'TotalBsmtSF', 0.2), (2, 'LotArea', 0.19), (10, '2ndFlrSF', -0.19), (3, 'OverallQual', -0.18), (19, 'TotRmsAbvGrd', 0.18), (21, 'GarageCars', -0.17), (11, 'LowQualFinSF', 0.14), (6, 'BsmtFinSF2', 0.14), (28, 'PoolArea', 0.14), (13, 'BsmtFullBath', -0.13), (29, 'MiscVal', 0.12), (22, 'GarageArea', -0.11), (24, 'OpenPorchSF', -0.1), (27, 'ScreenPorch', 0.09), (14, 'BsmtHalfBath', 0.09), (23, 'WoodDeckSF', -0.08), (12, 'GrLivArea', 0.08), (5, 'BsmtFinSF1', -0.08), (20, 'Fireplaces', 0.05), (15, 'FullBath', -0.03), (4, 'OverallCond', -0.01), (30, 'MoSold', 0.0), (26, '3SsnPorch', -0.0)]\n",
      "\n",
      "Principal component  5\n",
      "[(18, 'KitchenAbvGr', 0.5), (1, 'MSSubClass', 0.36), (4, 'OverallCond', -0.36), (27, 'ScreenPorch', -0.31), (14, 'BsmtHalfBath', -0.29), (13, 'BsmtFullBath', 0.26), (20, 'Fireplaces', -0.23), (6, 'BsmtFinSF2', -0.22), (5, 'BsmtFinSF1', 0.2), (15, 'FullBath', 0.15), (24, 'OpenPorchSF', -0.14), (16, 'HalfBath', -0.14), (2, 'LotArea', -0.11), (7, 'BsmtUnfSF', -0.08), (9, '1stFlrSF', 0.07), (10, '2ndFlrSF', -0.07), (3, 'OverallQual', -0.06), (8, 'TotalBsmtSF', 0.05), (26, '3SsnPorch', -0.04), (19, 'TotRmsAbvGrd', 0.04), (31, 'Antiquity', 0.04), (22, 'GarageArea', 0.03), (30, 'MoSold', -0.03), (11, 'LowQualFinSF', -0.03), (21, 'GarageCars', 0.03), (29, 'MiscVal', 0.02), (23, 'WoodDeckSF', -0.02), (28, 'PoolArea', -0.02), (12, 'GrLivArea', -0.01), (25, 'EnclosedPorch', -0.0), (17, 'BedroomAbvGr', 0.0)]\n",
      "\n",
      "Principal component  6\n",
      "[(14, 'BsmtHalfBath', -0.47), (30, 'MoSold', -0.38), (23, 'WoodDeckSF', -0.29), (25, 'EnclosedPorch', 0.27), (4, 'OverallCond', -0.26), (11, 'LowQualFinSF', 0.25), (18, 'KitchenAbvGr', -0.23), (28, 'PoolArea', 0.22), (27, 'ScreenPorch', 0.19), (15, 'FullBath', -0.16), (31, 'Antiquity', 0.16), (16, 'HalfBath', 0.16), (26, '3SsnPorch', -0.16), (24, 'OpenPorchSF', 0.15), (6, 'BsmtFinSF2', -0.13), (29, 'MiscVal', -0.13), (1, 'MSSubClass', -0.11), (2, 'LotArea', -0.11), (7, 'BsmtUnfSF', 0.1), (13, 'BsmtFullBath', 0.09), (17, 'BedroomAbvGr', -0.07), (8, 'TotalBsmtSF', 0.06), (10, '2ndFlrSF', 0.05), (20, 'Fireplaces', 0.05), (12, 'GrLivArea', 0.05), (3, 'OverallQual', 0.04), (19, 'TotRmsAbvGrd', -0.03), (9, '1stFlrSF', -0.03), (22, 'GarageArea', 0.02), (21, 'GarageCars', -0.01), (5, 'BsmtFinSF1', -0.0)]\n",
      "\n",
      "Principal component  7\n",
      "[(27, 'ScreenPorch', -0.52), (25, 'EnclosedPorch', 0.4), (30, 'MoSold', -0.3), (29, 'MiscVal', -0.26), (11, 'LowQualFinSF', 0.25), (24, 'OpenPorchSF', -0.25), (23, 'WoodDeckSF', 0.24), (4, 'OverallCond', 0.23), (28, 'PoolArea', 0.18), (31, 'Antiquity', -0.18), (18, 'KitchenAbvGr', -0.17), (14, 'BsmtHalfBath', 0.15), (16, 'HalfBath', -0.14), (20, 'Fireplaces', -0.14), (3, 'OverallQual', 0.07), (12, 'GrLivArea', 0.06), (10, '2ndFlrSF', 0.06), (7, 'BsmtUnfSF', -0.04), (2, 'LotArea', 0.04), (22, 'GarageArea', 0.03), (15, 'FullBath', 0.03), (6, 'BsmtFinSF2', 0.03), (19, 'TotRmsAbvGrd', 0.03), (8, 'TotalBsmtSF', -0.03), (1, 'MSSubClass', -0.03), (17, 'BedroomAbvGr', 0.02), (13, 'BsmtFullBath', 0.01), (9, '1stFlrSF', -0.01), (26, '3SsnPorch', -0.01), (21, 'GarageCars', 0.01), (5, 'BsmtFinSF1', 0.01)]\n",
      "\n",
      "Principal component  8\n",
      "[(11, 'LowQualFinSF', 0.42), (26, '3SsnPorch', 0.37), (30, 'MoSold', 0.34), (6, 'BsmtFinSF2', -0.31), (28, 'PoolArea', 0.3), (24, 'OpenPorchSF', 0.25), (23, 'WoodDeckSF', -0.23), (2, 'LotArea', -0.2), (21, 'GarageCars', -0.18), (5, 'BsmtFinSF1', 0.16), (14, 'BsmtHalfBath', 0.16), (22, 'GarageArea', -0.15), (29, 'MiscVal', -0.15), (31, 'Antiquity', -0.15), (16, 'HalfBath', -0.13), (1, 'MSSubClass', 0.12), (4, 'OverallCond', 0.11), (25, 'EnclosedPorch', -0.08), (20, 'Fireplaces', -0.08), (3, 'OverallQual', 0.06), (8, 'TotalBsmtSF', 0.06), (27, 'ScreenPorch', 0.06), (9, '1stFlrSF', 0.06), (12, 'GrLivArea', 0.05), (17, 'BedroomAbvGr', -0.05), (10, '2ndFlrSF', -0.04), (19, 'TotRmsAbvGrd', -0.04), (15, 'FullBath', 0.04), (18, 'KitchenAbvGr', -0.02), (13, 'BsmtFullBath', -0.01), (7, 'BsmtUnfSF', -0.0)]\n",
      "\n",
      "Principal component  9\n",
      "[(26, '3SsnPorch', 0.54), (6, 'BsmtFinSF2', -0.42), (1, 'MSSubClass', -0.33), (11, 'LowQualFinSF', -0.28), (27, 'ScreenPorch', -0.23), (24, 'OpenPorchSF', -0.2), (14, 'BsmtHalfBath', -0.19), (2, 'LotArea', 0.16), (31, 'Antiquity', 0.15), (25, 'EnclosedPorch', 0.14), (18, 'KitchenAbvGr', -0.13), (17, 'BedroomAbvGr', 0.13), (28, 'PoolArea', -0.13), (16, 'HalfBath', 0.13), (5, 'BsmtFinSF1', 0.12), (20, 'Fireplaces', 0.12), (30, 'MoSold', 0.11), (10, '2ndFlrSF', 0.09), (15, 'FullBath', -0.09), (23, 'WoodDeckSF', -0.08), (19, 'TotRmsAbvGrd', 0.07), (29, 'MiscVal', 0.06), (3, 'OverallQual', -0.05), (8, 'TotalBsmtSF', -0.05), (12, 'GrLivArea', 0.04), (7, 'BsmtUnfSF', -0.03), (13, 'BsmtFullBath', 0.03), (9, '1stFlrSF', -0.02), (4, 'OverallCond', 0.01), (21, 'GarageCars', -0.01), (22, 'GarageArea', 0.0)]\n",
      "\n",
      "Principal component  10\n",
      "[(29, 'MiscVal', 0.62), (25, 'EnclosedPorch', 0.34), (4, 'OverallCond', 0.26), (17, 'BedroomAbvGr', -0.25), (28, 'PoolArea', 0.23), (26, '3SsnPorch', 0.21), (22, 'GarageArea', 0.2), (21, 'GarageCars', 0.19), (23, 'WoodDeckSF', -0.18), (1, 'MSSubClass', 0.16), (31, 'Antiquity', -0.14), (27, 'ScreenPorch', 0.14), (2, 'LotArea', -0.12), (24, 'OpenPorchSF', -0.11), (19, 'TotRmsAbvGrd', -0.1), (18, 'KitchenAbvGr', 0.1), (11, 'LowQualFinSF', -0.09), (3, 'OverallQual', 0.09), (16, 'HalfBath', -0.09), (30, 'MoSold', -0.08), (6, 'BsmtFinSF2', 0.07), (14, 'BsmtHalfBath', -0.05), (5, 'BsmtFinSF1', -0.05), (13, 'BsmtFullBath', -0.04), (12, 'GrLivArea', -0.04), (15, 'FullBath', 0.03), (8, 'TotalBsmtSF', -0.03), (9, '1stFlrSF', -0.02), (10, '2ndFlrSF', -0.02), (20, 'Fireplaces', 0.01), (7, 'BsmtUnfSF', -0.0)]\n",
      "\n",
      "Principal component  11\n",
      "[(14, 'BsmtHalfBath', 0.41), (28, 'PoolArea', 0.36), (4, 'OverallCond', -0.35), (11, 'LowQualFinSF', -0.33), (30, 'MoSold', 0.33), (26, '3SsnPorch', -0.31), (25, 'EnclosedPorch', 0.29), (31, 'Antiquity', 0.2), (13, 'BsmtFullBath', -0.18), (6, 'BsmtFinSF2', -0.17), (22, 'GarageArea', 0.1), (27, 'ScreenPorch', -0.1), (18, 'KitchenAbvGr', -0.1), (19, 'TotRmsAbvGrd', -0.1), (21, 'GarageCars', 0.1), (5, 'BsmtFinSF1', 0.09), (2, 'LotArea', -0.07), (17, 'BedroomAbvGr', -0.06), (16, 'HalfBath', 0.06), (23, 'WoodDeckSF', -0.06), (10, '2ndFlrSF', 0.06), (20, 'Fireplaces', 0.05), (29, 'MiscVal', -0.05), (9, '1stFlrSF', -0.03), (1, 'MSSubClass', 0.03), (7, 'BsmtUnfSF', -0.03), (15, 'FullBath', -0.03), (3, 'OverallQual', 0.01), (8, 'TotalBsmtSF', 0.01), (12, 'GrLivArea', -0.01), (24, 'OpenPorchSF', 0.0)]\n",
      "\n",
      "Principal component  12\n",
      "[(26, '3SsnPorch', -0.43), (6, 'BsmtFinSF2', -0.4), (29, 'MiscVal', 0.35), (23, 'WoodDeckSF', 0.33), (21, 'GarageCars', -0.29), (22, 'GarageArea', -0.29), (14, 'BsmtHalfBath', -0.24), (4, 'OverallCond', 0.24), (31, 'Antiquity', -0.16), (7, 'BsmtUnfSF', 0.15), (28, 'PoolArea', 0.15), (11, 'LowQualFinSF', -0.1), (27, 'ScreenPorch', -0.09), (18, 'KitchenAbvGr', -0.09), (1, 'MSSubClass', -0.08), (20, 'Fireplaces', 0.08), (30, 'MoSold', 0.08), (24, 'OpenPorchSF', 0.07), (25, 'EnclosedPorch', -0.07), (8, 'TotalBsmtSF', 0.06), (16, 'HalfBath', -0.05), (5, 'BsmtFinSF1', 0.04), (3, 'OverallQual', 0.04), (9, '1stFlrSF', 0.03), (10, '2ndFlrSF', -0.02), (17, 'BedroomAbvGr', -0.02), (12, 'GrLivArea', -0.01), (2, 'LotArea', 0.0), (19, 'TotRmsAbvGrd', 0.0), (13, 'BsmtFullBath', 0.0), (15, 'FullBath', -0.0)]\n",
      "\n",
      "Principal component  13\n",
      "[(30, 'MoSold', -0.43), (4, 'OverallCond', -0.39), (26, '3SsnPorch', 0.34), (28, 'PoolArea', 0.32), (25, 'EnclosedPorch', -0.29), (29, 'MiscVal', 0.21), (22, 'GarageArea', -0.2), (2, 'LotArea', 0.2), (21, 'GarageCars', -0.18), (14, 'BsmtHalfBath', 0.18), (23, 'WoodDeckSF', 0.16), (27, 'ScreenPorch', -0.15), (13, 'BsmtFullBath', -0.14), (1, 'MSSubClass', 0.11), (16, 'HalfBath', 0.11), (17, 'BedroomAbvGr', -0.11), (7, 'BsmtUnfSF', 0.1), (24, 'OpenPorchSF', 0.1), (15, 'FullBath', 0.1), (19, 'TotRmsAbvGrd', -0.09), (11, 'LowQualFinSF', -0.08), (6, 'BsmtFinSF2', 0.07), (18, 'KitchenAbvGr', -0.07), (5, 'BsmtFinSF1', -0.07), (8, 'TotalBsmtSF', 0.05), (20, 'Fireplaces', 0.05), (3, 'OverallQual', -0.04), (9, '1stFlrSF', -0.02), (12, 'GrLivArea', -0.01), (10, '2ndFlrSF', 0.01), (31, 'Antiquity', 0.0)]\n",
      "\n",
      "Principal component  14\n",
      "[(30, 'MoSold', 0.51), (6, 'BsmtFinSF2', 0.41), (14, 'BsmtHalfBath', -0.31), (27, 'ScreenPorch', -0.27), (25, 'EnclosedPorch', 0.27), (24, 'OpenPorchSF', 0.26), (4, 'OverallCond', -0.23), (5, 'BsmtFinSF1', -0.2), (2, 'LotArea', 0.18), (23, 'WoodDeckSF', 0.17), (11, 'LowQualFinSF', 0.16), (17, 'BedroomAbvGr', -0.14), (29, 'MiscVal', 0.12), (26, '3SsnPorch', 0.11), (13, 'BsmtFullBath', 0.09), (18, 'KitchenAbvGr', -0.09), (22, 'GarageArea', -0.08), (21, 'GarageCars', -0.07), (16, 'HalfBath', 0.07), (7, 'BsmtUnfSF', 0.06), (19, 'TotRmsAbvGrd', -0.06), (28, 'PoolArea', -0.04), (31, 'Antiquity', -0.04), (15, 'FullBath', -0.04), (9, '1stFlrSF', -0.03), (20, 'Fireplaces', -0.02), (10, '2ndFlrSF', 0.02), (1, 'MSSubClass', 0.02), (12, 'GrLivArea', 0.01), (8, 'TotalBsmtSF', -0.01), (3, 'OverallQual', 0.0)]\n",
      "\n",
      "Principal component  15\n",
      "[(24, 'OpenPorchSF', -0.53), (20, 'Fireplaces', 0.48), (1, 'MSSubClass', 0.35), (11, 'LowQualFinSF', 0.27), (17, 'BedroomAbvGr', -0.23), (23, 'WoodDeckSF', 0.22), (27, 'ScreenPorch', 0.21), (6, 'BsmtFinSF2', -0.14), (30, 'MoSold', 0.13), (31, 'Antiquity', 0.12), (3, 'OverallQual', 0.12), (2, 'LotArea', 0.11), (4, 'OverallCond', -0.11), (29, 'MiscVal', -0.11), (28, 'PoolArea', -0.09), (7, 'BsmtUnfSF', 0.09), (13, 'BsmtFullBath', -0.08), (19, 'TotRmsAbvGrd', -0.08), (5, 'BsmtFinSF1', -0.08), (22, 'GarageArea', -0.06), (18, 'KitchenAbvGr', -0.05), (15, 'FullBath', -0.05), (26, '3SsnPorch', 0.04), (14, 'BsmtHalfBath', -0.04), (8, 'TotalBsmtSF', -0.04), (12, 'GrLivArea', 0.03), (16, 'HalfBath', -0.03), (9, '1stFlrSF', 0.03), (25, 'EnclosedPorch', 0.01), (10, '2ndFlrSF', -0.01), (21, 'GarageCars', 0.0)]\n",
      "\n",
      "Principal component  16\n",
      "[(11, 'LowQualFinSF', 0.5), (29, 'MiscVal', 0.4), (1, 'MSSubClass', -0.29), (20, 'Fireplaces', -0.26), (4, 'OverallCond', -0.25), (22, 'GarageArea', 0.25), (21, 'GarageCars', 0.22), (25, 'EnclosedPorch', -0.22), (23, 'WoodDeckSF', 0.19), (24, 'OpenPorchSF', -0.19), (18, 'KitchenAbvGr', -0.14), (6, 'BsmtFinSF2', -0.14), (3, 'OverallQual', -0.13), (17, 'BedroomAbvGr', 0.11), (9, '1stFlrSF', -0.11), (14, 'BsmtHalfBath', 0.1), (30, 'MoSold', 0.1), (8, 'TotalBsmtSF', -0.09), (7, 'BsmtUnfSF', -0.08), (26, '3SsnPorch', -0.07), (15, 'FullBath', -0.06), (12, 'GrLivArea', -0.05), (2, 'LotArea', -0.05), (16, 'HalfBath', 0.04), (31, 'Antiquity', 0.04), (5, 'BsmtFinSF1', 0.04), (27, 'ScreenPorch', 0.03), (19, 'TotRmsAbvGrd', 0.02), (10, '2ndFlrSF', -0.02), (13, 'BsmtFullBath', -0.01), (28, 'PoolArea', -0.0)]\n",
      "\n",
      "Principal component  17\n",
      "[(28, 'PoolArea', 0.46), (2, 'LotArea', -0.43), (23, 'WoodDeckSF', 0.33), (14, 'BsmtHalfBath', -0.29), (24, 'OpenPorchSF', -0.29), (6, 'BsmtFinSF2', 0.24), (11, 'LowQualFinSF', -0.23), (29, 'MiscVal', -0.2), (27, 'ScreenPorch', 0.19), (26, '3SsnPorch', 0.18), (25, 'EnclosedPorch', -0.15), (20, 'Fireplaces', -0.13), (30, 'MoSold', 0.13), (1, 'MSSubClass', -0.13), (17, 'BedroomAbvGr', 0.12), (5, 'BsmtFinSF1', -0.08), (31, 'Antiquity', 0.05), (3, 'OverallQual', -0.04), (19, 'TotRmsAbvGrd', 0.04), (10, '2ndFlrSF', 0.03), (4, 'OverallCond', 0.03), (9, '1stFlrSF', 0.02), (12, 'GrLivArea', 0.02), (13, 'BsmtFullBath', 0.02), (7, 'BsmtUnfSF', -0.02), (18, 'KitchenAbvGr', -0.02), (8, 'TotalBsmtSF', -0.02), (15, 'FullBath', 0.01), (21, 'GarageCars', -0.0), (22, 'GarageArea', -0.0), (16, 'HalfBath', 0.0)]\n",
      "\n",
      "Principal component  18\n",
      "[(2, 'LotArea', 0.64), (28, 'PoolArea', 0.36), (14, 'BsmtHalfBath', -0.23), (22, 'GarageArea', 0.23), (29, 'MiscVal', -0.21), (21, 'GarageCars', 0.2), (4, 'OverallCond', 0.18), (25, 'EnclosedPorch', -0.18), (8, 'TotalBsmtSF', -0.18), (16, 'HalfBath', -0.16), (3, 'OverallQual', -0.16), (6, 'BsmtFinSF2', -0.14), (20, 'Fireplaces', -0.14), (5, 'BsmtFinSF1', -0.12), (9, '1stFlrSF', -0.12), (19, 'TotRmsAbvGrd', -0.1), (18, 'KitchenAbvGr', 0.08), (30, 'MoSold', 0.08), (13, 'BsmtFullBath', -0.08), (27, 'ScreenPorch', 0.07), (24, 'OpenPorchSF', 0.07), (17, 'BedroomAbvGr', -0.06), (12, 'GrLivArea', -0.06), (15, 'FullBath', 0.06), (26, '3SsnPorch', -0.06), (1, 'MSSubClass', 0.05), (23, 'WoodDeckSF', -0.04), (10, '2ndFlrSF', 0.04), (31, 'Antiquity', 0.03), (11, 'LowQualFinSF', -0.03), (7, 'BsmtUnfSF', -0.01)]\n",
      "\n",
      "Principal component  19\n",
      "[(23, 'WoodDeckSF', -0.55), (24, 'OpenPorchSF', -0.45), (31, 'Antiquity', -0.3), (18, 'KitchenAbvGr', -0.23), (15, 'FullBath', 0.22), (6, 'BsmtFinSF2', 0.21), (22, 'GarageArea', -0.19), (25, 'EnclosedPorch', -0.18), (26, '3SsnPorch', -0.17), (2, 'LotArea', 0.16), (3, 'OverallQual', 0.16), (30, 'MoSold', 0.13), (21, 'GarageCars', -0.13), (4, 'OverallCond', -0.12), (17, 'BedroomAbvGr', 0.12), (28, 'PoolArea', 0.1), (29, 'MiscVal', 0.08), (27, 'ScreenPorch', -0.07), (1, 'MSSubClass', -0.07), (14, 'BsmtHalfBath', -0.07), (13, 'BsmtFullBath', 0.05), (7, 'BsmtUnfSF', -0.05), (20, 'Fireplaces', -0.04), (19, 'TotRmsAbvGrd', 0.04), (11, 'LowQualFinSF', -0.03), (10, '2ndFlrSF', 0.03), (8, 'TotalBsmtSF', 0.03), (16, 'HalfBath', -0.02), (9, '1stFlrSF', -0.02), (5, 'BsmtFinSF1', 0.01), (12, 'GrLivArea', 0.01)]\n",
      "\n",
      "Principal component  20\n",
      "[(27, 'ScreenPorch', -0.47), (15, 'FullBath', -0.39), (25, 'EnclosedPorch', -0.35), (16, 'HalfBath', 0.32), (4, 'OverallCond', 0.26), (23, 'WoodDeckSF', -0.22), (20, 'Fireplaces', 0.2), (31, 'Antiquity', 0.19), (18, 'KitchenAbvGr', 0.17), (28, 'PoolArea', 0.16), (13, 'BsmtFullBath', -0.13), (6, 'BsmtFinSF2', 0.13), (22, 'GarageArea', 0.13), (2, 'LotArea', -0.12), (17, 'BedroomAbvGr', -0.12), (8, 'TotalBsmtSF', 0.11), (11, 'LowQualFinSF', 0.11), (9, '1stFlrSF', 0.1), (26, '3SsnPorch', -0.1), (21, 'GarageCars', 0.08), (7, 'BsmtUnfSF', 0.07), (24, 'OpenPorchSF', -0.06), (14, 'BsmtHalfBath', -0.06), (30, 'MoSold', 0.05), (12, 'GrLivArea', 0.05), (10, '2ndFlrSF', -0.04), (29, 'MiscVal', 0.03), (19, 'TotRmsAbvGrd', 0.03), (1, 'MSSubClass', 0.03), (5, 'BsmtFinSF1', -0.01), (3, 'OverallQual', 0.0)]\n",
      "\n",
      "Principal component  21\n",
      "[(20, 'Fireplaces', -0.52), (16, 'HalfBath', 0.47), (15, 'FullBath', -0.3), (8, 'TotalBsmtSF', 0.29), (7, 'BsmtUnfSF', 0.26), (27, 'ScreenPorch', 0.23), (2, 'LotArea', 0.23), (24, 'OpenPorchSF', -0.21), (25, 'EnclosedPorch', 0.14), (1, 'MSSubClass', 0.14), (31, 'Antiquity', -0.13), (14, 'BsmtHalfBath', 0.12), (18, 'KitchenAbvGr', 0.1), (21, 'GarageCars', -0.09), (23, 'WoodDeckSF', 0.06), (22, 'GarageArea', -0.06), (13, 'BsmtFullBath', 0.06), (4, 'OverallCond', 0.05), (9, '1stFlrSF', 0.05), (6, 'BsmtFinSF2', -0.05), (29, 'MiscVal', -0.05), (5, 'BsmtFinSF1', 0.04), (11, 'LowQualFinSF', -0.04), (30, 'MoSold', 0.04), (12, 'GrLivArea', 0.03), (3, 'OverallQual', 0.03), (26, '3SsnPorch', 0.03), (28, 'PoolArea', -0.03), (17, 'BedroomAbvGr', -0.03), (19, 'TotRmsAbvGrd', -0.02), (10, '2ndFlrSF', -0.01)]\n",
      "\n",
      "Principal component  22\n",
      "[(31, 'Antiquity', -0.49), (18, 'KitchenAbvGr', 0.47), (1, 'MSSubClass', -0.4), (16, 'HalfBath', 0.28), (20, 'Fireplaces', 0.26), (3, 'OverallQual', -0.21), (17, 'BedroomAbvGr', -0.17), (8, 'TotalBsmtSF', -0.16), (25, 'EnclosedPorch', 0.14), (4, 'OverallCond', -0.13), (29, 'MiscVal', -0.13), (7, 'BsmtUnfSF', -0.12), (10, '2ndFlrSF', -0.1), (28, 'PoolArea', 0.09), (13, 'BsmtFullBath', -0.08), (11, 'LowQualFinSF', 0.08), (27, 'ScreenPorch', 0.06), (22, 'GarageArea', -0.06), (12, 'GrLivArea', -0.05), (15, 'FullBath', 0.05), (24, 'OpenPorchSF', -0.04), (6, 'BsmtFinSF2', -0.03), (9, '1stFlrSF', 0.03), (14, 'BsmtHalfBath', 0.03), (26, '3SsnPorch', -0.03), (19, 'TotRmsAbvGrd', -0.02), (5, 'BsmtFinSF1', -0.02), (21, 'GarageCars', -0.02), (30, 'MoSold', -0.01), (23, 'WoodDeckSF', 0.01), (2, 'LotArea', 0.0)]\n",
      "\n",
      "Principal component  23\n",
      "[(13, 'BsmtFullBath', -0.53), (17, 'BedroomAbvGr', -0.42), (15, 'FullBath', 0.29), (5, 'BsmtFinSF1', 0.27), (20, 'Fireplaces', -0.26), (7, 'BsmtUnfSF', -0.25), (12, 'GrLivArea', 0.24), (31, 'Antiquity', 0.21), (9, '1stFlrSF', 0.19), (14, 'BsmtHalfBath', -0.17), (28, 'PoolArea', -0.15), (1, 'MSSubClass', -0.13), (21, 'GarageCars', -0.13), (10, '2ndFlrSF', 0.11), (6, 'BsmtFinSF2', 0.07), (4, 'OverallCond', 0.06), (8, 'TotalBsmtSF', 0.05), (16, 'HalfBath', 0.05), (22, 'GarageArea', -0.04), (24, 'OpenPorchSF', -0.04), (11, 'LowQualFinSF', 0.04), (26, '3SsnPorch', -0.04), (27, 'ScreenPorch', 0.03), (23, 'WoodDeckSF', 0.02), (19, 'TotRmsAbvGrd', -0.02), (29, 'MiscVal', -0.01), (3, 'OverallQual', 0.01), (2, 'LotArea', 0.01), (18, 'KitchenAbvGr', -0.01), (25, 'EnclosedPorch', 0.01), (30, 'MoSold', -0.0)]\n",
      "\n",
      "Principal component  24\n",
      "[(3, 'OverallQual', 0.6), (1, 'MSSubClass', -0.34), (18, 'KitchenAbvGr', 0.31), (17, 'BedroomAbvGr', -0.31), (13, 'BsmtFullBath', 0.25), (10, '2ndFlrSF', 0.23), (9, '1stFlrSF', -0.21), (31, 'Antiquity', 0.19), (16, 'HalfBath', -0.17), (14, 'BsmtHalfBath', 0.13), (5, 'BsmtFinSF1', -0.13), (15, 'FullBath', -0.11), (20, 'Fireplaces', -0.1), (8, 'TotalBsmtSF', -0.1), (19, 'TotRmsAbvGrd', 0.1), (21, 'GarageCars', -0.09), (25, 'EnclosedPorch', -0.09), (22, 'GarageArea', -0.06), (2, 'LotArea', 0.05), (4, 'OverallCond', -0.05), (28, 'PoolArea', 0.04), (7, 'BsmtUnfSF', 0.04), (12, 'GrLivArea', 0.03), (27, 'ScreenPorch', 0.02), (6, 'BsmtFinSF2', -0.02), (23, 'WoodDeckSF', 0.02), (24, 'OpenPorchSF', -0.01), (30, 'MoSold', -0.01), (29, 'MiscVal', -0.01), (26, '3SsnPorch', 0.0), (11, 'LowQualFinSF', 0.0)]\n",
      "\n",
      "Principal component  25\n",
      "[(15, 'FullBath', 0.6), (19, 'TotRmsAbvGrd', -0.37), (16, 'HalfBath', 0.35), (31, 'Antiquity', 0.34), (4, 'OverallCond', 0.21), (13, 'BsmtFullBath', 0.21), (12, 'GrLivArea', -0.2), (9, '1stFlrSF', -0.15), (7, 'BsmtUnfSF', 0.15), (8, 'TotalBsmtSF', 0.14), (11, 'LowQualFinSF', 0.13), (10, '2ndFlrSF', -0.11), (1, 'MSSubClass', -0.11), (17, 'BedroomAbvGr', 0.1), (18, 'KitchenAbvGr', 0.09), (20, 'Fireplaces', 0.05), (25, 'EnclosedPorch', 0.05), (14, 'BsmtHalfBath', 0.05), (3, 'OverallQual', 0.05), (27, 'ScreenPorch', -0.05), (22, 'GarageArea', -0.04), (28, 'PoolArea', 0.03), (24, 'OpenPorchSF', -0.03), (21, 'GarageCars', 0.03), (30, 'MoSold', 0.02), (2, 'LotArea', -0.02), (29, 'MiscVal', -0.01), (26, '3SsnPorch', -0.01), (5, 'BsmtFinSF1', -0.01), (6, 'BsmtFinSF2', 0.01), (23, 'WoodDeckSF', 0.0)]\n",
      "\n",
      "Principal component  26\n",
      "[(3, 'OverallQual', -0.55), (17, 'BedroomAbvGr', -0.4), (13, 'BsmtFullBath', 0.38), (10, '2ndFlrSF', 0.33), (12, 'GrLivArea', 0.3), (7, 'BsmtUnfSF', 0.24), (5, 'BsmtFinSF1', -0.16), (14, 'BsmtHalfBath', 0.15), (15, 'FullBath', 0.13), (18, 'KitchenAbvGr', -0.11), (2, 'LotArea', -0.1), (23, 'WoodDeckSF', -0.09), (16, 'HalfBath', -0.08), (25, 'EnclosedPorch', -0.07), (24, 'OpenPorchSF', -0.07), (8, 'TotalBsmtSF', 0.07), (1, 'MSSubClass', -0.07), (19, 'TotRmsAbvGrd', 0.06), (22, 'GarageArea', 0.05), (4, 'OverallCond', 0.05), (9, '1stFlrSF', 0.05), (11, 'LowQualFinSF', -0.04), (21, 'GarageCars', -0.04), (28, 'PoolArea', -0.04), (26, '3SsnPorch', -0.04), (6, 'BsmtFinSF2', -0.03), (30, 'MoSold', 0.02), (27, 'ScreenPorch', -0.01), (31, 'Antiquity', 0.01), (29, 'MiscVal', -0.0), (20, 'Fireplaces', 0.0)]\n",
      "\n",
      "Principal component  27\n",
      "[(9, '1stFlrSF', 0.47), (8, 'TotalBsmtSF', -0.45), (10, '2ndFlrSF', -0.39), (19, 'TotRmsAbvGrd', 0.3), (5, 'BsmtFinSF1', -0.29), (16, 'HalfBath', 0.23), (13, 'BsmtFullBath', 0.2), (18, 'KitchenAbvGr', -0.15), (31, 'Antiquity', 0.15), (20, 'Fireplaces', -0.14), (17, 'BedroomAbvGr', -0.14), (15, 'FullBath', 0.12), (7, 'BsmtUnfSF', -0.12), (6, 'BsmtFinSF2', -0.12), (3, 'OverallQual', 0.1), (22, 'GarageArea', -0.08), (14, 'BsmtHalfBath', 0.08), (1, 'MSSubClass', 0.06), (28, 'PoolArea', 0.06), (21, 'GarageCars', 0.04), (4, 'OverallCond', 0.03), (11, 'LowQualFinSF', -0.03), (23, 'WoodDeckSF', -0.03), (24, 'OpenPorchSF', 0.02), (26, '3SsnPorch', -0.02), (12, 'GrLivArea', 0.02), (2, 'LotArea', 0.02), (29, 'MiscVal', 0.02), (25, 'EnclosedPorch', 0.01), (30, 'MoSold', -0.01), (27, 'ScreenPorch', -0.0)]\n",
      "\n",
      "Principal component  28\n",
      "[(19, 'TotRmsAbvGrd', 0.67), (12, 'GrLivArea', -0.37), (9, '1stFlrSF', -0.35), (17, 'BedroomAbvGr', -0.25), (21, 'GarageCars', 0.23), (8, 'TotalBsmtSF', 0.22), (22, 'GarageArea', -0.2), (5, 'BsmtFinSF1', 0.15), (10, '2ndFlrSF', -0.13), (3, 'OverallQual', -0.11), (15, 'FullBath', 0.11), (18, 'KitchenAbvGr', -0.07), (7, 'BsmtUnfSF', 0.06), (13, 'BsmtFullBath', -0.06), (28, 'PoolArea', 0.05), (31, 'Antiquity', 0.05), (25, 'EnclosedPorch', 0.04), (4, 'OverallCond', 0.04), (29, 'MiscVal', -0.04), (6, 'BsmtFinSF2', 0.03), (16, 'HalfBath', 0.03), (30, 'MoSold', 0.03), (20, 'Fireplaces', 0.03), (1, 'MSSubClass', 0.02), (26, '3SsnPorch', 0.02), (2, 'LotArea', 0.02), (14, 'BsmtHalfBath', -0.02), (11, 'LowQualFinSF', 0.01), (23, 'WoodDeckSF', 0.01), (24, 'OpenPorchSF', 0.01), (27, 'ScreenPorch', 0.01)]\n",
      "\n",
      "Principal component  29\n",
      "[(21, 'GarageCars', -0.67), (22, 'GarageArea', 0.66), (19, 'TotRmsAbvGrd', 0.22), (12, 'GrLivArea', -0.17), (10, '2ndFlrSF', -0.11), (9, '1stFlrSF', -0.1), (15, 'FullBath', 0.09), (16, 'HalfBath', 0.06), (20, 'Fireplaces', 0.05), (1, 'MSSubClass', 0.05), (17, 'BedroomAbvGr', -0.04), (18, 'KitchenAbvGr', -0.04), (29, 'MiscVal', -0.02), (24, 'OpenPorchSF', -0.02), (3, 'OverallQual', 0.02), (30, 'MoSold', 0.02), (7, 'BsmtUnfSF', 0.01), (31, 'Antiquity', -0.01), (11, 'LowQualFinSF', -0.01), (5, 'BsmtFinSF1', -0.01), (4, 'OverallCond', -0.01), (27, 'ScreenPorch', 0.01), (23, 'WoodDeckSF', 0.01), (25, 'EnclosedPorch', 0.01), (13, 'BsmtFullBath', -0.01), (2, 'LotArea', 0.01), (26, '3SsnPorch', 0.01), (6, 'BsmtFinSF2', 0.01), (8, 'TotalBsmtSF', 0.01), (14, 'BsmtHalfBath', 0.0), (28, 'PoolArea', -0.0)]\n",
      "\n",
      "Principal component  30\n",
      "[(12, 'GrLivArea', -0.64), (10, '2ndFlrSF', 0.54), (9, '1stFlrSF', 0.47), (5, 'BsmtFinSF1', 0.15), (8, 'TotalBsmtSF', -0.15), (7, 'BsmtUnfSF', 0.15), (11, 'LowQualFinSF', 0.06), (6, 'BsmtFinSF2', 0.05), (4, 'OverallCond', -0.0), (22, 'GarageArea', -0.0), (21, 'GarageCars', 0.0), (29, 'MiscVal', -0.0), (19, 'TotRmsAbvGrd', 0.0), (31, 'Antiquity', -0.0), (2, 'LotArea', 0.0), (27, 'ScreenPorch', 0.0), (25, 'EnclosedPorch', 0.0), (1, 'MSSubClass', -0.0), (3, 'OverallQual', 0.0), (28, 'PoolArea', 0.0), (16, 'HalfBath', 0.0), (18, 'KitchenAbvGr', 0.0), (13, 'BsmtFullBath', -0.0), (15, 'FullBath', -0.0), (14, 'BsmtHalfBath', 0.0), (30, 'MoSold', -0.0), (23, 'WoodDeckSF', 0.0), (20, 'Fireplaces', 0.0), (26, '3SsnPorch', -0.0), (24, 'OpenPorchSF', -0.0), (17, 'BedroomAbvGr', 0.0)]\n",
      "\n",
      "Principal component  31\n",
      "[(5, 'BsmtFinSF1', 0.56), (8, 'TotalBsmtSF', -0.54), (7, 'BsmtUnfSF', 0.54), (6, 'BsmtFinSF2', 0.18), (12, 'GrLivArea', 0.18), (10, '2ndFlrSF', -0.15), (9, '1stFlrSF', -0.13), (11, 'LowQualFinSF', -0.02), (3, 'OverallQual', 0.0), (29, 'MiscVal', -0.0), (30, 'MoSold', -0.0), (21, 'GarageCars', 0.0), (14, 'BsmtHalfBath', 0.0), (27, 'ScreenPorch', 0.0), (15, 'FullBath', -0.0), (4, 'OverallCond', -0.0), (13, 'BsmtFullBath', -0.0), (23, 'WoodDeckSF', -0.0), (20, 'Fireplaces', -0.0), (17, 'BedroomAbvGr', 0.0), (18, 'KitchenAbvGr', 0.0), (2, 'LotArea', 0.0), (26, '3SsnPorch', 0.0), (22, 'GarageArea', -0.0), (16, 'HalfBath', -0.0), (31, 'Antiquity', -0.0), (19, 'TotRmsAbvGrd', 0.0), (24, 'OpenPorchSF', -0.0), (25, 'EnclosedPorch', 0.0), (28, 'PoolArea', -0.0), (1, 'MSSubClass', 0.0)]\n",
      "\n"
     ]
    }
   ],
   "source": [
    "for comp in range(1,len(pca.components_)+1):\n",
    "    print(\"Principal component \",comp)\n",
    "    my_list = [(abs(value),index+1,X.columns[index],value) for index,value in enumerate(pca.components_[comp-1,:]) ]\n",
    "    my_list.sort(reverse=True)\n",
    "    my_list = [(elem[1],elem[2],round(elem[3],2)) for elem in my_list]\n",
    "    print(my_list)\n",
    "    print()"
   ]
  },
  {
   "cell_type": "markdown",
   "metadata": {
    "id": "YZNYgOWGqqIH"
   },
   "source": [
    "# Generating a regression model with the pca"
   ]
  },
  {
   "cell_type": "code",
   "execution_count": 19,
   "metadata": {
    "executionInfo": {
     "elapsed": 213,
     "status": "ok",
     "timestamp": 1626424748835,
     "user": {
      "displayName": "Ignacio Soteras",
      "photoUrl": "",
      "userId": "02050793736257155229"
     },
     "user_tz": -120
    },
    "id": "S06GdLaUrgp-"
   },
   "outputs": [],
   "source": [
    "from matplotlib.ticker import FuncFormatter\n",
    "import matplotlib.ticker as ticker\n",
    "\n",
    "def show_errors(y_real_train, y_pred_train, y_real_test, y_pred_test):\n",
    "\n",
    "    plt.style.use('seaborn') \n",
    "\n",
    "    fig, ax = plt.subplots(2,2,figsize=(10,10))\n",
    "    \n",
    "    ax[0,0].scatter(x = np.exp(y_real_train), y = np.exp(y_pred_train), c = 'green')\n",
    "    ax[0,0].plot([0,700000], [0,700000], linestyle = '--',c = 'black')\n",
    "    ax[0,0].set_xlim(0,700000)\n",
    "    ax[0,0].set_ylim(0,700000)\n",
    "\n",
    "    ax[0,0].xaxis.set_major_formatter(FuncFormatter(lambda x, p: f'{int(x/1000)}K'))\n",
    "    ax[0,0].yaxis.set_major_formatter(FuncFormatter(lambda x, p: f'{int(x/1000)}K'))\n",
    "    ax[0,0].set_title('Train set')\n",
    "\n",
    "    ax[0,1].hist(x = np.exp(y_real_train)-np.exp(y_pred_train), bins = 50,color = 'green')\n",
    "    ax[0,1].set_xlim(-200000,200000)\n",
    "    ax[0,1].xaxis.set_major_formatter(FuncFormatter(lambda x, p: f'{int(x/1000)}K'))\n",
    "    ax[0,1].set_title('Train set')\n",
    "\n",
    "    ax[1,0].scatter(x = np.exp(y_real_test), y = np.exp(y_pred_test), c = 'blue')\n",
    "    ax[1,0].plot([0,700000], [0,700000], linestyle = '--',c = 'black')\n",
    "    ax[1,0].set_xlim(0,700000)\n",
    "    ax[1,0].set_ylim(0,700000)\n",
    "    ax[1,0].xaxis.set_major_formatter(FuncFormatter(lambda x, p: f'{int(x/1000)}K'))\n",
    "    ax[1,0].yaxis.set_major_formatter(FuncFormatter(lambda x, p: f'{int(x/1000)}K'))\n",
    "    ax[1,0].set_title('Test set')   \n",
    "\n",
    "    ax[1,1].hist(x = np.exp(y_real_test)-np.exp(y_pred_test), bins = 50,color = 'blue')\n",
    "    ax[1,1].set_xlim(-200000,200000)\n",
    "    ax[1,1].xaxis.set_major_formatter(FuncFormatter(lambda x, p: f'{int(x/1000)}K'))\n",
    "    ax[1,1].set_title('Test set')\n",
    "\n",
    "    fig.tight_layout()\n",
    "    pass"
   ]
  },
  {
   "cell_type": "code",
   "execution_count": 20,
   "metadata": {
    "colab": {
     "base_uri": "https://localhost:8080/",
     "height": 729
    },
    "executionInfo": {
     "elapsed": 2317,
     "status": "ok",
     "timestamp": 1626424783724,
     "user": {
      "displayName": "Ignacio Soteras",
      "photoUrl": "",
      "userId": "02050793736257155229"
     },
     "user_tz": -120
    },
    "id": "YUVB7MDU10lO",
    "outputId": "9d237145-cd93-4e9d-d989-c245c5f33182"
   },
   "outputs": [
    {
     "data": {
      "image/png": "[encoded data removed]",
      "text/plain": [
       "<Figure size 720x720 with 4 Axes>"
      ]
     },
     "metadata": {},
     "output_type": "display_data"
    }
   ],
   "source": [
    "from sklearn.linear_model import LinearRegression\n",
    "\n",
    "lm = LinearRegression()\n",
    "\n",
    "lm.fit(X_train,y_train)\n",
    "\n",
    "y_pred_train = lm.predict(X_train)\n",
    "y_pred_test  = lm.predict(X_test)\n",
    "\n",
    "show_errors(y_train, y_pred_train, y_test, y_pred_test)"
   ]
  },
  {
   "cell_type": "code",
   "execution_count": 22,
   "metadata": {
    "colab": {
     "base_uri": "https://localhost:8080/",
     "height": 327
    },
    "executionInfo": {
     "elapsed": 208,
     "status": "error",
     "timestamp": 1626424870528,
     "user": {
      "displayName": "Ignacio Soteras",
      "photoUrl": "",
      "userId": "02050793736257155229"
     },
     "user_tz": -120
    },
    "id": "p1H__uSXsxux",
    "outputId": "b9e91fb0-1d4d-4404-f30e-18183664aa7a"
   },
   "outputs": [],
   "source": [
    "#sns.pairplot(6)"
   ]
  },
  {
   "cell_type": "markdown",
   "metadata": {
    "id": "QCkPBoJ_sHz_"
   },
   "source": [
    "# Doing the same preprocessing"
   ]
  },
  {
   "cell_type": "code",
   "execution_count": 23,
   "metadata": {
    "executionInfo": {
     "elapsed": 202,
     "status": "ok",
     "timestamp": 1626424876230,
     "user": {
      "displayName": "Ignacio Soteras",
      "photoUrl": "",
      "userId": "02050793736257155229"
     },
     "user_tz": -120
    },
    "id": "02Uucq4FsKIy"
   },
   "outputs": [],
   "source": [
    "def preprocessing(df):\n",
    "    '''\n",
    "    Function to trasnform an input dataframe.\n",
    "    It will add another column named \"Antiquity\"\n",
    "    Drop all the Year related columns\n",
    "    Drop any column not in\n",
    "    cols_to_keep = ['Id',\n",
    "   'OverallQual',\n",
    "   'TotalBsmtSF',\n",
    "   'GrLivArea',\n",
    "   'FullBath',\n",
    "   'KitchenQual',\n",
    "   'GarageCars',\n",
    "   'Antiquity',\n",
    "   'SalePrice']\n",
    "    Replace values of variable KitchenQual to\n",
    "    {'Fa': 1, 'TA': 1.61, 'Gd': 1.61, 'Ex': 3.14}\n",
    "    Drop any row with 'LotArea' < 25000   \n",
    "    Input: \n",
    "    df = Pandas DataFrame object\n",
    "    Output:\n",
    "    Transformed DataFrame\n",
    "    '''\n",
    "    df2 = df.copy()\n",
    "\n",
    "    # Computing Antiquity\n",
    "    df2['Antiquity'] = df2['YrSold'] - df2['YearRemodAdd']\n",
    "    year_cols = ['YearBuilt', 'YearRemodAdd', 'YrSold']\n",
    "    df2.drop(columns = year_cols, axis = 1, inplace = True)\n",
    "\n",
    "    # Filtering by LotArea\n",
    "    df2 = df2[df2['LotArea'] < 25000 ]\n",
    "\n",
    "    # Droping unwanted columns\n",
    "    cols_to_keep = ['Id',\n",
    "   'OverallQual',\n",
    "   'TotalBsmtSF',\n",
    "   'GrLivArea',\n",
    "   'FullBath',\n",
    "   'KitchenQual',\n",
    "   'GarageCars',\n",
    "   'Antiquity',\n",
    "   'SalePrice']\n",
    "    df2 = df2[cols_to_keep]\n",
    "\n",
    "    # Replacing KitchenQual values by numerical ones.\n",
    "    df2['KitchenQual'] = df2['KitchenQual'].replace({'Fa': 1, 'TA': 1.61, 'Gd': 1.61, 'Ex': 3.14})\n",
    "\n",
    "    return df2"
   ]
  },
  {
   "cell_type": "code",
   "execution_count": null,
   "metadata": {},
   "outputs": [],
   "source": []
  }
 ],
 "metadata": {
  "colab": {
   "collapsed_sections": [],
   "name": "PCA_code_along.ipynb",
   "provenance": []
  },
  "kernelspec": {
   "display_name": "Python 3 (ipykernel)",
   "language": "python",
   "name": "python3"
  },
  "language_info": {
   "codemirror_mode": {
    "name": "ipython",
    "version": 3
   },
   "file_extension": ".py",
   "mimetype": "text/x-python",
   "name": "python",
   "nbconvert_exporter": "python",
   "pygments_lexer": "ipython3",
   "version": "3.9.7"
  },
  "toc": {
   "base_numbering": 1,
   "nav_menu": {},
   "number_sections": true,
   "sideBar": true,
   "skip_h1_title": false,
   "title_cell": "Table of Contents",
   "title_sidebar": "Contents",
   "toc_cell": false,
   "toc_position": {},
   "toc_section_display": true,
   "toc_window_display": false
  },
  "varInspector": {
   "cols": {
    "lenName": 16,
    "lenType": 16,
    "lenVar": 40
   },
   "kernels_config": {
    "python": {
     "delete_cmd_postfix": "",
     "delete_cmd_prefix": "del ",
     "library": "var_list.py",
     "varRefreshCmd": "print(var_dic_list())"
    },
    "r": {
     "delete_cmd_postfix": ") ",
     "delete_cmd_prefix": "rm(",
     "library": "var_list.r",
     "varRefreshCmd": "cat(var_dic_list()) "
    }
   },
   "types_to_exclude": [
    "module",
    "function",
    "builtin_function_or_method",
    "instance",
    "_Feature"
   ],
   "window_display": false
  }
 },
 "nbformat": 4,
 "nbformat_minor": 1
}
